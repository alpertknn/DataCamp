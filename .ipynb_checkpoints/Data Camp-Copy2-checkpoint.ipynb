{
 "cells": [
  {
   "cell_type": "code",
   "execution_count": 290,
   "id": "51cf69ca",
   "metadata": {},
   "outputs": [],
   "source": [
    "import pandas as pd\n",
    "import numpy as np\n",
    "import seaborn as sns \n",
    "import matplotlib.pyplot as plt\n",
    "import random\n",
    "from sklearn.preprocessing import LabelEncoder\n",
    "from warnings import filterwarnings\n",
    "filterwarnings(\"ignore\")"
   ]
  },
  {
   "cell_type": "code",
   "execution_count": 291,
   "id": "a4042bc5",
   "metadata": {},
   "outputs": [],
   "source": [
    "df_train = pd.read_csv(\"./csv_files/train_users.csv\")\n",
    "extra_dataset = pd.read_csv(\"./csv_files/extra_dataset.csv\")\n",
    "df_test = pd.read_csv(\"./csv_files/test_users.csv\")\n",
    "education = pd.read_csv(\"./csv_files/education.csv\")\n",
    "skills = pd.read_csv(\"./csv_files/skills.csv\")\n",
    "languages = pd.read_csv(\"./csv_files/languages.csv\")\n",
    "work_experience = pd.read_csv(\"./csv_files/work_experiences.csv\")\n",
    "submission = pd.read_csv(\"./csv_files/submission.csv\")\n",
    "survey_results_public = pd.read_csv(\"./csv_files/survey_results_public.csv\")"
   ]
  },
  {
   "cell_type": "markdown",
   "id": "cf5b02e0",
   "metadata": {},
   "source": [
    "## <font color = \"purple\">Updating dataset with values which are belong the before 2019 year. </font>"
   ]
  },
  {
   "cell_type": "code",
   "execution_count": 292,
   "id": "a405be78",
   "metadata": {},
   "outputs": [],
   "source": [
    " work_experience = work_experience.loc[work_experience[\"start_year_month\"].lt(201901)]"
   ]
  },
  {
   "cell_type": "markdown",
   "id": "93cb01ce",
   "metadata": {},
   "source": [
    "## <font color = \"purple\">Education Data Set </font>"
   ]
  },
  {
   "cell_type": "code",
   "execution_count": 293,
   "id": "10b7df7b",
   "metadata": {},
   "outputs": [
    {
     "data": {
      "text/html": [
       "<div>\n",
       "<style scoped>\n",
       "    .dataframe tbody tr th:only-of-type {\n",
       "        vertical-align: middle;\n",
       "    }\n",
       "\n",
       "    .dataframe tbody tr th {\n",
       "        vertical-align: top;\n",
       "    }\n",
       "\n",
       "    .dataframe thead th {\n",
       "        text-align: right;\n",
       "    }\n",
       "</style>\n",
       "<table border=\"1\" class=\"dataframe\">\n",
       "  <thead>\n",
       "    <tr style=\"text-align: right;\">\n",
       "      <th></th>\n",
       "      <th>user_id</th>\n",
       "      <th>school_name</th>\n",
       "      <th>degree</th>\n",
       "      <th>fields_of_study</th>\n",
       "      <th>start_year_month</th>\n",
       "      <th>end_year_month</th>\n",
       "    </tr>\n",
       "  </thead>\n",
       "  <tbody>\n",
       "    <tr>\n",
       "      <th>0</th>\n",
       "      <td>0</td>\n",
       "      <td>Anadolu Üniversitesi</td>\n",
       "      <td>NaN</td>\n",
       "      <td>NaN</td>\n",
       "      <td>NaN</td>\n",
       "      <td>NaN</td>\n",
       "    </tr>\n",
       "    <tr>\n",
       "      <th>1</th>\n",
       "      <td>0</td>\n",
       "      <td>Adıyaman Üniversitesi</td>\n",
       "      <td>NaN</td>\n",
       "      <td>NaN</td>\n",
       "      <td>NaN</td>\n",
       "      <td>NaN</td>\n",
       "    </tr>\n",
       "  </tbody>\n",
       "</table>\n",
       "</div>"
      ],
      "text/plain": [
       "   user_id            school_name degree fields_of_study  start_year_month  \\\n",
       "0        0   Anadolu Üniversitesi    NaN             NaN               NaN   \n",
       "1        0  Adıyaman Üniversitesi    NaN             NaN               NaN   \n",
       "\n",
       "   end_year_month  \n",
       "0             NaN  \n",
       "1             NaN  "
      ]
     },
     "execution_count": 293,
     "metadata": {},
     "output_type": "execute_result"
    }
   ],
   "source": [
    "education.head(2)"
   ]
  },
  {
   "cell_type": "markdown",
   "id": "5858ce3b",
   "metadata": {},
   "source": [
    "### <font color = \"purple\"> Data Preprocessing Steps </font>\n",
    "- We can gather information about users' university degree, so we need to transform data to able to benefit from it.\n",
    "- Therefore, we can count that how many degree/degrees are completed by per user by using <b><font color = \"orange\"> degree and user_id columns.</font></b>\n"
   ]
  },
  {
   "cell_type": "code",
   "execution_count": 294,
   "id": "dd405082",
   "metadata": {},
   "outputs": [
    {
     "data": {
      "text/plain": [
       "user_id                  0\n",
       "school_name              0\n",
       "degree               35842\n",
       "fields_of_study      19838\n",
       "start_year_month    134373\n",
       "end_year_month      134985\n",
       "dtype: int64"
      ]
     },
     "execution_count": 294,
     "metadata": {},
     "output_type": "execute_result"
    }
   ],
   "source": [
    "education.isna().sum()"
   ]
  },
  {
   "cell_type": "markdown",
   "id": "a91f23f3",
   "metadata": {},
   "source": [
    "#### <font color = \"red\">->> Taking non-null values of degree and study colums, as we know that year columns have many missing values. They will be dropped after visualisation processes. </font>"
   ]
  },
  {
   "cell_type": "code",
   "execution_count": 295,
   "id": "33de05a6",
   "metadata": {},
   "outputs": [],
   "source": [
    "education = education.loc[education[\"degree\"].notnull() & education[\"fields_of_study\"].notnull()]"
   ]
  },
  {
   "cell_type": "code",
   "execution_count": 296,
   "id": "047d7e1e",
   "metadata": {
    "scrolled": false
   },
   "outputs": [
    {
     "data": {
      "text/plain": [
       "Lisans Derecesi                                                                            18948\n",
       "Bachelor's degree                                                                          13818\n",
       "Yüksek Lisans (Master)                                                                      5179\n",
       "Master's degree                                                                             4778\n",
       "Lisans                                                                                      2950\n",
       "                                                                                           ...  \n",
       "Technical Lycee                                                                                1\n",
       "Score: 89 out of 100 at proficiency final exam. Forth place taken of out +500 students.        1\n",
       "2.83/4.00                                                                                      1\n",
       "Lise Öğretimi                                                                                  1\n",
       "Vocational Art                                                                                 1\n",
       "Name: degree, Length: 5212, dtype: int64"
      ]
     },
     "execution_count": 296,
     "metadata": {},
     "output_type": "execute_result"
    }
   ],
   "source": [
    "education[\"degree\"].value_counts()"
   ]
  },
  {
   "cell_type": "code",
   "execution_count": 297,
   "id": "e2e66ef5",
   "metadata": {},
   "outputs": [
    {
     "data": {
      "text/plain": [
       "Lise                                           962\n",
       "Lise Mezunu                                     24\n",
       "Anadolu Lisesi Mezunu                           18\n",
       "Anadolu Lisesi                                  17\n",
       "Okul 1.si olarak kazandım(Lise->Üniversite)     12\n",
       "                                              ... \n",
       "Fen Lisesi Sınavı                                1\n",
       "Anadolu Lisesi Fen Bilimleri Mezunu              1\n",
       "İlkokul-Lise                                     1\n",
       "Öğretmen Lisesi Mazunu                           1\n",
       "Ortaokul & Lise                                  1\n",
       "Name: degree, Length: 66, dtype: int64"
      ]
     },
     "execution_count": 297,
     "metadata": {},
     "output_type": "execute_result"
    }
   ],
   "source": [
    "education[education[\"degree\"].str.contains(\"Lise\")][\"degree\"].value_counts()"
   ]
  },
  {
   "cell_type": "code",
   "execution_count": 298,
   "id": "d7826516",
   "metadata": {},
   "outputs": [
    {
     "data": {
      "text/plain": [
       "Anadolu Üniversitesi             4571\n",
       "İstanbul Üniversitesi            3572\n",
       "Sakarya Üniversitesi             3388\n",
       "İstanbul Teknik Üniversitesi     3151\n",
       "Istanbul Technical University    3127\n",
       "Yıldız Teknik Üniversitesi       3040\n",
       "Kocaeli Üniversitesi             2982\n",
       "Marmara Üniversitesi             2785\n",
       "Hacettepe Üniversitesi           2511\n",
       "Gazi Üniversitesi                2314\n",
       "Name: school_name, dtype: int64"
      ]
     },
     "execution_count": 298,
     "metadata": {},
     "output_type": "execute_result"
    }
   ],
   "source": [
    "education[\"school_name\"].value_counts()[:10]"
   ]
  },
  {
   "cell_type": "markdown",
   "id": "db056885",
   "metadata": {},
   "source": [
    "#### <font color = \"red\">->> Creating a Dictionary that contains similar verbs of certain degree types, to be able to clear or transform similar values, then locating the degree columns values and changing with them.</font>"
   ]
  },
  {
   "cell_type": "code",
   "execution_count": 310,
   "id": "a928eb18",
   "metadata": {},
   "outputs": [],
   "source": [
    "fixed_degree = {\n",
    "    \"(?i).*(High School|Highschool|Lise|Lise Mezunu|Lisemezunu).*\":\"HighSchool\",\n",
    "    \"(?i).*(Ön|Önlisan|Ön lisanas|Associate's degree|Associate).*\":\"Associate\",\n",
    "    \"(?i).*(Lisans|bachelors|bachelor|BS|BS.c|Bsc|B.s|mezun|graduate|engineer).*\":\"Bachelors\",\n",
    "    \"(?i).*(yüksek|yüksek lisans|master|masters|Msc|MS|MS.c|Masters's degree).*\" : \"Masters\",\n",
    "    \"(?i).*(Doktora|doctorate|phd|Ph.d).*\" :\"Doctorate\"\n",
    "}\n",
    "\n",
    "fixed_university = {\n",
    "    \"(?i).*(Fırat University|Fırat Üniversitesi).*\":\"Fırat University\",\n",
    "    \"(?i).*(Istanbul Technical|İstanbul Teknik Üniversitesi).*\":\"Istanbul Technical University\",\n",
    "}"
   ]
  },
  {
   "cell_type": "code",
   "execution_count": 311,
   "id": "9abd30e6",
   "metadata": {},
   "outputs": [],
   "source": [
    "education.loc[:,\"degree\"] = education.loc[:,\"degree\"].replace(fixed_degree,regex=True)\n",
    "education.loc[:,\"school_name\"] = education.loc[:,\"school_name\"].replace(fixed_university,regex=True)"
   ]
  },
  {
   "cell_type": "code",
   "execution_count": 312,
   "id": "d4c0b911",
   "metadata": {},
   "outputs": [
    {
     "data": {
      "text/plain": [
       "Bachelors     47967\n",
       "Masters       11713\n",
       "Associate      4905\n",
       "HighSchool     3198\n",
       "Doctorate      2285\n",
       "Name: degree, dtype: int64"
      ]
     },
     "execution_count": 312,
     "metadata": {},
     "output_type": "execute_result"
    }
   ],
   "source": [
    "education[\"degree\"].value_counts()"
   ]
  },
  {
   "cell_type": "code",
   "execution_count": 313,
   "id": "44cd34ae",
   "metadata": {},
   "outputs": [],
   "source": [
    "education = education[education[\"degree\"].isin(fixed_degree.values())]"
   ]
  },
  {
   "cell_type": "markdown",
   "id": "d4327b81",
   "metadata": {},
   "source": [
    "#### <font color = \"red\">->> Dropping duplicated values.  </font>"
   ]
  },
  {
   "cell_type": "code",
   "execution_count": 314,
   "id": "3294c255",
   "metadata": {},
   "outputs": [],
   "source": [
    "education.drop_duplicates([\"degree\",\"user_id\"],inplace=True)"
   ]
  },
  {
   "cell_type": "code",
   "execution_count": 315,
   "id": "4576805d",
   "metadata": {
    "scrolled": false
   },
   "outputs": [
    {
     "data": {
      "text/html": [
       "<div>\n",
       "<style scoped>\n",
       "    .dataframe tbody tr th:only-of-type {\n",
       "        vertical-align: middle;\n",
       "    }\n",
       "\n",
       "    .dataframe tbody tr th {\n",
       "        vertical-align: top;\n",
       "    }\n",
       "\n",
       "    .dataframe thead th {\n",
       "        text-align: right;\n",
       "    }\n",
       "</style>\n",
       "<table border=\"1\" class=\"dataframe\">\n",
       "  <thead>\n",
       "    <tr style=\"text-align: right;\">\n",
       "      <th></th>\n",
       "      <th>user_id</th>\n",
       "      <th>school_name</th>\n",
       "      <th>degree</th>\n",
       "      <th>fields_of_study</th>\n",
       "      <th>start_year_month</th>\n",
       "      <th>end_year_month</th>\n",
       "    </tr>\n",
       "  </thead>\n",
       "  <tbody>\n",
       "    <tr>\n",
       "      <th>3</th>\n",
       "      <td>1</td>\n",
       "      <td>Fırat University</td>\n",
       "      <td>Bachelors</td>\n",
       "      <td>Yazılım Mühendisliği</td>\n",
       "      <td>NaN</td>\n",
       "      <td>NaN</td>\n",
       "    </tr>\n",
       "    <tr>\n",
       "      <th>6</th>\n",
       "      <td>2</td>\n",
       "      <td>Hafsa Sultan Mesleki ve Teknik Anadolu Lisesi</td>\n",
       "      <td>HighSchool</td>\n",
       "      <td>Çocuk Gelişimi ve Eğitimi Alanı</td>\n",
       "      <td>NaN</td>\n",
       "      <td>NaN</td>\n",
       "    </tr>\n",
       "  </tbody>\n",
       "</table>\n",
       "</div>"
      ],
      "text/plain": [
       "   user_id                                     school_name      degree  \\\n",
       "3        1                                Fırat University   Bachelors   \n",
       "6        2  Hafsa Sultan Mesleki ve Teknik Anadolu Lisesi   HighSchool   \n",
       "\n",
       "                    fields_of_study  start_year_month  end_year_month  \n",
       "3              Yazılım Mühendisliği               NaN             NaN  \n",
       "6  Çocuk Gelişimi ve Eğitimi Alanı                NaN             NaN  "
      ]
     },
     "execution_count": 315,
     "metadata": {},
     "output_type": "execute_result"
    }
   ],
   "source": [
    "education.head(2)"
   ]
  },
  {
   "cell_type": "code",
   "execution_count": 316,
   "id": "68ec9c85",
   "metadata": {},
   "outputs": [
    {
     "data": {
      "text/plain": [
       "Index(['Bachelors', 'Masters', 'Associate', 'HighSchool', 'Doctorate'], dtype='object')"
      ]
     },
     "execution_count": 316,
     "metadata": {},
     "output_type": "execute_result"
    }
   ],
   "source": [
    "education[\"degree\"].value_counts().index"
   ]
  },
  {
   "cell_type": "code",
   "execution_count": 317,
   "id": "13840b68",
   "metadata": {
    "scrolled": true
   },
   "outputs": [
    {
     "data": {
      "text/plain": [
       "Istanbul Technical University    5371\n",
       "Sakarya Üniversitesi             2514\n",
       "İstanbul Üniversitesi            2346\n",
       "Yıldız Teknik Üniversitesi       2244\n",
       "Name: school_name, dtype: int64"
      ]
     },
     "execution_count": 317,
     "metadata": {},
     "output_type": "execute_result"
    }
   ],
   "source": [
    "education[\"school_name\"].value_counts()[:4]"
   ]
  },
  {
   "cell_type": "markdown",
   "id": "5237433a",
   "metadata": {},
   "source": [
    "### <font color = \"purple\"> Visualisation Side </font>"
   ]
  },
  {
   "cell_type": "markdown",
   "id": "ef548367",
   "metadata": {},
   "source": [
    "#### <font color = \"red\"> ->> This graph shows us a distribution of top three university choices in education dataset.</font>"
   ]
  },
  {
   "cell_type": "code",
   "execution_count": 318,
   "id": "fb92379f",
   "metadata": {},
   "outputs": [
    {
     "data": {
      "image/png": "[encoded data removed]",
      "text/plain": [
       "<Figure size 900x500 with 1 Axes>"
      ]
     },
     "metadata": {},
     "output_type": "display_data"
    }
   ],
   "source": [
    "plt.figure(figsize=(9,5))\n",
    "sns.barplot(x=education[\"school_name\"].value_counts()[:3].index,y=education[\"school_name\"].value_counts()[:3]);\n",
    "plt.xlabel(\"Universities\",fontsize=15)\n",
    "plt.ylabel(\"Number of People\",fontsize=15)\n",
    "plt.title(\"The Distribution of Top Three Universities\")\n",
    "plt.show()"
   ]
  },
  {
   "cell_type": "markdown",
   "id": "cbb540ad",
   "metadata": {},
   "source": [
    "#### <font color = \"red\"> ->> This graph shows us which degrees are completed by how many people</font>"
   ]
  },
  {
   "cell_type": "code",
   "execution_count": 319,
   "id": "53f064e8",
   "metadata": {},
   "outputs": [
    {
     "data": {
      "image/png": "[encoded data removed]",
      "text/plain": [
       "<Figure size 640x480 with 1 Axes>"
      ]
     },
     "metadata": {},
     "output_type": "display_data"
    }
   ],
   "source": [
    "sns.barplot(x=education[\"degree\"].value_counts().index,y=education[\"degree\"].value_counts());\n",
    "plt.xlabel(\"Degree\",fontsize=15)\n",
    "plt.ylabel(\"Number of People\",fontsize=15)\n",
    "plt.title(\"The Distribution University Degrees\")\n",
    "plt.show()"
   ]
  },
  {
   "cell_type": "code",
   "execution_count": 320,
   "id": "9bd53ef7",
   "metadata": {},
   "outputs": [
    {
     "data": {
      "text/html": [
       "<div>\n",
       "<style scoped>\n",
       "    .dataframe tbody tr th:only-of-type {\n",
       "        vertical-align: middle;\n",
       "    }\n",
       "\n",
       "    .dataframe tbody tr th {\n",
       "        vertical-align: top;\n",
       "    }\n",
       "\n",
       "    .dataframe thead th {\n",
       "        text-align: right;\n",
       "    }\n",
       "</style>\n",
       "<table border=\"1\" class=\"dataframe\">\n",
       "  <thead>\n",
       "    <tr style=\"text-align: right;\">\n",
       "      <th></th>\n",
       "      <th>user_id</th>\n",
       "      <th>school_name</th>\n",
       "      <th>degree</th>\n",
       "      <th>fields_of_study</th>\n",
       "      <th>start_year_month</th>\n",
       "      <th>end_year_month</th>\n",
       "    </tr>\n",
       "  </thead>\n",
       "  <tbody>\n",
       "    <tr>\n",
       "      <th>3</th>\n",
       "      <td>1</td>\n",
       "      <td>Fırat University</td>\n",
       "      <td>Bachelors</td>\n",
       "      <td>Yazılım Mühendisliği</td>\n",
       "      <td>NaN</td>\n",
       "      <td>NaN</td>\n",
       "    </tr>\n",
       "    <tr>\n",
       "      <th>6</th>\n",
       "      <td>2</td>\n",
       "      <td>Hafsa Sultan Mesleki ve Teknik Anadolu Lisesi</td>\n",
       "      <td>HighSchool</td>\n",
       "      <td>Çocuk Gelişimi ve Eğitimi Alanı</td>\n",
       "      <td>NaN</td>\n",
       "      <td>NaN</td>\n",
       "    </tr>\n",
       "    <tr>\n",
       "      <th>7</th>\n",
       "      <td>3</td>\n",
       "      <td>Fırat University</td>\n",
       "      <td>Bachelors</td>\n",
       "      <td>Bilgisayar Yazılımı Mühendisliği</td>\n",
       "      <td>NaN</td>\n",
       "      <td>NaN</td>\n",
       "    </tr>\n",
       "    <tr>\n",
       "      <th>8</th>\n",
       "      <td>4</td>\n",
       "      <td>Fırat University</td>\n",
       "      <td>Bachelors</td>\n",
       "      <td>Yazılım Mühendisliği</td>\n",
       "      <td>201709.0</td>\n",
       "      <td>NaN</td>\n",
       "    </tr>\n",
       "    <tr>\n",
       "      <th>9</th>\n",
       "      <td>5</td>\n",
       "      <td>Fırat University</td>\n",
       "      <td>Masters</td>\n",
       "      <td>Software Engineering</td>\n",
       "      <td>202109.0</td>\n",
       "      <td>202208.0</td>\n",
       "    </tr>\n",
       "  </tbody>\n",
       "</table>\n",
       "</div>"
      ],
      "text/plain": [
       "   user_id                                     school_name      degree  \\\n",
       "3        1                                Fırat University   Bachelors   \n",
       "6        2  Hafsa Sultan Mesleki ve Teknik Anadolu Lisesi   HighSchool   \n",
       "7        3                                Fırat University   Bachelors   \n",
       "8        4                                Fırat University   Bachelors   \n",
       "9        5                                Fırat University     Masters   \n",
       "\n",
       "                    fields_of_study  start_year_month  end_year_month  \n",
       "3              Yazılım Mühendisliği               NaN             NaN  \n",
       "6  Çocuk Gelişimi ve Eğitimi Alanı                NaN             NaN  \n",
       "7  Bilgisayar Yazılımı Mühendisliği               NaN             NaN  \n",
       "8              Yazılım Mühendisliği          201709.0             NaN  \n",
       "9              Software Engineering          202109.0        202208.0  "
      ]
     },
     "execution_count": 320,
     "metadata": {},
     "output_type": "execute_result"
    }
   ],
   "source": [
    "education.head()"
   ]
  },
  {
   "cell_type": "markdown",
   "id": "4a314b6a",
   "metadata": {},
   "source": [
    "#### <font color = \"red\">->> Finalizing dataset by creating dummy variables to able to processed by machine learning side, and dropping unreleated columns.</font>"
   ]
  },
  {
   "cell_type": "code",
   "execution_count": 321,
   "id": "a0461555",
   "metadata": {
    "scrolled": true
   },
   "outputs": [],
   "source": [
    "education = education.drop(columns=[\"school_name\",\"fields_of_study\",\"start_year_month\",\"end_year_month\"])\n"
   ]
  },
  {
   "cell_type": "code",
   "execution_count": 322,
   "id": "9dbdc540",
   "metadata": {
    "scrolled": true
   },
   "outputs": [],
   "source": [
    "education = pd.get_dummies(education,drop_first=True)"
   ]
  },
  {
   "cell_type": "code",
   "execution_count": 323,
   "id": "8031aa54",
   "metadata": {
    "scrolled": true
   },
   "outputs": [
    {
     "data": {
      "text/html": [
       "<div>\n",
       "<style scoped>\n",
       "    .dataframe tbody tr th:only-of-type {\n",
       "        vertical-align: middle;\n",
       "    }\n",
       "\n",
       "    .dataframe tbody tr th {\n",
       "        vertical-align: top;\n",
       "    }\n",
       "\n",
       "    .dataframe thead th {\n",
       "        text-align: right;\n",
       "    }\n",
       "</style>\n",
       "<table border=\"1\" class=\"dataframe\">\n",
       "  <thead>\n",
       "    <tr style=\"text-align: right;\">\n",
       "      <th></th>\n",
       "      <th>user_id</th>\n",
       "      <th>degree_Bachelors</th>\n",
       "      <th>degree_Doctorate</th>\n",
       "      <th>degree_HighSchool</th>\n",
       "      <th>degree_Masters</th>\n",
       "    </tr>\n",
       "  </thead>\n",
       "  <tbody>\n",
       "    <tr>\n",
       "      <th>3</th>\n",
       "      <td>1</td>\n",
       "      <td>1</td>\n",
       "      <td>0</td>\n",
       "      <td>0</td>\n",
       "      <td>0</td>\n",
       "    </tr>\n",
       "    <tr>\n",
       "      <th>6</th>\n",
       "      <td>2</td>\n",
       "      <td>0</td>\n",
       "      <td>0</td>\n",
       "      <td>1</td>\n",
       "      <td>0</td>\n",
       "    </tr>\n",
       "  </tbody>\n",
       "</table>\n",
       "</div>"
      ],
      "text/plain": [
       "   user_id  degree_Bachelors  degree_Doctorate  degree_HighSchool  \\\n",
       "3        1                 1                 0                  0   \n",
       "6        2                 0                 0                  1   \n",
       "\n",
       "   degree_Masters  \n",
       "3               0  \n",
       "6               0  "
      ]
     },
     "execution_count": 323,
     "metadata": {},
     "output_type": "execute_result"
    }
   ],
   "source": [
    "education.head(2)"
   ]
  },
  {
   "cell_type": "code",
   "execution_count": 324,
   "id": "a71aa528",
   "metadata": {
    "scrolled": true
   },
   "outputs": [],
   "source": [
    "education = education.groupby(by=\"user_id\").sum()"
   ]
  },
  {
   "cell_type": "code",
   "execution_count": 325,
   "id": "5bf24443",
   "metadata": {},
   "outputs": [],
   "source": [
    "education = education.astype(\"object\")"
   ]
  },
  {
   "cell_type": "code",
   "execution_count": 326,
   "id": "e642c336",
   "metadata": {},
   "outputs": [
    {
     "data": {
      "text/html": [
       "<div>\n",
       "<style scoped>\n",
       "    .dataframe tbody tr th:only-of-type {\n",
       "        vertical-align: middle;\n",
       "    }\n",
       "\n",
       "    .dataframe tbody tr th {\n",
       "        vertical-align: top;\n",
       "    }\n",
       "\n",
       "    .dataframe thead th {\n",
       "        text-align: right;\n",
       "    }\n",
       "</style>\n",
       "<table border=\"1\" class=\"dataframe\">\n",
       "  <thead>\n",
       "    <tr style=\"text-align: right;\">\n",
       "      <th></th>\n",
       "      <th>degree_Bachelors</th>\n",
       "      <th>degree_Doctorate</th>\n",
       "      <th>degree_HighSchool</th>\n",
       "      <th>degree_Masters</th>\n",
       "    </tr>\n",
       "    <tr>\n",
       "      <th>user_id</th>\n",
       "      <th></th>\n",
       "      <th></th>\n",
       "      <th></th>\n",
       "      <th></th>\n",
       "    </tr>\n",
       "  </thead>\n",
       "  <tbody>\n",
       "    <tr>\n",
       "      <th>1</th>\n",
       "      <td>1</td>\n",
       "      <td>0</td>\n",
       "      <td>0</td>\n",
       "      <td>0</td>\n",
       "    </tr>\n",
       "    <tr>\n",
       "      <th>2</th>\n",
       "      <td>0</td>\n",
       "      <td>0</td>\n",
       "      <td>1</td>\n",
       "      <td>0</td>\n",
       "    </tr>\n",
       "    <tr>\n",
       "      <th>3</th>\n",
       "      <td>1</td>\n",
       "      <td>0</td>\n",
       "      <td>0</td>\n",
       "      <td>0</td>\n",
       "    </tr>\n",
       "    <tr>\n",
       "      <th>4</th>\n",
       "      <td>1</td>\n",
       "      <td>0</td>\n",
       "      <td>0</td>\n",
       "      <td>0</td>\n",
       "    </tr>\n",
       "    <tr>\n",
       "      <th>5</th>\n",
       "      <td>1</td>\n",
       "      <td>0</td>\n",
       "      <td>0</td>\n",
       "      <td>1</td>\n",
       "    </tr>\n",
       "    <tr>\n",
       "      <th>...</th>\n",
       "      <td>...</td>\n",
       "      <td>...</td>\n",
       "      <td>...</td>\n",
       "      <td>...</td>\n",
       "    </tr>\n",
       "    <tr>\n",
       "      <th>66269</th>\n",
       "      <td>1</td>\n",
       "      <td>0</td>\n",
       "      <td>0</td>\n",
       "      <td>0</td>\n",
       "    </tr>\n",
       "    <tr>\n",
       "      <th>66270</th>\n",
       "      <td>1</td>\n",
       "      <td>0</td>\n",
       "      <td>0</td>\n",
       "      <td>1</td>\n",
       "    </tr>\n",
       "    <tr>\n",
       "      <th>66271</th>\n",
       "      <td>1</td>\n",
       "      <td>1</td>\n",
       "      <td>0</td>\n",
       "      <td>0</td>\n",
       "    </tr>\n",
       "    <tr>\n",
       "      <th>66272</th>\n",
       "      <td>1</td>\n",
       "      <td>0</td>\n",
       "      <td>0</td>\n",
       "      <td>0</td>\n",
       "    </tr>\n",
       "    <tr>\n",
       "      <th>66273</th>\n",
       "      <td>1</td>\n",
       "      <td>0</td>\n",
       "      <td>0</td>\n",
       "      <td>1</td>\n",
       "    </tr>\n",
       "  </tbody>\n",
       "</table>\n",
       "<p>51479 rows × 4 columns</p>\n",
       "</div>"
      ],
      "text/plain": [
       "        degree_Bachelors degree_Doctorate degree_HighSchool degree_Masters\n",
       "user_id                                                                   \n",
       "1                      1                0                 0              0\n",
       "2                      0                0                 1              0\n",
       "3                      1                0                 0              0\n",
       "4                      1                0                 0              0\n",
       "5                      1                0                 0              1\n",
       "...                  ...              ...               ...            ...\n",
       "66269                  1                0                 0              0\n",
       "66270                  1                0                 0              1\n",
       "66271                  1                1                 0              0\n",
       "66272                  1                0                 0              0\n",
       "66273                  1                0                 0              1\n",
       "\n",
       "[51479 rows x 4 columns]"
      ]
     },
     "execution_count": 326,
     "metadata": {},
     "output_type": "execute_result"
    }
   ],
   "source": [
    "education"
   ]
  },
  {
   "cell_type": "markdown",
   "id": "2a3a0e37",
   "metadata": {},
   "source": [
    "## <font color = \"purple\">Skill Data Set </font>"
   ]
  },
  {
   "cell_type": "markdown",
   "id": "27e00033",
   "metadata": {},
   "source": [
    "### <font color = \"purple\"> Data Preprocessing Steps </font>\n",
    "- In this dataset, we can take part of these skills to be able to process on machine learning side.\n",
    "- Therefore, we can take first 30 values of skill column, and then will <b><font color = \"orange\">create dummy variables of them.</font></b>\n"
   ]
  },
  {
   "cell_type": "code",
   "execution_count": 327,
   "id": "8972145a",
   "metadata": {
    "scrolled": false
   },
   "outputs": [
    {
     "data": {
      "text/html": [
       "<div>\n",
       "<style scoped>\n",
       "    .dataframe tbody tr th:only-of-type {\n",
       "        vertical-align: middle;\n",
       "    }\n",
       "\n",
       "    .dataframe tbody tr th {\n",
       "        vertical-align: top;\n",
       "    }\n",
       "\n",
       "    .dataframe thead th {\n",
       "        text-align: right;\n",
       "    }\n",
       "</style>\n",
       "<table border=\"1\" class=\"dataframe\">\n",
       "  <thead>\n",
       "    <tr style=\"text-align: right;\">\n",
       "      <th></th>\n",
       "      <th>user_id</th>\n",
       "      <th>skill</th>\n",
       "    </tr>\n",
       "  </thead>\n",
       "  <tbody>\n",
       "    <tr>\n",
       "      <th>0</th>\n",
       "      <td>1</td>\n",
       "      <td>Mühendislik</td>\n",
       "    </tr>\n",
       "    <tr>\n",
       "      <th>1</th>\n",
       "      <td>1</td>\n",
       "      <td>Eğitim</td>\n",
       "    </tr>\n",
       "  </tbody>\n",
       "</table>\n",
       "</div>"
      ],
      "text/plain": [
       "   user_id        skill\n",
       "0        1  Mühendislik\n",
       "1        1       Eğitim"
      ]
     },
     "execution_count": 327,
     "metadata": {},
     "output_type": "execute_result"
    }
   ],
   "source": [
    "skills.head(2)"
   ]
  },
  {
   "cell_type": "code",
   "execution_count": 328,
   "id": "3fca1874",
   "metadata": {},
   "outputs": [
    {
     "data": {
      "text/plain": [
       "Java                    24360\n",
       "JavaScript              24072\n",
       "SQL                     23590\n",
       "C#                      23422\n",
       "HTML                    16872\n",
       "CSS                     15109\n",
       "C++                     14762\n",
       "Microsoft SQL Server    14593\n",
       "C                       14121\n",
       "Microsoft Office        13854\n",
       "Name: skill, dtype: int64"
      ]
     },
     "execution_count": 328,
     "metadata": {},
     "output_type": "execute_result"
    }
   ],
   "source": [
    "skills[\"skill\"].value_counts()[:10]"
   ]
  },
  {
   "cell_type": "code",
   "execution_count": 329,
   "id": "3e75063f",
   "metadata": {},
   "outputs": [],
   "source": [
    "values = list(skills[\"skill\"].value_counts()[:10].index)"
   ]
  },
  {
   "cell_type": "code",
   "execution_count": 330,
   "id": "65424ef3",
   "metadata": {},
   "outputs": [
    {
     "data": {
      "text/html": [
       "<div>\n",
       "<style scoped>\n",
       "    .dataframe tbody tr th:only-of-type {\n",
       "        vertical-align: middle;\n",
       "    }\n",
       "\n",
       "    .dataframe tbody tr th {\n",
       "        vertical-align: top;\n",
       "    }\n",
       "\n",
       "    .dataframe thead th {\n",
       "        text-align: right;\n",
       "    }\n",
       "</style>\n",
       "<table border=\"1\" class=\"dataframe\">\n",
       "  <thead>\n",
       "    <tr style=\"text-align: right;\">\n",
       "      <th></th>\n",
       "      <th>user_id</th>\n",
       "      <th>skill</th>\n",
       "    </tr>\n",
       "  </thead>\n",
       "  <tbody>\n",
       "    <tr>\n",
       "      <th>0</th>\n",
       "      <td>1</td>\n",
       "      <td>Mühendislik</td>\n",
       "    </tr>\n",
       "    <tr>\n",
       "      <th>1</th>\n",
       "      <td>1</td>\n",
       "      <td>Eğitim</td>\n",
       "    </tr>\n",
       "    <tr>\n",
       "      <th>2</th>\n",
       "      <td>2</td>\n",
       "      <td>Android</td>\n",
       "    </tr>\n",
       "    <tr>\n",
       "      <th>3</th>\n",
       "      <td>2</td>\n",
       "      <td>Java</td>\n",
       "    </tr>\n",
       "    <tr>\n",
       "      <th>4</th>\n",
       "      <td>2</td>\n",
       "      <td>3D Studio Max</td>\n",
       "    </tr>\n",
       "    <tr>\n",
       "      <th>...</th>\n",
       "      <td>...</td>\n",
       "      <td>...</td>\n",
       "    </tr>\n",
       "    <tr>\n",
       "      <th>1398438</th>\n",
       "      <td>66273</td>\n",
       "      <td>CI/CD</td>\n",
       "    </tr>\n",
       "    <tr>\n",
       "      <th>1398439</th>\n",
       "      <td>66273</td>\n",
       "      <td>Terraform</td>\n",
       "    </tr>\n",
       "    <tr>\n",
       "      <th>1398440</th>\n",
       "      <td>66273</td>\n",
       "      <td>MongoDB</td>\n",
       "    </tr>\n",
       "    <tr>\n",
       "      <th>1398441</th>\n",
       "      <td>66273</td>\n",
       "      <td>Go (Programming Language)</td>\n",
       "    </tr>\n",
       "    <tr>\n",
       "      <th>1398442</th>\n",
       "      <td>66273</td>\n",
       "      <td>Packer</td>\n",
       "    </tr>\n",
       "  </tbody>\n",
       "</table>\n",
       "<p>1398443 rows × 2 columns</p>\n",
       "</div>"
      ],
      "text/plain": [
       "         user_id                      skill\n",
       "0              1                Mühendislik\n",
       "1              1                     Eğitim\n",
       "2              2                    Android\n",
       "3              2                       Java\n",
       "4              2              3D Studio Max\n",
       "...          ...                        ...\n",
       "1398438    66273                      CI/CD\n",
       "1398439    66273                  Terraform\n",
       "1398440    66273                    MongoDB\n",
       "1398441    66273  Go (Programming Language)\n",
       "1398442    66273                     Packer\n",
       "\n",
       "[1398443 rows x 2 columns]"
      ]
     },
     "execution_count": 330,
     "metadata": {},
     "output_type": "execute_result"
    }
   ],
   "source": [
    "skills"
   ]
  },
  {
   "cell_type": "markdown",
   "id": "a67b193d",
   "metadata": {},
   "source": [
    "### <font color = \"purple\"> Visualisation Side </font>"
   ]
  },
  {
   "cell_type": "markdown",
   "id": "8e5974b0",
   "metadata": {},
   "source": [
    "#### <font color = \"red\">->> Countplot didnt work so I needed to convert it to the barplot form </font>"
   ]
  },
  {
   "cell_type": "code",
   "execution_count": 331,
   "id": "8b70c55f",
   "metadata": {},
   "outputs": [],
   "source": [
    "temp_df = pd.DataFrame({\"num_of_skills\":skills[\"user_id\"].value_counts()})"
   ]
  },
  {
   "cell_type": "code",
   "execution_count": 332,
   "id": "ef03dbb9",
   "metadata": {},
   "outputs": [
    {
     "data": {
      "text/plain": [
       "2847"
      ]
     },
     "execution_count": 332,
     "metadata": {},
     "output_type": "execute_result"
    }
   ],
   "source": [
    "temp_df[temp_df[\"num_of_skills\"]==50].count().values[0]"
   ]
  },
  {
   "cell_type": "code",
   "execution_count": 333,
   "id": "246f9523",
   "metadata": {},
   "outputs": [],
   "source": [
    "arr = []\n",
    "unique_vals = temp_df[\"num_of_skills\"].unique()\n",
    "for val in unique_vals:\n",
    "    arr.append(temp_df[temp_df[\"num_of_skills\"]==val].count().values[0])\n",
    "    "
   ]
  },
  {
   "cell_type": "markdown",
   "id": "6ef76e55",
   "metadata": {},
   "source": [
    "#### <font color = \"red\">->> This graph shows us that how many people have how much skill. </font>"
   ]
  },
  {
   "cell_type": "code",
   "execution_count": 334,
   "id": "00e347b5",
   "metadata": {
    "scrolled": false
   },
   "outputs": [
    {
     "data": {
      "image/png": "[encoded data removed]",
      "text/plain": [
       "<Figure size 1300x400 with 1 Axes>"
      ]
     },
     "metadata": {},
     "output_type": "display_data"
    }
   ],
   "source": [
    "plt.figure(figsize=(13,4))\n",
    "sns.barplot(x=unique_vals, y=arr);\n",
    "plt.xlabel(\"Num of Skills\",fontsize=15)\n",
    "plt.ylabel(\"Number of People\",fontsize=15)\n",
    "plt.title(\"The Distribution of Skills by People\")\n",
    "plt.show()"
   ]
  },
  {
   "cell_type": "markdown",
   "id": "ba4f052f",
   "metadata": {},
   "source": [
    "#### <font color = \"red\">->> This barplot demonstrates that first 10 skills distribution. </font>"
   ]
  },
  {
   "cell_type": "code",
   "execution_count": 335,
   "id": "909692ab",
   "metadata": {
    "scrolled": false
   },
   "outputs": [
    {
     "data": {
      "image/png": "[encoded data removed]",
      "text/plain": [
       "<Figure size 1200x500 with 1 Axes>"
      ]
     },
     "metadata": {},
     "output_type": "display_data"
    }
   ],
   "source": [
    "plt.figure(figsize=(12,5))\n",
    "sns.barplot(x=values,y=skills[\"skill\"].value_counts()[:10]);"
   ]
  },
  {
   "cell_type": "markdown",
   "id": "6ca2d091",
   "metadata": {},
   "source": [
    "#### <font color = \"red\">->> Taking first 60 values of skills which are most-known by people to be able to process. </font>"
   ]
  },
  {
   "cell_type": "code",
   "execution_count": 336,
   "id": "b93c7532",
   "metadata": {},
   "outputs": [],
   "source": [
    "values = list(skills[\"skill\"].value_counts()[:65].index)"
   ]
  },
  {
   "cell_type": "markdown",
   "id": "2217833e",
   "metadata": {},
   "source": [
    "#### <font color = \"red\">->> Dropping duplicate values and updating dataset with selected skill values. </font>"
   ]
  },
  {
   "cell_type": "code",
   "execution_count": 337,
   "id": "cb93904e",
   "metadata": {
    "scrolled": false
   },
   "outputs": [
    {
     "data": {
      "text/html": [
       "<div>\n",
       "<style scoped>\n",
       "    .dataframe tbody tr th:only-of-type {\n",
       "        vertical-align: middle;\n",
       "    }\n",
       "\n",
       "    .dataframe tbody tr th {\n",
       "        vertical-align: top;\n",
       "    }\n",
       "\n",
       "    .dataframe thead th {\n",
       "        text-align: right;\n",
       "    }\n",
       "</style>\n",
       "<table border=\"1\" class=\"dataframe\">\n",
       "  <thead>\n",
       "    <tr style=\"text-align: right;\">\n",
       "      <th></th>\n",
       "      <th>user_id</th>\n",
       "      <th>skill</th>\n",
       "    </tr>\n",
       "  </thead>\n",
       "  <tbody>\n",
       "    <tr>\n",
       "      <th>0</th>\n",
       "      <td>1</td>\n",
       "      <td>Mühendislik</td>\n",
       "    </tr>\n",
       "    <tr>\n",
       "      <th>2</th>\n",
       "      <td>2</td>\n",
       "      <td>Android</td>\n",
       "    </tr>\n",
       "  </tbody>\n",
       "</table>\n",
       "</div>"
      ],
      "text/plain": [
       "   user_id        skill\n",
       "0        1  Mühendislik\n",
       "2        2      Android"
      ]
     },
     "execution_count": 337,
     "metadata": {},
     "output_type": "execute_result"
    }
   ],
   "source": [
    "skills = skills[skills[\"skill\"].isin(values)]\n",
    "skills.drop_duplicates([\"user_id\",\"skill\"],inplace=True)\n",
    "skills.head(2)"
   ]
  },
  {
   "cell_type": "code",
   "execution_count": 338,
   "id": "9ca9b2b2",
   "metadata": {
    "scrolled": true
   },
   "outputs": [
    {
     "data": {
      "text/plain": [
       "50802    34\n",
       "27987    33\n",
       "42626    32\n",
       "50139    32\n",
       "61720    32\n",
       "         ..\n",
       "32720     1\n",
       "61840     1\n",
       "13209     1\n",
       "13212     1\n",
       "1         1\n",
       "Name: user_id, Length: 57849, dtype: int64"
      ]
     },
     "execution_count": 338,
     "metadata": {},
     "output_type": "execute_result"
    }
   ],
   "source": [
    "skills[\"user_id\"].value_counts()"
   ]
  },
  {
   "cell_type": "code",
   "execution_count": 339,
   "id": "21c57b8d",
   "metadata": {},
   "outputs": [
    {
     "data": {
      "text/html": [
       "<div>\n",
       "<style scoped>\n",
       "    .dataframe tbody tr th:only-of-type {\n",
       "        vertical-align: middle;\n",
       "    }\n",
       "\n",
       "    .dataframe tbody tr th {\n",
       "        vertical-align: top;\n",
       "    }\n",
       "\n",
       "    .dataframe thead th {\n",
       "        text-align: right;\n",
       "    }\n",
       "</style>\n",
       "<table border=\"1\" class=\"dataframe\">\n",
       "  <thead>\n",
       "    <tr style=\"text-align: right;\">\n",
       "      <th></th>\n",
       "      <th>user_id</th>\n",
       "      <th>skill</th>\n",
       "    </tr>\n",
       "  </thead>\n",
       "  <tbody>\n",
       "    <tr>\n",
       "      <th>802831</th>\n",
       "      <td>37856</td>\n",
       "      <td>C#</td>\n",
       "    </tr>\n",
       "    <tr>\n",
       "      <th>802832</th>\n",
       "      <td>37856</td>\n",
       "      <td>Java</td>\n",
       "    </tr>\n",
       "    <tr>\n",
       "      <th>802833</th>\n",
       "      <td>37856</td>\n",
       "      <td>JavaScript</td>\n",
       "    </tr>\n",
       "    <tr>\n",
       "      <th>802834</th>\n",
       "      <td>37856</td>\n",
       "      <td>Software Development</td>\n",
       "    </tr>\n",
       "    <tr>\n",
       "      <th>802835</th>\n",
       "      <td>37856</td>\n",
       "      <td>XML</td>\n",
       "    </tr>\n",
       "    <tr>\n",
       "      <th>802836</th>\n",
       "      <td>37856</td>\n",
       "      <td>SQL</td>\n",
       "    </tr>\n",
       "    <tr>\n",
       "      <th>802837</th>\n",
       "      <td>37856</td>\n",
       "      <td>Microsoft SQL Server</td>\n",
       "    </tr>\n",
       "    <tr>\n",
       "      <th>802838</th>\n",
       "      <td>37856</td>\n",
       "      <td>.NET</td>\n",
       "    </tr>\n",
       "    <tr>\n",
       "      <th>802839</th>\n",
       "      <td>37856</td>\n",
       "      <td>C++</td>\n",
       "    </tr>\n",
       "    <tr>\n",
       "      <th>802840</th>\n",
       "      <td>37856</td>\n",
       "      <td>MySQL</td>\n",
       "    </tr>\n",
       "    <tr>\n",
       "      <th>802841</th>\n",
       "      <td>37856</td>\n",
       "      <td>jQuery</td>\n",
       "    </tr>\n",
       "    <tr>\n",
       "      <th>802842</th>\n",
       "      <td>37856</td>\n",
       "      <td>Visual Studio</td>\n",
       "    </tr>\n",
       "    <tr>\n",
       "      <th>802843</th>\n",
       "      <td>37856</td>\n",
       "      <td>CSS</td>\n",
       "    </tr>\n",
       "    <tr>\n",
       "      <th>802844</th>\n",
       "      <td>37856</td>\n",
       "      <td>C</td>\n",
       "    </tr>\n",
       "    <tr>\n",
       "      <th>802846</th>\n",
       "      <td>37856</td>\n",
       "      <td>Yazılım Geliştirme</td>\n",
       "    </tr>\n",
       "    <tr>\n",
       "      <th>802847</th>\n",
       "      <td>37856</td>\n",
       "      <td>Microsoft Office</td>\n",
       "    </tr>\n",
       "    <tr>\n",
       "      <th>802848</th>\n",
       "      <td>37856</td>\n",
       "      <td>Proje Yönetimi</td>\n",
       "    </tr>\n",
       "    <tr>\n",
       "      <th>802850</th>\n",
       "      <td>37856</td>\n",
       "      <td>Microsoft Excel</td>\n",
       "    </tr>\n",
       "    <tr>\n",
       "      <th>802851</th>\n",
       "      <td>37856</td>\n",
       "      <td>HTML</td>\n",
       "    </tr>\n",
       "    <tr>\n",
       "      <th>802852</th>\n",
       "      <td>37856</td>\n",
       "      <td>T-SQL</td>\n",
       "    </tr>\n",
       "    <tr>\n",
       "      <th>802854</th>\n",
       "      <td>37856</td>\n",
       "      <td>JSON</td>\n",
       "    </tr>\n",
       "    <tr>\n",
       "      <th>802857</th>\n",
       "      <td>37856</td>\n",
       "      <td>Web Geliştirme</td>\n",
       "    </tr>\n",
       "    <tr>\n",
       "      <th>802859</th>\n",
       "      <td>37856</td>\n",
       "      <td>HTML5</td>\n",
       "    </tr>\n",
       "    <tr>\n",
       "      <th>802860</th>\n",
       "      <td>37856</td>\n",
       "      <td>Scrum</td>\n",
       "    </tr>\n",
       "    <tr>\n",
       "      <th>802862</th>\n",
       "      <td>37856</td>\n",
       "      <td>ASP.NET</td>\n",
       "    </tr>\n",
       "    <tr>\n",
       "      <th>802863</th>\n",
       "      <td>37856</td>\n",
       "      <td>İngilizce</td>\n",
       "    </tr>\n",
       "    <tr>\n",
       "      <th>802866</th>\n",
       "      <td>37856</td>\n",
       "      <td>OOP (Nesne Yönelimli Programlama)</td>\n",
       "    </tr>\n",
       "    <tr>\n",
       "      <th>802868</th>\n",
       "      <td>37856</td>\n",
       "      <td>ASP.NET MVC</td>\n",
       "    </tr>\n",
       "  </tbody>\n",
       "</table>\n",
       "</div>"
      ],
      "text/plain": [
       "        user_id                              skill\n",
       "802831    37856                                 C#\n",
       "802832    37856                               Java\n",
       "802833    37856                         JavaScript\n",
       "802834    37856               Software Development\n",
       "802835    37856                                XML\n",
       "802836    37856                                SQL\n",
       "802837    37856               Microsoft SQL Server\n",
       "802838    37856                               .NET\n",
       "802839    37856                                C++\n",
       "802840    37856                              MySQL\n",
       "802841    37856                             jQuery\n",
       "802842    37856                      Visual Studio\n",
       "802843    37856                                CSS\n",
       "802844    37856                                  C\n",
       "802846    37856                 Yazılım Geliştirme\n",
       "802847    37856                   Microsoft Office\n",
       "802848    37856                     Proje Yönetimi\n",
       "802850    37856                    Microsoft Excel\n",
       "802851    37856                               HTML\n",
       "802852    37856                              T-SQL\n",
       "802854    37856                               JSON\n",
       "802857    37856                     Web Geliştirme\n",
       "802859    37856                              HTML5\n",
       "802860    37856                              Scrum\n",
       "802862    37856                            ASP.NET\n",
       "802863    37856                          İngilizce\n",
       "802866    37856  OOP (Nesne Yönelimli Programlama)\n",
       "802868    37856                        ASP.NET MVC"
      ]
     },
     "execution_count": 339,
     "metadata": {},
     "output_type": "execute_result"
    }
   ],
   "source": [
    "skills[skills[\"user_id\"]==37856]"
   ]
  },
  {
   "cell_type": "markdown",
   "id": "0a9c083e",
   "metadata": {},
   "source": [
    "#### <font color = \"red\">->> Dummy side and grouping the dataset by user_id </font>"
   ]
  },
  {
   "cell_type": "code",
   "execution_count": 341,
   "id": "c68bcc73",
   "metadata": {},
   "outputs": [
    {
     "data": {
      "text/html": [
       "<div>\n",
       "<style scoped>\n",
       "    .dataframe tbody tr th:only-of-type {\n",
       "        vertical-align: middle;\n",
       "    }\n",
       "\n",
       "    .dataframe tbody tr th {\n",
       "        vertical-align: top;\n",
       "    }\n",
       "\n",
       "    .dataframe thead th {\n",
       "        text-align: right;\n",
       "    }\n",
       "</style>\n",
       "<table border=\"1\" class=\"dataframe\">\n",
       "  <thead>\n",
       "    <tr style=\"text-align: right;\">\n",
       "      <th></th>\n",
       "      <th>skill_AJAX</th>\n",
       "      <th>skill_ASP.NET</th>\n",
       "      <th>skill_ASP.NET MVC</th>\n",
       "      <th>skill_Agile Methodologies</th>\n",
       "      <th>skill_Android</th>\n",
       "      <th>skill_Araştırma</th>\n",
       "      <th>skill_AutoCAD</th>\n",
       "      <th>skill_Bootstrap</th>\n",
       "      <th>skill_C</th>\n",
       "      <th>skill_C#</th>\n",
       "      <th>...</th>\n",
       "      <th>skill_Spring Framework</th>\n",
       "      <th>skill_T-SQL</th>\n",
       "      <th>skill_Visual Studio</th>\n",
       "      <th>skill_Web Development</th>\n",
       "      <th>skill_Web Geliştirme</th>\n",
       "      <th>skill_Web Services</th>\n",
       "      <th>skill_XML</th>\n",
       "      <th>skill_Yazılım Geliştirme</th>\n",
       "      <th>skill_jQuery</th>\n",
       "      <th>skill_İngilizce</th>\n",
       "    </tr>\n",
       "    <tr>\n",
       "      <th>user_id</th>\n",
       "      <th></th>\n",
       "      <th></th>\n",
       "      <th></th>\n",
       "      <th></th>\n",
       "      <th></th>\n",
       "      <th></th>\n",
       "      <th></th>\n",
       "      <th></th>\n",
       "      <th></th>\n",
       "      <th></th>\n",
       "      <th></th>\n",
       "      <th></th>\n",
       "      <th></th>\n",
       "      <th></th>\n",
       "      <th></th>\n",
       "      <th></th>\n",
       "      <th></th>\n",
       "      <th></th>\n",
       "      <th></th>\n",
       "      <th></th>\n",
       "      <th></th>\n",
       "    </tr>\n",
       "  </thead>\n",
       "  <tbody>\n",
       "    <tr>\n",
       "      <th>1</th>\n",
       "      <td>0</td>\n",
       "      <td>0</td>\n",
       "      <td>0</td>\n",
       "      <td>0</td>\n",
       "      <td>0</td>\n",
       "      <td>0</td>\n",
       "      <td>0</td>\n",
       "      <td>0</td>\n",
       "      <td>0</td>\n",
       "      <td>0</td>\n",
       "      <td>...</td>\n",
       "      <td>0</td>\n",
       "      <td>0</td>\n",
       "      <td>0</td>\n",
       "      <td>0</td>\n",
       "      <td>0</td>\n",
       "      <td>0</td>\n",
       "      <td>0</td>\n",
       "      <td>0</td>\n",
       "      <td>0</td>\n",
       "      <td>0</td>\n",
       "    </tr>\n",
       "    <tr>\n",
       "      <th>2</th>\n",
       "      <td>0</td>\n",
       "      <td>0</td>\n",
       "      <td>0</td>\n",
       "      <td>0</td>\n",
       "      <td>1</td>\n",
       "      <td>0</td>\n",
       "      <td>0</td>\n",
       "      <td>0</td>\n",
       "      <td>0</td>\n",
       "      <td>0</td>\n",
       "      <td>...</td>\n",
       "      <td>0</td>\n",
       "      <td>0</td>\n",
       "      <td>0</td>\n",
       "      <td>0</td>\n",
       "      <td>0</td>\n",
       "      <td>0</td>\n",
       "      <td>0</td>\n",
       "      <td>0</td>\n",
       "      <td>0</td>\n",
       "      <td>0</td>\n",
       "    </tr>\n",
       "    <tr>\n",
       "      <th>3</th>\n",
       "      <td>0</td>\n",
       "      <td>0</td>\n",
       "      <td>0</td>\n",
       "      <td>0</td>\n",
       "      <td>0</td>\n",
       "      <td>0</td>\n",
       "      <td>0</td>\n",
       "      <td>0</td>\n",
       "      <td>0</td>\n",
       "      <td>0</td>\n",
       "      <td>...</td>\n",
       "      <td>0</td>\n",
       "      <td>0</td>\n",
       "      <td>0</td>\n",
       "      <td>0</td>\n",
       "      <td>0</td>\n",
       "      <td>0</td>\n",
       "      <td>0</td>\n",
       "      <td>0</td>\n",
       "      <td>0</td>\n",
       "      <td>0</td>\n",
       "    </tr>\n",
       "  </tbody>\n",
       "</table>\n",
       "<p>3 rows × 64 columns</p>\n",
       "</div>"
      ],
      "text/plain": [
       "         skill_AJAX  skill_ASP.NET  skill_ASP.NET MVC  \\\n",
       "user_id                                                 \n",
       "1                 0              0                  0   \n",
       "2                 0              0                  0   \n",
       "3                 0              0                  0   \n",
       "\n",
       "         skill_Agile Methodologies  skill_Android  skill_Araştırma  \\\n",
       "user_id                                                              \n",
       "1                                0              0                0   \n",
       "2                                0              1                0   \n",
       "3                                0              0                0   \n",
       "\n",
       "         skill_AutoCAD  skill_Bootstrap  skill_C  skill_C#  ...  \\\n",
       "user_id                                                     ...   \n",
       "1                    0                0        0         0  ...   \n",
       "2                    0                0        0         0  ...   \n",
       "3                    0                0        0         0  ...   \n",
       "\n",
       "         skill_Spring Framework  skill_T-SQL  skill_Visual Studio  \\\n",
       "user_id                                                             \n",
       "1                             0            0                    0   \n",
       "2                             0            0                    0   \n",
       "3                             0            0                    0   \n",
       "\n",
       "         skill_Web Development  skill_Web Geliştirme  skill_Web Services  \\\n",
       "user_id                                                                    \n",
       "1                            0                     0                   0   \n",
       "2                            0                     0                   0   \n",
       "3                            0                     0                   0   \n",
       "\n",
       "         skill_XML  skill_Yazılım Geliştirme  skill_jQuery  skill_İngilizce  \n",
       "user_id                                                                      \n",
       "1                0                         0             0                0  \n",
       "2                0                         0             0                0  \n",
       "3                0                         0             0                0  \n",
       "\n",
       "[3 rows x 64 columns]"
      ]
     },
     "execution_count": 341,
     "metadata": {},
     "output_type": "execute_result"
    }
   ],
   "source": [
    "skills = pd.get_dummies(skills,drop_first=True)\n",
    "skills = skills.groupby(by=\"user_id\").sum()\n",
    "skills.head(3)"
   ]
  },
  {
   "cell_type": "markdown",
   "id": "c3e8b728",
   "metadata": {},
   "source": [
    "## <font color = \"purple\">Language Veri Seti </font>"
   ]
  },
  {
   "cell_type": "code",
   "execution_count": 342,
   "id": "a5e54d65",
   "metadata": {
    "scrolled": false
   },
   "outputs": [
    {
     "data": {
      "text/html": [
       "<div>\n",
       "<style scoped>\n",
       "    .dataframe tbody tr th:only-of-type {\n",
       "        vertical-align: middle;\n",
       "    }\n",
       "\n",
       "    .dataframe tbody tr th {\n",
       "        vertical-align: top;\n",
       "    }\n",
       "\n",
       "    .dataframe thead th {\n",
       "        text-align: right;\n",
       "    }\n",
       "</style>\n",
       "<table border=\"1\" class=\"dataframe\">\n",
       "  <thead>\n",
       "    <tr style=\"text-align: right;\">\n",
       "      <th></th>\n",
       "      <th>user_id</th>\n",
       "      <th>language</th>\n",
       "      <th>proficiency</th>\n",
       "    </tr>\n",
       "  </thead>\n",
       "  <tbody>\n",
       "    <tr>\n",
       "      <th>0</th>\n",
       "      <td>8</td>\n",
       "      <td>İngilizce</td>\n",
       "      <td>full_professional</td>\n",
       "    </tr>\n",
       "    <tr>\n",
       "      <th>1</th>\n",
       "      <td>8</td>\n",
       "      <td>Türkçe</td>\n",
       "      <td>native_or_bilingual</td>\n",
       "    </tr>\n",
       "    <tr>\n",
       "      <th>2</th>\n",
       "      <td>8</td>\n",
       "      <td>Fransızca</td>\n",
       "      <td>elementary</td>\n",
       "    </tr>\n",
       "    <tr>\n",
       "      <th>3</th>\n",
       "      <td>10</td>\n",
       "      <td>ingilizce</td>\n",
       "      <td>NaN</td>\n",
       "    </tr>\n",
       "    <tr>\n",
       "      <th>4</th>\n",
       "      <td>11</td>\n",
       "      <td>Turkish</td>\n",
       "      <td>native_or_bilingual</td>\n",
       "    </tr>\n",
       "  </tbody>\n",
       "</table>\n",
       "</div>"
      ],
      "text/plain": [
       "   user_id   language          proficiency\n",
       "0        8  İngilizce    full_professional\n",
       "1        8     Türkçe  native_or_bilingual\n",
       "2        8  Fransızca           elementary\n",
       "3       10  ingilizce                  NaN\n",
       "4       11    Turkish  native_or_bilingual"
      ]
     },
     "execution_count": 342,
     "metadata": {},
     "output_type": "execute_result"
    }
   ],
   "source": [
    "languages.head()"
   ]
  },
  {
   "cell_type": "markdown",
   "id": "c435b89a",
   "metadata": {},
   "source": [
    "#### <font color = \"red\">->> Dropping Na values  </font>"
   ]
  },
  {
   "cell_type": "code",
   "execution_count": 343,
   "id": "d3ca0493",
   "metadata": {},
   "outputs": [],
   "source": [
    "languages.dropna(inplace=True)"
   ]
  },
  {
   "cell_type": "markdown",
   "id": "55b08201",
   "metadata": {},
   "source": [
    "#### <font color = \"red\">->> Inspecting the distribution of langauge column because we need to fix some of them for processing side. </font>"
   ]
  },
  {
   "cell_type": "code",
   "execution_count": 344,
   "id": "aa210bd0",
   "metadata": {},
   "outputs": [
    {
     "data": {
      "text/plain": [
       "array(['İngilizce', 'Türkçe', 'Fransızca', 'Turkish', 'English',\n",
       "       'Kurdish', 'Almanca', 'Japanese', 'İspanyolca', 'Greek',\n",
       "       'Türkmence', 'ingilzce', 'ingilizce', 'Korece', 'İngizce',\n",
       "       'Arabic', 'Rusça', 'Romanca', 'Lehçe', 'Polish',\n",
       "       'İngilizce, Eski (yaklaşık 450-1100)', 'Japonca', 'Azerice',\n",
       "       'German', 'Arapça', 'İnglizce', 'English (B2)', 'Francais',\n",
       "       'Italiano', 'Farsça', 'Russian', 'İngilizce ', 'Arapca ',\n",
       "       'İngilizce, Orta (1100-1500)', 'İngilizce, Upper Intermediate',\n",
       "       'Arabish', 'Kürtçe', 'english', 'Portuguese', 'Spanish',\n",
       "       'Germanic languages', 'English, Middle (1100-1500)', 'French',\n",
       "       'Chinese', 'Sırpça', 'Español', 'Bulgarian', 'Ermenice',\n",
       "       'Français', 'Bulgarca', 'İngilizce, İyi(1100-1500)', 'Armenian',\n",
       "       'Romanian', 'Azerbaijani', 'Ukrainian', 'İtalyanca', 'Çekçe ',\n",
       "       'Boşnakça', 'Çince', 'Italian', 'Türkish', 'Özbekçe', 'Turkmence',\n",
       "       'İNGİLİZCE', 'Lehçe Polish', 'Deutsch', 'Rusca',\n",
       "       'Türkçe, Osmanlıca (1500-1928)', 'Persian', 'Ottoman Turkish',\n",
       "       'Esperanto', '학국의', 'Farsca', 'C#', 'Java', 'Coldfusion',\n",
       "       'Azerbaycanca', 'English ', 'Portekizce', 'Kazakh',\n",
       "       'Czech Language', 'Bokmål, Norwegian', 'ingilizce ', 'Ingilizce',\n",
       "       'Finnish', 'Swedish', 'English, Advanced', 'English (US)',\n",
       "       'Kumyk Къумукъ Къумукъча', 'Russian Русский Язык',\n",
       "       'Avaric Маг|арул мац|', 'Turkish, Ottoman (1500-1928)',\n",
       "       'Mandarin ', 'Turkmen', 'Felemenkçe', 'Germany', 'İspanyolca ',\n",
       "       'turkce', 'Urdu', 'Turkish Sign Language', 'Dutch', 'Albanian',\n",
       "       'Yunanca', 'Latin', 'Bosnian', 'Arapca', 'Hausa', 'Türkisch',\n",
       "       'Englisch', 'İşaret Dilleri', 'Latince', 'Serbian', 'german',\n",
       "       'Çağatayca', 'İngilizce, İyi', 'Türk İşaret Dili', 'İsveççe',\n",
       "       'German ', 'Sign Languages', 'Uzbek', 'Hindi', 'Korean',\n",
       "       'INGILIZCE', 'ALMANCA', 'ISPANYOLCA', 'Norse, Old', 'Tamil',\n",
       "       'Sinhalese', 'Farsi', 'Pashto', 'Русский', 'Azərbaycan', 'Türk',\n",
       "       'Norwegian', 'Hungarian', 'Punjabi', 'German (A2)', 'Pусский',\n",
       "       'Tajik', 'Antik Yunanca (1453’e kadar)', 'Circassian',\n",
       "       'Greek, Ancient (to 1453)', 'Estonian', 'Chinese (Simplified)',\n",
       "       'Catalan', 'Fince', 'Javanese', 'Grek', 'İngilizce,', 'Espańol',\n",
       "       'italian', 'Thai', 'arapça', 'Lithuanian',\n",
       "       'English - Global Village Sydney Australia',\n",
       "       'Çince (Basitleştirilmiş)', 'Português', 'italyanca', 'Español ',\n",
       "       'Almanca ', '한국어', 'Makedonca', 'Advanced English', 'Hırvatça',\n",
       "       'Norveççe', 'Danca', 'Romaic', 'Kırgızca', 'Ελληνικά', 'Turkce',\n",
       "       '2- English', '1- French', '3- Turkish', 'İnglilizce', 'Pushto',\n",
       "       'ispanyolca', 'التركية', 'العربية', 'Czech', 'TÜRKÇE', 'ENGLISH',\n",
       "       'Python', 'RScript', 'Kotlin', 'İngilizce, Orta/İleri Düzey',\n",
       "       'Къырымтатар тили (Kırım Tatarcası)',\n",
       "       'Almanca, Eski Yüksek (yaklaşık 750-1050)', 'Казахский',\n",
       "       'Английский', 'Турецкий', 'Арабский', 'Laz Language', 'Estonca',\n",
       "       'Turkısh', 'İngilizce, İyi (1100-1500)', 'Lazca', 'inglizce',\n",
       "       'Russe', 'Bokmål, Norsk', 'Arnavutça', 'Türkçe,',\n",
       "       'İngilizce, İleri (2500-3000)', 'Macedonian', 'Magyar', 'Türke',\n",
       "       'Kyrgyz', 'Ukraynaca', 'rusça', 'Bosnian ', 'Inglizce',\n",
       "       'İngilizce, B1', 'İngilizce (B1 - B2)', 'Slovenian', 'Maltese',\n",
       "       'Regex', 'Кыргызский', 'Italyanca', 'İNGİLİZCE ', 'almanca',\n",
       "       'İşaret Dili', 'rusca', 'kirgizca', 'Bokmål, Norveç', 'Rumence',\n",
       "       'Espanol', 'Ukranian', 'Almanca, Orta Yüksek (yaklaşık 1050-1500)',\n",
       "       'Bahasa Indonesia', 'Bahasa Melayu', 'Basa Sunda', 'اللغة العربية',\n",
       "       'C++', 'Deutsche', 'Somali', 'Osmanlı Türkçesi', 'kürdi',\n",
       "       'Osmanische Sprachen', 'Al Bakiyye & Hûrayca',\n",
       "       'Chinese(Simplified-Mandarin) - 中文', 'Kabardian', 'Arabe',\n",
       "       'Anglais', 'Turc', 'İngilice', 'русский', 'japonca', 'Gürcüce',\n",
       "       'İşaret dili', 'Cat Language', 'SPANISH', 'CHINESE', 'Italien',\n",
       "       'Fransa', 'Kazakça', 'Zazaki dili', 'İngilzce',\n",
       "       'İngilizce-B1 Wimbledon language academy eğitim sürecindeyim.',\n",
       "       'Arapça-A1-A2', 'İngilize', 'Romence', 'türkçe', 'Slovak',\n",
       "       'Azerbaycan Türkçesi', 'italiano', 'Kafkas dilleri', 'Swahili',\n",
       "       'Turkish ', 'Украинский', 'Крымскотатарский', 'Soma', 'Uyghur',\n",
       "       'Malay', 'Almanca/German', 'İngilizce/English', 'Türkçe/Turkish',\n",
       "       'English (B2, Upper-Intermediate)', 'Bengali', 'Tükçe', '日本の',\n",
       "       'c++', 'עברית', 'JavaScript', 'PHP', 'HTML', 'StyleSheet',\n",
       "       'Englis', 'arapca', 'BCE', 'Belarusian',\n",
       "       'Fransızca(Université Galatasaray)', 'Russian ', 'Deutsch ',\n",
       "       'Deutch', 'İtalian', 'Türkçe İşaret Dili', 'German (Intermediate)',\n",
       "       'Fransizca', 'Çekçe', 'Туркменский', 'Central Khmer',\n",
       "       'Endonezya dili', 'Türkmençe', 'Mongolian',\n",
       "       'German, B2.2 Goethe Instıtut - İZMİR', 'ingilizce(english)', 'C',\n",
       "       'Indonesian', 'Japanese (Roomaji)', 'Deutsch - B1', 'ibranice',\n",
       "       'turkish', 'Russian(Certified)', 'Tatarca', 'İngizice', 'Slovakça',\n",
       "       'oracle data integrator', 'Hebrew', 'SQL', 'Assembly', 'Çeçence',\n",
       "       'Litvanyaca', 'İngilizce / English', 'Türkçe / Turkish', 'Fransız',\n",
       "       'Danish', 'En', 'Slavic languages',\n",
       "       'İngilizce (Upper-Intermediate)', 'Wollof', 'Tatar', 'Adıge dili',\n",
       "       'Finnish ', 'Französisch', 'Gerrman', 'Türkçe (Turkish)',\n",
       "       'İngilizce (English)', 'russian', 'Amharic', 'IELTS', 'Türkçe ',\n",
       "       'English - (YDS : 93,75)', 'Amazigh (Language of Berber) ',\n",
       "       'İngilizce - IELTS 7', 'İngilizce(Orta Seviye)',\n",
       "       'İngilizce Pre-Intermediate', 'Zazaki', 'Mesleki İngilizce',\n",
       "       'Turkish (Native Speaker), English (Intermediate)',\n",
       "       'İngilizce iyi', 'Almanca(Beginner)', 'Sarcasm', 'Antik Yunanca ',\n",
       "       'Ingles', 'Dari / Persian (native speaker)', 'Almanca / Deutsch',\n",
       "       'Turk', 'İngilizce (Advanced)',\n",
       "       'Almanca (IAnfänger A2) (Elementary)', 'Rusça (Beginner A1)',\n",
       "       'Isvecce', 'Luo (Kenya and Tanzania)', 'Macarca', 'Türkce',\n",
       "       'javascript', 'Kurdî', 'Tamazight', 'İngilizce, İyi düzeyde',\n",
       "       'Tunisian', 'Kiswahili', 'Luganda', 'South Sudanese Arabic',\n",
       "       'Didinga (Native)', 'İngilizce-intermediate',\n",
       "       'English, Old (ca.450-1100)', 'Ingilizce ',\n",
       "       'Român (Romanian Language)', 'English,', 'German,', 'Turkish,',\n",
       "       'turkçe', 'İngilizce(C1)', 'Crimean Tatar', 'farsi',\n",
       "       'Brazilian Portuguese', 'Osmanlıca', 'Croatian', 'Napolitano',\n",
       "       'Srpski', 'Makedonski', 'Bosanski', 'hrvatski', ' German', 'Spani',\n",
       "       'Turkish (Native)', 'İngilizice', 'Azərbaycan Dili', 'Montenegrin',\n",
       "       'İngilizce, İyi ', 'Powerbuilder', 'VB.NET', 'PL/SQL', 'Polski',\n",
       "       'İngilizce (C1)', 'İngilizce ( TOEIC - 725 )', '中文', 'Almanca B2',\n",
       "       'İngilizce A2', 'Goethe-Zertifikat A2 - 76', '■ English ■',\n",
       "       '■ Türkçe ■', 'İng', 'germany', 'German Language', 'İngilizce, B2',\n",
       "       'İngilizce, İyi (1500-2000)', 'Georgian', 'İngilizce, iyi', 'ing',\n",
       "       'Engish', 'Turksih', ' English', 'Kırım Tatarcası', 'Afan Oromo',\n",
       "       'English, Pre-Advance', 'Español, Castellano', 'YÖKDİL 2017   85',\n",
       "       'Ms Sql (Sorgu dili)', 'Russain', 'Rusça ', 'GERMAN', 'TURKISH',\n",
       "       'Çinçe', 'Malay dili', '-English', 'Japanesse(Roomaji)',\n",
       "       'Turkish - Native', 'English C1', 'Turkish:',\n",
       "       'English upper intermediate', 'Türkmen', 'Irish', 'Arapça ',\n",
       "       'French ', 'Çince (Mandarin)', 'Slovene', 'Lazuri',\n",
       "       'Swiss German (Schweizerdeutsch)'], dtype=object)"
      ]
     },
     "execution_count": 344,
     "metadata": {},
     "output_type": "execute_result"
    }
   ],
   "source": [
    "languages[\"language\"].unique()"
   ]
  },
  {
   "cell_type": "code",
   "execution_count": 345,
   "id": "a401bd45",
   "metadata": {
    "scrolled": true
   },
   "outputs": [
    {
     "data": {
      "text/plain": [
       "native_or_bilingual     22026\n",
       "professional_working    18306\n",
       "elementary               8971\n",
       "full_professional        8389\n",
       "limited_working          7709\n",
       "Name: proficiency, dtype: int64"
      ]
     },
     "execution_count": 345,
     "metadata": {},
     "output_type": "execute_result"
    }
   ],
   "source": [
    "languages[\"proficiency\"].value_counts()"
   ]
  },
  {
   "cell_type": "code",
   "execution_count": 346,
   "id": "a34a92c4",
   "metadata": {},
   "outputs": [
    {
     "data": {
      "text/html": [
       "<div>\n",
       "<style scoped>\n",
       "    .dataframe tbody tr th:only-of-type {\n",
       "        vertical-align: middle;\n",
       "    }\n",
       "\n",
       "    .dataframe tbody tr th {\n",
       "        vertical-align: top;\n",
       "    }\n",
       "\n",
       "    .dataframe thead th {\n",
       "        text-align: right;\n",
       "    }\n",
       "</style>\n",
       "<table border=\"1\" class=\"dataframe\">\n",
       "  <thead>\n",
       "    <tr style=\"text-align: right;\">\n",
       "      <th></th>\n",
       "      <th>user_id</th>\n",
       "      <th>language</th>\n",
       "      <th>proficiency</th>\n",
       "    </tr>\n",
       "  </thead>\n",
       "  <tbody>\n",
       "    <tr>\n",
       "      <th>0</th>\n",
       "      <td>8</td>\n",
       "      <td>İngilizce</td>\n",
       "      <td>full_professional</td>\n",
       "    </tr>\n",
       "    <tr>\n",
       "      <th>1</th>\n",
       "      <td>8</td>\n",
       "      <td>Türkçe</td>\n",
       "      <td>native_or_bilingual</td>\n",
       "    </tr>\n",
       "  </tbody>\n",
       "</table>\n",
       "</div>"
      ],
      "text/plain": [
       "   user_id   language          proficiency\n",
       "0        8  İngilizce    full_professional\n",
       "1        8     Türkçe  native_or_bilingual"
      ]
     },
     "execution_count": 346,
     "metadata": {},
     "output_type": "execute_result"
    }
   ],
   "source": [
    "languages.head(2)"
   ]
  },
  {
   "cell_type": "code",
   "execution_count": 347,
   "id": "53583c85",
   "metadata": {},
   "outputs": [
    {
     "data": {
      "text/plain": [
       "Rusça                   498\n",
       "Russian                 485\n",
       "Rumence                   4\n",
       "Rusca                     3\n",
       "Russian(Certified)        2\n",
       "Rusça                     2\n",
       "Russian Русский Язык      1\n",
       "Russe                     1\n",
       "Russian                   1\n",
       "Rusça (Beginner A1)       1\n",
       "Russain                   1\n",
       "Name: language, dtype: int64"
      ]
     },
     "execution_count": 347,
     "metadata": {},
     "output_type": "execute_result"
    }
   ],
   "source": [
    "languages[languages[\"language\"].str.contains(\"Ru\")][\"language\"].value_counts()"
   ]
  },
  {
   "cell_type": "code",
   "execution_count": 348,
   "id": "9d948c9e",
   "metadata": {
    "scrolled": false
   },
   "outputs": [
    {
     "data": {
      "text/plain": [
       "japonca    1\n",
       "Name: language, dtype: int64"
      ]
     },
     "execution_count": 348,
     "metadata": {},
     "output_type": "execute_result"
    }
   ],
   "source": [
    "languages[languages[\"language\"].str.contains(\"jap\")][\"language\"].value_counts()"
   ]
  },
  {
   "cell_type": "markdown",
   "id": "5d7b0680",
   "metadata": {},
   "source": [
    "#### <font color = \"red\">->> Fixing some language values to gather them as a one value, and giving priorities or values to proficiency values for processing side. </font>\n"
   ]
  },
  {
   "cell_type": "code",
   "execution_count": 349,
   "id": "866c4fbd",
   "metadata": {},
   "outputs": [],
   "source": [
    "fixed_language_vals = {\n",
    "    \"(?i).*(English|ingilizce|ingizce|inglizce|ingilizce|İngilizice|ing|eng|en|Ingles).*\":\"English\",\n",
    "    \"(?i).*(turkish|türkçe|Turk|türk|turkçe|türkçe|Turkish|Turkısh).*\":\"Turkish\",\n",
    "    \"(?i).*(Almanca|Deutsch|Deutsch|Deutch|almanca|German|Germany).*\":\"German\",\n",
    "    \"(?i).*(Francais|French|Fransız|Fransızca|Francais|Französisch|Français).*\":\"French\",\n",
    "    \"(?i).*(Italian|Italyanca|Italiano|Italien|Napolitano).*\":\"Italian\",\n",
    "    \"(?i).*(Spanish|Spani|Español|İspanyolca|Espańol).*\" :\"Spanish\",\n",
    "    \"(?i).*(Rusça|Russian|Russe|Russain|Rusca).*\" :\"Russian\",\n",
    "    \"(?i).*(Arabic|Arapça|Arapça|Arabish).*\" :\"Arabic\",\n",
    "    \"(?i).*(Japanese|Japonca|japonca|Japonca).*\" :\"Japanese\",\n",
    "}\n",
    "\n"
   ]
  },
  {
   "cell_type": "markdown",
   "id": "e43c7290",
   "metadata": {},
   "source": [
    "fixed_prof_vals = {\n",
    "    \"native_or_bilingual\":5,\n",
    "    \"full_professional\":4,\n",
    "    \"professional_working\":3,\n",
    "    \"limited_working\":2,\n",
    "    \"elementary\":1,\n",
    "    \n",
    "}"
   ]
  },
  {
   "cell_type": "markdown",
   "id": "d975078f",
   "metadata": {},
   "source": [
    "### <font color = \"purple\">Visualisation Side</font>\n",
    "\n",
    "#### <font color = \"red\">->> This graph shows us the distribution of Language Proficiencies. </font>"
   ]
  },
  {
   "cell_type": "markdown",
   "id": "c8e63228",
   "metadata": {},
   "source": [
    "plt.figure(figsize=(10,3))\n",
    "sns.barplot(x=languages[\"proficiency\"].value_counts().index,y=languages[\"proficiency\"].value_counts())\n",
    "plt.xlabel(\"Proficiencies\",fontsize=14)\n",
    "plt.ylabel(\"Num of Proficiencies\",fontsize=14)\n",
    "plt.show()"
   ]
  },
  {
   "cell_type": "markdown",
   "id": "9934bb8b",
   "metadata": {},
   "source": [
    "#### <font color = \"red\">->> Updating language proficiencies by their identified values by us.</font>"
   ]
  },
  {
   "cell_type": "markdown",
   "id": "5fc9dae0",
   "metadata": {},
   "source": [
    "languages.loc[:,\"proficiency\"] = languages.loc[:,\"proficiency\"].map(fixed_prof_vals)"
   ]
  },
  {
   "cell_type": "code",
   "execution_count": 350,
   "id": "339dcfbd",
   "metadata": {},
   "outputs": [
    {
     "data": {
      "text/plain": [
       "dtype('O')"
      ]
     },
     "execution_count": 350,
     "metadata": {},
     "output_type": "execute_result"
    }
   ],
   "source": [
    "languages[\"proficiency\"].dtype"
   ]
  },
  {
   "cell_type": "markdown",
   "id": "294207ee",
   "metadata": {},
   "source": [
    "#### <font color = \"red\">->> Replacing and updating the dataset by selected languages. </font>"
   ]
  },
  {
   "cell_type": "code",
   "execution_count": 351,
   "id": "46cf04da",
   "metadata": {
    "scrolled": true
   },
   "outputs": [
    {
     "data": {
      "text/html": [
       "<div>\n",
       "<style scoped>\n",
       "    .dataframe tbody tr th:only-of-type {\n",
       "        vertical-align: middle;\n",
       "    }\n",
       "\n",
       "    .dataframe tbody tr th {\n",
       "        vertical-align: top;\n",
       "    }\n",
       "\n",
       "    .dataframe thead th {\n",
       "        text-align: right;\n",
       "    }\n",
       "</style>\n",
       "<table border=\"1\" class=\"dataframe\">\n",
       "  <thead>\n",
       "    <tr style=\"text-align: right;\">\n",
       "      <th></th>\n",
       "      <th>user_id</th>\n",
       "      <th>language</th>\n",
       "      <th>proficiency</th>\n",
       "    </tr>\n",
       "  </thead>\n",
       "  <tbody>\n",
       "    <tr>\n",
       "      <th>0</th>\n",
       "      <td>8</td>\n",
       "      <td>İngilizce</td>\n",
       "      <td>full_professional</td>\n",
       "    </tr>\n",
       "    <tr>\n",
       "      <th>1</th>\n",
       "      <td>8</td>\n",
       "      <td>Türkçe</td>\n",
       "      <td>native_or_bilingual</td>\n",
       "    </tr>\n",
       "    <tr>\n",
       "      <th>2</th>\n",
       "      <td>8</td>\n",
       "      <td>Fransızca</td>\n",
       "      <td>elementary</td>\n",
       "    </tr>\n",
       "    <tr>\n",
       "      <th>4</th>\n",
       "      <td>11</td>\n",
       "      <td>Turkish</td>\n",
       "      <td>native_or_bilingual</td>\n",
       "    </tr>\n",
       "    <tr>\n",
       "      <th>5</th>\n",
       "      <td>11</td>\n",
       "      <td>English</td>\n",
       "      <td>professional_working</td>\n",
       "    </tr>\n",
       "  </tbody>\n",
       "</table>\n",
       "</div>"
      ],
      "text/plain": [
       "   user_id   language           proficiency\n",
       "0        8  İngilizce     full_professional\n",
       "1        8     Türkçe   native_or_bilingual\n",
       "2        8  Fransızca            elementary\n",
       "4       11    Turkish   native_or_bilingual\n",
       "5       11    English  professional_working"
      ]
     },
     "execution_count": 351,
     "metadata": {},
     "output_type": "execute_result"
    }
   ],
   "source": [
    "languages.head(5)"
   ]
  },
  {
   "cell_type": "code",
   "execution_count": 352,
   "id": "4851aae9",
   "metadata": {},
   "outputs": [
    {
     "data": {
      "text/plain": [
       "['full_professional', 'native_or_bilingual', 'elementary', 'native_or_bilingual', 'professional_working', ..., 'full_professional', 'professional_working', 'native_or_bilingual', 'professional_working', 'elementary']\n",
       "Length: 65401\n",
       "Categories (5, object): ['elementary' < 'limited_working' < 'professional_working' < 'full_professional' < 'native_or_bilingual']"
      ]
     },
     "execution_count": 352,
     "metadata": {},
     "output_type": "execute_result"
    }
   ],
   "source": [
    "new_df = languages['proficiency']\n",
    "new_df = pd.Categorical(new_df,categories=[\"elementary\", \"limited_working\", \"professional_working\", \"full_professional\",\"native_or_bilingual\"],ordered=True)\n",
    "new_df"
   ]
  },
  {
   "cell_type": "code",
   "execution_count": 353,
   "id": "fc28b5bb",
   "metadata": {},
   "outputs": [],
   "source": [
    "languages['proficiency'] = new_df"
   ]
  },
  {
   "cell_type": "code",
   "execution_count": 354,
   "id": "db7ce1d7",
   "metadata": {
    "scrolled": false
   },
   "outputs": [
    {
     "data": {
      "text/html": [
       "<div>\n",
       "<style scoped>\n",
       "    .dataframe tbody tr th:only-of-type {\n",
       "        vertical-align: middle;\n",
       "    }\n",
       "\n",
       "    .dataframe tbody tr th {\n",
       "        vertical-align: top;\n",
       "    }\n",
       "\n",
       "    .dataframe thead th {\n",
       "        text-align: right;\n",
       "    }\n",
       "</style>\n",
       "<table border=\"1\" class=\"dataframe\">\n",
       "  <thead>\n",
       "    <tr style=\"text-align: right;\">\n",
       "      <th></th>\n",
       "      <th>user_id</th>\n",
       "      <th>language</th>\n",
       "      <th>proficiency</th>\n",
       "    </tr>\n",
       "  </thead>\n",
       "  <tbody>\n",
       "    <tr>\n",
       "      <th>0</th>\n",
       "      <td>8</td>\n",
       "      <td>İngilizce</td>\n",
       "      <td>1</td>\n",
       "    </tr>\n",
       "    <tr>\n",
       "      <th>1</th>\n",
       "      <td>8</td>\n",
       "      <td>Türkçe</td>\n",
       "      <td>3</td>\n",
       "    </tr>\n",
       "    <tr>\n",
       "      <th>2</th>\n",
       "      <td>8</td>\n",
       "      <td>Fransızca</td>\n",
       "      <td>0</td>\n",
       "    </tr>\n",
       "    <tr>\n",
       "      <th>4</th>\n",
       "      <td>11</td>\n",
       "      <td>Turkish</td>\n",
       "      <td>3</td>\n",
       "    </tr>\n",
       "    <tr>\n",
       "      <th>5</th>\n",
       "      <td>11</td>\n",
       "      <td>English</td>\n",
       "      <td>4</td>\n",
       "    </tr>\n",
       "  </tbody>\n",
       "</table>\n",
       "</div>"
      ],
      "text/plain": [
       "   user_id   language  proficiency\n",
       "0        8  İngilizce            1\n",
       "1        8     Türkçe            3\n",
       "2        8  Fransızca            0\n",
       "4       11    Turkish            3\n",
       "5       11    English            4"
      ]
     },
     "execution_count": 354,
     "metadata": {},
     "output_type": "execute_result"
    }
   ],
   "source": [
    "languages['proficiency'] = LabelEncoder().fit_transform(languages['proficiency'])\n",
    "languages.head(5)"
   ]
  },
  {
   "cell_type": "code",
   "execution_count": 355,
   "id": "880fccfa",
   "metadata": {},
   "outputs": [],
   "source": [
    "languages.loc[:,\"language\"] = languages.loc[:,\"language\"].replace(fixed_language_vals,regex=True)"
   ]
  },
  {
   "cell_type": "code",
   "execution_count": 356,
   "id": "271707d6",
   "metadata": {
    "scrolled": false
   },
   "outputs": [
    {
     "data": {
      "text/plain": [
       "English        31430\n",
       "Turkish        19812\n",
       "German          6684\n",
       "Spanish         1671\n",
       "Russian         1000\n",
       "Arabic           816\n",
       "French           751\n",
       "Italian          667\n",
       "Japanese         409\n",
       "Azerbaijani      140\n",
       "Name: language, dtype: int64"
      ]
     },
     "execution_count": 356,
     "metadata": {},
     "output_type": "execute_result"
    }
   ],
   "source": [
    "languages[\"language\"].value_counts()[:10]"
   ]
  },
  {
   "cell_type": "code",
   "execution_count": 357,
   "id": "f9acf7ad",
   "metadata": {
    "scrolled": false
   },
   "outputs": [],
   "source": [
    "languages = languages[languages[\"language\"].isin(fixed_language_vals.values())]"
   ]
  },
  {
   "cell_type": "code",
   "execution_count": 358,
   "id": "6789c642",
   "metadata": {},
   "outputs": [
    {
     "data": {
      "text/plain": [
       "(63240, 3)"
      ]
     },
     "execution_count": 358,
     "metadata": {},
     "output_type": "execute_result"
    }
   ],
   "source": [
    "languages.shape"
   ]
  },
  {
   "cell_type": "markdown",
   "id": "79fafe82",
   "metadata": {},
   "source": [
    "#### <font color = \"red\">->> Dropping duplicated values. </font>"
   ]
  },
  {
   "cell_type": "code",
   "execution_count": 359,
   "id": "fee242a3",
   "metadata": {
    "scrolled": false
   },
   "outputs": [],
   "source": [
    "languages.drop_duplicates([\"user_id\",\"language\"],inplace=True)"
   ]
  },
  {
   "cell_type": "code",
   "execution_count": 360,
   "id": "8ad4dd77",
   "metadata": {},
   "outputs": [
    {
     "data": {
      "text/plain": [
       "(62116, 3)"
      ]
     },
     "execution_count": 360,
     "metadata": {},
     "output_type": "execute_result"
    }
   ],
   "source": [
    "languages.shape"
   ]
  },
  {
   "cell_type": "code",
   "execution_count": 361,
   "id": "4e1134a0",
   "metadata": {
    "scrolled": true
   },
   "outputs": [
    {
     "data": {
      "text/html": [
       "<div>\n",
       "<style scoped>\n",
       "    .dataframe tbody tr th:only-of-type {\n",
       "        vertical-align: middle;\n",
       "    }\n",
       "\n",
       "    .dataframe tbody tr th {\n",
       "        vertical-align: top;\n",
       "    }\n",
       "\n",
       "    .dataframe thead th {\n",
       "        text-align: right;\n",
       "    }\n",
       "</style>\n",
       "<table border=\"1\" class=\"dataframe\">\n",
       "  <thead>\n",
       "    <tr style=\"text-align: right;\">\n",
       "      <th></th>\n",
       "      <th>user_id</th>\n",
       "      <th>language</th>\n",
       "      <th>proficiency</th>\n",
       "    </tr>\n",
       "  </thead>\n",
       "  <tbody>\n",
       "    <tr>\n",
       "      <th>0</th>\n",
       "      <td>8</td>\n",
       "      <td>English</td>\n",
       "      <td>1</td>\n",
       "    </tr>\n",
       "    <tr>\n",
       "      <th>1</th>\n",
       "      <td>8</td>\n",
       "      <td>Turkish</td>\n",
       "      <td>3</td>\n",
       "    </tr>\n",
       "  </tbody>\n",
       "</table>\n",
       "</div>"
      ],
      "text/plain": [
       "   user_id language  proficiency\n",
       "0        8  English            1\n",
       "1        8  Turkish            3"
      ]
     },
     "execution_count": 361,
     "metadata": {},
     "output_type": "execute_result"
    }
   ],
   "source": [
    "languages.head(2)"
   ]
  },
  {
   "cell_type": "code",
   "execution_count": 362,
   "id": "8163c13e",
   "metadata": {
    "scrolled": true
   },
   "outputs": [
    {
     "data": {
      "text/plain": [
       "English     30429\n",
       "Turkish     19693\n",
       "German       6681\n",
       "Spanish      1671\n",
       "Russian      1000\n",
       "Arabic        816\n",
       "French        751\n",
       "Italian       666\n",
       "Japanese      409\n",
       "Name: language, dtype: int64"
      ]
     },
     "execution_count": 362,
     "metadata": {},
     "output_type": "execute_result"
    }
   ],
   "source": [
    "languages[\"language\"].value_counts()"
   ]
  },
  {
   "cell_type": "code",
   "execution_count": 363,
   "id": "8279a1e9",
   "metadata": {},
   "outputs": [
    {
     "data": {
      "text/plain": [
       "3    21294\n",
       "4    17941\n",
       "1     8174\n",
       "0     7699\n",
       "2     7008\n",
       "Name: proficiency, dtype: int64"
      ]
     },
     "execution_count": 363,
     "metadata": {},
     "output_type": "execute_result"
    }
   ],
   "source": [
    "languages[\"proficiency\"].value_counts()"
   ]
  },
  {
   "cell_type": "markdown",
   "id": "1ec05cd4",
   "metadata": {},
   "source": [
    "#### <font color = \"red\">->> Shows the distribution of certain languages as a pie chart. </font>"
   ]
  },
  {
   "cell_type": "code",
   "execution_count": 364,
   "id": "855bceaa",
   "metadata": {},
   "outputs": [
    {
     "data": {
      "image/png": "[encoded data removed]",
      "text/plain": [
       "<Figure size 640x480 with 1 Axes>"
      ]
     },
     "metadata": {},
     "output_type": "display_data"
    }
   ],
   "source": [
    "x = np.char.array(list(languages[\"language\"].value_counts().index))\n",
    "y = np.array(languages[\"language\"].value_counts())\n",
    "percent = 100.*y/y.sum()\n",
    "\n",
    "patches, texts = plt.pie(y,startangle=90, radius=1.2)\n",
    "labels = ['{0} - {1:1.2f} %'.format(i,j) for i,j in zip(x, percent)]\n",
    "\n",
    "sort_legend = True\n",
    "if sort_legend:\n",
    "    patches, labels, dummy =  zip(*sorted(zip(patches, labels, y),\n",
    "                                          key=lambda x: x[2],\n",
    "                                          reverse=True))\n",
    "\n",
    "plt.legend(patches, labels, loc='upper right', bbox_to_anchor=(-0.1, 1.),\n",
    "           fontsize=9)\n",
    "plt.show()"
   ]
  },
  {
   "cell_type": "markdown",
   "id": "50c81104",
   "metadata": {},
   "source": [
    "#### <font color = \"red\">->> Finalizing dataset by grouping them with user_id, and filling na values with zero can be meant as unknown. </font>"
   ]
  },
  {
   "cell_type": "code",
   "execution_count": 365,
   "id": "d0103c7c",
   "metadata": {
    "scrolled": true
   },
   "outputs": [],
   "source": [
    "languages = pd.pivot(languages,index=\"user_id\",columns=\"language\",values=\"proficiency\")\n",
    "languages = languages.fillna(0)\n",
    "languages = languages.astype(\"object\")"
   ]
  },
  {
   "cell_type": "code",
   "execution_count": 366,
   "id": "1b3811f2",
   "metadata": {
    "scrolled": true
   },
   "outputs": [
    {
     "data": {
      "text/html": [
       "<div>\n",
       "<style scoped>\n",
       "    .dataframe tbody tr th:only-of-type {\n",
       "        vertical-align: middle;\n",
       "    }\n",
       "\n",
       "    .dataframe tbody tr th {\n",
       "        vertical-align: top;\n",
       "    }\n",
       "\n",
       "    .dataframe thead th {\n",
       "        text-align: right;\n",
       "    }\n",
       "</style>\n",
       "<table border=\"1\" class=\"dataframe\">\n",
       "  <thead>\n",
       "    <tr style=\"text-align: right;\">\n",
       "      <th>language</th>\n",
       "      <th>Arabic</th>\n",
       "      <th>English</th>\n",
       "      <th>French</th>\n",
       "      <th>German</th>\n",
       "      <th>Italian</th>\n",
       "      <th>Japanese</th>\n",
       "      <th>Russian</th>\n",
       "      <th>Spanish</th>\n",
       "      <th>Turkish</th>\n",
       "    </tr>\n",
       "    <tr>\n",
       "      <th>user_id</th>\n",
       "      <th></th>\n",
       "      <th></th>\n",
       "      <th></th>\n",
       "      <th></th>\n",
       "      <th></th>\n",
       "      <th></th>\n",
       "      <th></th>\n",
       "      <th></th>\n",
       "      <th></th>\n",
       "    </tr>\n",
       "  </thead>\n",
       "  <tbody>\n",
       "    <tr>\n",
       "      <th>8</th>\n",
       "      <td>0.0</td>\n",
       "      <td>1.0</td>\n",
       "      <td>0.0</td>\n",
       "      <td>0.0</td>\n",
       "      <td>0.0</td>\n",
       "      <td>0.0</td>\n",
       "      <td>0.0</td>\n",
       "      <td>0.0</td>\n",
       "      <td>3.0</td>\n",
       "    </tr>\n",
       "    <tr>\n",
       "      <th>11</th>\n",
       "      <td>0.0</td>\n",
       "      <td>4.0</td>\n",
       "      <td>0.0</td>\n",
       "      <td>0.0</td>\n",
       "      <td>0.0</td>\n",
       "      <td>0.0</td>\n",
       "      <td>0.0</td>\n",
       "      <td>0.0</td>\n",
       "      <td>3.0</td>\n",
       "    </tr>\n",
       "  </tbody>\n",
       "</table>\n",
       "</div>"
      ],
      "text/plain": [
       "language Arabic English French German Italian Japanese Russian Spanish Turkish\n",
       "user_id                                                                       \n",
       "8           0.0     1.0    0.0    0.0     0.0      0.0     0.0     0.0     3.0\n",
       "11          0.0     4.0    0.0    0.0     0.0      0.0     0.0     0.0     3.0"
      ]
     },
     "execution_count": 366,
     "metadata": {},
     "output_type": "execute_result"
    }
   ],
   "source": [
    "languages.head(2)"
   ]
  },
  {
   "cell_type": "markdown",
   "id": "1be8e7e3",
   "metadata": {},
   "source": [
    "## <font color = \"purple\">Work Experience </font>"
   ]
  },
  {
   "cell_type": "code",
   "execution_count": 367,
   "id": "ac1a3cd7",
   "metadata": {
    "scrolled": true
   },
   "outputs": [
    {
     "data": {
      "text/html": [
       "<div>\n",
       "<style scoped>\n",
       "    .dataframe tbody tr th:only-of-type {\n",
       "        vertical-align: middle;\n",
       "    }\n",
       "\n",
       "    .dataframe tbody tr th {\n",
       "        vertical-align: top;\n",
       "    }\n",
       "\n",
       "    .dataframe thead th {\n",
       "        text-align: right;\n",
       "    }\n",
       "</style>\n",
       "<table border=\"1\" class=\"dataframe\">\n",
       "  <thead>\n",
       "    <tr style=\"text-align: right;\">\n",
       "      <th></th>\n",
       "      <th>user_id</th>\n",
       "      <th>company_id</th>\n",
       "      <th>location</th>\n",
       "      <th>start_year_month</th>\n",
       "    </tr>\n",
       "  </thead>\n",
       "  <tbody>\n",
       "    <tr>\n",
       "      <th>0</th>\n",
       "      <td>53442</td>\n",
       "      <td>2651</td>\n",
       "      <td>Istanbul, Turkey</td>\n",
       "      <td>201509</td>\n",
       "    </tr>\n",
       "    <tr>\n",
       "      <th>1</th>\n",
       "      <td>34558</td>\n",
       "      <td>815</td>\n",
       "      <td>Istanbul, Turkey</td>\n",
       "      <td>201210</td>\n",
       "    </tr>\n",
       "  </tbody>\n",
       "</table>\n",
       "</div>"
      ],
      "text/plain": [
       "   user_id  company_id          location  start_year_month\n",
       "0    53442        2651  Istanbul, Turkey            201509\n",
       "1    34558         815  Istanbul, Turkey            201210"
      ]
     },
     "execution_count": 367,
     "metadata": {},
     "output_type": "execute_result"
    }
   ],
   "source": [
    "work_experience.head(2)"
   ]
  },
  {
   "cell_type": "code",
   "execution_count": 368,
   "id": "f428d12d",
   "metadata": {},
   "outputs": [
    {
     "data": {
      "text/plain": [
       "(160736, 4)"
      ]
     },
     "execution_count": 368,
     "metadata": {},
     "output_type": "execute_result"
    }
   ],
   "source": [
    "work_experience.shape"
   ]
  },
  {
   "cell_type": "code",
   "execution_count": 369,
   "id": "fea1b365",
   "metadata": {
    "scrolled": true
   },
   "outputs": [],
   "source": [
    "survey_results_public = survey_results_public[[\"CompanySize\"]]"
   ]
  },
  {
   "cell_type": "code",
   "execution_count": 370,
   "id": "3ed0dddb",
   "metadata": {},
   "outputs": [],
   "source": [
    "work_experience[\"company_size\"] = survey_results_public[[\"CompanySize\"]]"
   ]
  },
  {
   "cell_type": "code",
   "execution_count": 371,
   "id": "e3e9ade0",
   "metadata": {},
   "outputs": [
    {
     "data": {
      "text/plain": [
       "200906    682\n",
       "200909    666\n",
       "200907    558\n",
       "200806    556\n",
       "200809    492\n",
       "         ... \n",
       "199311      1\n",
       "198510      1\n",
       "198907      1\n",
       "197609      1\n",
       "198803      1\n",
       "Name: start_year_month, Length: 277, dtype: int64"
      ]
     },
     "execution_count": 371,
     "metadata": {},
     "output_type": "execute_result"
    }
   ],
   "source": [
    "work_experience[work_experience[\"start_year_month\"].lt(201001)][\"start_year_month\"].value_counts()"
   ]
  },
  {
   "cell_type": "code",
   "execution_count": 372,
   "id": "921346d1",
   "metadata": {
    "scrolled": true
   },
   "outputs": [
    {
     "data": {
      "text/html": [
       "<div>\n",
       "<style scoped>\n",
       "    .dataframe tbody tr th:only-of-type {\n",
       "        vertical-align: middle;\n",
       "    }\n",
       "\n",
       "    .dataframe tbody tr th {\n",
       "        vertical-align: top;\n",
       "    }\n",
       "\n",
       "    .dataframe thead th {\n",
       "        text-align: right;\n",
       "    }\n",
       "</style>\n",
       "<table border=\"1\" class=\"dataframe\">\n",
       "  <thead>\n",
       "    <tr style=\"text-align: right;\">\n",
       "      <th></th>\n",
       "      <th>user_id</th>\n",
       "      <th>company_id</th>\n",
       "      <th>location</th>\n",
       "      <th>start_year_month</th>\n",
       "      <th>company_size</th>\n",
       "    </tr>\n",
       "  </thead>\n",
       "  <tbody>\n",
       "    <tr>\n",
       "      <th>0</th>\n",
       "      <td>53442</td>\n",
       "      <td>2651</td>\n",
       "      <td>Istanbul, Turkey</td>\n",
       "      <td>201509</td>\n",
       "      <td>20 to 99 employees</td>\n",
       "    </tr>\n",
       "    <tr>\n",
       "      <th>1</th>\n",
       "      <td>34558</td>\n",
       "      <td>815</td>\n",
       "      <td>Istanbul, Turkey</td>\n",
       "      <td>201210</td>\n",
       "      <td>10,000 or more employees</td>\n",
       "    </tr>\n",
       "    <tr>\n",
       "      <th>2</th>\n",
       "      <td>63761</td>\n",
       "      <td>26354</td>\n",
       "      <td>NaN</td>\n",
       "      <td>200010</td>\n",
       "      <td>20 to 99 employees</td>\n",
       "    </tr>\n",
       "    <tr>\n",
       "      <th>3</th>\n",
       "      <td>10738</td>\n",
       "      <td>89</td>\n",
       "      <td>NaN</td>\n",
       "      <td>201610</td>\n",
       "      <td>100 to 499 employees</td>\n",
       "    </tr>\n",
       "    <tr>\n",
       "      <th>4</th>\n",
       "      <td>8711</td>\n",
       "      <td>3113</td>\n",
       "      <td>Istanbul, Turkey</td>\n",
       "      <td>201801</td>\n",
       "      <td>10,000 or more employees</td>\n",
       "    </tr>\n",
       "  </tbody>\n",
       "</table>\n",
       "</div>"
      ],
      "text/plain": [
       "   user_id  company_id          location  start_year_month  \\\n",
       "0    53442        2651  Istanbul, Turkey            201509   \n",
       "1    34558         815  Istanbul, Turkey            201210   \n",
       "2    63761       26354               NaN            200010   \n",
       "3    10738          89               NaN            201610   \n",
       "4     8711        3113  Istanbul, Turkey            201801   \n",
       "\n",
       "               company_size  \n",
       "0        20 to 99 employees  \n",
       "1  10,000 or more employees  \n",
       "2        20 to 99 employees  \n",
       "3      100 to 499 employees  \n",
       "4  10,000 or more employees  "
      ]
     },
     "execution_count": 372,
     "metadata": {},
     "output_type": "execute_result"
    }
   ],
   "source": [
    "work_experience.head()"
   ]
  },
  {
   "cell_type": "markdown",
   "id": "8383bd3d",
   "metadata": {},
   "source": [
    "#### <font color = \"red\">->> Dropping duplicate values</font>"
   ]
  },
  {
   "cell_type": "code",
   "execution_count": 373,
   "id": "5b2e2267",
   "metadata": {
    "scrolled": true
   },
   "outputs": [],
   "source": [
    "work_experience = work_experience.drop_duplicates([\"user_id\",\"company_id\"])"
   ]
  },
  {
   "cell_type": "markdown",
   "id": "7b873921",
   "metadata": {},
   "source": [
    "#### <font color = \"red\">->> Creating a temporary dataframe to be able to transfer, work experience datas which are grouped by user_id and taken by a specific year condition.</font>"
   ]
  },
  {
   "cell_type": "code",
   "execution_count": 374,
   "id": "36a2b351",
   "metadata": {},
   "outputs": [],
   "source": [
    "temp = pd.DataFrame()\n",
    "temp = pd.get_dummies(work_experience[\"company_size\"],drop_first=True)\n",
    "temp[\"data_2010_and_after\"] = work_experience[work_experience[\"start_year_month\"].gt(201012)].groupby(\"user_id\").size()\n",
    "temp[\"data_2015_and_after\"] = work_experience[work_experience[\"start_year_month\"].gt(201512)].groupby(\"user_id\").size()\n",
    "\n",
    "\n",
    "\n",
    "temp[\"first_Exp\"] = work_experience.groupby(\"user_id\")[\"company_id\"].nth(-1).astype(str)\n",
    "temp[\"second_exp\"] = work_experience.groupby(\"user_id\")[\"company_id\"].nth(-2).astype(str)\n",
    "\n",
    "\n",
    "\n",
    "temp[\"first_loc\"] = work_experience.groupby(\"user_id\")[\"location\"].nth(-1).astype(str)\n",
    "temp[\"second_loc\"] = work_experience.groupby(\"user_id\")[\"location\"].nth(-2).astype(str)\n",
    "\n",
    "\n",
    "temp[\"first_entrance\"] = work_experience.groupby(\"user_id\")[\"start_year_month\"].min()\n",
    "temp[\"last_entrance\"] = work_experience.groupby(\"user_id\")[\"start_year_month\"].max()\n",
    "\n"
   ]
  },
  {
   "cell_type": "code",
   "execution_count": 375,
   "id": "634c077f",
   "metadata": {},
   "outputs": [
    {
     "data": {
      "text/html": [
       "<div>\n",
       "<style scoped>\n",
       "    .dataframe tbody tr th:only-of-type {\n",
       "        vertical-align: middle;\n",
       "    }\n",
       "\n",
       "    .dataframe tbody tr th {\n",
       "        vertical-align: top;\n",
       "    }\n",
       "\n",
       "    .dataframe thead th {\n",
       "        text-align: right;\n",
       "    }\n",
       "</style>\n",
       "<table border=\"1\" class=\"dataframe\">\n",
       "  <thead>\n",
       "    <tr style=\"text-align: right;\">\n",
       "      <th></th>\n",
       "      <th>10 to 19 employees</th>\n",
       "      <th>10,000 or more employees</th>\n",
       "      <th>100 to 499 employees</th>\n",
       "      <th>20 to 99 employees</th>\n",
       "      <th>5,000 to 9,999 employees</th>\n",
       "      <th>500 to 999 employees</th>\n",
       "      <th>Fewer than 10 employees</th>\n",
       "      <th>data_2010_and_after</th>\n",
       "      <th>data_2015_and_after</th>\n",
       "      <th>first_Exp</th>\n",
       "      <th>second_exp</th>\n",
       "      <th>first_loc</th>\n",
       "      <th>second_loc</th>\n",
       "      <th>first_entrance</th>\n",
       "      <th>last_entrance</th>\n",
       "    </tr>\n",
       "  </thead>\n",
       "  <tbody>\n",
       "    <tr>\n",
       "      <th>0</th>\n",
       "      <td>0</td>\n",
       "      <td>0</td>\n",
       "      <td>0</td>\n",
       "      <td>1</td>\n",
       "      <td>0</td>\n",
       "      <td>0</td>\n",
       "      <td>0</td>\n",
       "      <td>NaN</td>\n",
       "      <td>NaN</td>\n",
       "      <td>0</td>\n",
       "      <td>NaN</td>\n",
       "      <td>Serbest Çalışmalar</td>\n",
       "      <td>NaN</td>\n",
       "      <td>200509.0</td>\n",
       "      <td>200509.0</td>\n",
       "    </tr>\n",
       "    <tr>\n",
       "      <th>1</th>\n",
       "      <td>0</td>\n",
       "      <td>1</td>\n",
       "      <td>0</td>\n",
       "      <td>0</td>\n",
       "      <td>0</td>\n",
       "      <td>0</td>\n",
       "      <td>0</td>\n",
       "      <td>NaN</td>\n",
       "      <td>NaN</td>\n",
       "      <td>NaN</td>\n",
       "      <td>NaN</td>\n",
       "      <td>NaN</td>\n",
       "      <td>NaN</td>\n",
       "      <td>NaN</td>\n",
       "      <td>NaN</td>\n",
       "    </tr>\n",
       "    <tr>\n",
       "      <th>2</th>\n",
       "      <td>0</td>\n",
       "      <td>0</td>\n",
       "      <td>0</td>\n",
       "      <td>1</td>\n",
       "      <td>0</td>\n",
       "      <td>0</td>\n",
       "      <td>0</td>\n",
       "      <td>3.0</td>\n",
       "      <td>3.0</td>\n",
       "      <td>10</td>\n",
       "      <td>7</td>\n",
       "      <td>Mersin, Turkey</td>\n",
       "      <td>Elazig, Turkey</td>\n",
       "      <td>201612.0</td>\n",
       "      <td>201806.0</td>\n",
       "    </tr>\n",
       "    <tr>\n",
       "      <th>3</th>\n",
       "      <td>0</td>\n",
       "      <td>0</td>\n",
       "      <td>1</td>\n",
       "      <td>0</td>\n",
       "      <td>0</td>\n",
       "      <td>0</td>\n",
       "      <td>0</td>\n",
       "      <td>NaN</td>\n",
       "      <td>NaN</td>\n",
       "      <td>NaN</td>\n",
       "      <td>NaN</td>\n",
       "      <td>NaN</td>\n",
       "      <td>NaN</td>\n",
       "      <td>NaN</td>\n",
       "      <td>NaN</td>\n",
       "    </tr>\n",
       "    <tr>\n",
       "      <th>4</th>\n",
       "      <td>0</td>\n",
       "      <td>1</td>\n",
       "      <td>0</td>\n",
       "      <td>0</td>\n",
       "      <td>0</td>\n",
       "      <td>0</td>\n",
       "      <td>0</td>\n",
       "      <td>NaN</td>\n",
       "      <td>NaN</td>\n",
       "      <td>NaN</td>\n",
       "      <td>NaN</td>\n",
       "      <td>NaN</td>\n",
       "      <td>NaN</td>\n",
       "      <td>NaN</td>\n",
       "      <td>NaN</td>\n",
       "    </tr>\n",
       "  </tbody>\n",
       "</table>\n",
       "</div>"
      ],
      "text/plain": [
       "   10 to 19 employees  10,000 or more employees  100 to 499 employees  \\\n",
       "0                   0                         0                     0   \n",
       "1                   0                         1                     0   \n",
       "2                   0                         0                     0   \n",
       "3                   0                         0                     1   \n",
       "4                   0                         1                     0   \n",
       "\n",
       "   20 to 99 employees  5,000 to 9,999 employees  500 to 999 employees  \\\n",
       "0                   1                         0                     0   \n",
       "1                   0                         0                     0   \n",
       "2                   1                         0                     0   \n",
       "3                   0                         0                     0   \n",
       "4                   0                         0                     0   \n",
       "\n",
       "   Fewer than 10 employees  data_2010_and_after  data_2015_and_after  \\\n",
       "0                        0                  NaN                  NaN   \n",
       "1                        0                  NaN                  NaN   \n",
       "2                        0                  3.0                  3.0   \n",
       "3                        0                  NaN                  NaN   \n",
       "4                        0                  NaN                  NaN   \n",
       "\n",
       "  first_Exp second_exp           first_loc      second_loc  first_entrance  \\\n",
       "0         0        NaN  Serbest Çalışmalar             NaN        200509.0   \n",
       "1       NaN        NaN                 NaN             NaN             NaN   \n",
       "2        10          7      Mersin, Turkey  Elazig, Turkey        201612.0   \n",
       "3       NaN        NaN                 NaN             NaN             NaN   \n",
       "4       NaN        NaN                 NaN             NaN             NaN   \n",
       "\n",
       "   last_entrance  \n",
       "0       200509.0  \n",
       "1            NaN  \n",
       "2       201806.0  \n",
       "3            NaN  \n",
       "4            NaN  "
      ]
     },
     "execution_count": 375,
     "metadata": {},
     "output_type": "execute_result"
    }
   ],
   "source": [
    "temp.head()"
   ]
  },
  {
   "cell_type": "markdown",
   "id": "df3635eb",
   "metadata": {},
   "source": [
    "#### <font color = \"red\">->>This part was processed for only visualisation side, to create a lineplot which can be seen below.  </font>"
   ]
  },
  {
   "cell_type": "code",
   "execution_count": 376,
   "id": "e7d312f0",
   "metadata": {},
   "outputs": [
    {
     "data": {
      "text/plain": [
       "0"
      ]
     },
     "execution_count": 376,
     "metadata": {},
     "output_type": "execute_result"
    }
   ],
   "source": [
    "work_experience[\"start_year_month\"].isna().sum()"
   ]
  },
  {
   "cell_type": "code",
   "execution_count": 377,
   "id": "7de751fa",
   "metadata": {
    "scrolled": true
   },
   "outputs": [],
   "source": [
    "work_experience[\"start_year_month\"] = work_experience[\"start_year_month\"].astype(dtype=\"str\")\n",
    "work_experience[\"start_year_month\"] = (work_experience[\"start_year_month\"].str[:4]).astype(\"int64\")"
   ]
  },
  {
   "cell_type": "code",
   "execution_count": 378,
   "id": "1ab2e071",
   "metadata": {
    "scrolled": true
   },
   "outputs": [
    {
     "data": {
      "text/plain": [
       "Int64Index([740, 518, 41, 26, 89, 88, 35, 1456, 305, 563], dtype='int64')"
      ]
     },
     "execution_count": 378,
     "metadata": {},
     "output_type": "execute_result"
    }
   ],
   "source": [
    "work_experience[\"company_id\"].value_counts()[:10].index"
   ]
  },
  {
   "cell_type": "markdown",
   "id": "b9439cb7",
   "metadata": {},
   "source": [
    "#### <font color = \"red\">->> Shows a average experience distribution to years. </font>"
   ]
  },
  {
   "cell_type": "code",
   "execution_count": 379,
   "id": "b890311a",
   "metadata": {},
   "outputs": [
    {
     "data": {
      "image/png": "[encoded data removed]",
      "text/plain": [
       "<Figure size 640x480 with 1 Axes>"
      ]
     },
     "metadata": {},
     "output_type": "display_data"
    }
   ],
   "source": [
    "sns.lineplot(x=work_experience[\"start_year_month\"],\n",
    "             y=work_experience[\"user_id\"].value_counts(),\n",
    "            estimator=\"mean\")\n",
    "plt.title(\"The Distribution of Experience as Average\")\n",
    "plt.xlabel(\"Years\",fontsize=15)\n",
    "plt.ylabel(\"Mean of Experience\",fontsize=15)\n",
    "plt.show();"
   ]
  },
  {
   "cell_type": "code",
   "execution_count": 380,
   "id": "fb44269a",
   "metadata": {},
   "outputs": [
    {
     "data": {
      "text/plain": [
       "740      1833\n",
       "518      1816\n",
       "41       1428\n",
       "26       1410\n",
       "89       1022\n",
       "         ... \n",
       "20576       1\n",
       "21240       1\n",
       "20466       1\n",
       "11272       1\n",
       "25076       1\n",
       "Name: company_id, Length: 18504, dtype: int64"
      ]
     },
     "execution_count": 380,
     "metadata": {},
     "output_type": "execute_result"
    }
   ],
   "source": [
    "work_experience[\"company_id\"].value_counts()"
   ]
  },
  {
   "cell_type": "code",
   "execution_count": 381,
   "id": "89c26f91",
   "metadata": {
    "scrolled": true
   },
   "outputs": [
    {
     "data": {
      "text/html": [
       "<div>\n",
       "<style scoped>\n",
       "    .dataframe tbody tr th:only-of-type {\n",
       "        vertical-align: middle;\n",
       "    }\n",
       "\n",
       "    .dataframe tbody tr th {\n",
       "        vertical-align: top;\n",
       "    }\n",
       "\n",
       "    .dataframe thead th {\n",
       "        text-align: right;\n",
       "    }\n",
       "</style>\n",
       "<table border=\"1\" class=\"dataframe\">\n",
       "  <thead>\n",
       "    <tr style=\"text-align: right;\">\n",
       "      <th></th>\n",
       "      <th>user_id</th>\n",
       "      <th>company_id</th>\n",
       "      <th>location</th>\n",
       "      <th>start_year_month</th>\n",
       "      <th>company_size</th>\n",
       "    </tr>\n",
       "  </thead>\n",
       "  <tbody>\n",
       "    <tr>\n",
       "      <th>0</th>\n",
       "      <td>53442</td>\n",
       "      <td>2651</td>\n",
       "      <td>Istanbul, Turkey</td>\n",
       "      <td>2015</td>\n",
       "      <td>20 to 99 employees</td>\n",
       "    </tr>\n",
       "    <tr>\n",
       "      <th>1</th>\n",
       "      <td>34558</td>\n",
       "      <td>815</td>\n",
       "      <td>Istanbul, Turkey</td>\n",
       "      <td>2012</td>\n",
       "      <td>10,000 or more employees</td>\n",
       "    </tr>\n",
       "    <tr>\n",
       "      <th>2</th>\n",
       "      <td>63761</td>\n",
       "      <td>26354</td>\n",
       "      <td>NaN</td>\n",
       "      <td>2000</td>\n",
       "      <td>20 to 99 employees</td>\n",
       "    </tr>\n",
       "    <tr>\n",
       "      <th>3</th>\n",
       "      <td>10738</td>\n",
       "      <td>89</td>\n",
       "      <td>NaN</td>\n",
       "      <td>2016</td>\n",
       "      <td>100 to 499 employees</td>\n",
       "    </tr>\n",
       "    <tr>\n",
       "      <th>4</th>\n",
       "      <td>8711</td>\n",
       "      <td>3113</td>\n",
       "      <td>Istanbul, Turkey</td>\n",
       "      <td>2018</td>\n",
       "      <td>10,000 or more employees</td>\n",
       "    </tr>\n",
       "  </tbody>\n",
       "</table>\n",
       "</div>"
      ],
      "text/plain": [
       "   user_id  company_id          location  start_year_month  \\\n",
       "0    53442        2651  Istanbul, Turkey              2015   \n",
       "1    34558         815  Istanbul, Turkey              2012   \n",
       "2    63761       26354               NaN              2000   \n",
       "3    10738          89               NaN              2016   \n",
       "4     8711        3113  Istanbul, Turkey              2018   \n",
       "\n",
       "               company_size  \n",
       "0        20 to 99 employees  \n",
       "1  10,000 or more employees  \n",
       "2        20 to 99 employees  \n",
       "3      100 to 499 employees  \n",
       "4  10,000 or more employees  "
      ]
     },
     "execution_count": 381,
     "metadata": {},
     "output_type": "execute_result"
    }
   ],
   "source": [
    "work_experience.head()"
   ]
  },
  {
   "cell_type": "markdown",
   "id": "77592757",
   "metadata": {},
   "source": [
    "#### <font color = \"red\">->> Dropping location and year columns because we don't use in machine learning side. </font>"
   ]
  },
  {
   "cell_type": "code",
   "execution_count": 382,
   "id": "fbe881fc",
   "metadata": {},
   "outputs": [],
   "source": [
    "work_experience.drop(columns=[\"location\",\"start_year_month\",\"company_id\"],inplace=True)"
   ]
  },
  {
   "cell_type": "markdown",
   "id": "743b60f6",
   "metadata": {},
   "source": [
    "#### <font color = \"red\">->> Grouping them with user_id, concatting with temp column which contains number of experience in a certain time period. </font>"
   ]
  },
  {
   "cell_type": "code",
   "execution_count": 383,
   "id": "b9f991be",
   "metadata": {
    "scrolled": true
   },
   "outputs": [],
   "source": [
    "work_experience = work_experience.groupby(by=\"user_id\").count()"
   ]
  },
  {
   "cell_type": "code",
   "execution_count": 384,
   "id": "9b233ead",
   "metadata": {},
   "outputs": [],
   "source": [
    "work_experience = pd.concat([work_experience,temp],axis=1)"
   ]
  },
  {
   "cell_type": "code",
   "execution_count": 385,
   "id": "78af21e0",
   "metadata": {
    "scrolled": false
   },
   "outputs": [
    {
     "data": {
      "text/html": [
       "<div>\n",
       "<style scoped>\n",
       "    .dataframe tbody tr th:only-of-type {\n",
       "        vertical-align: middle;\n",
       "    }\n",
       "\n",
       "    .dataframe tbody tr th {\n",
       "        vertical-align: top;\n",
       "    }\n",
       "\n",
       "    .dataframe thead th {\n",
       "        text-align: right;\n",
       "    }\n",
       "</style>\n",
       "<table border=\"1\" class=\"dataframe\">\n",
       "  <thead>\n",
       "    <tr style=\"text-align: right;\">\n",
       "      <th></th>\n",
       "      <th>company_size</th>\n",
       "      <th>10 to 19 employees</th>\n",
       "      <th>10,000 or more employees</th>\n",
       "      <th>100 to 499 employees</th>\n",
       "      <th>20 to 99 employees</th>\n",
       "      <th>5,000 to 9,999 employees</th>\n",
       "      <th>500 to 999 employees</th>\n",
       "      <th>Fewer than 10 employees</th>\n",
       "      <th>data_2010_and_after</th>\n",
       "      <th>data_2015_and_after</th>\n",
       "      <th>first_Exp</th>\n",
       "      <th>second_exp</th>\n",
       "      <th>first_loc</th>\n",
       "      <th>second_loc</th>\n",
       "      <th>first_entrance</th>\n",
       "      <th>last_entrance</th>\n",
       "    </tr>\n",
       "  </thead>\n",
       "  <tbody>\n",
       "    <tr>\n",
       "      <th>0</th>\n",
       "      <td>0.0</td>\n",
       "      <td>0.0</td>\n",
       "      <td>0.0</td>\n",
       "      <td>0.0</td>\n",
       "      <td>1.0</td>\n",
       "      <td>0.0</td>\n",
       "      <td>0.0</td>\n",
       "      <td>0.0</td>\n",
       "      <td>NaN</td>\n",
       "      <td>NaN</td>\n",
       "      <td>0</td>\n",
       "      <td>NaN</td>\n",
       "      <td>Serbest Çalışmalar</td>\n",
       "      <td>NaN</td>\n",
       "      <td>200509.0</td>\n",
       "      <td>200509.0</td>\n",
       "    </tr>\n",
       "    <tr>\n",
       "      <th>2</th>\n",
       "      <td>2.0</td>\n",
       "      <td>0.0</td>\n",
       "      <td>0.0</td>\n",
       "      <td>0.0</td>\n",
       "      <td>1.0</td>\n",
       "      <td>0.0</td>\n",
       "      <td>0.0</td>\n",
       "      <td>0.0</td>\n",
       "      <td>3.0</td>\n",
       "      <td>3.0</td>\n",
       "      <td>10</td>\n",
       "      <td>7</td>\n",
       "      <td>Mersin, Turkey</td>\n",
       "      <td>Elazig, Turkey</td>\n",
       "      <td>201612.0</td>\n",
       "      <td>201806.0</td>\n",
       "    </tr>\n",
       "    <tr>\n",
       "      <th>5</th>\n",
       "      <td>1.0</td>\n",
       "      <td>1.0</td>\n",
       "      <td>0.0</td>\n",
       "      <td>0.0</td>\n",
       "      <td>0.0</td>\n",
       "      <td>0.0</td>\n",
       "      <td>0.0</td>\n",
       "      <td>0.0</td>\n",
       "      <td>1.0</td>\n",
       "      <td>1.0</td>\n",
       "      <td>15</td>\n",
       "      <td>NaN</td>\n",
       "      <td>İstanbul</td>\n",
       "      <td>NaN</td>\n",
       "      <td>201706.0</td>\n",
       "      <td>201706.0</td>\n",
       "    </tr>\n",
       "    <tr>\n",
       "      <th>7</th>\n",
       "      <td>2.0</td>\n",
       "      <td>1.0</td>\n",
       "      <td>0.0</td>\n",
       "      <td>0.0</td>\n",
       "      <td>0.0</td>\n",
       "      <td>0.0</td>\n",
       "      <td>0.0</td>\n",
       "      <td>0.0</td>\n",
       "      <td>2.0</td>\n",
       "      <td>2.0</td>\n",
       "      <td>21</td>\n",
       "      <td>20</td>\n",
       "      <td>Macedonia</td>\n",
       "      <td>Elazığ</td>\n",
       "      <td>201708.0</td>\n",
       "      <td>201812.0</td>\n",
       "    </tr>\n",
       "    <tr>\n",
       "      <th>10</th>\n",
       "      <td>2.0</td>\n",
       "      <td>NaN</td>\n",
       "      <td>NaN</td>\n",
       "      <td>NaN</td>\n",
       "      <td>NaN</td>\n",
       "      <td>NaN</td>\n",
       "      <td>NaN</td>\n",
       "      <td>NaN</td>\n",
       "      <td>NaN</td>\n",
       "      <td>NaN</td>\n",
       "      <td>NaN</td>\n",
       "      <td>NaN</td>\n",
       "      <td>NaN</td>\n",
       "      <td>NaN</td>\n",
       "      <td>NaN</td>\n",
       "      <td>NaN</td>\n",
       "    </tr>\n",
       "    <tr>\n",
       "      <th>...</th>\n",
       "      <td>...</td>\n",
       "      <td>...</td>\n",
       "      <td>...</td>\n",
       "      <td>...</td>\n",
       "      <td>...</td>\n",
       "      <td>...</td>\n",
       "      <td>...</td>\n",
       "      <td>...</td>\n",
       "      <td>...</td>\n",
       "      <td>...</td>\n",
       "      <td>...</td>\n",
       "      <td>...</td>\n",
       "      <td>...</td>\n",
       "      <td>...</td>\n",
       "      <td>...</td>\n",
       "      <td>...</td>\n",
       "    </tr>\n",
       "    <tr>\n",
       "      <th>187008</th>\n",
       "      <td>NaN</td>\n",
       "      <td>0.0</td>\n",
       "      <td>0.0</td>\n",
       "      <td>0.0</td>\n",
       "      <td>0.0</td>\n",
       "      <td>0.0</td>\n",
       "      <td>0.0</td>\n",
       "      <td>0.0</td>\n",
       "      <td>NaN</td>\n",
       "      <td>NaN</td>\n",
       "      <td>NaN</td>\n",
       "      <td>NaN</td>\n",
       "      <td>NaN</td>\n",
       "      <td>NaN</td>\n",
       "      <td>NaN</td>\n",
       "      <td>NaN</td>\n",
       "    </tr>\n",
       "    <tr>\n",
       "      <th>187012</th>\n",
       "      <td>NaN</td>\n",
       "      <td>0.0</td>\n",
       "      <td>0.0</td>\n",
       "      <td>0.0</td>\n",
       "      <td>0.0</td>\n",
       "      <td>0.0</td>\n",
       "      <td>0.0</td>\n",
       "      <td>0.0</td>\n",
       "      <td>NaN</td>\n",
       "      <td>NaN</td>\n",
       "      <td>NaN</td>\n",
       "      <td>NaN</td>\n",
       "      <td>NaN</td>\n",
       "      <td>NaN</td>\n",
       "      <td>NaN</td>\n",
       "      <td>NaN</td>\n",
       "    </tr>\n",
       "    <tr>\n",
       "      <th>187015</th>\n",
       "      <td>NaN</td>\n",
       "      <td>0.0</td>\n",
       "      <td>0.0</td>\n",
       "      <td>0.0</td>\n",
       "      <td>0.0</td>\n",
       "      <td>0.0</td>\n",
       "      <td>0.0</td>\n",
       "      <td>0.0</td>\n",
       "      <td>NaN</td>\n",
       "      <td>NaN</td>\n",
       "      <td>NaN</td>\n",
       "      <td>NaN</td>\n",
       "      <td>NaN</td>\n",
       "      <td>NaN</td>\n",
       "      <td>NaN</td>\n",
       "      <td>NaN</td>\n",
       "    </tr>\n",
       "    <tr>\n",
       "      <th>187017</th>\n",
       "      <td>NaN</td>\n",
       "      <td>0.0</td>\n",
       "      <td>0.0</td>\n",
       "      <td>0.0</td>\n",
       "      <td>0.0</td>\n",
       "      <td>0.0</td>\n",
       "      <td>0.0</td>\n",
       "      <td>0.0</td>\n",
       "      <td>NaN</td>\n",
       "      <td>NaN</td>\n",
       "      <td>NaN</td>\n",
       "      <td>NaN</td>\n",
       "      <td>NaN</td>\n",
       "      <td>NaN</td>\n",
       "      <td>NaN</td>\n",
       "      <td>NaN</td>\n",
       "    </tr>\n",
       "    <tr>\n",
       "      <th>187018</th>\n",
       "      <td>NaN</td>\n",
       "      <td>0.0</td>\n",
       "      <td>0.0</td>\n",
       "      <td>0.0</td>\n",
       "      <td>0.0</td>\n",
       "      <td>0.0</td>\n",
       "      <td>0.0</td>\n",
       "      <td>0.0</td>\n",
       "      <td>NaN</td>\n",
       "      <td>NaN</td>\n",
       "      <td>NaN</td>\n",
       "      <td>NaN</td>\n",
       "      <td>NaN</td>\n",
       "      <td>NaN</td>\n",
       "      <td>NaN</td>\n",
       "      <td>NaN</td>\n",
       "    </tr>\n",
       "  </tbody>\n",
       "</table>\n",
       "<p>147556 rows × 16 columns</p>\n",
       "</div>"
      ],
      "text/plain": [
       "        company_size  10 to 19 employees  10,000 or more employees  \\\n",
       "0                0.0                 0.0                       0.0   \n",
       "2                2.0                 0.0                       0.0   \n",
       "5                1.0                 1.0                       0.0   \n",
       "7                2.0                 1.0                       0.0   \n",
       "10               2.0                 NaN                       NaN   \n",
       "...              ...                 ...                       ...   \n",
       "187008           NaN                 0.0                       0.0   \n",
       "187012           NaN                 0.0                       0.0   \n",
       "187015           NaN                 0.0                       0.0   \n",
       "187017           NaN                 0.0                       0.0   \n",
       "187018           NaN                 0.0                       0.0   \n",
       "\n",
       "        100 to 499 employees  20 to 99 employees  5,000 to 9,999 employees  \\\n",
       "0                        0.0                 1.0                       0.0   \n",
       "2                        0.0                 1.0                       0.0   \n",
       "5                        0.0                 0.0                       0.0   \n",
       "7                        0.0                 0.0                       0.0   \n",
       "10                       NaN                 NaN                       NaN   \n",
       "...                      ...                 ...                       ...   \n",
       "187008                   0.0                 0.0                       0.0   \n",
       "187012                   0.0                 0.0                       0.0   \n",
       "187015                   0.0                 0.0                       0.0   \n",
       "187017                   0.0                 0.0                       0.0   \n",
       "187018                   0.0                 0.0                       0.0   \n",
       "\n",
       "        500 to 999 employees  Fewer than 10 employees  data_2010_and_after  \\\n",
       "0                        0.0                      0.0                  NaN   \n",
       "2                        0.0                      0.0                  3.0   \n",
       "5                        0.0                      0.0                  1.0   \n",
       "7                        0.0                      0.0                  2.0   \n",
       "10                       NaN                      NaN                  NaN   \n",
       "...                      ...                      ...                  ...   \n",
       "187008                   0.0                      0.0                  NaN   \n",
       "187012                   0.0                      0.0                  NaN   \n",
       "187015                   0.0                      0.0                  NaN   \n",
       "187017                   0.0                      0.0                  NaN   \n",
       "187018                   0.0                      0.0                  NaN   \n",
       "\n",
       "        data_2015_and_after first_Exp second_exp           first_loc  \\\n",
       "0                       NaN         0        NaN  Serbest Çalışmalar   \n",
       "2                       3.0        10          7      Mersin, Turkey   \n",
       "5                       1.0        15        NaN            İstanbul   \n",
       "7                       2.0        21         20           Macedonia   \n",
       "10                      NaN       NaN        NaN                 NaN   \n",
       "...                     ...       ...        ...                 ...   \n",
       "187008                  NaN       NaN        NaN                 NaN   \n",
       "187012                  NaN       NaN        NaN                 NaN   \n",
       "187015                  NaN       NaN        NaN                 NaN   \n",
       "187017                  NaN       NaN        NaN                 NaN   \n",
       "187018                  NaN       NaN        NaN                 NaN   \n",
       "\n",
       "            second_loc  first_entrance  last_entrance  \n",
       "0                  NaN        200509.0       200509.0  \n",
       "2       Elazig, Turkey        201612.0       201806.0  \n",
       "5                  NaN        201706.0       201706.0  \n",
       "7               Elazığ        201708.0       201812.0  \n",
       "10                 NaN             NaN            NaN  \n",
       "...                ...             ...            ...  \n",
       "187008             NaN             NaN            NaN  \n",
       "187012             NaN             NaN            NaN  \n",
       "187015             NaN             NaN            NaN  \n",
       "187017             NaN             NaN            NaN  \n",
       "187018             NaN             NaN            NaN  \n",
       "\n",
       "[147556 rows x 16 columns]"
      ]
     },
     "execution_count": 385,
     "metadata": {},
     "output_type": "execute_result"
    }
   ],
   "source": [
    "work_experience"
   ]
  },
  {
   "cell_type": "code",
   "execution_count": 386,
   "id": "3469ce13",
   "metadata": {},
   "outputs": [
    {
     "data": {
      "text/plain": [
       "(147556, 16)"
      ]
     },
     "execution_count": 386,
     "metadata": {},
     "output_type": "execute_result"
    }
   ],
   "source": [
    "work_experience.shape"
   ]
  },
  {
   "cell_type": "code",
   "execution_count": 387,
   "id": "26186c11",
   "metadata": {
    "scrolled": false
   },
   "outputs": [
    {
     "data": {
      "text/plain": [
       "company_size                 94554\n",
       "10 to 19 employees           10576\n",
       "10,000 or more employees     10576\n",
       "100 to 499 employees         10576\n",
       "20 to 99 employees           10576\n",
       "5,000 to 9,999 employees     10576\n",
       "500 to 999 employees         10576\n",
       "Fewer than 10 employees      10576\n",
       "data_2010_and_after         107939\n",
       "data_2015_and_after         116983\n",
       "first_Exp                   105130\n",
       "second_exp                  117889\n",
       "first_loc                   105130\n",
       "second_loc                  117889\n",
       "first_entrance              105130\n",
       "last_entrance               105130\n",
       "dtype: int64"
      ]
     },
     "execution_count": 387,
     "metadata": {},
     "output_type": "execute_result"
    }
   ],
   "source": [
    "work_experience.isna().sum()"
   ]
  },
  {
   "cell_type": "code",
   "execution_count": 388,
   "id": "d0811c18",
   "metadata": {},
   "outputs": [
    {
     "data": {
      "text/plain": [
       "nan                                                                               14533\n",
       "Istanbul, Turkey                                                                   9406\n",
       "Ankara, Turkey                                                                     3137\n",
       "İstanbul, Türkiye                                                                  2925\n",
       "Izmir, Turkey                                                                      1097\n",
       "                                                                                  ...  \n",
       "Pune Maharashtra India                                                                1\n",
       "Kavacık Mahallesi Uzka İş Merkezi Ertürk Sokak No:11 K:4 34810 Beykoz-İSTANBUL        1\n",
       "Blois, Centre-Val de Loire, France                                                    1\n",
       "Kemalpaşa / İzmir                                                                     1\n",
       "Lyon Area, France                                                                     1\n",
       "Name: first_loc, Length: 2441, dtype: int64"
      ]
     },
     "execution_count": 388,
     "metadata": {},
     "output_type": "execute_result"
    }
   ],
   "source": [
    "work_experience[\"first_loc\"].value_counts()"
   ]
  },
  {
   "cell_type": "code",
   "execution_count": 389,
   "id": "455ef0f3",
   "metadata": {},
   "outputs": [
    {
     "data": {
      "text/html": [
       "<div>\n",
       "<style scoped>\n",
       "    .dataframe tbody tr th:only-of-type {\n",
       "        vertical-align: middle;\n",
       "    }\n",
       "\n",
       "    .dataframe tbody tr th {\n",
       "        vertical-align: top;\n",
       "    }\n",
       "\n",
       "    .dataframe thead th {\n",
       "        text-align: right;\n",
       "    }\n",
       "</style>\n",
       "<table border=\"1\" class=\"dataframe\">\n",
       "  <thead>\n",
       "    <tr style=\"text-align: right;\">\n",
       "      <th></th>\n",
       "      <th>count</th>\n",
       "      <th>unique</th>\n",
       "      <th>top</th>\n",
       "      <th>freq</th>\n",
       "    </tr>\n",
       "  </thead>\n",
       "  <tbody>\n",
       "    <tr>\n",
       "      <th>first_Exp</th>\n",
       "      <td>42426</td>\n",
       "      <td>10944</td>\n",
       "      <td>518</td>\n",
       "      <td>588</td>\n",
       "    </tr>\n",
       "    <tr>\n",
       "      <th>second_exp</th>\n",
       "      <td>29667</td>\n",
       "      <td>8652</td>\n",
       "      <td>518</td>\n",
       "      <td>448</td>\n",
       "    </tr>\n",
       "    <tr>\n",
       "      <th>first_loc</th>\n",
       "      <td>42426</td>\n",
       "      <td>2441</td>\n",
       "      <td>nan</td>\n",
       "      <td>14533</td>\n",
       "    </tr>\n",
       "    <tr>\n",
       "      <th>second_loc</th>\n",
       "      <td>29667</td>\n",
       "      <td>1937</td>\n",
       "      <td>nan</td>\n",
       "      <td>9831</td>\n",
       "    </tr>\n",
       "  </tbody>\n",
       "</table>\n",
       "</div>"
      ],
      "text/plain": [
       "            count unique  top   freq\n",
       "first_Exp   42426  10944  518    588\n",
       "second_exp  29667   8652  518    448\n",
       "first_loc   42426   2441  nan  14533\n",
       "second_loc  29667   1937  nan   9831"
      ]
     },
     "execution_count": 389,
     "metadata": {},
     "output_type": "execute_result"
    }
   ],
   "source": [
    "work_experience.describe(include=\"object\").T"
   ]
  },
  {
   "cell_type": "code",
   "execution_count": 390,
   "id": "41f9ba04",
   "metadata": {
    "scrolled": true
   },
   "outputs": [
    {
     "data": {
      "text/html": [
       "<div>\n",
       "<style scoped>\n",
       "    .dataframe tbody tr th:only-of-type {\n",
       "        vertical-align: middle;\n",
       "    }\n",
       "\n",
       "    .dataframe tbody tr th {\n",
       "        vertical-align: top;\n",
       "    }\n",
       "\n",
       "    .dataframe thead th {\n",
       "        text-align: right;\n",
       "    }\n",
       "</style>\n",
       "<table border=\"1\" class=\"dataframe\">\n",
       "  <thead>\n",
       "    <tr style=\"text-align: right;\">\n",
       "      <th></th>\n",
       "      <th>count</th>\n",
       "      <th>mean</th>\n",
       "      <th>std</th>\n",
       "      <th>min</th>\n",
       "      <th>25%</th>\n",
       "      <th>50%</th>\n",
       "      <th>75%</th>\n",
       "      <th>max</th>\n",
       "    </tr>\n",
       "  </thead>\n",
       "  <tbody>\n",
       "    <tr>\n",
       "      <th>company_size</th>\n",
       "      <td>53002.0</td>\n",
       "      <td>1.075167</td>\n",
       "      <td>1.022441</td>\n",
       "      <td>0.0</td>\n",
       "      <td>0.0</td>\n",
       "      <td>1.0</td>\n",
       "      <td>2.0</td>\n",
       "      <td>12.0</td>\n",
       "    </tr>\n",
       "    <tr>\n",
       "      <th>10 to 19 employees</th>\n",
       "      <td>136980.0</td>\n",
       "      <td>0.046700</td>\n",
       "      <td>0.210997</td>\n",
       "      <td>0.0</td>\n",
       "      <td>0.0</td>\n",
       "      <td>0.0</td>\n",
       "      <td>0.0</td>\n",
       "      <td>1.0</td>\n",
       "    </tr>\n",
       "    <tr>\n",
       "      <th>10,000 or more employees</th>\n",
       "      <td>136980.0</td>\n",
       "      <td>0.056592</td>\n",
       "      <td>0.231063</td>\n",
       "      <td>0.0</td>\n",
       "      <td>0.0</td>\n",
       "      <td>0.0</td>\n",
       "      <td>0.0</td>\n",
       "      <td>1.0</td>\n",
       "    </tr>\n",
       "    <tr>\n",
       "      <th>100 to 499 employees</th>\n",
       "      <td>136980.0</td>\n",
       "      <td>0.081019</td>\n",
       "      <td>0.272865</td>\n",
       "      <td>0.0</td>\n",
       "      <td>0.0</td>\n",
       "      <td>0.0</td>\n",
       "      <td>0.0</td>\n",
       "      <td>1.0</td>\n",
       "    </tr>\n",
       "    <tr>\n",
       "      <th>20 to 99 employees</th>\n",
       "      <td>136980.0</td>\n",
       "      <td>0.099007</td>\n",
       "      <td>0.298673</td>\n",
       "      <td>0.0</td>\n",
       "      <td>0.0</td>\n",
       "      <td>0.0</td>\n",
       "      <td>0.0</td>\n",
       "      <td>1.0</td>\n",
       "    </tr>\n",
       "    <tr>\n",
       "      <th>5,000 to 9,999 employees</th>\n",
       "      <td>136980.0</td>\n",
       "      <td>0.017784</td>\n",
       "      <td>0.132165</td>\n",
       "      <td>0.0</td>\n",
       "      <td>0.0</td>\n",
       "      <td>0.0</td>\n",
       "      <td>0.0</td>\n",
       "      <td>1.0</td>\n",
       "    </tr>\n",
       "    <tr>\n",
       "      <th>500 to 999 employees</th>\n",
       "      <td>136980.0</td>\n",
       "      <td>0.027084</td>\n",
       "      <td>0.162330</td>\n",
       "      <td>0.0</td>\n",
       "      <td>0.0</td>\n",
       "      <td>0.0</td>\n",
       "      <td>0.0</td>\n",
       "      <td>1.0</td>\n",
       "    </tr>\n",
       "    <tr>\n",
       "      <th>Fewer than 10 employees</th>\n",
       "      <td>136980.0</td>\n",
       "      <td>0.043459</td>\n",
       "      <td>0.203889</td>\n",
       "      <td>0.0</td>\n",
       "      <td>0.0</td>\n",
       "      <td>0.0</td>\n",
       "      <td>0.0</td>\n",
       "      <td>1.0</td>\n",
       "    </tr>\n",
       "    <tr>\n",
       "      <th>data_2010_and_after</th>\n",
       "      <td>39617.0</td>\n",
       "      <td>2.280233</td>\n",
       "      <td>1.370236</td>\n",
       "      <td>1.0</td>\n",
       "      <td>1.0</td>\n",
       "      <td>2.0</td>\n",
       "      <td>3.0</td>\n",
       "      <td>17.0</td>\n",
       "    </tr>\n",
       "    <tr>\n",
       "      <th>data_2015_and_after</th>\n",
       "      <td>30573.0</td>\n",
       "      <td>1.621104</td>\n",
       "      <td>0.880147</td>\n",
       "      <td>1.0</td>\n",
       "      <td>1.0</td>\n",
       "      <td>1.0</td>\n",
       "      <td>2.0</td>\n",
       "      <td>13.0</td>\n",
       "    </tr>\n",
       "    <tr>\n",
       "      <th>first_entrance</th>\n",
       "      <td>42426.0</td>\n",
       "      <td>201251.030477</td>\n",
       "      <td>499.636083</td>\n",
       "      <td>196103.0</td>\n",
       "      <td>201006.0</td>\n",
       "      <td>201402.0</td>\n",
       "      <td>201609.0</td>\n",
       "      <td>201812.0</td>\n",
       "    </tr>\n",
       "    <tr>\n",
       "      <th>last_entrance</th>\n",
       "      <td>42426.0</td>\n",
       "      <td>201593.783435</td>\n",
       "      <td>326.880809</td>\n",
       "      <td>196801.0</td>\n",
       "      <td>201508.0</td>\n",
       "      <td>201707.0</td>\n",
       "      <td>201806.0</td>\n",
       "      <td>201812.0</td>\n",
       "    </tr>\n",
       "  </tbody>\n",
       "</table>\n",
       "</div>"
      ],
      "text/plain": [
       "                             count           mean         std       min  \\\n",
       "company_size               53002.0       1.075167    1.022441       0.0   \n",
       "10 to 19 employees        136980.0       0.046700    0.210997       0.0   \n",
       "10,000 or more employees  136980.0       0.056592    0.231063       0.0   \n",
       "100 to 499 employees      136980.0       0.081019    0.272865       0.0   \n",
       "20 to 99 employees        136980.0       0.099007    0.298673       0.0   \n",
       "5,000 to 9,999 employees  136980.0       0.017784    0.132165       0.0   \n",
       "500 to 999 employees      136980.0       0.027084    0.162330       0.0   \n",
       "Fewer than 10 employees   136980.0       0.043459    0.203889       0.0   \n",
       "data_2010_and_after        39617.0       2.280233    1.370236       1.0   \n",
       "data_2015_and_after        30573.0       1.621104    0.880147       1.0   \n",
       "first_entrance             42426.0  201251.030477  499.636083  196103.0   \n",
       "last_entrance              42426.0  201593.783435  326.880809  196801.0   \n",
       "\n",
       "                               25%       50%       75%       max  \n",
       "company_size                   0.0       1.0       2.0      12.0  \n",
       "10 to 19 employees             0.0       0.0       0.0       1.0  \n",
       "10,000 or more employees       0.0       0.0       0.0       1.0  \n",
       "100 to 499 employees           0.0       0.0       0.0       1.0  \n",
       "20 to 99 employees             0.0       0.0       0.0       1.0  \n",
       "5,000 to 9,999 employees       0.0       0.0       0.0       1.0  \n",
       "500 to 999 employees           0.0       0.0       0.0       1.0  \n",
       "Fewer than 10 employees        0.0       0.0       0.0       1.0  \n",
       "data_2010_and_after            1.0       2.0       3.0      17.0  \n",
       "data_2015_and_after            1.0       1.0       2.0      13.0  \n",
       "first_entrance            201006.0  201402.0  201609.0  201812.0  \n",
       "last_entrance             201508.0  201707.0  201806.0  201812.0  "
      ]
     },
     "execution_count": 390,
     "metadata": {},
     "output_type": "execute_result"
    }
   ],
   "source": [
    "work_experience.describe().T"
   ]
  },
  {
   "cell_type": "code",
   "execution_count": 391,
   "id": "30b2084e",
   "metadata": {},
   "outputs": [],
   "source": [
    "work_experience[\"data_2010_and_after\"]= work_experience[\"data_2010_and_after\"].fillna(work_experience[\"data_2010_and_after\"].mean())\n",
    "work_experience[\"data_2015_and_after\"]= work_experience[\"data_2015_and_after\"].fillna(work_experience[\"data_2015_and_after\"].median())\n",
    "\n",
    "frequent_value = int(work_experience[\"first_Exp\"].fillna(work_experience[\"first_Exp\"]).describe()[2])\n",
    "work_experience[\"first_Exp\"]= work_experience[\"first_Exp\"].fillna(frequent_value)\n",
    "work_experience[\"second_exp\"]= work_experience[\"second_exp\"].fillna(frequent_value)\n",
    "\n",
    "\n",
    "work_experience[\"first_loc\"] = work_experience[\"first_loc\"].replace(\"nan\",\"Istanbul, Turkey\")\n",
    "work_experience[\"first_loc\"]= work_experience[\"first_loc\"].fillna(\"Istanbul, Turkey\")\n",
    "\n",
    "work_experience[\"second_loc\"] = work_experience[\"second_loc\"].replace(\"nan\",\"Istanbul, Turkey\")\n",
    "work_experience[\"second_loc\"]= work_experience[\"first_loc\"].fillna(\"Istanbul, Turkey\")\n"
   ]
  },
  {
   "cell_type": "code",
   "execution_count": 392,
   "id": "b2fceee2",
   "metadata": {
    "scrolled": true
   },
   "outputs": [
    {
     "data": {
      "text/plain": [
       "Istanbul, Turkey                                                                  129069\n",
       "Ankara, Turkey                                                                      3137\n",
       "İstanbul, Türkiye                                                                   2925\n",
       "Izmir, Turkey                                                                       1097\n",
       "Ankara, Türkiye                                                                      988\n",
       "                                                                                   ...  \n",
       "Pune Maharashtra India                                                                 1\n",
       "Kavacık Mahallesi Uzka İş Merkezi Ertürk Sokak No:11 K:4 34810 Beykoz-İSTANBUL         1\n",
       "Blois, Centre-Val de Loire, France                                                     1\n",
       "Kemalpaşa / İzmir                                                                      1\n",
       "Lyon Area, France                                                                      1\n",
       "Name: first_loc, Length: 2440, dtype: int64"
      ]
     },
     "execution_count": 392,
     "metadata": {},
     "output_type": "execute_result"
    }
   ],
   "source": [
    "work_experience[\"first_loc\"].value_counts()"
   ]
  },
  {
   "cell_type": "markdown",
   "id": "8457efd0",
   "metadata": {},
   "source": [
    "## <font color = \"purple\">All Datasets </font>"
   ]
  },
  {
   "cell_type": "code",
   "execution_count": 393,
   "id": "f2d7cdfd",
   "metadata": {
    "scrolled": true
   },
   "outputs": [
    {
     "data": {
      "text/html": [
       "<div>\n",
       "<style scoped>\n",
       "    .dataframe tbody tr th:only-of-type {\n",
       "        vertical-align: middle;\n",
       "    }\n",
       "\n",
       "    .dataframe tbody tr th {\n",
       "        vertical-align: top;\n",
       "    }\n",
       "\n",
       "    .dataframe thead th {\n",
       "        text-align: right;\n",
       "    }\n",
       "</style>\n",
       "<table border=\"1\" class=\"dataframe\">\n",
       "  <thead>\n",
       "    <tr style=\"text-align: right;\">\n",
       "      <th></th>\n",
       "      <th>company_size</th>\n",
       "      <th>10 to 19 employees</th>\n",
       "      <th>10,000 or more employees</th>\n",
       "      <th>100 to 499 employees</th>\n",
       "      <th>20 to 99 employees</th>\n",
       "      <th>5,000 to 9,999 employees</th>\n",
       "      <th>500 to 999 employees</th>\n",
       "      <th>Fewer than 10 employees</th>\n",
       "      <th>data_2010_and_after</th>\n",
       "      <th>data_2015_and_after</th>\n",
       "      <th>first_Exp</th>\n",
       "      <th>second_exp</th>\n",
       "      <th>first_loc</th>\n",
       "      <th>second_loc</th>\n",
       "      <th>first_entrance</th>\n",
       "      <th>last_entrance</th>\n",
       "    </tr>\n",
       "  </thead>\n",
       "  <tbody>\n",
       "    <tr>\n",
       "      <th>0</th>\n",
       "      <td>0.0</td>\n",
       "      <td>0.0</td>\n",
       "      <td>0.0</td>\n",
       "      <td>0.0</td>\n",
       "      <td>1.0</td>\n",
       "      <td>0.0</td>\n",
       "      <td>0.0</td>\n",
       "      <td>0.0</td>\n",
       "      <td>2.280233</td>\n",
       "      <td>1.0</td>\n",
       "      <td>0</td>\n",
       "      <td>518</td>\n",
       "      <td>Serbest Çalışmalar</td>\n",
       "      <td>Serbest Çalışmalar</td>\n",
       "      <td>200509.0</td>\n",
       "      <td>200509.0</td>\n",
       "    </tr>\n",
       "  </tbody>\n",
       "</table>\n",
       "</div>"
      ],
      "text/plain": [
       "   company_size  10 to 19 employees  10,000 or more employees  \\\n",
       "0           0.0                 0.0                       0.0   \n",
       "\n",
       "   100 to 499 employees  20 to 99 employees  5,000 to 9,999 employees  \\\n",
       "0                   0.0                 1.0                       0.0   \n",
       "\n",
       "   500 to 999 employees  Fewer than 10 employees  data_2010_and_after  \\\n",
       "0                   0.0                      0.0             2.280233   \n",
       "\n",
       "   data_2015_and_after first_Exp second_exp           first_loc  \\\n",
       "0                  1.0         0        518  Serbest Çalışmalar   \n",
       "\n",
       "           second_loc  first_entrance  last_entrance  \n",
       "0  Serbest Çalışmalar        200509.0       200509.0  "
      ]
     },
     "execution_count": 393,
     "metadata": {},
     "output_type": "execute_result"
    }
   ],
   "source": [
    "work_experience.head(1)"
   ]
  },
  {
   "cell_type": "code",
   "execution_count": 394,
   "id": "a55516be",
   "metadata": {},
   "outputs": [
    {
     "name": "stdout",
     "output_type": "stream",
     "text": [
      "<class 'pandas.core.frame.DataFrame'>\n",
      "Int64Index: 147556 entries, 0 to 187018\n",
      "Data columns (total 16 columns):\n",
      " #   Column                    Non-Null Count   Dtype  \n",
      "---  ------                    --------------   -----  \n",
      " 0   company_size              53002 non-null   float64\n",
      " 1   10 to 19 employees        136980 non-null  float64\n",
      " 2   10,000 or more employees  136980 non-null  float64\n",
      " 3   100 to 499 employees      136980 non-null  float64\n",
      " 4   20 to 99 employees        136980 non-null  float64\n",
      " 5   5,000 to 9,999 employees  136980 non-null  float64\n",
      " 6   500 to 999 employees      136980 non-null  float64\n",
      " 7   Fewer than 10 employees   136980 non-null  float64\n",
      " 8   data_2010_and_after       147556 non-null  float64\n",
      " 9   data_2015_and_after       147556 non-null  float64\n",
      " 10  first_Exp                 147556 non-null  object \n",
      " 11  second_exp                147556 non-null  object \n",
      " 12  first_loc                 147556 non-null  object \n",
      " 13  second_loc                147556 non-null  object \n",
      " 14  first_entrance            42426 non-null   float64\n",
      " 15  last_entrance             42426 non-null   float64\n",
      "dtypes: float64(12), object(4)\n",
      "memory usage: 19.1+ MB\n"
     ]
    }
   ],
   "source": [
    "work_experience.info()"
   ]
  },
  {
   "cell_type": "code",
   "execution_count": 395,
   "id": "faec7348",
   "metadata": {},
   "outputs": [
    {
     "data": {
      "text/html": [
       "<div>\n",
       "<style scoped>\n",
       "    .dataframe tbody tr th:only-of-type {\n",
       "        vertical-align: middle;\n",
       "    }\n",
       "\n",
       "    .dataframe tbody tr th {\n",
       "        vertical-align: top;\n",
       "    }\n",
       "\n",
       "    .dataframe thead th {\n",
       "        text-align: right;\n",
       "    }\n",
       "</style>\n",
       "<table border=\"1\" class=\"dataframe\">\n",
       "  <thead>\n",
       "    <tr style=\"text-align: right;\">\n",
       "      <th></th>\n",
       "      <th>degree_Bachelors</th>\n",
       "      <th>degree_Doctorate</th>\n",
       "      <th>degree_HighSchool</th>\n",
       "      <th>degree_Masters</th>\n",
       "    </tr>\n",
       "    <tr>\n",
       "      <th>user_id</th>\n",
       "      <th></th>\n",
       "      <th></th>\n",
       "      <th></th>\n",
       "      <th></th>\n",
       "    </tr>\n",
       "  </thead>\n",
       "  <tbody>\n",
       "    <tr>\n",
       "      <th>1</th>\n",
       "      <td>1</td>\n",
       "      <td>0</td>\n",
       "      <td>0</td>\n",
       "      <td>0</td>\n",
       "    </tr>\n",
       "  </tbody>\n",
       "</table>\n",
       "</div>"
      ],
      "text/plain": [
       "        degree_Bachelors degree_Doctorate degree_HighSchool degree_Masters\n",
       "user_id                                                                   \n",
       "1                      1                0                 0              0"
      ]
     },
     "execution_count": 395,
     "metadata": {},
     "output_type": "execute_result"
    }
   ],
   "source": [
    "education.head(1)"
   ]
  },
  {
   "cell_type": "code",
   "execution_count": 396,
   "id": "2b71efbe",
   "metadata": {},
   "outputs": [
    {
     "data": {
      "text/html": [
       "<div>\n",
       "<style scoped>\n",
       "    .dataframe tbody tr th:only-of-type {\n",
       "        vertical-align: middle;\n",
       "    }\n",
       "\n",
       "    .dataframe tbody tr th {\n",
       "        vertical-align: top;\n",
       "    }\n",
       "\n",
       "    .dataframe thead th {\n",
       "        text-align: right;\n",
       "    }\n",
       "</style>\n",
       "<table border=\"1\" class=\"dataframe\">\n",
       "  <thead>\n",
       "    <tr style=\"text-align: right;\">\n",
       "      <th>language</th>\n",
       "      <th>Arabic</th>\n",
       "      <th>English</th>\n",
       "      <th>French</th>\n",
       "      <th>German</th>\n",
       "      <th>Italian</th>\n",
       "      <th>Japanese</th>\n",
       "      <th>Russian</th>\n",
       "      <th>Spanish</th>\n",
       "      <th>Turkish</th>\n",
       "    </tr>\n",
       "    <tr>\n",
       "      <th>user_id</th>\n",
       "      <th></th>\n",
       "      <th></th>\n",
       "      <th></th>\n",
       "      <th></th>\n",
       "      <th></th>\n",
       "      <th></th>\n",
       "      <th></th>\n",
       "      <th></th>\n",
       "      <th></th>\n",
       "    </tr>\n",
       "  </thead>\n",
       "  <tbody>\n",
       "    <tr>\n",
       "      <th>8</th>\n",
       "      <td>0.0</td>\n",
       "      <td>1.0</td>\n",
       "      <td>0.0</td>\n",
       "      <td>0.0</td>\n",
       "      <td>0.0</td>\n",
       "      <td>0.0</td>\n",
       "      <td>0.0</td>\n",
       "      <td>0.0</td>\n",
       "      <td>3.0</td>\n",
       "    </tr>\n",
       "  </tbody>\n",
       "</table>\n",
       "</div>"
      ],
      "text/plain": [
       "language Arabic English French German Italian Japanese Russian Spanish Turkish\n",
       "user_id                                                                       \n",
       "8           0.0     1.0    0.0    0.0     0.0      0.0     0.0     0.0     3.0"
      ]
     },
     "execution_count": 396,
     "metadata": {},
     "output_type": "execute_result"
    }
   ],
   "source": [
    "languages.head(1)"
   ]
  },
  {
   "cell_type": "code",
   "execution_count": 397,
   "id": "5b82abcf",
   "metadata": {},
   "outputs": [
    {
     "data": {
      "text/html": [
       "<div>\n",
       "<style scoped>\n",
       "    .dataframe tbody tr th:only-of-type {\n",
       "        vertical-align: middle;\n",
       "    }\n",
       "\n",
       "    .dataframe tbody tr th {\n",
       "        vertical-align: top;\n",
       "    }\n",
       "\n",
       "    .dataframe thead th {\n",
       "        text-align: right;\n",
       "    }\n",
       "</style>\n",
       "<table border=\"1\" class=\"dataframe\">\n",
       "  <thead>\n",
       "    <tr style=\"text-align: right;\">\n",
       "      <th></th>\n",
       "      <th>skill_AJAX</th>\n",
       "      <th>skill_ASP.NET</th>\n",
       "      <th>skill_ASP.NET MVC</th>\n",
       "      <th>skill_Agile Methodologies</th>\n",
       "      <th>skill_Android</th>\n",
       "      <th>skill_Araştırma</th>\n",
       "      <th>skill_AutoCAD</th>\n",
       "      <th>skill_Bootstrap</th>\n",
       "      <th>skill_C</th>\n",
       "      <th>skill_C#</th>\n",
       "      <th>...</th>\n",
       "      <th>skill_Spring Framework</th>\n",
       "      <th>skill_T-SQL</th>\n",
       "      <th>skill_Visual Studio</th>\n",
       "      <th>skill_Web Development</th>\n",
       "      <th>skill_Web Geliştirme</th>\n",
       "      <th>skill_Web Services</th>\n",
       "      <th>skill_XML</th>\n",
       "      <th>skill_Yazılım Geliştirme</th>\n",
       "      <th>skill_jQuery</th>\n",
       "      <th>skill_İngilizce</th>\n",
       "    </tr>\n",
       "    <tr>\n",
       "      <th>user_id</th>\n",
       "      <th></th>\n",
       "      <th></th>\n",
       "      <th></th>\n",
       "      <th></th>\n",
       "      <th></th>\n",
       "      <th></th>\n",
       "      <th></th>\n",
       "      <th></th>\n",
       "      <th></th>\n",
       "      <th></th>\n",
       "      <th></th>\n",
       "      <th></th>\n",
       "      <th></th>\n",
       "      <th></th>\n",
       "      <th></th>\n",
       "      <th></th>\n",
       "      <th></th>\n",
       "      <th></th>\n",
       "      <th></th>\n",
       "      <th></th>\n",
       "      <th></th>\n",
       "    </tr>\n",
       "  </thead>\n",
       "  <tbody>\n",
       "    <tr>\n",
       "      <th>1</th>\n",
       "      <td>0</td>\n",
       "      <td>0</td>\n",
       "      <td>0</td>\n",
       "      <td>0</td>\n",
       "      <td>0</td>\n",
       "      <td>0</td>\n",
       "      <td>0</td>\n",
       "      <td>0</td>\n",
       "      <td>0</td>\n",
       "      <td>0</td>\n",
       "      <td>...</td>\n",
       "      <td>0</td>\n",
       "      <td>0</td>\n",
       "      <td>0</td>\n",
       "      <td>0</td>\n",
       "      <td>0</td>\n",
       "      <td>0</td>\n",
       "      <td>0</td>\n",
       "      <td>0</td>\n",
       "      <td>0</td>\n",
       "      <td>0</td>\n",
       "    </tr>\n",
       "  </tbody>\n",
       "</table>\n",
       "<p>1 rows × 64 columns</p>\n",
       "</div>"
      ],
      "text/plain": [
       "         skill_AJAX  skill_ASP.NET  skill_ASP.NET MVC  \\\n",
       "user_id                                                 \n",
       "1                 0              0                  0   \n",
       "\n",
       "         skill_Agile Methodologies  skill_Android  skill_Araştırma  \\\n",
       "user_id                                                              \n",
       "1                                0              0                0   \n",
       "\n",
       "         skill_AutoCAD  skill_Bootstrap  skill_C  skill_C#  ...  \\\n",
       "user_id                                                     ...   \n",
       "1                    0                0        0         0  ...   \n",
       "\n",
       "         skill_Spring Framework  skill_T-SQL  skill_Visual Studio  \\\n",
       "user_id                                                             \n",
       "1                             0            0                    0   \n",
       "\n",
       "         skill_Web Development  skill_Web Geliştirme  skill_Web Services  \\\n",
       "user_id                                                                    \n",
       "1                            0                     0                   0   \n",
       "\n",
       "         skill_XML  skill_Yazılım Geliştirme  skill_jQuery  skill_İngilizce  \n",
       "user_id                                                                      \n",
       "1                0                         0             0                0  \n",
       "\n",
       "[1 rows x 64 columns]"
      ]
     },
     "execution_count": 397,
     "metadata": {},
     "output_type": "execute_result"
    }
   ],
   "source": [
    "skills.head(1)"
   ]
  },
  {
   "cell_type": "code",
   "execution_count": 398,
   "id": "358bfdd6",
   "metadata": {
    "scrolled": true
   },
   "outputs": [
    {
     "data": {
      "text/html": [
       "<div>\n",
       "<style scoped>\n",
       "    .dataframe tbody tr th:only-of-type {\n",
       "        vertical-align: middle;\n",
       "    }\n",
       "\n",
       "    .dataframe tbody tr th {\n",
       "        vertical-align: top;\n",
       "    }\n",
       "\n",
       "    .dataframe thead th {\n",
       "        text-align: right;\n",
       "    }\n",
       "</style>\n",
       "<table border=\"1\" class=\"dataframe\">\n",
       "  <thead>\n",
       "    <tr style=\"text-align: right;\">\n",
       "      <th></th>\n",
       "      <th>user_id</th>\n",
       "      <th>industry</th>\n",
       "      <th>location</th>\n",
       "      <th>moved_after_2019</th>\n",
       "    </tr>\n",
       "  </thead>\n",
       "  <tbody>\n",
       "    <tr>\n",
       "      <th>0</th>\n",
       "      <td>1301</td>\n",
       "      <td>Information Technology and Services</td>\n",
       "      <td>Istanbul, Istanbul, Turkey</td>\n",
       "      <td>1</td>\n",
       "    </tr>\n",
       "    <tr>\n",
       "      <th>1</th>\n",
       "      <td>6950</td>\n",
       "      <td>Internet</td>\n",
       "      <td>Istanbul, Istanbul, Turkey</td>\n",
       "      <td>0</td>\n",
       "    </tr>\n",
       "  </tbody>\n",
       "</table>\n",
       "</div>"
      ],
      "text/plain": [
       "   user_id                             industry                    location  \\\n",
       "0     1301  Information Technology and Services  Istanbul, Istanbul, Turkey   \n",
       "1     6950                             Internet  Istanbul, Istanbul, Turkey   \n",
       "\n",
       "   moved_after_2019  \n",
       "0                 1  \n",
       "1                 0  "
      ]
     },
     "execution_count": 398,
     "metadata": {},
     "output_type": "execute_result"
    }
   ],
   "source": [
    "df_train.head(2)"
   ]
  },
  {
   "cell_type": "markdown",
   "id": "b224558d",
   "metadata": {},
   "source": [
    "#### <font color = \"red\">->> Fixing indexes because we have assumed that user_id will be our index. </font>"
   ]
  },
  {
   "cell_type": "code",
   "execution_count": 399,
   "id": "64fd1ea3",
   "metadata": {},
   "outputs": [],
   "source": [
    "df_test.set_index(\"user_id\",inplace=True)"
   ]
  },
  {
   "cell_type": "code",
   "execution_count": 400,
   "id": "25cdd815",
   "metadata": {},
   "outputs": [],
   "source": [
    "df_train.set_index(\"user_id\",inplace=True)"
   ]
  },
  {
   "cell_type": "markdown",
   "id": "dbbc01ed",
   "metadata": {},
   "source": [
    "#### <font color = \"red\">->> Adding fixed datasets which are prepared for machine learning side. </font>"
   ]
  },
  {
   "cell_type": "code",
   "execution_count": 401,
   "id": "e5d178dc",
   "metadata": {},
   "outputs": [],
   "source": [
    "df_train[education.columns] = education[education.columns]\n",
    "df_train[languages.columns] = languages[languages.columns]\n",
    "df_train[work_experience.columns] = work_experience[work_experience.columns]\n",
    "df_train[skills.columns] = skills[skills.columns]\n",
    "\n",
    "\n",
    "df_test[education.columns] = education[education.columns]\n",
    "df_test[languages.columns] = languages[languages.columns]\n",
    "df_test[work_experience.columns] = work_experience[work_experience.columns]\n",
    "df_test[skills.columns] = skills[skills.columns]"
   ]
  },
  {
   "cell_type": "markdown",
   "id": "8af9a57f",
   "metadata": {},
   "source": [
    "#### <font color = \"red\">->> Concatting all data as original_data </font>"
   ]
  },
  {
   "cell_type": "code",
   "execution_count": 402,
   "id": "5c137d8e",
   "metadata": {},
   "outputs": [],
   "source": [
    "original_data = pd.concat([df_train,df_test],axis=0)"
   ]
  },
  {
   "cell_type": "markdown",
   "id": "08fe2091",
   "metadata": {},
   "source": [
    "#### <font color = \"red\">->> Gathering categoricals and numericals seperately, and fixing them like giving values to categoricals variables by using factorize() func. and filling na values in  numericals by -1 and changing their data types. </font>"
   ]
  },
  {
   "cell_type": "code",
   "execution_count": 403,
   "id": "0c3a877e",
   "metadata": {},
   "outputs": [
    {
     "data": {
      "text/html": [
       "<div>\n",
       "<style scoped>\n",
       "    .dataframe tbody tr th:only-of-type {\n",
       "        vertical-align: middle;\n",
       "    }\n",
       "\n",
       "    .dataframe tbody tr th {\n",
       "        vertical-align: top;\n",
       "    }\n",
       "\n",
       "    .dataframe thead th {\n",
       "        text-align: right;\n",
       "    }\n",
       "</style>\n",
       "<table border=\"1\" class=\"dataframe\">\n",
       "  <thead>\n",
       "    <tr style=\"text-align: right;\">\n",
       "      <th></th>\n",
       "      <th>industry</th>\n",
       "      <th>location</th>\n",
       "      <th>degree_Bachelors</th>\n",
       "      <th>degree_Doctorate</th>\n",
       "      <th>degree_HighSchool</th>\n",
       "      <th>degree_Masters</th>\n",
       "      <th>Arabic</th>\n",
       "      <th>English</th>\n",
       "      <th>French</th>\n",
       "      <th>German</th>\n",
       "      <th>Italian</th>\n",
       "      <th>Japanese</th>\n",
       "      <th>Russian</th>\n",
       "      <th>Spanish</th>\n",
       "      <th>Turkish</th>\n",
       "      <th>first_Exp</th>\n",
       "      <th>second_exp</th>\n",
       "      <th>first_loc</th>\n",
       "      <th>second_loc</th>\n",
       "    </tr>\n",
       "    <tr>\n",
       "      <th>user_id</th>\n",
       "      <th></th>\n",
       "      <th></th>\n",
       "      <th></th>\n",
       "      <th></th>\n",
       "      <th></th>\n",
       "      <th></th>\n",
       "      <th></th>\n",
       "      <th></th>\n",
       "      <th></th>\n",
       "      <th></th>\n",
       "      <th></th>\n",
       "      <th></th>\n",
       "      <th></th>\n",
       "      <th></th>\n",
       "      <th></th>\n",
       "      <th></th>\n",
       "      <th></th>\n",
       "      <th></th>\n",
       "      <th></th>\n",
       "    </tr>\n",
       "  </thead>\n",
       "  <tbody>\n",
       "    <tr>\n",
       "      <th>1301</th>\n",
       "      <td>Information Technology and Services</td>\n",
       "      <td>Istanbul, Istanbul, Turkey</td>\n",
       "      <td>1</td>\n",
       "      <td>0</td>\n",
       "      <td>0</td>\n",
       "      <td>0</td>\n",
       "      <td>0.0</td>\n",
       "      <td>4.0</td>\n",
       "      <td>0.0</td>\n",
       "      <td>0.0</td>\n",
       "      <td>0.0</td>\n",
       "      <td>0.0</td>\n",
       "      <td>0.0</td>\n",
       "      <td>0.0</td>\n",
       "      <td>3.0</td>\n",
       "      <td>26</td>\n",
       "      <td>1876</td>\n",
       "      <td>Istanbul, Turkey</td>\n",
       "      <td>Istanbul, Turkey</td>\n",
       "    </tr>\n",
       "    <tr>\n",
       "      <th>6950</th>\n",
       "      <td>Internet</td>\n",
       "      <td>Istanbul, Istanbul, Turkey</td>\n",
       "      <td>NaN</td>\n",
       "      <td>NaN</td>\n",
       "      <td>NaN</td>\n",
       "      <td>NaN</td>\n",
       "      <td>0.0</td>\n",
       "      <td>4.0</td>\n",
       "      <td>0.0</td>\n",
       "      <td>0.0</td>\n",
       "      <td>0.0</td>\n",
       "      <td>0.0</td>\n",
       "      <td>0.0</td>\n",
       "      <td>0.0</td>\n",
       "      <td>0.0</td>\n",
       "      <td>551</td>\n",
       "      <td>1337</td>\n",
       "      <td>Istanbul, Turkey</td>\n",
       "      <td>Istanbul, Turkey</td>\n",
       "    </tr>\n",
       "    <tr>\n",
       "      <th>4880</th>\n",
       "      <td>Online Media</td>\n",
       "      <td>Turkey</td>\n",
       "      <td>1</td>\n",
       "      <td>0</td>\n",
       "      <td>0</td>\n",
       "      <td>0</td>\n",
       "      <td>NaN</td>\n",
       "      <td>NaN</td>\n",
       "      <td>NaN</td>\n",
       "      <td>NaN</td>\n",
       "      <td>NaN</td>\n",
       "      <td>NaN</td>\n",
       "      <td>NaN</td>\n",
       "      <td>NaN</td>\n",
       "      <td>NaN</td>\n",
       "      <td>5293</td>\n",
       "      <td>5291</td>\n",
       "      <td>Istanbul, Turkey</td>\n",
       "      <td>Istanbul, Turkey</td>\n",
       "    </tr>\n",
       "    <tr>\n",
       "      <th>26046</th>\n",
       "      <td>Telecommunications</td>\n",
       "      <td>Istanbul, Istanbul, Turkey</td>\n",
       "      <td>1</td>\n",
       "      <td>0</td>\n",
       "      <td>0</td>\n",
       "      <td>0</td>\n",
       "      <td>NaN</td>\n",
       "      <td>NaN</td>\n",
       "      <td>NaN</td>\n",
       "      <td>NaN</td>\n",
       "      <td>NaN</td>\n",
       "      <td>NaN</td>\n",
       "      <td>NaN</td>\n",
       "      <td>NaN</td>\n",
       "      <td>NaN</td>\n",
       "      <td>26</td>\n",
       "      <td>518</td>\n",
       "      <td>Istanbul, Turkey</td>\n",
       "      <td>Istanbul, Turkey</td>\n",
       "    </tr>\n",
       "    <tr>\n",
       "      <th>11005</th>\n",
       "      <td>Banking</td>\n",
       "      <td>Istanbul, Turkey</td>\n",
       "      <td>NaN</td>\n",
       "      <td>NaN</td>\n",
       "      <td>NaN</td>\n",
       "      <td>NaN</td>\n",
       "      <td>0.0</td>\n",
       "      <td>4.0</td>\n",
       "      <td>0.0</td>\n",
       "      <td>0.0</td>\n",
       "      <td>0.0</td>\n",
       "      <td>0.0</td>\n",
       "      <td>0.0</td>\n",
       "      <td>0.0</td>\n",
       "      <td>3.0</td>\n",
       "      <td>7191</td>\n",
       "      <td>151</td>\n",
       "      <td>Istanbul, Turkey</td>\n",
       "      <td>Istanbul, Turkey</td>\n",
       "    </tr>\n",
       "    <tr>\n",
       "      <th>...</th>\n",
       "      <td>...</td>\n",
       "      <td>...</td>\n",
       "      <td>...</td>\n",
       "      <td>...</td>\n",
       "      <td>...</td>\n",
       "      <td>...</td>\n",
       "      <td>...</td>\n",
       "      <td>...</td>\n",
       "      <td>...</td>\n",
       "      <td>...</td>\n",
       "      <td>...</td>\n",
       "      <td>...</td>\n",
       "      <td>...</td>\n",
       "      <td>...</td>\n",
       "      <td>...</td>\n",
       "      <td>...</td>\n",
       "      <td>...</td>\n",
       "      <td>...</td>\n",
       "      <td>...</td>\n",
       "    </tr>\n",
       "    <tr>\n",
       "      <th>32847</th>\n",
       "      <td>Computer Software</td>\n",
       "      <td>Turkey</td>\n",
       "      <td>NaN</td>\n",
       "      <td>NaN</td>\n",
       "      <td>NaN</td>\n",
       "      <td>NaN</td>\n",
       "      <td>NaN</td>\n",
       "      <td>NaN</td>\n",
       "      <td>NaN</td>\n",
       "      <td>NaN</td>\n",
       "      <td>NaN</td>\n",
       "      <td>NaN</td>\n",
       "      <td>NaN</td>\n",
       "      <td>NaN</td>\n",
       "      <td>NaN</td>\n",
       "      <td>2143</td>\n",
       "      <td>518</td>\n",
       "      <td>Istanbul, Turkey</td>\n",
       "      <td>Istanbul, Turkey</td>\n",
       "    </tr>\n",
       "    <tr>\n",
       "      <th>20054</th>\n",
       "      <td>Hospital &amp; Health Care</td>\n",
       "      <td>Turkey</td>\n",
       "      <td>1</td>\n",
       "      <td>0</td>\n",
       "      <td>0</td>\n",
       "      <td>0</td>\n",
       "      <td>0.0</td>\n",
       "      <td>4.0</td>\n",
       "      <td>0.0</td>\n",
       "      <td>0.0</td>\n",
       "      <td>0.0</td>\n",
       "      <td>0.0</td>\n",
       "      <td>0.0</td>\n",
       "      <td>0.0</td>\n",
       "      <td>0.0</td>\n",
       "      <td>5273</td>\n",
       "      <td>6678</td>\n",
       "      <td>Microbiology Lab.</td>\n",
       "      <td>Microbiology Lab.</td>\n",
       "    </tr>\n",
       "    <tr>\n",
       "      <th>7029</th>\n",
       "      <td>Wireless</td>\n",
       "      <td>Istanbul, Turkey</td>\n",
       "      <td>1</td>\n",
       "      <td>0</td>\n",
       "      <td>0</td>\n",
       "      <td>1</td>\n",
       "      <td>0.0</td>\n",
       "      <td>4.0</td>\n",
       "      <td>0.0</td>\n",
       "      <td>0.0</td>\n",
       "      <td>0.0</td>\n",
       "      <td>0.0</td>\n",
       "      <td>0.0</td>\n",
       "      <td>0.0</td>\n",
       "      <td>3.0</td>\n",
       "      <td>7372</td>\n",
       "      <td>4913</td>\n",
       "      <td>Istanbul, Turkey</td>\n",
       "      <td>Istanbul, Turkey</td>\n",
       "    </tr>\n",
       "    <tr>\n",
       "      <th>56130</th>\n",
       "      <td>Information Technology and Services</td>\n",
       "      <td>Ankara, Turkey</td>\n",
       "      <td>1</td>\n",
       "      <td>0</td>\n",
       "      <td>0</td>\n",
       "      <td>0</td>\n",
       "      <td>0.0</td>\n",
       "      <td>4.0</td>\n",
       "      <td>0.0</td>\n",
       "      <td>0.0</td>\n",
       "      <td>0.0</td>\n",
       "      <td>0.0</td>\n",
       "      <td>0.0</td>\n",
       "      <td>0.0</td>\n",
       "      <td>3.0</td>\n",
       "      <td>4083</td>\n",
       "      <td>34</td>\n",
       "      <td>Ankara, Turkey</td>\n",
       "      <td>Ankara, Turkey</td>\n",
       "    </tr>\n",
       "    <tr>\n",
       "      <th>16036</th>\n",
       "      <td>Automotive</td>\n",
       "      <td>Bornova, İzmir, Turkey</td>\n",
       "      <td>1</td>\n",
       "      <td>0</td>\n",
       "      <td>0</td>\n",
       "      <td>0</td>\n",
       "      <td>0.0</td>\n",
       "      <td>1.0</td>\n",
       "      <td>0.0</td>\n",
       "      <td>0.0</td>\n",
       "      <td>0.0</td>\n",
       "      <td>0.0</td>\n",
       "      <td>0.0</td>\n",
       "      <td>0.0</td>\n",
       "      <td>3.0</td>\n",
       "      <td>6399</td>\n",
       "      <td>4209</td>\n",
       "      <td>Izmir, Turkey</td>\n",
       "      <td>Izmir, Turkey</td>\n",
       "    </tr>\n",
       "  </tbody>\n",
       "</table>\n",
       "<p>66274 rows × 19 columns</p>\n",
       "</div>"
      ],
      "text/plain": [
       "                                    industry                    location  \\\n",
       "user_id                                                                    \n",
       "1301     Information Technology and Services  Istanbul, Istanbul, Turkey   \n",
       "6950                                Internet  Istanbul, Istanbul, Turkey   \n",
       "4880                            Online Media                      Turkey   \n",
       "26046                     Telecommunications  Istanbul, Istanbul, Turkey   \n",
       "11005                                Banking            Istanbul, Turkey   \n",
       "...                                      ...                         ...   \n",
       "32847                      Computer Software                      Turkey   \n",
       "20054                 Hospital & Health Care                      Turkey   \n",
       "7029                                Wireless            Istanbul, Turkey   \n",
       "56130    Information Technology and Services              Ankara, Turkey   \n",
       "16036                             Automotive      Bornova, İzmir, Turkey   \n",
       "\n",
       "        degree_Bachelors degree_Doctorate degree_HighSchool degree_Masters  \\\n",
       "user_id                                                                      \n",
       "1301                   1                0                 0              0   \n",
       "6950                 NaN              NaN               NaN            NaN   \n",
       "4880                   1                0                 0              0   \n",
       "26046                  1                0                 0              0   \n",
       "11005                NaN              NaN               NaN            NaN   \n",
       "...                  ...              ...               ...            ...   \n",
       "32847                NaN              NaN               NaN            NaN   \n",
       "20054                  1                0                 0              0   \n",
       "7029                   1                0                 0              1   \n",
       "56130                  1                0                 0              0   \n",
       "16036                  1                0                 0              0   \n",
       "\n",
       "        Arabic English French German Italian Japanese Russian Spanish Turkish  \\\n",
       "user_id                                                                         \n",
       "1301       0.0     4.0    0.0    0.0     0.0      0.0     0.0     0.0     3.0   \n",
       "6950       0.0     4.0    0.0    0.0     0.0      0.0     0.0     0.0     0.0   \n",
       "4880       NaN     NaN    NaN    NaN     NaN      NaN     NaN     NaN     NaN   \n",
       "26046      NaN     NaN    NaN    NaN     NaN      NaN     NaN     NaN     NaN   \n",
       "11005      0.0     4.0    0.0    0.0     0.0      0.0     0.0     0.0     3.0   \n",
       "...        ...     ...    ...    ...     ...      ...     ...     ...     ...   \n",
       "32847      NaN     NaN    NaN    NaN     NaN      NaN     NaN     NaN     NaN   \n",
       "20054      0.0     4.0    0.0    0.0     0.0      0.0     0.0     0.0     0.0   \n",
       "7029       0.0     4.0    0.0    0.0     0.0      0.0     0.0     0.0     3.0   \n",
       "56130      0.0     4.0    0.0    0.0     0.0      0.0     0.0     0.0     3.0   \n",
       "16036      0.0     1.0    0.0    0.0     0.0      0.0     0.0     0.0     3.0   \n",
       "\n",
       "        first_Exp second_exp          first_loc         second_loc  \n",
       "user_id                                                             \n",
       "1301           26       1876   Istanbul, Turkey   Istanbul, Turkey  \n",
       "6950          551       1337   Istanbul, Turkey   Istanbul, Turkey  \n",
       "4880         5293       5291   Istanbul, Turkey   Istanbul, Turkey  \n",
       "26046          26        518   Istanbul, Turkey   Istanbul, Turkey  \n",
       "11005        7191        151   Istanbul, Turkey   Istanbul, Turkey  \n",
       "...           ...        ...                ...                ...  \n",
       "32847        2143        518   Istanbul, Turkey   Istanbul, Turkey  \n",
       "20054        5273       6678  Microbiology Lab.  Microbiology Lab.  \n",
       "7029         7372       4913   Istanbul, Turkey   Istanbul, Turkey  \n",
       "56130        4083         34     Ankara, Turkey     Ankara, Turkey  \n",
       "16036        6399       4209      Izmir, Turkey      Izmir, Turkey  \n",
       "\n",
       "[66274 rows x 19 columns]"
      ]
     },
     "execution_count": 403,
     "metadata": {},
     "output_type": "execute_result"
    }
   ],
   "source": [
    "categoricals = original_data.select_dtypes(\"object\")\n",
    "numericals = original_data.select_dtypes(exclude=\"object\")\n",
    "\n",
    "categoricals\n"
   ]
  },
  {
   "cell_type": "code",
   "execution_count": 404,
   "id": "05101856",
   "metadata": {},
   "outputs": [
    {
     "name": "stdout",
     "output_type": "stream",
     "text": [
      "<class 'pandas.core.frame.DataFrame'>\n",
      "Int64Index: 66274 entries, 1301 to 16036\n",
      "Data columns (total 19 columns):\n",
      " #   Column             Non-Null Count  Dtype \n",
      "---  ------             --------------  ----- \n",
      " 0   industry           66186 non-null  object\n",
      " 1   location           66273 non-null  object\n",
      " 2   degree_Bachelors   51479 non-null  object\n",
      " 3   degree_Doctorate   51479 non-null  object\n",
      " 4   degree_HighSchool  51479 non-null  object\n",
      " 5   degree_Masters     51479 non-null  object\n",
      " 6   Arabic             31017 non-null  object\n",
      " 7   English            31017 non-null  object\n",
      " 8   French             31017 non-null  object\n",
      " 9   German             31017 non-null  object\n",
      " 10  Italian            31017 non-null  object\n",
      " 11  Japanese           31017 non-null  object\n",
      " 12  Russian            31017 non-null  object\n",
      " 13  Spanish            31017 non-null  object\n",
      " 14  Turkish            31017 non-null  object\n",
      " 15  first_Exp          63642 non-null  object\n",
      " 16  second_exp         63642 non-null  object\n",
      " 17  first_loc          63642 non-null  object\n",
      " 18  second_loc         63642 non-null  object\n",
      "dtypes: object(19)\n",
      "memory usage: 10.1+ MB\n"
     ]
    }
   ],
   "source": [
    "categoricals.info()"
   ]
  },
  {
   "cell_type": "code",
   "execution_count": 405,
   "id": "fac9340e",
   "metadata": {},
   "outputs": [],
   "source": [
    "for col in categoricals:\n",
    "    original_data[col] = original_data[col].factorize()[0]\n",
    "\n",
    "original_data[numericals.columns] = original_data[numericals.columns].fillna(-1)\n",
    "original_data[numericals.columns] = original_data[numericals.columns].astype(\"int64\")"
   ]
  },
  {
   "cell_type": "markdown",
   "id": "09c3e2d8",
   "metadata": {},
   "source": [
    "#### <font color = \"red\">->> Applying changes </font>"
   ]
  },
  {
   "cell_type": "code",
   "execution_count": 406,
   "id": "4b60ad8f",
   "metadata": {},
   "outputs": [],
   "source": [
    "df_train = original_data.loc[df_train.index, df_train.columns]\n",
    "df_test = original_data.loc[df_test.index, df_test.columns]"
   ]
  },
  {
   "cell_type": "markdown",
   "id": "df86c3b3",
   "metadata": {},
   "source": [
    "#### <font color = \"red\">->> Creting a heatmap to see correlation of variables. </font>"
   ]
  },
  {
   "cell_type": "code",
   "execution_count": 407,
   "id": "85a35a08",
   "metadata": {},
   "outputs": [
    {
     "name": "stdout",
     "output_type": "stream",
     "text": [
      "<class 'pandas.core.frame.DataFrame'>\n",
      "Int64Index: 53019 entries, 1301 to 248\n",
      "Data columns (total 96 columns):\n",
      " #   Column                                   Non-Null Count  Dtype\n",
      "---  ------                                   --------------  -----\n",
      " 0   industry                                 53019 non-null  int64\n",
      " 1   location                                 53019 non-null  int64\n",
      " 2   moved_after_2019                         53019 non-null  int64\n",
      " 3   degree_Bachelors                         53019 non-null  int64\n",
      " 4   degree_Doctorate                         53019 non-null  int64\n",
      " 5   degree_HighSchool                        53019 non-null  int64\n",
      " 6   degree_Masters                           53019 non-null  int64\n",
      " 7   Arabic                                   53019 non-null  int64\n",
      " 8   English                                  53019 non-null  int64\n",
      " 9   French                                   53019 non-null  int64\n",
      " 10  German                                   53019 non-null  int64\n",
      " 11  Italian                                  53019 non-null  int64\n",
      " 12  Japanese                                 53019 non-null  int64\n",
      " 13  Russian                                  53019 non-null  int64\n",
      " 14  Spanish                                  53019 non-null  int64\n",
      " 15  Turkish                                  53019 non-null  int64\n",
      " 16  company_size                             53019 non-null  int64\n",
      " 17  10 to 19 employees                       53019 non-null  int64\n",
      " 18  10,000 or more employees                 53019 non-null  int64\n",
      " 19  100 to 499 employees                     53019 non-null  int64\n",
      " 20  20 to 99 employees                       53019 non-null  int64\n",
      " 21  5,000 to 9,999 employees                 53019 non-null  int64\n",
      " 22  500 to 999 employees                     53019 non-null  int64\n",
      " 23  Fewer than 10 employees                  53019 non-null  int64\n",
      " 24  data_2010_and_after                      53019 non-null  int64\n",
      " 25  data_2015_and_after                      53019 non-null  int64\n",
      " 26  first_Exp                                53019 non-null  int64\n",
      " 27  second_exp                               53019 non-null  int64\n",
      " 28  first_loc                                53019 non-null  int64\n",
      " 29  second_loc                               53019 non-null  int64\n",
      " 30  first_entrance                           53019 non-null  int64\n",
      " 31  last_entrance                            53019 non-null  int64\n",
      " 32  skill_AJAX                               53019 non-null  int64\n",
      " 33  skill_ASP.NET                            53019 non-null  int64\n",
      " 34  skill_ASP.NET MVC                        53019 non-null  int64\n",
      " 35  skill_Agile Methodologies                53019 non-null  int64\n",
      " 36  skill_Android                            53019 non-null  int64\n",
      " 37  skill_Araştırma                          53019 non-null  int64\n",
      " 38  skill_AutoCAD                            53019 non-null  int64\n",
      " 39  skill_Bootstrap                          53019 non-null  int64\n",
      " 40  skill_C                                  53019 non-null  int64\n",
      " 41  skill_C#                                 53019 non-null  int64\n",
      " 42  skill_C++                                53019 non-null  int64\n",
      " 43  skill_CSS                                53019 non-null  int64\n",
      " 44  skill_Design Patterns                    53019 non-null  int64\n",
      " 45  skill_Docker                             53019 non-null  int64\n",
      " 46  skill_Eclipse                            53019 non-null  int64\n",
      " 47  skill_Ekip Çalışması                     53019 non-null  int64\n",
      " 48  skill_English                            53019 non-null  int64\n",
      " 49  skill_Entity Framework                   53019 non-null  int64\n",
      " 50  skill_Git                                53019 non-null  int64\n",
      " 51  skill_HTML                               53019 non-null  int64\n",
      " 52  skill_HTML5                              53019 non-null  int64\n",
      " 53  skill_Hibernate                          53019 non-null  int64\n",
      " 54  skill_JIRA                               53019 non-null  int64\n",
      " 55  skill_JSON                               53019 non-null  int64\n",
      " 56  skill_Java                               53019 non-null  int64\n",
      " 57  skill_JavaScript                         53019 non-null  int64\n",
      " 58  skill_Linux                              53019 non-null  int64\n",
      " 59  skill_Matlab                             53019 non-null  int64\n",
      " 60  skill_Microsoft Excel                    53019 non-null  int64\n",
      " 61  skill_Microsoft Office                   53019 non-null  int64\n",
      " 62  skill_Microsoft SQL Server               53019 non-null  int64\n",
      " 63  skill_Microsoft Word                     53019 non-null  int64\n",
      " 64  skill_MongoDB                            53019 non-null  int64\n",
      " 65  skill_MySQL                              53019 non-null  int64\n",
      " 66  skill_Mühendislik                        53019 non-null  int64\n",
      " 67  skill_Node.js                            53019 non-null  int64\n",
      " 68  skill_OOP                                53019 non-null  int64\n",
      " 69  skill_OOP (Nesne Yönelimli Programlama)  53019 non-null  int64\n",
      " 70  skill_Object Oriented Design             53019 non-null  int64\n",
      " 71  skill_Object-Oriented Programming (OOP)  53019 non-null  int64\n",
      " 72  skill_PHP                                53019 non-null  int64\n",
      " 73  skill_PL/SQL                             53019 non-null  int64\n",
      " 74  skill_Photoshop                          53019 non-null  int64\n",
      " 75  skill_PostgreSQL                         53019 non-null  int64\n",
      " 76  skill_Programlama                        53019 non-null  int64\n",
      " 77  skill_Programming                        53019 non-null  int64\n",
      " 78  skill_Proje Yönetimi                     53019 non-null  int64\n",
      " 79  skill_Project Management                 53019 non-null  int64\n",
      " 80  skill_Python                             53019 non-null  int64\n",
      " 81  skill_React.js                           53019 non-null  int64\n",
      " 82  skill_SQL                                53019 non-null  int64\n",
      " 83  skill_Scrum                              53019 non-null  int64\n",
      " 84  skill_Software Development               53019 non-null  int64\n",
      " 85  skill_Software Engineering               53019 non-null  int64\n",
      " 86  skill_Spring Framework                   53019 non-null  int64\n",
      " 87  skill_T-SQL                              53019 non-null  int64\n",
      " 88  skill_Visual Studio                      53019 non-null  int64\n",
      " 89  skill_Web Development                    53019 non-null  int64\n",
      " 90  skill_Web Geliştirme                     53019 non-null  int64\n",
      " 91  skill_Web Services                       53019 non-null  int64\n",
      " 92  skill_XML                                53019 non-null  int64\n",
      " 93  skill_Yazılım Geliştirme                 53019 non-null  int64\n",
      " 94  skill_jQuery                             53019 non-null  int64\n",
      " 95  skill_İngilizce                          53019 non-null  int64\n",
      "dtypes: int64(96)\n",
      "memory usage: 39.2 MB\n"
     ]
    }
   ],
   "source": [
    "df_train.info()"
   ]
  },
  {
   "cell_type": "code",
   "execution_count": 408,
   "id": "59b6a714",
   "metadata": {},
   "outputs": [
    {
     "data": {
      "image/png": "[encoded data removed]",
      "text/plain": [
       "<Figure size 1500x1500 with 2 Axes>"
      ]
     },
     "metadata": {},
     "output_type": "display_data"
    }
   ],
   "source": [
    "corr = df_train.corr()\n",
    "sns.set(font_scale=0.6)\n",
    "plt.figure(figsize=(15,15))\n",
    "sns.heatmap(corr,cmap=\"coolwarm\",square=True)\n",
    "plt.show()"
   ]
  },
  {
   "cell_type": "markdown",
   "id": "93802b6d",
   "metadata": {},
   "source": [
    "## <font color = \"purple\">Train and Test Side </font>\n",
    "- Used different models to see their impact or difference on this dataset.\n",
    "- Also, GridCV method is used for model tuning, to using different values of parameters."
   ]
  },
  {
   "cell_type": "code",
   "execution_count": 409,
   "id": "f989b62e",
   "metadata": {},
   "outputs": [],
   "source": [
    "from sklearn.model_selection import train_test_split,GridSearchCV,cross_val_score,KFold,StratifiedKFold\n",
    "from sklearn.metrics import accuracy_score,roc_auc_score,roc_curve,classification_report,confusion_matrix\n",
    "from sklearn.preprocessing import scale,StandardScaler\n",
    "from sklearn.linear_model import LogisticRegression\n",
    "from sklearn.tree import DecisionTreeClassifier\n",
    "from sklearn.ensemble import GradientBoostingClassifier,RandomForestClassifier\n",
    "from sklearn.neural_network import MLPClassifier\n",
    "from xgboost import XGBClassifier\n",
    "from lightgbm import LGBMClassifier\n",
    "from catboost import CatBoostClassifier "
   ]
  },
  {
   "cell_type": "code",
   "execution_count": 410,
   "id": "cb3c3ca5",
   "metadata": {},
   "outputs": [],
   "source": [
    "X = df_train.drop(columns=[\"moved_after_2019\"])\n",
    "y = df_train[\"moved_after_2019\"].astype(\"int\")\n",
    "X_train,X_test,y_train,y_test = train_test_split(X,y,random_state=42)"
   ]
  },
  {
   "cell_type": "markdown",
   "id": "d2d76e1a",
   "metadata": {},
   "source": [
    "## <font color = \"orange\">LogisticRegression Side</font>"
   ]
  },
  {
   "cell_type": "code",
   "execution_count": 411,
   "id": "93daeb86",
   "metadata": {
    "scrolled": true
   },
   "outputs": [],
   "source": [
    "logistic_model = LogisticRegression(solver=\"lbfgs\",random_state=42).fit(X_train,y_train)"
   ]
  },
  {
   "cell_type": "code",
   "execution_count": 412,
   "id": "00626170",
   "metadata": {},
   "outputs": [
    {
     "data": {
      "text/plain": [
       "array([0.61373067, 0.61712561, 0.61373067, 0.61373067, 0.61259902])"
      ]
     },
     "execution_count": 412,
     "metadata": {},
     "output_type": "execute_result"
    }
   ],
   "source": [
    "cross_val_score(logistic_model,X_test,y_test,scoring=\"accuracy\",cv=5)"
   ]
  },
  {
   "cell_type": "markdown",
   "id": "f6067d14",
   "metadata": {},
   "source": [
    "## <font color = \"orange\">DecisionTree Side</font>"
   ]
  },
  {
   "cell_type": "code",
   "execution_count": 413,
   "id": "d1e0b844",
   "metadata": {
    "scrolled": true
   },
   "outputs": [
    {
     "name": "stdout",
     "output_type": "stream",
     "text": [
      "{'max_depth': 10, 'min_samples_split': 3}\n"
     ]
    }
   ],
   "source": [
    "decision_tree_model = DecisionTreeClassifier(random_state=42)\n",
    "params = {\"max_depth\":[2,3,5,8,10],\"min_samples_split\":[2,3,5,10,20,50]}\n",
    "cv_model = GridSearchCV(decision_tree_model,cv=5,param_grid=params,n_jobs=-1).fit(X_train,y_train)\n",
    "print(cv_model.best_params_)"
   ]
  },
  {
   "cell_type": "code",
   "execution_count": 414,
   "id": "29bfed6f",
   "metadata": {},
   "outputs": [],
   "source": [
    "final_decisionTree_model = DecisionTreeClassifier(max_depth=10,min_samples_split=3,random_state=42).fit(X_train,y_train)"
   ]
  },
  {
   "cell_type": "code",
   "execution_count": 415,
   "id": "be48ca09",
   "metadata": {},
   "outputs": [
    {
     "data": {
      "text/plain": [
       "array([0.62580158, 0.61788005, 0.61788005, 0.61901169, 0.61410788])"
      ]
     },
     "execution_count": 415,
     "metadata": {},
     "output_type": "execute_result"
    }
   ],
   "source": [
    "cross_val_score(final_decisionTree_model,X_test,y_test,scoring=\"accuracy\",cv=5)"
   ]
  },
  {
   "cell_type": "markdown",
   "id": "ebe74543",
   "metadata": {},
   "source": [
    "## <font color = \"orange\">RandomForest Side</font>"
   ]
  },
  {
   "cell_type": "code",
   "execution_count": 417,
   "id": "9743cd4f",
   "metadata": {
    "scrolled": true
   },
   "outputs": [
    {
     "name": "stdout",
     "output_type": "stream",
     "text": [
      "{'max_features': 7, 'min_samples_split': 2, 'n_estimators': 300}\n"
     ]
    }
   ],
   "source": [
    "randomForest_model = RandomForestClassifier(random_state=42)\n",
    "params = {\"n_estimators\":[200,300],\n",
    "             \"max_features\":[3,5,7],\n",
    "             \"min_samples_split\":[2,5,10]}\n",
    "\n",
    "randomForest_cv_model = GridSearchCV(randomForest_model,cv=5,param_grid=params,n_jobs=-1).fit(X_train,y_train)\n",
    "print(randomForest_cv_model.best_params_)"
   ]
  },
  {
   "cell_type": "code",
   "execution_count": 418,
   "id": "5c827417",
   "metadata": {},
   "outputs": [],
   "source": [
    "final_randomForest_model = RandomForestClassifier(n_estimators=300,max_features=7,min_samples_split=2,random_state=42).fit(X_train,y_train)"
   ]
  },
  {
   "cell_type": "code",
   "execution_count": 419,
   "id": "0737a932",
   "metadata": {},
   "outputs": [
    {
     "data": {
      "text/plain": [
       "array([0.66276877, 0.68049793, 0.67559412, 0.66955866, 0.67031309])"
      ]
     },
     "execution_count": 419,
     "metadata": {},
     "output_type": "execute_result"
    }
   ],
   "source": [
    "cross_val_score(final_randomForest_model,X_test,y_test,scoring=\"accuracy\",cv=5)"
   ]
  },
  {
   "cell_type": "markdown",
   "id": "25ee2515",
   "metadata": {},
   "source": [
    "## <font color = \"orange\">Gradient Boosting Side</font>"
   ]
  },
  {
   "cell_type": "code",
   "execution_count": null,
   "id": "99804b81",
   "metadata": {},
   "outputs": [],
   "source": [
    "gbm_model = GradientBoostingClassifier(random_state=42)\n",
    "params = {\"learning_rate\":[0.1,0.01,0.05],\n",
    "           \"n_estimators\":[100,300],\n",
    "           \"max_depth\":[2,3]}\n",
    "gbm_cv_model = GridSearchCV(gbm_model,param_grid=params,cv=5,n_jobs=-1).fit(X_train,y_train)\n",
    "print(gbm_cv_model.best_params_)"
   ]
  },
  {
   "cell_type": "code",
   "execution_count": null,
   "id": "7e598e94",
   "metadata": {},
   "outputs": [],
   "source": [
    "final_gbm_model = GradientBoostingClassifier(n_estimators=300,learning_rate=0.1,max_depth=3,random_state=42).fit(X_train,y_train)"
   ]
  },
  {
   "cell_type": "code",
   "execution_count": null,
   "id": "fe585f48",
   "metadata": {},
   "outputs": [],
   "source": [
    "cross_val_score(final_gbm_model,X_test,y_test,scoring=\"accuracy\",cv=5)"
   ]
  },
  {
   "cell_type": "markdown",
   "id": "6ba15ac2",
   "metadata": {},
   "source": [
    "## <font color = \"orange\">XGBoost Side</font>"
   ]
  },
  {
   "cell_type": "code",
   "execution_count": 118,
   "id": "9d01d1ed",
   "metadata": {
    "scrolled": false
   },
   "outputs": [
    {
     "name": "stdout",
     "output_type": "stream",
     "text": [
      "{'learning_rate': 0.1, 'max_depth': 5, 'n_estimators': 500, 'subsample': 0.8}\n"
     ]
    }
   ],
   "source": [
    "xgb_model = XGBClassifier(tree_method=\"gpu_hist\", enable_categorical=True)\n",
    "params = {\"n_estimators\":[100,500],\n",
    "            \"max_depth\":[3,5],\n",
    "            \"learning_rate\":[0.1,0.01],\n",
    "            \"subsample\":[0.6,0.8]\n",
    "         }\n",
    "xgb_cv_model = GridSearchCV(xgb_model,param_grid=params,cv=3,n_jobs=-1).fit(X_train,y_train)\n",
    "print(xgb_cv_model.best_params_)"
   ]
  },
  {
   "cell_type": "code",
   "execution_count": 119,
   "id": "42418c4e",
   "metadata": {},
   "outputs": [],
   "source": [
    "final_xgb_model = XGBClassifier(n_estimators=500,learning_rate=0.1,max_depth=5,subsample=0.8,tree_method=\"gpu_hist\", enable_categorical=True).fit(X_train,y_train)"
   ]
  },
  {
   "cell_type": "code",
   "execution_count": 120,
   "id": "f8270b5b",
   "metadata": {},
   "outputs": [
    {
     "data": {
      "text/plain": [
       "array([0.6540928 , 0.6635232 , 0.66465485, 0.67106752, 0.65069785])"
      ]
     },
     "execution_count": 120,
     "metadata": {},
     "output_type": "execute_result"
    }
   ],
   "source": [
    "cross_val_score(final_xgb_model,X_test,y_test,scoring=\"accuracy\",cv=5)"
   ]
  },
  {
   "cell_type": "markdown",
   "id": "2277c6b2",
   "metadata": {},
   "source": [
    "## <font color = \"orange\">LGBM Side</font>"
   ]
  },
  {
   "cell_type": "markdown",
   "id": "7d41a418",
   "metadata": {},
   "source": [
    "lgbm_model = LGBMClassifier(random_state=42)\n",
    "params = {\"n_estimators\":[200,500,100],\n",
    "          \"learning_rate\":[0.1,0.01,0.001],\n",
    "          \"max_depth\":[1,2,5,8]}\n",
    "lgbm_cv_model = GridSearchCV(lgbm_model,param_grid=params,n_jobs=-1,cv=3).fit(X_train,y_train)\n",
    "print(lgbm_cv_model.best_params_)"
   ]
  },
  {
   "cell_type": "markdown",
   "id": "1f680bd7",
   "metadata": {},
   "source": [
    "final_lgbm_model = LGBMClassifier(n_estimators=500,learning_rate=0.1,max_depth=8,random_state=42).fit(X_train,y_train)"
   ]
  },
  {
   "cell_type": "markdown",
   "id": "c35287f9",
   "metadata": {
    "scrolled": true
   },
   "source": [
    "cross_val_score(final_lgbm_model,X_test,y_test,scoring=\"accuracy\",cv=5)"
   ]
  },
  {
   "cell_type": "markdown",
   "id": "d4ad5acd",
   "metadata": {},
   "source": [
    "## <font color = \"orange\">Comparison Side</font>"
   ]
  },
  {
   "cell_type": "code",
   "execution_count": 153,
   "id": "02d092c5",
   "metadata": {},
   "outputs": [],
   "source": [
    "models=[final_decisionTree_model,\n",
    "        final_randomForest_model,\n",
    "        final_gbm_model,\n",
    "        final_xgb_model]\n",
    "        #final_lgbm_model\n",
    "\n",
    "result=[]\n",
    "results=pd.DataFrame(columns=[\"Models\",\"Accuracy\"])\n",
    "\n",
    "for model in models:\n",
    "    names=model.__class__.__name__\n",
    "    y_pred=model.predict(X_test)\n",
    "    accuracy=accuracy_score(y_test,y_pred)\n",
    "    result=pd.DataFrame([[names,accuracy*100]],columns=[\"Models\",\"Accuracy\"])\n",
    "    results=results.append(result)"
   ]
  },
  {
   "cell_type": "code",
   "execution_count": 154,
   "id": "a511c903",
   "metadata": {},
   "outputs": [],
   "source": [
    "results.sort_values(inplace=True,by=\"Accuracy\",ascending=True)"
   ]
  },
  {
   "cell_type": "code",
   "execution_count": 155,
   "id": "081e3e78",
   "metadata": {
    "scrolled": false
   },
   "outputs": [
    {
     "data": {
      "image/png": "[encoded data removed]",
      "text/plain": [
       "<Figure size 640x480 with 1 Axes>"
      ]
     },
     "metadata": {},
     "output_type": "display_data"
    }
   ],
   "source": [
    "sns.barplot(x=\"Accuracy\",y=\"Models\",data=results)\n",
    "plt.xlabel(\"Accuracy %\",fontsize=15)\n",
    "plt.ylabel(\"Accuracy Rate of Models\",fontsize=15);\n",
    "plt.title(\"True Classification Rate\",fontsize=15)\n",
    "plt.show();"
   ]
  },
  {
   "cell_type": "markdown",
   "id": "20dd7725",
   "metadata": {},
   "source": [
    "## <font color = \"orange\">Variable Importance</font>"
   ]
  },
  {
   "cell_type": "code",
   "execution_count": 156,
   "id": "6dc8a143",
   "metadata": {},
   "outputs": [
    {
     "data": {
      "image/png": "[encoded data removed]",
      "text/plain": [
       "<Figure size 1000x1500 with 1 Axes>"
      ]
     },
     "metadata": {},
     "output_type": "display_data"
    }
   ],
   "source": [
    "# Variabe importance\n",
    "plt.figure(figsize=(10,15))\n",
    "importance = pd.DataFrame({\"variable_scores\":final_randomForest_model.feature_importances_},\n",
    "                          index=X.columns).sort_values(by=\"variable_scores\",ascending=False)\n",
    "\n",
    "sns.barplot(data=importance,x=importance[\"variable_scores\"],y=importance.index)\n",
    "plt.title(\"Variable Importance Levels\",fontsize=15)\n",
    "plt.xlabel(\"Variable Importance Scores\",fontsize=15)\n",
    "plt.ylabel(\"Variables\",fontsize=15)\n",
    "plt.show();"
   ]
  },
  {
   "cell_type": "markdown",
   "id": "d5d30932",
   "metadata": {},
   "source": [
    "## <font color = \"orange\">ROC Curve</font>"
   ]
  },
  {
   "cell_type": "code",
   "execution_count": 157,
   "id": "4c854a5c",
   "metadata": {},
   "outputs": [
    {
     "data": {
      "text/plain": [
       "(53019, 90)"
      ]
     },
     "execution_count": 157,
     "metadata": {},
     "output_type": "execute_result"
    }
   ],
   "source": [
    "df_train.shape"
   ]
  },
  {
   "cell_type": "code",
   "execution_count": 158,
   "id": "1401dc40",
   "metadata": {
    "scrolled": true
   },
   "outputs": [
    {
     "data": {
      "text/plain": [
       "(13255, 89)"
      ]
     },
     "execution_count": 158,
     "metadata": {},
     "output_type": "execute_result"
    }
   ],
   "source": [
    "df_test.shape"
   ]
  },
  {
   "cell_type": "code",
   "execution_count": 159,
   "id": "ba6b3227",
   "metadata": {
    "scrolled": false
   },
   "outputs": [
    {
     "data": {
      "image/png": "[encoded data removed]",
      "text/plain": [
       "<Figure size 640x480 with 1 Axes>"
      ]
     },
     "metadata": {},
     "output_type": "display_data"
    }
   ],
   "source": [
    "roc_auc=roc_auc_score(y_test,final_randomForest_model.predict(X_test))\n",
    "fpr,tpr,thresholds = roc_curve(y_test,final_randomForest_model.predict_proba(X_test)[:,1])\n",
    "plt.figure()\n",
    "plt.plot(fpr,tpr,label=\"AUC (area=%0.2f)\"%roc_auc)\n",
    "plt.plot([0,1],[0,1],\"r--\")\n",
    "plt.xlim([0.0,1.0])\n",
    "plt.ylim([0.0,1.05])\n",
    "plt.xlabel(\"False Positive Rate\",fontsize=15)\n",
    "plt.ylabel(\"True Positive Rate\",fontsize=15)\n",
    "plt.title(\"Receiver operating characteristic\",fontsize=15)\n",
    "plt.legend(loc=\"lower right\")\n",
    "plt.show()\n"
   ]
  },
  {
   "cell_type": "code",
   "execution_count": 164,
   "id": "c5dc8f2d",
   "metadata": {},
   "outputs": [],
   "source": [
    "predicted=final_randomForest_model.predict(X_test)"
   ]
  },
  {
   "cell_type": "code",
   "execution_count": 165,
   "id": "df20b882",
   "metadata": {
    "scrolled": true
   },
   "outputs": [],
   "source": [
    "score = accuracy_score(y_test,predicted)"
   ]
  },
  {
   "cell_type": "code",
   "execution_count": 166,
   "id": "a75d64b1",
   "metadata": {},
   "outputs": [
    {
     "name": "stdout",
     "output_type": "stream",
     "text": [
      "Score is: %72.4\n"
     ]
    }
   ],
   "source": [
    "print(\"Score is: %{:.1f}\".format(score*100))  "
   ]
  },
  {
   "cell_type": "markdown",
   "id": "847e3b36",
   "metadata": {},
   "source": [
    "## <font color = \"orange\">Submission Side</font>"
   ]
  },
  {
   "cell_type": "code",
   "execution_count": 134,
   "id": "1a1b6d02",
   "metadata": {},
   "outputs": [],
   "source": [
    "predicted = final_randomForest_model.predict(df_test)"
   ]
  },
  {
   "cell_type": "code",
   "execution_count": 135,
   "id": "3976f796",
   "metadata": {},
   "outputs": [],
   "source": [
    "submission.loc[:,\"moved_after_2019\"] = predicted"
   ]
  },
  {
   "cell_type": "code",
   "execution_count": 136,
   "id": "5c724c79",
   "metadata": {
    "scrolled": false
   },
   "outputs": [
    {
     "data": {
      "text/plain": [
       "0    9858\n",
       "1    3397\n",
       "Name: moved_after_2019, dtype: int64"
      ]
     },
     "execution_count": 136,
     "metadata": {},
     "output_type": "execute_result"
    }
   ],
   "source": [
    "submission[\"moved_after_2019\"].value_counts()"
   ]
  },
  {
   "cell_type": "code",
   "execution_count": 137,
   "id": "fe1c88fe",
   "metadata": {},
   "outputs": [],
   "source": [
    "submission.to_csv(\"submission.csv\",index=False)"
   ]
  },
  {
   "cell_type": "code",
   "execution_count": null,
   "id": "db5c9666",
   "metadata": {},
   "outputs": [],
   "source": []
  }
 ],
 "metadata": {
  "kernelspec": {
   "display_name": "Python 3 (ipykernel)",
   "language": "python",
   "name": "python3"
  },
  "language_info": {
   "codemirror_mode": {
    "name": "ipython",
    "version": 3
   },
   "file_extension": ".py",
   "mimetype": "text/x-python",
   "name": "python",
   "nbconvert_exporter": "python",
   "pygments_lexer": "ipython3",
   "version": "3.9.13"
  }
 },
 "nbformat": 4,
 "nbformat_minor": 5
}
