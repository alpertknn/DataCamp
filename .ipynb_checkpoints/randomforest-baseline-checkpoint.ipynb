{
 "cells": [
  {
   "cell_type": "code",
   "execution_count": 1,
   "id": "64a376b9",
   "metadata": {
    "execution": {
     "iopub.execute_input": "2023-02-17T09:55:38.039990Z",
     "iopub.status.busy": "2023-02-17T09:55:38.038508Z",
     "iopub.status.idle": "2023-02-17T09:55:39.867240Z",
     "shell.execute_reply": "2023-02-17T09:55:39.865928Z"
    },
    "papermill": {
     "duration": 1.842725,
     "end_time": "2023-02-17T09:55:39.870515",
     "exception": false,
     "start_time": "2023-02-17T09:55:38.027790",
     "status": "completed"
    },
    "tags": []
   },
   "outputs": [],
   "source": [
    "import os\n",
    "import numpy as np\n",
    "import pandas as pd\n",
    "\n",
    "from sklearn.model_selection import StratifiedKFold\n",
    "from sklearn.model_selection import cross_val_score\n",
    "from sklearn.ensemble import RandomForestClassifier\n",
    "\n",
    "target = 'moved_after_2019'\n",
    "idx = 'user_id'"
   ]
  },
  {
   "cell_type": "code",
   "execution_count": 2,
   "id": "ae3f8bba",
   "metadata": {
    "_cell_guid": "b1076dfc-b9ad-4769-8c92-a6c4dae69d19",
    "_uuid": "8f2839f25d086af736a60e9eeb907d3b93b6e0e5",
    "execution": {
     "iopub.execute_input": "2023-02-17T09:55:39.888427Z",
     "iopub.status.busy": "2023-02-17T09:55:39.887893Z",
     "iopub.status.idle": "2023-02-17T09:55:41.667774Z",
     "shell.execute_reply": "2023-02-17T09:55:41.666377Z"
    },
    "papermill": {
     "duration": 1.79273,
     "end_time": "2023-02-17T09:55:41.670861",
     "exception": false,
     "start_time": "2023-02-17T09:55:39.878131",
     "status": "completed"
    },
    "tags": []
   },
   "outputs": [],
   "source": [
    "df_train = pd.read_csv(\"./csv_files/train_users.csv\")\n",
    "df_test  = pd.read_csv(\"./csv_files/test_users.csv\")\n",
    "df_subm  = pd.read_csv(\"./csv_files/submission.csv\")\n",
    "df_lang  = pd.read_csv(\"./csv_files/languages.csv\")\n",
    "df_edu   = pd.read_csv(\"./csv_files/education.csv\")\n",
    "df_skill = pd.read_csv(\"./csv_files/skills.csv\")\n",
    "df_exp   = pd.read_csv(\"./csv_files/work_experiences.csv\")"
   ]
  },
  {
   "cell_type": "code",
   "execution_count": 3,
   "id": "8e6c6008",
   "metadata": {
    "execution": {
     "iopub.execute_input": "2023-02-17T09:55:41.686067Z",
     "iopub.status.busy": "2023-02-17T09:55:41.685652Z",
     "iopub.status.idle": "2023-02-17T09:55:41.714481Z",
     "shell.execute_reply": "2023-02-17T09:55:41.713337Z"
    },
    "papermill": {
     "duration": 0.039712,
     "end_time": "2023-02-17T09:55:41.717301",
     "exception": false,
     "start_time": "2023-02-17T09:55:41.677589",
     "status": "completed"
    },
    "tags": []
   },
   "outputs": [],
   "source": [
    "df_train = df_train.set_index(idx)\n",
    "df_test = df_test.set_index(idx)\n",
    "df_subm = df_subm.set_index(idx)\n",
    "\n",
    "df_exp = df_exp[df_exp['start_year_month'] < 201901] # see https://www.kaggle.com/competitions/garanti-bbva-data-camp/discussion/383774"
   ]
  },
  {
   "cell_type": "markdown",
   "id": "af8c780c",
   "metadata": {
    "papermill": {
     "duration": 0.006113,
     "end_time": "2023-02-17T09:55:41.729957",
     "exception": false,
     "start_time": "2023-02-17T09:55:41.723844",
     "status": "completed"
    },
    "tags": []
   },
   "source": [
    "### Education Table Preprocess"
   ]
  },
  {
   "cell_type": "code",
   "execution_count": 4,
   "id": "e9e7acaa",
   "metadata": {
    "execution": {
     "iopub.execute_input": "2023-02-17T09:55:41.745311Z",
     "iopub.status.busy": "2023-02-17T09:55:41.744081Z",
     "iopub.status.idle": "2023-02-17T09:55:41.777687Z",
     "shell.execute_reply": "2023-02-17T09:55:41.776386Z"
    },
    "papermill": {
     "duration": 0.044182,
     "end_time": "2023-02-17T09:55:41.780575",
     "exception": false,
     "start_time": "2023-02-17T09:55:41.736393",
     "status": "completed"
    },
    "tags": []
   },
   "outputs": [],
   "source": [
    "df_edu = df_edu[df_edu['school_name'].notnull() & df_edu['degree'].notnull()]"
   ]
  },
  {
   "cell_type": "code",
   "execution_count": 5,
   "id": "a818b00b",
   "metadata": {
    "execution": {
     "iopub.execute_input": "2023-02-17T09:55:41.795570Z",
     "iopub.status.busy": "2023-02-17T09:55:41.795143Z",
     "iopub.status.idle": "2023-02-17T09:55:46.738599Z",
     "shell.execute_reply": "2023-02-17T09:55:46.737272Z"
    },
    "papermill": {
     "duration": 4.954675,
     "end_time": "2023-02-17T09:55:46.741900",
     "exception": false,
     "start_time": "2023-02-17T09:55:41.787225",
     "status": "completed"
    },
    "tags": []
   },
   "outputs": [],
   "source": [
    "edu_conv = {\n",
    "    \"(?i).*(doktora|doctor|phd|ph.d).*\": \"phd\",\n",
    "    \"(?i).*(yüksek|master|M.Sc|MS|MBA|M.S).*\": \"master\",\n",
    "    \"(?i).*(lisans|licence|bachelor|BS|B.S|B.Sc|engineer|mühendis|mezun|graduate|licentiate).*\": \"graduate\",\n",
    "}\n",
    "\n",
    "df_edu.loc[:, 'degree'] = df_edu.loc[:, 'degree'].replace(edu_conv, regex=True)\n",
    "df_edu = df_edu[df_edu['degree'].isin(edu_conv.values())]"
   ]
  },
  {
   "cell_type": "code",
   "execution_count": 6,
   "id": "a4a19d6f",
   "metadata": {
    "execution": {
     "iopub.execute_input": "2023-02-17T09:55:46.758109Z",
     "iopub.status.busy": "2023-02-17T09:55:46.757598Z",
     "iopub.status.idle": "2023-02-17T09:55:46.857730Z",
     "shell.execute_reply": "2023-02-17T09:55:46.856726Z"
    },
    "papermill": {
     "duration": 0.112791,
     "end_time": "2023-02-17T09:55:46.861665",
     "exception": false,
     "start_time": "2023-02-17T09:55:46.748874",
     "status": "completed"
    },
    "tags": []
   },
   "outputs": [
    {
     "data": {
      "text/html": [
       "<div>\n",
       "<style scoped>\n",
       "    .dataframe tbody tr th:only-of-type {\n",
       "        vertical-align: middle;\n",
       "    }\n",
       "\n",
       "    .dataframe tbody tr th {\n",
       "        vertical-align: top;\n",
       "    }\n",
       "\n",
       "    .dataframe thead th {\n",
       "        text-align: right;\n",
       "    }\n",
       "</style>\n",
       "<table border=\"1\" class=\"dataframe\">\n",
       "  <thead>\n",
       "    <tr style=\"text-align: right;\">\n",
       "      <th>degree</th>\n",
       "      <th>graduate</th>\n",
       "      <th>master</th>\n",
       "      <th>phd</th>\n",
       "    </tr>\n",
       "    <tr>\n",
       "      <th>user_id</th>\n",
       "      <th></th>\n",
       "      <th></th>\n",
       "      <th></th>\n",
       "    </tr>\n",
       "  </thead>\n",
       "  <tbody>\n",
       "    <tr>\n",
       "      <th>1</th>\n",
       "      <td>Fırat Üniversitesi</td>\n",
       "      <td>Fırat Üniversitesi</td>\n",
       "      <td>NaN</td>\n",
       "    </tr>\n",
       "    <tr>\n",
       "      <th>3</th>\n",
       "      <td>Fırat Üniversitesi</td>\n",
       "      <td>NaN</td>\n",
       "      <td>NaN</td>\n",
       "    </tr>\n",
       "    <tr>\n",
       "      <th>4</th>\n",
       "      <td>Fırat Üniversitesi</td>\n",
       "      <td>NaN</td>\n",
       "      <td>NaN</td>\n",
       "    </tr>\n",
       "    <tr>\n",
       "      <th>5</th>\n",
       "      <td>The State University of Applied Sciences in El...</td>\n",
       "      <td>Firat University</td>\n",
       "      <td>NaN</td>\n",
       "    </tr>\n",
       "    <tr>\n",
       "      <th>6</th>\n",
       "      <td>Fırat Üniversitesi</td>\n",
       "      <td>NaN</td>\n",
       "      <td>NaN</td>\n",
       "    </tr>\n",
       "  </tbody>\n",
       "</table>\n",
       "</div>"
      ],
      "text/plain": [
       "degree                                            graduate  \\\n",
       "user_id                                                      \n",
       "1                                       Fırat Üniversitesi   \n",
       "3                                       Fırat Üniversitesi   \n",
       "4                                       Fırat Üniversitesi   \n",
       "5        The State University of Applied Sciences in El...   \n",
       "6                                       Fırat Üniversitesi   \n",
       "\n",
       "degree               master  phd  \n",
       "user_id                           \n",
       "1        Fırat Üniversitesi  NaN  \n",
       "3                       NaN  NaN  \n",
       "4                       NaN  NaN  \n",
       "5          Firat University  NaN  \n",
       "6                       NaN  NaN  "
      ]
     },
     "execution_count": 6,
     "metadata": {},
     "output_type": "execute_result"
    }
   ],
   "source": [
    "df_edu = df_edu.drop_duplicates(['user_id', 'degree'])\n",
    "df_edu = pd.pivot(df_edu, index='user_id', columns='degree', values='school_name')\n",
    "df_edu.head()"
   ]
  },
  {
   "cell_type": "markdown",
   "id": "ccda4de3",
   "metadata": {
    "papermill": {
     "duration": 0.006885,
     "end_time": "2023-02-17T09:55:46.876242",
     "exception": false,
     "start_time": "2023-02-17T09:55:46.869357",
     "status": "completed"
    },
    "tags": []
   },
   "source": [
    "### Language Table Preprocess"
   ]
  },
  {
   "cell_type": "code",
   "execution_count": 7,
   "id": "1479d19f",
   "metadata": {
    "execution": {
     "iopub.execute_input": "2023-02-17T09:55:46.892924Z",
     "iopub.status.busy": "2023-02-17T09:55:46.892401Z",
     "iopub.status.idle": "2023-02-17T09:55:46.912590Z",
     "shell.execute_reply": "2023-02-17T09:55:46.911131Z"
    },
    "papermill": {
     "duration": 0.03232,
     "end_time": "2023-02-17T09:55:46.915691",
     "exception": false,
     "start_time": "2023-02-17T09:55:46.883371",
     "status": "completed"
    },
    "tags": []
   },
   "outputs": [],
   "source": [
    "df_lang = df_lang[df_lang['language'].notnull() & df_lang['proficiency'].notnull()]"
   ]
  },
  {
   "cell_type": "code",
   "execution_count": 8,
   "id": "f04fb120",
   "metadata": {
    "execution": {
     "iopub.execute_input": "2023-02-17T09:55:46.933712Z",
     "iopub.status.busy": "2023-02-17T09:55:46.933236Z",
     "iopub.status.idle": "2023-02-17T09:55:46.949472Z",
     "shell.execute_reply": "2023-02-17T09:55:46.948243Z"
    },
    "papermill": {
     "duration": 0.028247,
     "end_time": "2023-02-17T09:55:46.952570",
     "exception": false,
     "start_time": "2023-02-17T09:55:46.924323",
     "status": "completed"
    },
    "tags": []
   },
   "outputs": [],
   "source": [
    "lang_rank = {\n",
    "    'elementary': 1,\n",
    "    'limited_working': 2,\n",
    "    'professional_working': 3,\n",
    "    'full_professional': 4,\n",
    "    'native_or_bilingual': 5\n",
    "}\n",
    "\n",
    "df_lang.loc[:, 'proficiency'] = df_lang.loc[:, 'proficiency'].map(lang_rank)"
   ]
  },
  {
   "cell_type": "code",
   "execution_count": 9,
   "id": "2463c0bc",
   "metadata": {
    "execution": {
     "iopub.execute_input": "2023-02-17T09:55:46.969251Z",
     "iopub.status.busy": "2023-02-17T09:55:46.968741Z",
     "iopub.status.idle": "2023-02-17T09:55:48.239423Z",
     "shell.execute_reply": "2023-02-17T09:55:48.238328Z"
    },
    "papermill": {
     "duration": 1.282324,
     "end_time": "2023-02-17T09:55:48.242251",
     "exception": false,
     "start_time": "2023-02-17T09:55:46.959927",
     "status": "completed"
    },
    "tags": []
   },
   "outputs": [],
   "source": [
    "lang_conv = {\n",
    "    '(?i).*(ingilizce|english|englishch|englisch).*': 'english',\n",
    "    '(?i).*(almanca|german|deutsch).*': 'german',\n",
    "    '(?i).*(fransızca|french|français).*': 'french',\n",
    "    '(?i).*(ispanyolca|spanish|español).*': 'spanish',\n",
    "    '(?i).*(arapça|arabic).*': 'arabic',\n",
    "    '(?i).*(rusça|russian).*': 'russian',\n",
    "    '(?i).*(türkçe|turkish|türkisch).*': 'turkish',\n",
    "}\n",
    "\n",
    "df_lang['language'] = df_lang['language'].replace(lang_conv, regex=True)\n",
    "df_lang = df_lang[df_lang['language'].isin(lang_conv.values())]"
   ]
  },
  {
   "cell_type": "code",
   "execution_count": 10,
   "id": "f800706e",
   "metadata": {
    "execution": {
     "iopub.execute_input": "2023-02-17T09:55:48.258043Z",
     "iopub.status.busy": "2023-02-17T09:55:48.257592Z",
     "iopub.status.idle": "2023-02-17T09:55:48.315404Z",
     "shell.execute_reply": "2023-02-17T09:55:48.314169Z"
    },
    "papermill": {
     "duration": 0.068703,
     "end_time": "2023-02-17T09:55:48.318172",
     "exception": false,
     "start_time": "2023-02-17T09:55:48.249469",
     "status": "completed"
    },
    "tags": []
   },
   "outputs": [
    {
     "data": {
      "text/html": [
       "<div>\n",
       "<style scoped>\n",
       "    .dataframe tbody tr th:only-of-type {\n",
       "        vertical-align: middle;\n",
       "    }\n",
       "\n",
       "    .dataframe tbody tr th {\n",
       "        vertical-align: top;\n",
       "    }\n",
       "\n",
       "    .dataframe thead th {\n",
       "        text-align: right;\n",
       "    }\n",
       "</style>\n",
       "<table border=\"1\" class=\"dataframe\">\n",
       "  <thead>\n",
       "    <tr style=\"text-align: right;\">\n",
       "      <th>language</th>\n",
       "      <th>arabic</th>\n",
       "      <th>english</th>\n",
       "      <th>french</th>\n",
       "      <th>german</th>\n",
       "      <th>russian</th>\n",
       "      <th>spanish</th>\n",
       "      <th>turkish</th>\n",
       "    </tr>\n",
       "    <tr>\n",
       "      <th>user_id</th>\n",
       "      <th></th>\n",
       "      <th></th>\n",
       "      <th></th>\n",
       "      <th></th>\n",
       "      <th></th>\n",
       "      <th></th>\n",
       "      <th></th>\n",
       "    </tr>\n",
       "  </thead>\n",
       "  <tbody>\n",
       "    <tr>\n",
       "      <th>8</th>\n",
       "      <td>0</td>\n",
       "      <td>4</td>\n",
       "      <td>1</td>\n",
       "      <td>0</td>\n",
       "      <td>0</td>\n",
       "      <td>0</td>\n",
       "      <td>5</td>\n",
       "    </tr>\n",
       "    <tr>\n",
       "      <th>11</th>\n",
       "      <td>0</td>\n",
       "      <td>3</td>\n",
       "      <td>0</td>\n",
       "      <td>0</td>\n",
       "      <td>0</td>\n",
       "      <td>0</td>\n",
       "      <td>5</td>\n",
       "    </tr>\n",
       "    <tr>\n",
       "      <th>12</th>\n",
       "      <td>0</td>\n",
       "      <td>3</td>\n",
       "      <td>0</td>\n",
       "      <td>0</td>\n",
       "      <td>0</td>\n",
       "      <td>0</td>\n",
       "      <td>5</td>\n",
       "    </tr>\n",
       "    <tr>\n",
       "      <th>13</th>\n",
       "      <td>0</td>\n",
       "      <td>4</td>\n",
       "      <td>0</td>\n",
       "      <td>2</td>\n",
       "      <td>0</td>\n",
       "      <td>0</td>\n",
       "      <td>0</td>\n",
       "    </tr>\n",
       "    <tr>\n",
       "      <th>14</th>\n",
       "      <td>0</td>\n",
       "      <td>3</td>\n",
       "      <td>0</td>\n",
       "      <td>0</td>\n",
       "      <td>0</td>\n",
       "      <td>0</td>\n",
       "      <td>5</td>\n",
       "    </tr>\n",
       "  </tbody>\n",
       "</table>\n",
       "</div>"
      ],
      "text/plain": [
       "language  arabic  english  french  german  russian  spanish  turkish\n",
       "user_id                                                             \n",
       "8              0        4       1       0        0        0        5\n",
       "11             0        3       0       0        0        0        5\n",
       "12             0        3       0       0        0        0        5\n",
       "13             0        4       0       2        0        0        0\n",
       "14             0        3       0       0        0        0        5"
      ]
     },
     "execution_count": 10,
     "metadata": {},
     "output_type": "execute_result"
    }
   ],
   "source": [
    "df_lang = df_lang.drop_duplicates(['user_id', 'language'])\n",
    "df_lang = pd.pivot(df_lang, index='user_id', columns='language', values='proficiency')\n",
    "df_lang = df_lang.fillna(0).astype(int)\n",
    "df_lang.head()"
   ]
  },
  {
   "cell_type": "markdown",
   "id": "2aa81e28",
   "metadata": {
    "papermill": {
     "duration": 0.007359,
     "end_time": "2023-02-17T09:55:48.333188",
     "exception": false,
     "start_time": "2023-02-17T09:55:48.325829",
     "status": "completed"
    },
    "tags": []
   },
   "source": [
    "### Skill Table Preprocess"
   ]
  },
  {
   "cell_type": "code",
   "execution_count": 11,
   "id": "f28faf53",
   "metadata": {
    "execution": {
     "iopub.execute_input": "2023-02-17T09:55:48.349492Z",
     "iopub.status.busy": "2023-02-17T09:55:48.349062Z",
     "iopub.status.idle": "2023-02-17T09:55:48.699014Z",
     "shell.execute_reply": "2023-02-17T09:55:48.697791Z"
    },
    "papermill": {
     "duration": 0.361785,
     "end_time": "2023-02-17T09:55:48.702080",
     "exception": false,
     "start_time": "2023-02-17T09:55:48.340295",
     "status": "completed"
    },
    "tags": []
   },
   "outputs": [],
   "source": [
    "used_skills = df_skill['skill'].value_counts().iloc[:60].index # we only took most common 60 skills, you can increase it\n",
    "\n",
    "df_skill = df_skill[df_skill['skill'].isin(used_skills)]\n",
    "df_skill['experience'] = True"
   ]
  },
  {
   "cell_type": "code",
   "execution_count": 12,
   "id": "86dfb67d",
   "metadata": {
    "execution": {
     "iopub.execute_input": "2023-02-17T09:55:48.719370Z",
     "iopub.status.busy": "2023-02-17T09:55:48.718852Z",
     "iopub.status.idle": "2023-02-17T09:55:50.568018Z",
     "shell.execute_reply": "2023-02-17T09:55:50.566595Z"
    },
    "papermill": {
     "duration": 1.861057,
     "end_time": "2023-02-17T09:55:50.570821",
     "exception": false,
     "start_time": "2023-02-17T09:55:48.709764",
     "status": "completed"
    },
    "tags": []
   },
   "outputs": [
    {
     "data": {
      "text/html": [
       "<div>\n",
       "<style scoped>\n",
       "    .dataframe tbody tr th:only-of-type {\n",
       "        vertical-align: middle;\n",
       "    }\n",
       "\n",
       "    .dataframe tbody tr th {\n",
       "        vertical-align: top;\n",
       "    }\n",
       "\n",
       "    .dataframe thead th {\n",
       "        text-align: right;\n",
       "    }\n",
       "</style>\n",
       "<table border=\"1\" class=\"dataframe\">\n",
       "  <thead>\n",
       "    <tr style=\"text-align: right;\">\n",
       "      <th>skill</th>\n",
       "      <th>.NET</th>\n",
       "      <th>AJAX</th>\n",
       "      <th>ASP.NET</th>\n",
       "      <th>ASP.NET MVC</th>\n",
       "      <th>Agile Methodologies</th>\n",
       "      <th>Android</th>\n",
       "      <th>AutoCAD</th>\n",
       "      <th>C</th>\n",
       "      <th>C#</th>\n",
       "      <th>C++</th>\n",
       "      <th>...</th>\n",
       "      <th>Spring Framework</th>\n",
       "      <th>T-SQL</th>\n",
       "      <th>Visual Studio</th>\n",
       "      <th>Web Development</th>\n",
       "      <th>Web Geliştirme</th>\n",
       "      <th>Web Services</th>\n",
       "      <th>XML</th>\n",
       "      <th>Yazılım Geliştirme</th>\n",
       "      <th>jQuery</th>\n",
       "      <th>İngilizce</th>\n",
       "    </tr>\n",
       "    <tr>\n",
       "      <th>user_id</th>\n",
       "      <th></th>\n",
       "      <th></th>\n",
       "      <th></th>\n",
       "      <th></th>\n",
       "      <th></th>\n",
       "      <th></th>\n",
       "      <th></th>\n",
       "      <th></th>\n",
       "      <th></th>\n",
       "      <th></th>\n",
       "      <th></th>\n",
       "      <th></th>\n",
       "      <th></th>\n",
       "      <th></th>\n",
       "      <th></th>\n",
       "      <th></th>\n",
       "      <th></th>\n",
       "      <th></th>\n",
       "      <th></th>\n",
       "      <th></th>\n",
       "      <th></th>\n",
       "    </tr>\n",
       "  </thead>\n",
       "  <tbody>\n",
       "    <tr>\n",
       "      <th>1</th>\n",
       "      <td>0</td>\n",
       "      <td>0</td>\n",
       "      <td>0</td>\n",
       "      <td>0</td>\n",
       "      <td>0</td>\n",
       "      <td>0</td>\n",
       "      <td>0</td>\n",
       "      <td>0</td>\n",
       "      <td>0</td>\n",
       "      <td>0</td>\n",
       "      <td>...</td>\n",
       "      <td>0</td>\n",
       "      <td>0</td>\n",
       "      <td>0</td>\n",
       "      <td>0</td>\n",
       "      <td>0</td>\n",
       "      <td>0</td>\n",
       "      <td>0</td>\n",
       "      <td>0</td>\n",
       "      <td>0</td>\n",
       "      <td>0</td>\n",
       "    </tr>\n",
       "    <tr>\n",
       "      <th>2</th>\n",
       "      <td>0</td>\n",
       "      <td>0</td>\n",
       "      <td>0</td>\n",
       "      <td>0</td>\n",
       "      <td>0</td>\n",
       "      <td>1</td>\n",
       "      <td>0</td>\n",
       "      <td>0</td>\n",
       "      <td>0</td>\n",
       "      <td>0</td>\n",
       "      <td>...</td>\n",
       "      <td>0</td>\n",
       "      <td>0</td>\n",
       "      <td>0</td>\n",
       "      <td>0</td>\n",
       "      <td>0</td>\n",
       "      <td>0</td>\n",
       "      <td>0</td>\n",
       "      <td>0</td>\n",
       "      <td>0</td>\n",
       "      <td>0</td>\n",
       "    </tr>\n",
       "    <tr>\n",
       "      <th>3</th>\n",
       "      <td>0</td>\n",
       "      <td>0</td>\n",
       "      <td>0</td>\n",
       "      <td>0</td>\n",
       "      <td>0</td>\n",
       "      <td>0</td>\n",
       "      <td>0</td>\n",
       "      <td>0</td>\n",
       "      <td>0</td>\n",
       "      <td>0</td>\n",
       "      <td>...</td>\n",
       "      <td>0</td>\n",
       "      <td>0</td>\n",
       "      <td>0</td>\n",
       "      <td>0</td>\n",
       "      <td>0</td>\n",
       "      <td>0</td>\n",
       "      <td>0</td>\n",
       "      <td>0</td>\n",
       "      <td>0</td>\n",
       "      <td>0</td>\n",
       "    </tr>\n",
       "    <tr>\n",
       "      <th>5</th>\n",
       "      <td>0</td>\n",
       "      <td>0</td>\n",
       "      <td>0</td>\n",
       "      <td>0</td>\n",
       "      <td>0</td>\n",
       "      <td>0</td>\n",
       "      <td>0</td>\n",
       "      <td>0</td>\n",
       "      <td>0</td>\n",
       "      <td>0</td>\n",
       "      <td>...</td>\n",
       "      <td>0</td>\n",
       "      <td>0</td>\n",
       "      <td>0</td>\n",
       "      <td>0</td>\n",
       "      <td>0</td>\n",
       "      <td>0</td>\n",
       "      <td>0</td>\n",
       "      <td>0</td>\n",
       "      <td>0</td>\n",
       "      <td>0</td>\n",
       "    </tr>\n",
       "    <tr>\n",
       "      <th>6</th>\n",
       "      <td>0</td>\n",
       "      <td>0</td>\n",
       "      <td>0</td>\n",
       "      <td>0</td>\n",
       "      <td>0</td>\n",
       "      <td>0</td>\n",
       "      <td>0</td>\n",
       "      <td>0</td>\n",
       "      <td>0</td>\n",
       "      <td>0</td>\n",
       "      <td>...</td>\n",
       "      <td>0</td>\n",
       "      <td>0</td>\n",
       "      <td>0</td>\n",
       "      <td>0</td>\n",
       "      <td>0</td>\n",
       "      <td>0</td>\n",
       "      <td>0</td>\n",
       "      <td>0</td>\n",
       "      <td>0</td>\n",
       "      <td>0</td>\n",
       "    </tr>\n",
       "  </tbody>\n",
       "</table>\n",
       "<p>5 rows × 60 columns</p>\n",
       "</div>"
      ],
      "text/plain": [
       "skill    .NET  AJAX  ASP.NET  ASP.NET MVC  Agile Methodologies  Android  \\\n",
       "user_id                                                                   \n",
       "1           0     0        0            0                    0        0   \n",
       "2           0     0        0            0                    0        1   \n",
       "3           0     0        0            0                    0        0   \n",
       "5           0     0        0            0                    0        0   \n",
       "6           0     0        0            0                    0        0   \n",
       "\n",
       "skill    AutoCAD  C  C#  C++  ...  Spring Framework  T-SQL  Visual Studio  \\\n",
       "user_id                       ...                                           \n",
       "1              0  0   0    0  ...                 0      0              0   \n",
       "2              0  0   0    0  ...                 0      0              0   \n",
       "3              0  0   0    0  ...                 0      0              0   \n",
       "5              0  0   0    0  ...                 0      0              0   \n",
       "6              0  0   0    0  ...                 0      0              0   \n",
       "\n",
       "skill    Web Development  Web Geliştirme  Web Services  XML  \\\n",
       "user_id                                                       \n",
       "1                      0               0             0    0   \n",
       "2                      0               0             0    0   \n",
       "3                      0               0             0    0   \n",
       "5                      0               0             0    0   \n",
       "6                      0               0             0    0   \n",
       "\n",
       "skill    Yazılım Geliştirme  jQuery  İngilizce  \n",
       "user_id                                         \n",
       "1                         0       0          0  \n",
       "2                         0       0          0  \n",
       "3                         0       0          0  \n",
       "5                         0       0          0  \n",
       "6                         0       0          0  \n",
       "\n",
       "[5 rows x 60 columns]"
      ]
     },
     "execution_count": 12,
     "metadata": {},
     "output_type": "execute_result"
    }
   ],
   "source": [
    "df_skill = df_skill.drop_duplicates(['user_id', 'skill'])\n",
    "df_skill = pd.pivot(df_skill, index='user_id', columns='skill', values='experience')\n",
    "df_skill = df_skill.fillna(0).astype(int)\n",
    "df_skill.head()"
   ]
  },
  {
   "cell_type": "markdown",
   "id": "cc63f8b2",
   "metadata": {
    "papermill": {
     "duration": 0.00725,
     "end_time": "2023-02-17T09:55:50.586168",
     "exception": false,
     "start_time": "2023-02-17T09:55:50.578918",
     "status": "completed"
    },
    "tags": []
   },
   "source": [
    "### Experience Table Preprocess"
   ]
  },
  {
   "cell_type": "code",
   "execution_count": 13,
   "id": "c8f0f0e6",
   "metadata": {
    "execution": {
     "iopub.execute_input": "2023-02-17T09:55:50.603186Z",
     "iopub.status.busy": "2023-02-17T09:55:50.602766Z",
     "iopub.status.idle": "2023-02-17T09:55:50.687134Z",
     "shell.execute_reply": "2023-02-17T09:55:50.686173Z"
    },
    "papermill": {
     "duration": 0.096101,
     "end_time": "2023-02-17T09:55:50.689791",
     "exception": false,
     "start_time": "2023-02-17T09:55:50.593690",
     "status": "completed"
    },
    "tags": []
   },
   "outputs": [],
   "source": [
    "df_exp = df_exp.sort_values(by=['user_id', 'start_year_month']) # we want nth function to return the last companies by date\n",
    "df_new = pd.DataFrame()"
   ]
  },
  {
   "cell_type": "code",
   "execution_count": 14,
   "id": "3d86d642",
   "metadata": {
    "execution": {
     "iopub.execute_input": "2023-02-17T09:55:50.707164Z",
     "iopub.status.busy": "2023-02-17T09:55:50.706741Z",
     "iopub.status.idle": "2023-02-17T09:55:51.043131Z",
     "shell.execute_reply": "2023-02-17T09:55:51.041905Z"
    },
    "papermill": {
     "duration": 0.348266,
     "end_time": "2023-02-17T09:55:51.045841",
     "exception": false,
     "start_time": "2023-02-17T09:55:50.697575",
     "status": "completed"
    },
    "tags": []
   },
   "outputs": [],
   "source": [
    "df_new['company(1th)'] = df_exp.groupby(idx)['company_id'].nth(-1).astype(str)\n",
    "df_new['company(2th)'] = df_exp.groupby(idx)['company_id'].nth(-2).astype(str)\n",
    "df_new['company(3th)'] = df_exp.groupby(idx)['company_id'].nth(-3).astype(str)\n",
    "\n",
    "df_new['company_location(1th)'] = df_exp.groupby(idx)['location'].nth(-1).astype(str)\n",
    "df_new['company_location(2th)'] = df_exp.groupby(idx)['location'].nth(-2).astype(str)\n",
    "df_new['company_location(3th)'] = df_exp.groupby(idx)['location'].nth(-3).astype(str)\n",
    "\n",
    "df_new['min_exp_time'] = df_exp.groupby(idx)['start_year_month'].min()\n",
    "df_new['max_exp_time'] = df_exp.groupby(idx)['start_year_month'].max()\n",
    "\n",
    "df_new['company_count_2018'] = df_exp[df_exp['start_year_month'].gt(201712)].groupby(idx).size()\n",
    "df_new['company_count_2017'] = df_exp[df_exp['start_year_month'].gt(201612)].groupby(idx).size()\n",
    "df_new['company_count_2016'] = df_exp[df_exp['start_year_month'].gt(201512)].groupby(idx).size()"
   ]
  },
  {
   "cell_type": "code",
   "execution_count": 15,
   "id": "4c397f5c",
   "metadata": {
    "execution": {
     "iopub.execute_input": "2023-02-17T09:55:51.063218Z",
     "iopub.status.busy": "2023-02-17T09:55:51.062799Z",
     "iopub.status.idle": "2023-02-17T09:55:51.083425Z",
     "shell.execute_reply": "2023-02-17T09:55:51.082087Z"
    },
    "papermill": {
     "duration": 0.032227,
     "end_time": "2023-02-17T09:55:51.085845",
     "exception": false,
     "start_time": "2023-02-17T09:55:51.053618",
     "status": "completed"
    },
    "tags": []
   },
   "outputs": [
    {
     "data": {
      "text/html": [
       "<div>\n",
       "<style scoped>\n",
       "    .dataframe tbody tr th:only-of-type {\n",
       "        vertical-align: middle;\n",
       "    }\n",
       "\n",
       "    .dataframe tbody tr th {\n",
       "        vertical-align: top;\n",
       "    }\n",
       "\n",
       "    .dataframe thead th {\n",
       "        text-align: right;\n",
       "    }\n",
       "</style>\n",
       "<table border=\"1\" class=\"dataframe\">\n",
       "  <thead>\n",
       "    <tr style=\"text-align: right;\">\n",
       "      <th></th>\n",
       "      <th>company(1th)</th>\n",
       "      <th>company(2th)</th>\n",
       "      <th>company(3th)</th>\n",
       "      <th>company_location(1th)</th>\n",
       "      <th>company_location(2th)</th>\n",
       "      <th>company_location(3th)</th>\n",
       "      <th>min_exp_time</th>\n",
       "      <th>max_exp_time</th>\n",
       "      <th>company_count_2018</th>\n",
       "      <th>company_count_2017</th>\n",
       "      <th>company_count_2016</th>\n",
       "    </tr>\n",
       "    <tr>\n",
       "      <th>user_id</th>\n",
       "      <th></th>\n",
       "      <th></th>\n",
       "      <th></th>\n",
       "      <th></th>\n",
       "      <th></th>\n",
       "      <th></th>\n",
       "      <th></th>\n",
       "      <th></th>\n",
       "      <th></th>\n",
       "      <th></th>\n",
       "      <th></th>\n",
       "    </tr>\n",
       "  </thead>\n",
       "  <tbody>\n",
       "    <tr>\n",
       "      <th>0</th>\n",
       "      <td>0</td>\n",
       "      <td>0</td>\n",
       "      <td>NaN</td>\n",
       "      <td>Visual Studio Asp.Net Developer</td>\n",
       "      <td>Serbest Çalışmalar</td>\n",
       "      <td>NaN</td>\n",
       "      <td>200509</td>\n",
       "      <td>200509</td>\n",
       "      <td>NaN</td>\n",
       "      <td>NaN</td>\n",
       "      <td>NaN</td>\n",
       "    </tr>\n",
       "    <tr>\n",
       "      <th>2</th>\n",
       "      <td>10</td>\n",
       "      <td>7</td>\n",
       "      <td>9</td>\n",
       "      <td>Mersin, Turkey</td>\n",
       "      <td>Elazig, Turkey</td>\n",
       "      <td>Elazig, Turkey</td>\n",
       "      <td>201612</td>\n",
       "      <td>201806</td>\n",
       "      <td>1.0</td>\n",
       "      <td>2.0</td>\n",
       "      <td>3.0</td>\n",
       "    </tr>\n",
       "    <tr>\n",
       "      <th>5</th>\n",
       "      <td>15</td>\n",
       "      <td>NaN</td>\n",
       "      <td>NaN</td>\n",
       "      <td>İstanbul</td>\n",
       "      <td>NaN</td>\n",
       "      <td>NaN</td>\n",
       "      <td>201706</td>\n",
       "      <td>201706</td>\n",
       "      <td>NaN</td>\n",
       "      <td>1.0</td>\n",
       "      <td>1.0</td>\n",
       "    </tr>\n",
       "    <tr>\n",
       "      <th>7</th>\n",
       "      <td>20</td>\n",
       "      <td>21</td>\n",
       "      <td>21</td>\n",
       "      <td>Elazığ</td>\n",
       "      <td>Macedonia</td>\n",
       "      <td>Istanbul, Turkey</td>\n",
       "      <td>201607</td>\n",
       "      <td>201812</td>\n",
       "      <td>1.0</td>\n",
       "      <td>3.0</td>\n",
       "      <td>4.0</td>\n",
       "    </tr>\n",
       "    <tr>\n",
       "      <th>10</th>\n",
       "      <td>26</td>\n",
       "      <td>26</td>\n",
       "      <td>27</td>\n",
       "      <td>istanbul</td>\n",
       "      <td>Istanbul, Turkey</td>\n",
       "      <td>Elazig, Turkey</td>\n",
       "      <td>201308</td>\n",
       "      <td>201805</td>\n",
       "      <td>2.0</td>\n",
       "      <td>2.0</td>\n",
       "      <td>2.0</td>\n",
       "    </tr>\n",
       "  </tbody>\n",
       "</table>\n",
       "</div>"
      ],
      "text/plain": [
       "        company(1th) company(2th) company(3th)  \\\n",
       "user_id                                          \n",
       "0                  0            0          NaN   \n",
       "2                 10            7            9   \n",
       "5                 15          NaN          NaN   \n",
       "7                 20           21           21   \n",
       "10                26           26           27   \n",
       "\n",
       "                   company_location(1th) company_location(2th)  \\\n",
       "user_id                                                          \n",
       "0        Visual Studio Asp.Net Developer    Serbest Çalışmalar   \n",
       "2                         Mersin, Turkey        Elazig, Turkey   \n",
       "5                               İstanbul                   NaN   \n",
       "7                                 Elazığ             Macedonia   \n",
       "10                              istanbul      Istanbul, Turkey   \n",
       "\n",
       "        company_location(3th)  min_exp_time  max_exp_time  company_count_2018  \\\n",
       "user_id                                                                         \n",
       "0                         NaN        200509        200509                 NaN   \n",
       "2              Elazig, Turkey        201612        201806                 1.0   \n",
       "5                         NaN        201706        201706                 NaN   \n",
       "7            Istanbul, Turkey        201607        201812                 1.0   \n",
       "10             Elazig, Turkey        201308        201805                 2.0   \n",
       "\n",
       "         company_count_2017  company_count_2016  \n",
       "user_id                                          \n",
       "0                       NaN                 NaN  \n",
       "2                       2.0                 3.0  \n",
       "5                       1.0                 1.0  \n",
       "7                       3.0                 4.0  \n",
       "10                      2.0                 2.0  "
      ]
     },
     "execution_count": 15,
     "metadata": {},
     "output_type": "execute_result"
    }
   ],
   "source": [
    "df_exp = df_new\n",
    "df_exp.head()"
   ]
  },
  {
   "cell_type": "markdown",
   "id": "f9b4c64e",
   "metadata": {
    "papermill": {
     "duration": 0.007762,
     "end_time": "2023-02-17T09:55:51.102077",
     "exception": false,
     "start_time": "2023-02-17T09:55:51.094315",
     "status": "completed"
    },
    "tags": []
   },
   "source": [
    "### Merge Tables"
   ]
  },
  {
   "cell_type": "code",
   "execution_count": 16,
   "id": "3c83278e",
   "metadata": {
    "execution": {
     "iopub.execute_input": "2023-02-17T09:55:51.120287Z",
     "iopub.status.busy": "2023-02-17T09:55:51.119881Z",
     "iopub.status.idle": "2023-02-17T09:55:51.455615Z",
     "shell.execute_reply": "2023-02-17T09:55:51.454650Z"
    },
    "papermill": {
     "duration": 0.347797,
     "end_time": "2023-02-17T09:55:51.458220",
     "exception": false,
     "start_time": "2023-02-17T09:55:51.110423",
     "status": "completed"
    },
    "tags": []
   },
   "outputs": [],
   "source": [
    "df_train[df_edu.columns]   = df_edu[df_edu.columns]\n",
    "df_train[df_lang.columns]  = df_lang[df_lang.columns]\n",
    "df_train[df_skill.columns] = df_skill[df_skill.columns]\n",
    "df_train[df_exp.columns]   = df_exp[df_exp.columns]\n",
    "\n",
    "df_test[df_edu.columns]   = df_edu[df_edu.columns]\n",
    "df_test[df_lang.columns]  = df_lang[df_lang.columns]\n",
    "df_test[df_skill.columns] = df_skill[df_skill.columns]\n",
    "df_test[df_exp.columns]   = df_exp[df_exp.columns]"
   ]
  },
  {
   "cell_type": "code",
   "execution_count": 17,
   "id": "1e65ebab",
   "metadata": {
    "execution": {
     "iopub.execute_input": "2023-02-17T09:55:51.477907Z",
     "iopub.status.busy": "2023-02-17T09:55:51.476608Z",
     "iopub.status.idle": "2023-02-17T09:55:51.559753Z",
     "shell.execute_reply": "2023-02-17T09:55:51.557556Z"
    },
    "papermill": {
     "duration": 0.095928,
     "end_time": "2023-02-17T09:55:51.562507",
     "exception": false,
     "start_time": "2023-02-17T09:55:51.466579",
     "status": "completed"
    },
    "tags": []
   },
   "outputs": [
    {
     "name": "stdout",
     "output_type": "stream",
     "text": [
      "<class 'pandas.core.frame.DataFrame'>\n",
      "Int64Index: 53019 entries, 1301 to 248\n",
      "Data columns (total 84 columns):\n",
      " #   Column                             Non-Null Count  Dtype  \n",
      "---  ------                             --------------  -----  \n",
      " 0   industry                           52947 non-null  object \n",
      " 1   location                           53018 non-null  object \n",
      " 2   moved_after_2019                   53019 non-null  int64  \n",
      " 3   graduate                           39090 non-null  object \n",
      " 4   master                             16088 non-null  object \n",
      " 5   phd                                1965 non-null   object \n",
      " 6   arabic                             24794 non-null  float64\n",
      " 7   english                            24794 non-null  float64\n",
      " 8   french                             24794 non-null  float64\n",
      " 9   german                             24794 non-null  float64\n",
      " 10  russian                            24794 non-null  float64\n",
      " 11  spanish                            24794 non-null  float64\n",
      " 12  turkish                            24794 non-null  float64\n",
      " 13  .NET                               46199 non-null  float64\n",
      " 14  AJAX                               46199 non-null  float64\n",
      " 15  ASP.NET                            46199 non-null  float64\n",
      " 16  ASP.NET MVC                        46199 non-null  float64\n",
      " 17  Agile Methodologies                46199 non-null  float64\n",
      " 18  Android                            46199 non-null  float64\n",
      " 19  AutoCAD                            46199 non-null  float64\n",
      " 20  C                                  46199 non-null  float64\n",
      " 21  C#                                 46199 non-null  float64\n",
      " 22  C++                                46199 non-null  float64\n",
      " 23  CSS                                46199 non-null  float64\n",
      " 24  Docker                             46199 non-null  float64\n",
      " 25  Eclipse                            46199 non-null  float64\n",
      " 26  Ekip Çalışması                     46199 non-null  float64\n",
      " 27  English                            46199 non-null  float64\n",
      " 28  Entity Framework                   46199 non-null  float64\n",
      " 29  Git                                46199 non-null  float64\n",
      " 30  HTML                               46199 non-null  float64\n",
      " 31  HTML5                              46199 non-null  float64\n",
      " 32  Hibernate                          46199 non-null  float64\n",
      " 33  JIRA                               46199 non-null  float64\n",
      " 34  JSON                               46199 non-null  float64\n",
      " 35  Java                               46199 non-null  float64\n",
      " 36  JavaScript                         46199 non-null  float64\n",
      " 37  Linux                              46199 non-null  float64\n",
      " 38  Matlab                             46199 non-null  float64\n",
      " 39  Microsoft Excel                    46199 non-null  float64\n",
      " 40  Microsoft Office                   46199 non-null  float64\n",
      " 41  Microsoft SQL Server               46199 non-null  float64\n",
      " 42  Microsoft Word                     46199 non-null  float64\n",
      " 43  MongoDB                            46199 non-null  float64\n",
      " 44  MySQL                              46199 non-null  float64\n",
      " 45  Mühendislik                        46199 non-null  float64\n",
      " 46  Node.js                            46199 non-null  float64\n",
      " 47  OOP                                46199 non-null  float64\n",
      " 48  OOP (Nesne Yönelimli Programlama)  46199 non-null  float64\n",
      " 49  Object-Oriented Programming (OOP)  46199 non-null  float64\n",
      " 50  PHP                                46199 non-null  float64\n",
      " 51  PL/SQL                             46199 non-null  float64\n",
      " 52  Photoshop                          46199 non-null  float64\n",
      " 53  PostgreSQL                         46199 non-null  float64\n",
      " 54  Programming                        46199 non-null  float64\n",
      " 55  Proje Yönetimi                     46199 non-null  float64\n",
      " 56  Project Management                 46199 non-null  float64\n",
      " 57  Python                             46199 non-null  float64\n",
      " 58  React.js                           46199 non-null  float64\n",
      " 59  SQL                                46199 non-null  float64\n",
      " 60  Scrum                              46199 non-null  float64\n",
      " 61  Software Development               46199 non-null  float64\n",
      " 62  Software Engineering               46199 non-null  float64\n",
      " 63  Spring Framework                   46199 non-null  float64\n",
      " 64  T-SQL                              46199 non-null  float64\n",
      " 65  Visual Studio                      46199 non-null  float64\n",
      " 66  Web Development                    46199 non-null  float64\n",
      " 67  Web Geliştirme                     46199 non-null  float64\n",
      " 68  Web Services                       46199 non-null  float64\n",
      " 69  XML                                46199 non-null  float64\n",
      " 70  Yazılım Geliştirme                 46199 non-null  float64\n",
      " 71  jQuery                             46199 non-null  float64\n",
      " 72  İngilizce                          46199 non-null  float64\n",
      " 73  company(1th)                       42476 non-null  object \n",
      " 74  company(2th)                       32065 non-null  object \n",
      " 75  company(3th)                       22487 non-null  object \n",
      " 76  company_location(1th)              42476 non-null  object \n",
      " 77  company_location(2th)              32065 non-null  object \n",
      " 78  company_location(3th)              22487 non-null  object \n",
      " 79  min_exp_time                       42476 non-null  float64\n",
      " 80  max_exp_time                       42476 non-null  float64\n",
      " 81  company_count_2018                 18421 non-null  float64\n",
      " 82  company_count_2017                 27604 non-null  float64\n",
      " 83  company_count_2016                 32312 non-null  float64\n",
      "dtypes: float64(72), int64(1), object(11)\n",
      "memory usage: 34.4+ MB\n"
     ]
    }
   ],
   "source": [
    "df_train.info()"
   ]
  },
  {
   "cell_type": "code",
   "execution_count": 18,
   "id": "d496792d",
   "metadata": {
    "execution": {
     "iopub.execute_input": "2023-02-17T09:55:51.581480Z",
     "iopub.status.busy": "2023-02-17T09:55:51.581012Z",
     "iopub.status.idle": "2023-02-17T09:55:51.624466Z",
     "shell.execute_reply": "2023-02-17T09:55:51.623338Z"
    },
    "papermill": {
     "duration": 0.057099,
     "end_time": "2023-02-17T09:55:51.628178",
     "exception": false,
     "start_time": "2023-02-17T09:55:51.571079",
     "status": "completed"
    },
    "tags": []
   },
   "outputs": [
    {
     "name": "stdout",
     "output_type": "stream",
     "text": [
      "<class 'pandas.core.frame.DataFrame'>\n",
      "Int64Index: 13255 entries, 17449 to 16036\n",
      "Data columns (total 83 columns):\n",
      " #   Column                             Non-Null Count  Dtype  \n",
      "---  ------                             --------------  -----  \n",
      " 0   industry                           13239 non-null  object \n",
      " 1   location                           13255 non-null  object \n",
      " 2   graduate                           9859 non-null   object \n",
      " 3   master                             4014 non-null   object \n",
      " 4   phd                                481 non-null    object \n",
      " 5   arabic                             6182 non-null   float64\n",
      " 6   english                            6182 non-null   float64\n",
      " 7   french                             6182 non-null   float64\n",
      " 8   german                             6182 non-null   float64\n",
      " 9   russian                            6182 non-null   float64\n",
      " 10  spanish                            6182 non-null   float64\n",
      " 11  turkish                            6182 non-null   float64\n",
      " 12  .NET                               11551 non-null  float64\n",
      " 13  AJAX                               11551 non-null  float64\n",
      " 14  ASP.NET                            11551 non-null  float64\n",
      " 15  ASP.NET MVC                        11551 non-null  float64\n",
      " 16  Agile Methodologies                11551 non-null  float64\n",
      " 17  Android                            11551 non-null  float64\n",
      " 18  AutoCAD                            11551 non-null  float64\n",
      " 19  C                                  11551 non-null  float64\n",
      " 20  C#                                 11551 non-null  float64\n",
      " 21  C++                                11551 non-null  float64\n",
      " 22  CSS                                11551 non-null  float64\n",
      " 23  Docker                             11551 non-null  float64\n",
      " 24  Eclipse                            11551 non-null  float64\n",
      " 25  Ekip Çalışması                     11551 non-null  float64\n",
      " 26  English                            11551 non-null  float64\n",
      " 27  Entity Framework                   11551 non-null  float64\n",
      " 28  Git                                11551 non-null  float64\n",
      " 29  HTML                               11551 non-null  float64\n",
      " 30  HTML5                              11551 non-null  float64\n",
      " 31  Hibernate                          11551 non-null  float64\n",
      " 32  JIRA                               11551 non-null  float64\n",
      " 33  JSON                               11551 non-null  float64\n",
      " 34  Java                               11551 non-null  float64\n",
      " 35  JavaScript                         11551 non-null  float64\n",
      " 36  Linux                              11551 non-null  float64\n",
      " 37  Matlab                             11551 non-null  float64\n",
      " 38  Microsoft Excel                    11551 non-null  float64\n",
      " 39  Microsoft Office                   11551 non-null  float64\n",
      " 40  Microsoft SQL Server               11551 non-null  float64\n",
      " 41  Microsoft Word                     11551 non-null  float64\n",
      " 42  MongoDB                            11551 non-null  float64\n",
      " 43  MySQL                              11551 non-null  float64\n",
      " 44  Mühendislik                        11551 non-null  float64\n",
      " 45  Node.js                            11551 non-null  float64\n",
      " 46  OOP                                11551 non-null  float64\n",
      " 47  OOP (Nesne Yönelimli Programlama)  11551 non-null  float64\n",
      " 48  Object-Oriented Programming (OOP)  11551 non-null  float64\n",
      " 49  PHP                                11551 non-null  float64\n",
      " 50  PL/SQL                             11551 non-null  float64\n",
      " 51  Photoshop                          11551 non-null  float64\n",
      " 52  PostgreSQL                         11551 non-null  float64\n",
      " 53  Programming                        11551 non-null  float64\n",
      " 54  Proje Yönetimi                     11551 non-null  float64\n",
      " 55  Project Management                 11551 non-null  float64\n",
      " 56  Python                             11551 non-null  float64\n",
      " 57  React.js                           11551 non-null  float64\n",
      " 58  SQL                                11551 non-null  float64\n",
      " 59  Scrum                              11551 non-null  float64\n",
      " 60  Software Development               11551 non-null  float64\n",
      " 61  Software Engineering               11551 non-null  float64\n",
      " 62  Spring Framework                   11551 non-null  float64\n",
      " 63  T-SQL                              11551 non-null  float64\n",
      " 64  Visual Studio                      11551 non-null  float64\n",
      " 65  Web Development                    11551 non-null  float64\n",
      " 66  Web Geliştirme                     11551 non-null  float64\n",
      " 67  Web Services                       11551 non-null  float64\n",
      " 68  XML                                11551 non-null  float64\n",
      " 69  Yazılım Geliştirme                 11551 non-null  float64\n",
      " 70  jQuery                             11551 non-null  float64\n",
      " 71  İngilizce                          11551 non-null  float64\n",
      " 72  company(1th)                       10526 non-null  object \n",
      " 73  company(2th)                       8060 non-null   object \n",
      " 74  company(3th)                       5645 non-null   object \n",
      " 75  company_location(1th)              10526 non-null  object \n",
      " 76  company_location(2th)              8060 non-null   object \n",
      " 77  company_location(3th)              5645 non-null   object \n",
      " 78  min_exp_time                       10526 non-null  float64\n",
      " 79  max_exp_time                       10526 non-null  float64\n",
      " 80  company_count_2018                 4645 non-null   float64\n",
      " 81  company_count_2017                 6868 non-null   float64\n",
      " 82  company_count_2016                 7976 non-null   float64\n",
      "dtypes: float64(72), object(11)\n",
      "memory usage: 8.5+ MB\n"
     ]
    }
   ],
   "source": [
    "df_test.info()"
   ]
  },
  {
   "cell_type": "markdown",
   "id": "b8e738b7",
   "metadata": {
    "papermill": {
     "duration": 0.008346,
     "end_time": "2023-02-17T09:55:51.645360",
     "exception": false,
     "start_time": "2023-02-17T09:55:51.637014",
     "status": "completed"
    },
    "tags": []
   },
   "source": [
    "### Encoding"
   ]
  },
  {
   "cell_type": "code",
   "execution_count": 19,
   "id": "baaf740f",
   "metadata": {
    "execution": {
     "iopub.execute_input": "2023-02-17T09:55:51.665124Z",
     "iopub.status.busy": "2023-02-17T09:55:51.664150Z",
     "iopub.status.idle": "2023-02-17T09:55:51.671495Z",
     "shell.execute_reply": "2023-02-17T09:55:51.670295Z"
    },
    "papermill": {
     "duration": 0.019737,
     "end_time": "2023-02-17T09:55:51.673755",
     "exception": false,
     "start_time": "2023-02-17T09:55:51.654018",
     "status": "completed"
    },
    "tags": []
   },
   "outputs": [],
   "source": [
    "cat_cols = [col for col in df_test.columns if df_test[col].dtype == 'object']\n",
    "num_cols = [col for col in df_test.columns if df_test[col].dtype != 'object']"
   ]
  },
  {
   "cell_type": "code",
   "execution_count": 20,
   "id": "14f8b008",
   "metadata": {
    "execution": {
     "iopub.execute_input": "2023-02-17T09:55:51.693948Z",
     "iopub.status.busy": "2023-02-17T09:55:51.692689Z",
     "iopub.status.idle": "2023-02-17T09:55:51.858793Z",
     "shell.execute_reply": "2023-02-17T09:55:51.857615Z"
    },
    "papermill": {
     "duration": 0.179168,
     "end_time": "2023-02-17T09:55:51.861890",
     "exception": false,
     "start_time": "2023-02-17T09:55:51.682722",
     "status": "completed"
    },
    "tags": []
   },
   "outputs": [],
   "source": [
    "for col in cat_cols:\n",
    "    train_cats  = set(df_train[col].unique())\n",
    "    test_cats   = set(df_test[col].unique())\n",
    "    common_cats = set.intersection(train_cats, test_cats)\n",
    "    \n",
    "    df_train.loc[~df_train[col].isin(common_cats), col] = 'other'\n",
    "    df_test.loc[~df_test[col].isin(common_cats), col] = 'other'"
   ]
  },
  {
   "cell_type": "code",
   "execution_count": 21,
   "id": "e87236d4",
   "metadata": {
    "execution": {
     "iopub.execute_input": "2023-02-17T09:55:51.883922Z",
     "iopub.status.busy": "2023-02-17T09:55:51.883503Z",
     "iopub.status.idle": "2023-02-17T09:55:52.280021Z",
     "shell.execute_reply": "2023-02-17T09:55:52.278877Z"
    },
    "papermill": {
     "duration": 0.410796,
     "end_time": "2023-02-17T09:55:52.283033",
     "exception": false,
     "start_time": "2023-02-17T09:55:51.872237",
     "status": "completed"
    },
    "tags": []
   },
   "outputs": [],
   "source": [
    "df_all = pd.concat([df_train, df_test], axis=0)\n",
    "\n",
    "for col in cat_cols:\n",
    "    df_all[col] = df_all[col].factorize()[0]\n",
    "\n",
    "df_all[cat_cols] = df_all[cat_cols].astype('category')\n",
    "df_all[num_cols] = df_all[num_cols].fillna(-1)\n",
    "\n",
    "df_train = df_all.loc[df_train.index, df_train.columns]\n",
    "df_test = df_all.loc[df_test.index, df_test.columns]"
   ]
  },
  {
   "cell_type": "markdown",
   "id": "d1041b50",
   "metadata": {
    "papermill": {
     "duration": 0.008254,
     "end_time": "2023-02-17T09:55:52.300019",
     "exception": false,
     "start_time": "2023-02-17T09:55:52.291765",
     "status": "completed"
    },
    "tags": []
   },
   "source": [
    "### Training"
   ]
  },
  {
   "cell_type": "code",
   "execution_count": null,
   "id": "e2bc1f60",
   "metadata": {
    "execution": {
     "iopub.execute_input": "2023-02-17T09:55:52.318818Z",
     "iopub.status.busy": "2023-02-17T09:55:52.318406Z",
     "iopub.status.idle": "2023-02-17T09:58:09.158184Z",
     "shell.execute_reply": "2023-02-17T09:58:09.156762Z"
    },
    "papermill": {
     "duration": 136.853395,
     "end_time": "2023-02-17T09:58:09.161870",
     "exception": false,
     "start_time": "2023-02-17T09:55:52.308475",
     "status": "completed"
    },
    "tags": []
   },
   "outputs": [],
   "source": [
    "X, y = df_train.drop(columns=[target]), df_train[target]\n",
    "clf = RandomForestClassifier(n_estimators=200, class_weight='balanced_subsample', random_state=42)\n",
    "cv  = StratifiedKFold(shuffle=True, random_state=42)\n",
    "\n",
    "scores = cross_val_score(clf, X, y, cv=cv, scoring='accuracy')"
   ]
  },
  {
   "cell_type": "code",
   "execution_count": null,
   "id": "b6289c61",
   "metadata": {
    "execution": {
     "iopub.execute_input": "2023-02-17T09:58:09.183558Z",
     "iopub.status.busy": "2023-02-17T09:58:09.182755Z",
     "iopub.status.idle": "2023-02-17T09:58:09.189991Z",
     "shell.execute_reply": "2023-02-17T09:58:09.188874Z"
    },
    "papermill": {
     "duration": 0.021368,
     "end_time": "2023-02-17T09:58:09.192929",
     "exception": false,
     "start_time": "2023-02-17T09:58:09.171561",
     "status": "completed"
    },
    "tags": []
   },
   "outputs": [],
   "source": [
    "print(f'Scores mean: {np.mean(scores):.4f}')\n",
    "print(f'Scores std: {np.std(scores):.4f}')"
   ]
  },
  {
   "cell_type": "code",
   "execution_count": null,
   "id": "732e5950",
   "metadata": {
    "execution": {
     "iopub.execute_input": "2023-02-17T09:58:09.214871Z",
     "iopub.status.busy": "2023-02-17T09:58:09.214386Z",
     "iopub.status.idle": "2023-02-17T09:58:45.296399Z",
     "shell.execute_reply": "2023-02-17T09:58:45.294872Z"
    },
    "papermill": {
     "duration": 36.101292,
     "end_time": "2023-02-17T09:58:45.304417",
     "exception": false,
     "start_time": "2023-02-17T09:58:09.203125",
     "status": "completed"
    },
    "tags": []
   },
   "outputs": [],
   "source": [
    "clf.fit(X, y)\n",
    "df_subm.loc[df_test.index, target] = clf.predict(df_test)\n",
    "\n",
    "df_subm[target] = df_subm[target].astype(int)\n",
    "df_subm[target].value_counts()"
   ]
  },
  {
   "cell_type": "code",
   "execution_count": null,
   "id": "2cecf86b",
   "metadata": {
    "execution": {
     "iopub.execute_input": "2023-02-17T09:58:45.324234Z",
     "iopub.status.busy": "2023-02-17T09:58:45.323777Z",
     "iopub.status.idle": "2023-02-17T09:58:45.347115Z",
     "shell.execute_reply": "2023-02-17T09:58:45.346258Z"
    },
    "papermill": {
     "duration": 0.036283,
     "end_time": "2023-02-17T09:58:45.349623",
     "exception": false,
     "start_time": "2023-02-17T09:58:45.313340",
     "status": "completed"
    },
    "tags": []
   },
   "outputs": [],
   "source": [
    "df_subm.to_csv('submission.csv')"
   ]
  },
  {
   "cell_type": "code",
   "execution_count": null,
   "id": "dc7c7b8a",
   "metadata": {
    "papermill": {
     "duration": 0.008952,
     "end_time": "2023-02-17T09:58:45.368291",
     "exception": false,
     "start_time": "2023-02-17T09:58:45.359339",
     "status": "completed"
    },
    "tags": []
   },
   "outputs": [],
   "source": []
  }
 ],
 "metadata": {
  "kernelspec": {
   "display_name": "Python 3 (ipykernel)",
   "language": "python",
   "name": "python3"
  },
  "language_info": {
   "codemirror_mode": {
    "name": "ipython",
    "version": 3
   },
   "file_extension": ".py",
   "mimetype": "text/x-python",
   "name": "python",
   "nbconvert_exporter": "python",
   "pygments_lexer": "ipython3",
   "version": "3.9.13"
  },
  "papermill": {
   "default_parameters": {},
   "duration": 199.722641,
   "end_time": "2023-02-17T09:58:46.200273",
   "environment_variables": {},
   "exception": null,
   "input_path": "__notebook__.ipynb",
   "output_path": "__notebook__.ipynb",
   "parameters": {},
   "start_time": "2023-02-17T09:55:26.477632",
   "version": "2.3.4"
  }
 },
 "nbformat": 4,
 "nbformat_minor": 5
}
