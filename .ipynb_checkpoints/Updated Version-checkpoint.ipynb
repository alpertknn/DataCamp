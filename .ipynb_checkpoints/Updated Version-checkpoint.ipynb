{
 "cells": [
  {
   "cell_type": "code",
   "execution_count": 284,
   "id": "51cf69ca",
   "metadata": {},
   "outputs": [],
   "source": [
    "import pandas as pd\n",
    "import numpy as np\n",
    "import seaborn as sns \n",
    "import matplotlib.pyplot as plt\n",
    "import random\n",
    "from sklearn.preprocessing import LabelEncoder\n",
    "from warnings import filterwarnings\n",
    "from datetime import datetime\n",
    "filterwarnings(\"ignore\")"
   ]
  },
  {
   "cell_type": "code",
   "execution_count": 285,
   "id": "a4042bc5",
   "metadata": {},
   "outputs": [],
   "source": [
    "df_train = pd.read_csv(\"./csv_files/train_users.csv\")\n",
    "df_test = pd.read_csv(\"./csv_files/test_users.csv\")\n",
    "education = pd.read_csv(\"./csv_files/education.csv\")\n",
    "skills = pd.read_csv(\"./csv_files/skills.csv\")\n",
    "languages = pd.read_csv(\"./csv_files/languages.csv\")\n",
    "work_experience = pd.read_csv(\"./csv_files/work_experiences.csv\")\n",
    "submission = pd.read_csv(\"./csv_files/submission.csv\")"
   ]
  },
  {
   "cell_type": "markdown",
   "id": "cf5b02e0",
   "metadata": {},
   "source": [
    "## <font color = \"purple\">Updating dataset with values which are belong the before 2019 year. </font>"
   ]
  },
  {
   "cell_type": "code",
   "execution_count": 286,
   "id": "a405be78",
   "metadata": {},
   "outputs": [],
   "source": [
    "work_experience = work_experience.loc[work_experience[\"start_year_month\"].lt(201901)]"
   ]
  },
  {
   "cell_type": "markdown",
   "id": "93cb01ce",
   "metadata": {},
   "source": [
    "## <font color = \"purple\">Education Data Set </font>"
   ]
  },
  {
   "cell_type": "code",
   "execution_count": 287,
   "id": "10b7df7b",
   "metadata": {},
   "outputs": [
    {
     "data": {
      "text/html": [
       "<div>\n",
       "<style scoped>\n",
       "    .dataframe tbody tr th:only-of-type {\n",
       "        vertical-align: middle;\n",
       "    }\n",
       "\n",
       "    .dataframe tbody tr th {\n",
       "        vertical-align: top;\n",
       "    }\n",
       "\n",
       "    .dataframe thead th {\n",
       "        text-align: right;\n",
       "    }\n",
       "</style>\n",
       "<table border=\"1\" class=\"dataframe\">\n",
       "  <thead>\n",
       "    <tr style=\"text-align: right;\">\n",
       "      <th></th>\n",
       "      <th>user_id</th>\n",
       "      <th>school_name</th>\n",
       "      <th>degree</th>\n",
       "      <th>fields_of_study</th>\n",
       "      <th>start_year_month</th>\n",
       "      <th>end_year_month</th>\n",
       "    </tr>\n",
       "  </thead>\n",
       "  <tbody>\n",
       "    <tr>\n",
       "      <th>0</th>\n",
       "      <td>0</td>\n",
       "      <td>Anadolu Üniversitesi</td>\n",
       "      <td>NaN</td>\n",
       "      <td>NaN</td>\n",
       "      <td>NaN</td>\n",
       "      <td>NaN</td>\n",
       "    </tr>\n",
       "    <tr>\n",
       "      <th>1</th>\n",
       "      <td>0</td>\n",
       "      <td>Adıyaman Üniversitesi</td>\n",
       "      <td>NaN</td>\n",
       "      <td>NaN</td>\n",
       "      <td>NaN</td>\n",
       "      <td>NaN</td>\n",
       "    </tr>\n",
       "  </tbody>\n",
       "</table>\n",
       "</div>"
      ],
      "text/plain": [
       "   user_id            school_name degree fields_of_study  start_year_month  \\\n",
       "0        0   Anadolu Üniversitesi    NaN             NaN               NaN   \n",
       "1        0  Adıyaman Üniversitesi    NaN             NaN               NaN   \n",
       "\n",
       "   end_year_month  \n",
       "0             NaN  \n",
       "1             NaN  "
      ]
     },
     "execution_count": 287,
     "metadata": {},
     "output_type": "execute_result"
    }
   ],
   "source": [
    "education.head(2)"
   ]
  },
  {
   "cell_type": "markdown",
   "id": "5858ce3b",
   "metadata": {},
   "source": [
    "### <font color = \"purple\"> Data Preprocessing Steps </font>\n",
    "- We can gather information about users' university degree, so we need to transform data to able to benefit from it.\n",
    "- Therefore, we can count that how many degree/degrees are completed by per user by using <b><font color = \"orange\"> degree and user_id columns.</font></b>\n"
   ]
  },
  {
   "cell_type": "code",
   "execution_count": 288,
   "id": "dd405082",
   "metadata": {},
   "outputs": [
    {
     "data": {
      "text/plain": [
       "user_id                  0\n",
       "school_name              0\n",
       "degree               35842\n",
       "fields_of_study      19838\n",
       "start_year_month    134373\n",
       "end_year_month      134985\n",
       "dtype: int64"
      ]
     },
     "execution_count": 288,
     "metadata": {},
     "output_type": "execute_result"
    }
   ],
   "source": [
    "education.isna().sum()"
   ]
  },
  {
   "cell_type": "markdown",
   "id": "a91f23f3",
   "metadata": {},
   "source": [
    "#### <font color = \"red\">->> Taking non-null values of degree and study colums, as we know that year columns have many missing values. They will be dropped after visualisation processes. </font>"
   ]
  },
  {
   "cell_type": "code",
   "execution_count": 289,
   "id": "33de05a6",
   "metadata": {},
   "outputs": [],
   "source": [
    "education = education.loc[education[\"degree\"].notnull() & education[\"fields_of_study\"].notnull()]"
   ]
  },
  {
   "cell_type": "markdown",
   "id": "db056885",
   "metadata": {},
   "source": [
    "#### <font color = \"red\">->> Creating a Dictionary that contains similar verbs of certain degree types, to be able to clear or transform similar values, then locating the degree columns values and changing with them.</font>"
   ]
  },
  {
   "cell_type": "code",
   "execution_count": 290,
   "id": "74a72a1b",
   "metadata": {},
   "outputs": [],
   "source": [
    "fixed_degree = {\n",
    "    \"(?i).*(High School|Highschool|Lise|Lise Mezunu|Lisemezunu).*\":\"HighSchool\",\n",
    "    \"(?i).*(Ön|Önlisan|Ön lisanas|Associate's degree|Associate).*\":\"Associate\",\n",
    "    \"(?i).*(Lisans|bachelors|bachelor|BS|BS.c|Bsc|B.s|mezun|graduate|engineer|BA|Licence).*\":\"Bachelors\",\n",
    "    \"(?i).*(yüksek|yüksek lisans|master|masters|Msc|MS|MS.c|Masters's degree|M.S).*\" : \"Masters\",\n",
    "    \"(?i).*(Doktora|doctorate|phd|Ph.d).*\" :\"Doctorate\"\n",
    "}\n",
    "\n",
    "fixed_university = {\n",
    "    \"(?i).*(Middle East Technical University|Orta Doğu Teknik Üniversitesi|ODTU|METU).*\":\"Tier1\",\n",
    "    \"(?i).*(Hacettepe University|Hacettepe Üniversitesi).*\":\"Tier1\",\n",
    "    \"(?i).*(Boğaziçi|Bogazici|Bogaziçi).*\":\"Tier1\",\n",
    "    \"(?i).*(Ankara University|Ankara Üniversitesi).*\":\"Tier1\",\n",
    "    \"(?i).*(Koç University|Koç Üniversitesi).*\":\"Tier1\",\n",
    "    \"(?i).*(Bilkent University|Bilkent Üniversitesi).*\":\"Tier1\",\n",
    "    \"(?i).*(Istanbul University|Istanbul Üniversitesi).*\":\"Tier1\",\n",
    "    \"(?i).*(Atatürk Üniversitesi|Atatürk University).*\":\"Tier1\",\n",
    "    \"(?i).*(Gazi University|Gazi Üniversitesi).*\":\"Tier1\",\n",
    "    \"(?i).*(Ege University|Ege Üniversitesi).*\":\"Tier1\",\n",
    "    \"(?i).*(Dokuz Eylül University|Dokuz Eylül Üniversitesi).*\":\"Tier1\",\n",
    "    \"(?i).*(Sabanci University|Sabanci Üniveritesi).*\":\"Tier1\",\n",
    "    \"(?i).*(Yildiz Technical University|Yıldız Teknik Üniversitesi|YTÜ).*\":\"Tier1\",\n",
    "    \"(?i).*(University of Anatolia|Anadolu Üniversitesi).*\":\"Tier1\",\n",
    "    \"(?i).*(Marmara University|Marmara Üniversitesi).*\":\"Tier1\",\n",
    "    \"(?i).*(Firat University|Fırat Üniversitesi).*\":\"Tier1\",\n",
    "    \"(?i).*(Istanbul Bilgi University|İstanbul Bilgi Üniversitesi).*\":\"Tier1\",\n",
    "    \"(?i).*(Erciyes University|Erciyes Üniversitesi).*\":\"Tier1\",\n",
    "    \"(?i).*(Sakarya University|Sakarya Üniversitesi).*\":\"Tier1\",\n",
    "    \"(?i).*(Akdeniz University|Akdeniz Üniversitesi).*\":\"Tier1\",\n",
    "    \"(?i).*(Ondokuz Mayis University|Ondokuz Mayıs Üniversitesi).*\":\"Tier1\",\n",
    "    \"(?i).*(Uludağ|Uludag).*\":\"Tier1\",\n",
    "    \"(?i).*(Karabük Üniversitesi:Karabük University).*\":\"Tier1\",\n",
    "    \"(?i).*(Karadeniz Technical University|Karadeniz Teknik Üniversitesi).*\":\"Tier1\",\n",
    "    \"(?i).*(Fırat University|Fırat Üniversitesi).*\":\"Tier1\",\n",
    "    \"(?i).*(Istanbul Technical|İstanbul Teknik Üniversitesi|İstanbul Teknik).*\":\"Tier1\",   \n",
    "    \"(?i).*(Bahçeşehir Üniversitesi|Bahcesehir University|BAU).*\":\"Tier2\",\n",
    "    \"(?i).*(Çankaya University|Çankaya Üniversitesi|Cankaya University).*\":\"Tier2\",\n",
    "    \"(?i).*(Gaziantep University|Gaziantep Üniversites).*\":\"Tier2\",\n",
    "    \"(?i).*(Izmir Institute of Technology|İzmir Yüksek Teknoloji Enstitüsü).*\":\"Tier2\",\n",
    "    \"(?i).*(Eskişehir Osmangazi University|Eskişehir Osmangazi  Üniversitesi).*\":\"Tier2\",\n",
    "    \"(?i).*(Özyeğin University|Ozyegin University|Özyeğin Üniversitesi).*\":\"Tier2\",\n",
    "    \"(?i).*(Cumhuriyet University|Sivas Cumhuriyet Üniversitesi|Cumhuriyet Üniversitesi).*\":\"Tier2\",\n",
    "    \"(?i).*(Gebze Technological University|Gebze Teknik Üniversitesi).*\":\"Tier2\",\n",
    "    \"(?i).*(Suleyman Demirel University|Süleyman Demirel Üniversitesi|Süleyman Demirel University|University of Suleyman Demirel).*\":\"Tier2\",\n",
    "    \"(?i).*(Istanbul Aydin University|İstanbul Aydın Üniversitesi|Istanbul Aydın University).*\":\"Tier2\",\n",
    "    \"(?i).*(TOBB Ekonomi ve Teknoloji Üniversitesi|TOBB University of Economics and Technology).*\":\"Tier2\",\n",
    "    \"(?i).*(Mersin University|Mersin Üniversitesi).*\":\"Tier2\",\n",
    "    \"(?i).*(Pamukkale University|Pamukkale Üniversitesi).*\":\"Tier2\",\n",
    "    \"(?i).*(Kocaeli University|Kocaeli Üniversitesi).*\":\"Tier2\",\n",
    "    \"(?i).*(Harran University|Harran Üniversitesi).*\":\"Tier2\",\n",
    "    \"(?i).*(Yüzüncü Yil University|Yüzüncü Yil Üniversitesi|Yüzüncü Yıl Üniversitesi).*\":\"Tier2\",\n",
    "    \"(?i).*(Trakya University|Trakya Üniversitesi).*\":\"Tier2\",\n",
    "    \"(?i).*(Çanakkale Onsekiz Mart University|Çanakkale Onsekiz Mart Üniversitesi|Canakkale Onsekiz Mart University).*\":\"Tier2\",\n",
    "    \"(?i).*(İnönü University Malatya|İnönü Üniversitesi|İnönü University).*\":\"Tier2\",\n",
    "    \"(?i).*(Başkent University|Başkent Üniversitesi).*\":\"Tier2\",\n",
    "    \"(?i).*(Düzce University|Düzce Üniversitesi).*\":\"Tier2\",\n",
    "    \"(?i).*(Abant Izzet Baysal University|Abant Izzet Baysal Üniversitesi|Abant İzzet Baysal Üniversitesi).*\":\"Tier2\",\n",
    "    \"(?i).*(Muğla Sıtkı Koçman University|Muğla Sıtkı Koçman Üniversitesi|Mugla Sitki Kocman University|Mugla University).*\":\"Tier2\",\n",
    "    \"(?i).*(Gaziosmanpaşa University|Gaziosmanpaşa Üniversitesi|Gaziosmanpasa University).*\":\"Tier2\",\n",
    "    \"(?i).*(Istanbul Medipol University|Istanbul Medipol Üniversitesi|İstanbul Medipol Üniversitesi).*\":\"Tier3\",\n",
    "    \"(?i).*(Yeditepe University|Yeditepe Üniversitesi).*\":\"Tier3\",\n",
    "    \"(?i).*(Gaziantep University|Gaziantep Üniversites).*\":\"Tier3\",\n",
    "    \"(?i).*(Necmettin Erbakan Üniversitesi|Necmettin Erbakan University).*\":\"Tier3\",\n",
    "    \"(?i).*(Çukurova University|Çukurova Üniversitesi|Cukurova University).*\":\"Tier3\",\n",
    "    \"(?i).*(Kafkas University|Kafkas Üniversitesi).*\":\"Tier3\",\n",
    "    \"(?i).*(Adnan Menderes University|Adnan Menderes Üniversitesi).*\":\"Tier3\",\n",
    "    \"(?i).*(Atilim University|Atilim Üniversitesi|Atılım Üniversitesi|Atılım University).*\":\"Tier3\",\n",
    "    \"(?i).*(Healh Sciences University Istanbul|Sağlık Bilimleri Üniversitesi).*\":\"Tier3\",\n",
    "    \"(?i).*(Istanbul Aydin University|İstanbul Aydın Üniversitesi|Istanbul Aydın University).*\":\"Tier3\",\n",
    "    \"(?i).*(İstanbul Medeniyet Üniversitesi|İstanbul Medeniyet University|Istanbul Medeniyet Üniversitesi|Istanbul Medeniyet University).*\":\"Tier3\",\n",
    "    \"(?i).*(Afyon Kocatepe University|Afyon Kocatepe Üniversitesi).*\":\"Tier3\",\n",
    "    \"(?i).*(Balikesir University|Balikesir Üniversitesi|Balıkesir University|Balıkesir Üniversitesi).*\":\"Tier3\",     \n",
    "    \"(?i).*(Giresun University|Giresun Üniversitesi).*\":\"Tier3\",\n",
    "    \"(?i).*(Zonguldak Bülent Ecevit University|Zonguldak Bülent Ecevit Üniversitesi|Zonguldak Bulent Ecevıt).*\":\"Tier3\",\n",
    "    \"(?i).*(Selçuk University|Selçuk Üniversitesi|Selcuk Üniversitesi|Selcuk University).*\":\"Tier3\",\n",
    "    \"(?i).*(Yaşar University|Yaşar Üniversitesi|Yasar University|Yasar Üniversitesi).*\":\"Tier3\",\n",
    "    \"(?i).*(Bingöl University|Bingöl Üniversitesi).*\":\"Tier3\",\n",
    "    \"(?i).*(Bozok University|Bozok Üniversitesi).*\":\"Tier3\",\n",
    "    \"(?i).*(Gelişim University|Gelişim Üniversitesi|Gelisim University|Gelisim Üniversitesi).*\":\"Tier3\",\n",
    "    \"(?i).*(Karamanoğlu Mehmetbey University|Karamanoglu Mehmetbey University|Karamanoğlu Mehmetbey Üniversitesi|Karamanoglu Mehmetbey Üniversitesi).*\":\"Tier3\",\n",
    "    \"(?i).*(Kahramanmaraş Sütçü İmam University|Kahramanmaraş Sütçü İmam Üniversitesi|Kahramanmaras Sutcu İmam Üniversitesi).*\":\"Tier3\",\n",
    "    \"(?i).*(Bartin University|Bartin Üniversitesi).*\":\"Tier3\",\n",
    "    \"(?i).*(Izmir University of Economics|İzmir Ekonomi Üniversitesi).*\":\"Tier3\",    \n",
    "    \"(?i).*(Kadir Has University|Kadir Has Üniversitesi).*\":\"Tier3\",\n",
    "    \"(?i).*(Oxford|Kaliforniya|Harvard|Stanford|Cambridge|Massachusetts|Princeton|Kaliforniya| Berkeley|Yale|Chicago|Kolombiya|Imperial|Johns Hopkins|Pensilvanya|ETH Zürih|Pekin|Tsinghua|Toronto|Londra).*\":\"Tier_Unique\"   \n",
    "  \n",
    "}\n"
   ]
  },
  {
   "cell_type": "code",
   "execution_count": 291,
   "id": "9abd30e6",
   "metadata": {},
   "outputs": [],
   "source": [
    "education.loc[:,\"degree\"] = education.loc[:,\"degree\"].replace(fixed_degree,regex=True)\n",
    "education.loc[:,\"school_name\"] = education.loc[:,\"school_name\"].replace(fixed_university,regex=True)"
   ]
  },
  {
   "cell_type": "code",
   "execution_count": 292,
   "id": "a2d8ac8a",
   "metadata": {
    "scrolled": true
   },
   "outputs": [],
   "source": [
    "education.loc[~education[\"degree\"].isin(fixed_degree.values()),\"degree\"] = \"Other\" "
   ]
  },
  {
   "cell_type": "code",
   "execution_count": 293,
   "id": "44cd34ae",
   "metadata": {},
   "outputs": [],
   "source": [
    "education = education[education[\"school_name\"].isin(fixed_university.values())]"
   ]
  },
  {
   "cell_type": "markdown",
   "id": "d4327b81",
   "metadata": {},
   "source": [
    "#### <font color = \"red\">->> Dropping duplicated values.  </font>"
   ]
  },
  {
   "cell_type": "code",
   "execution_count": 294,
   "id": "3294c255",
   "metadata": {},
   "outputs": [],
   "source": [
    "education.drop_duplicates([\"degree\",\"user_id\"],inplace=True)"
   ]
  },
  {
   "cell_type": "markdown",
   "id": "5237433a",
   "metadata": {},
   "source": [
    "### <font color = \"purple\"> Visualisation Side </font>"
   ]
  },
  {
   "cell_type": "markdown",
   "id": "ef548367",
   "metadata": {},
   "source": [
    "#### <font color = \"red\"> ->> This graph shows us a distribution of top three university choices in education dataset.</font>"
   ]
  },
  {
   "cell_type": "code",
   "execution_count": 295,
   "id": "98c4f371",
   "metadata": {},
   "outputs": [
    {
     "data": {
      "image/png": "[encoded data removed]",
      "text/plain": [
       "<Figure size 900x500 with 1 Axes>"
      ]
     },
     "metadata": {},
     "output_type": "display_data"
    }
   ],
   "source": [
    "plt.figure(figsize=(9,5))\n",
    "sns.barplot(x=education[\"school_name\"].value_counts()[:3].index,y=education[\"school_name\"].value_counts()[:3]);\n",
    "plt.xlabel(\"Universities\",fontsize=15)\n",
    "plt.ylabel(\"Number of People\",fontsize=15)\n",
    "plt.title(\"The Distribution of Top Three Universities\")\n",
    "plt.show()"
   ]
  },
  {
   "cell_type": "markdown",
   "id": "cbb540ad",
   "metadata": {},
   "source": [
    "#### <font color = \"red\"> ->> This graph shows us which degrees are completed by how many people</font>"
   ]
  },
  {
   "cell_type": "code",
   "execution_count": 296,
   "id": "53f064e8",
   "metadata": {},
   "outputs": [
    {
     "data": {
      "image/png": "[encoded data removed]",
      "text/plain": [
       "<Figure size 640x480 with 1 Axes>"
      ]
     },
     "metadata": {},
     "output_type": "display_data"
    }
   ],
   "source": [
    "sns.barplot(x=education[\"degree\"].value_counts().index,y=education[\"degree\"].value_counts());\n",
    "plt.xlabel(\"Degree\",fontsize=15)\n",
    "plt.ylabel(\"Number of People\",fontsize=15)\n",
    "plt.title(\"The Distribution University Degrees\")\n",
    "plt.show()"
   ]
  },
  {
   "cell_type": "markdown",
   "id": "4a314b6a",
   "metadata": {},
   "source": [
    "#### <font color = \"red\">->> Finalizing dataset by creating dummy variables to able to processed by machine learning side, and dropping unreleated columns.</font>"
   ]
  },
  {
   "cell_type": "code",
   "execution_count": 297,
   "id": "a0461555",
   "metadata": {
    "scrolled": true
   },
   "outputs": [],
   "source": [
    "education = education.drop(columns=[\"fields_of_study\",\"start_year_month\",\"end_year_month\"])\n"
   ]
  },
  {
   "cell_type": "code",
   "execution_count": 298,
   "id": "9dbdc540",
   "metadata": {
    "scrolled": true
   },
   "outputs": [],
   "source": [
    "education = pd.get_dummies(education,drop_first=True)"
   ]
  },
  {
   "cell_type": "code",
   "execution_count": 299,
   "id": "a71aa528",
   "metadata": {
    "scrolled": true
   },
   "outputs": [],
   "source": [
    "education = education.groupby(by=\"user_id\").sum()"
   ]
  },
  {
   "cell_type": "code",
   "execution_count": 300,
   "id": "384b3eac",
   "metadata": {
    "scrolled": true
   },
   "outputs": [
    {
     "name": "stdout",
     "output_type": "stream",
     "text": [
      "<class 'pandas.core.frame.DataFrame'>\n",
      "Int64Index: 53389 entries, 1 to 66273\n",
      "Data columns (total 8 columns):\n",
      " #   Column                   Non-Null Count  Dtype\n",
      "---  ------                   --------------  -----\n",
      " 0   school_name_Tier2        53389 non-null  uint8\n",
      " 1   school_name_Tier3        53389 non-null  uint8\n",
      " 2   school_name_Tier_Unique  53389 non-null  uint8\n",
      " 3   degree_Bachelors         53389 non-null  uint8\n",
      " 4   degree_Doctorate         53389 non-null  uint8\n",
      " 5   degree_HighSchool        53389 non-null  uint8\n",
      " 6   degree_Masters           53389 non-null  uint8\n",
      " 7   degree_Other             53389 non-null  uint8\n",
      "dtypes: uint8(8)\n",
      "memory usage: 834.2 KB\n"
     ]
    }
   ],
   "source": [
    "education.info()"
   ]
  },
  {
   "cell_type": "markdown",
   "id": "2a3a0e37",
   "metadata": {},
   "source": [
    "## <font color = \"purple\">Skill Data Set </font>"
   ]
  },
  {
   "cell_type": "markdown",
   "id": "27e00033",
   "metadata": {},
   "source": [
    "### <font color = \"purple\"> Data Preprocessing Steps </font>\n",
    "- In this dataset, we can take part of these skills to be able to process on machine learning side.\n",
    "- Therefore, we can take first 30 values of skill column, and then will <b><font color = \"orange\">create dummy variables of them.</font></b>\n"
   ]
  },
  {
   "cell_type": "code",
   "execution_count": 301,
   "id": "3e75063f",
   "metadata": {},
   "outputs": [],
   "source": [
    "values = list(skills[\"skill\"].value_counts()[:10].index)"
   ]
  },
  {
   "cell_type": "markdown",
   "id": "a67b193d",
   "metadata": {},
   "source": [
    "### <font color = \"purple\"> Visualisation Side </font>"
   ]
  },
  {
   "cell_type": "markdown",
   "id": "8e5974b0",
   "metadata": {},
   "source": [
    "#### <font color = \"red\">->> Countplot didnt work so I needed to convert it to the barplot form </font>"
   ]
  },
  {
   "cell_type": "code",
   "execution_count": 302,
   "id": "8b70c55f",
   "metadata": {},
   "outputs": [],
   "source": [
    "temp_df = pd.DataFrame({\"num_of_skills\":skills[\"user_id\"].value_counts()})"
   ]
  },
  {
   "cell_type": "code",
   "execution_count": 303,
   "id": "246f9523",
   "metadata": {},
   "outputs": [],
   "source": [
    "arr = []\n",
    "unique_vals = temp_df[\"num_of_skills\"].unique()\n",
    "for val in unique_vals:\n",
    "    arr.append(temp_df[temp_df[\"num_of_skills\"]==val].count().values[0])\n",
    "    "
   ]
  },
  {
   "cell_type": "markdown",
   "id": "6ef76e55",
   "metadata": {},
   "source": [
    "#### <font color = \"red\">->> This graph shows us that how many people have how much skill. </font>"
   ]
  },
  {
   "cell_type": "code",
   "execution_count": 304,
   "id": "00e347b5",
   "metadata": {
    "scrolled": false
   },
   "outputs": [
    {
     "data": {
      "image/png": "[encoded data removed]",
      "text/plain": [
       "<Figure size 1300x400 with 1 Axes>"
      ]
     },
     "metadata": {},
     "output_type": "display_data"
    }
   ],
   "source": [
    "plt.figure(figsize=(13,4))\n",
    "sns.barplot(x=unique_vals, y=arr);\n",
    "plt.xlabel(\"Num of Skills\",fontsize=15)\n",
    "plt.ylabel(\"Number of People\",fontsize=15)\n",
    "plt.title(\"The Distribution of Skills by People\")\n",
    "plt.show()"
   ]
  },
  {
   "cell_type": "markdown",
   "id": "ba4f052f",
   "metadata": {},
   "source": [
    "#### <font color = \"red\">->> This barplot demonstrates that first 10 skills distribution. </font>"
   ]
  },
  {
   "cell_type": "code",
   "execution_count": 305,
   "id": "909692ab",
   "metadata": {
    "scrolled": false
   },
   "outputs": [
    {
     "data": {
      "image/png": "[encoded data removed]",
      "text/plain": [
       "<Figure size 1200x500 with 1 Axes>"
      ]
     },
     "metadata": {},
     "output_type": "display_data"
    }
   ],
   "source": [
    "plt.figure(figsize=(12,5))\n",
    "sns.barplot(x=values,y=skills[\"skill\"].value_counts()[:10]);"
   ]
  },
  {
   "cell_type": "markdown",
   "id": "2217833e",
   "metadata": {},
   "source": [
    "#### <font color = \"red\">->> Dropping duplicate values and updating dataset with selected skill values. </font>"
   ]
  },
  {
   "cell_type": "code",
   "execution_count": 306,
   "id": "11bb477e",
   "metadata": {},
   "outputs": [],
   "source": [
    "used_skills = skills['skill'].value_counts().iloc[:70].index\n",
    "\n",
    "skills = skills[skills['skill'].isin(used_skills)]\n",
    "skills['experience'] = True"
   ]
  },
  {
   "cell_type": "code",
   "execution_count": 307,
   "id": "254e7a7f",
   "metadata": {},
   "outputs": [
    {
     "data": {
      "text/html": [
       "<div>\n",
       "<style scoped>\n",
       "    .dataframe tbody tr th:only-of-type {\n",
       "        vertical-align: middle;\n",
       "    }\n",
       "\n",
       "    .dataframe tbody tr th {\n",
       "        vertical-align: top;\n",
       "    }\n",
       "\n",
       "    .dataframe thead th {\n",
       "        text-align: right;\n",
       "    }\n",
       "</style>\n",
       "<table border=\"1\" class=\"dataframe\">\n",
       "  <thead>\n",
       "    <tr style=\"text-align: right;\">\n",
       "      <th>skill</th>\n",
       "      <th>.NET</th>\n",
       "      <th>AJAX</th>\n",
       "      <th>ASP.NET</th>\n",
       "      <th>ASP.NET MVC</th>\n",
       "      <th>Agile Methodologies</th>\n",
       "      <th>Android</th>\n",
       "      <th>Android Development</th>\n",
       "      <th>Araştırma</th>\n",
       "      <th>AutoCAD</th>\n",
       "      <th>Bootstrap</th>\n",
       "      <th>...</th>\n",
       "      <th>Software Engineering</th>\n",
       "      <th>Spring Framework</th>\n",
       "      <th>T-SQL</th>\n",
       "      <th>Visual Studio</th>\n",
       "      <th>Web Development</th>\n",
       "      <th>Web Geliştirme</th>\n",
       "      <th>Web Services</th>\n",
       "      <th>XML</th>\n",
       "      <th>Yazılım Geliştirme</th>\n",
       "      <th>jQuery</th>\n",
       "    </tr>\n",
       "    <tr>\n",
       "      <th>user_id</th>\n",
       "      <th></th>\n",
       "      <th></th>\n",
       "      <th></th>\n",
       "      <th></th>\n",
       "      <th></th>\n",
       "      <th></th>\n",
       "      <th></th>\n",
       "      <th></th>\n",
       "      <th></th>\n",
       "      <th></th>\n",
       "      <th></th>\n",
       "      <th></th>\n",
       "      <th></th>\n",
       "      <th></th>\n",
       "      <th></th>\n",
       "      <th></th>\n",
       "      <th></th>\n",
       "      <th></th>\n",
       "      <th></th>\n",
       "      <th></th>\n",
       "      <th></th>\n",
       "    </tr>\n",
       "  </thead>\n",
       "  <tbody>\n",
       "    <tr>\n",
       "      <th>1</th>\n",
       "      <td>0</td>\n",
       "      <td>0</td>\n",
       "      <td>0</td>\n",
       "      <td>0</td>\n",
       "      <td>0</td>\n",
       "      <td>0</td>\n",
       "      <td>0</td>\n",
       "      <td>0</td>\n",
       "      <td>0</td>\n",
       "      <td>0</td>\n",
       "      <td>...</td>\n",
       "      <td>0</td>\n",
       "      <td>0</td>\n",
       "      <td>0</td>\n",
       "      <td>0</td>\n",
       "      <td>0</td>\n",
       "      <td>0</td>\n",
       "      <td>0</td>\n",
       "      <td>0</td>\n",
       "      <td>0</td>\n",
       "      <td>0</td>\n",
       "    </tr>\n",
       "    <tr>\n",
       "      <th>2</th>\n",
       "      <td>0</td>\n",
       "      <td>0</td>\n",
       "      <td>0</td>\n",
       "      <td>0</td>\n",
       "      <td>0</td>\n",
       "      <td>1</td>\n",
       "      <td>0</td>\n",
       "      <td>0</td>\n",
       "      <td>0</td>\n",
       "      <td>0</td>\n",
       "      <td>...</td>\n",
       "      <td>0</td>\n",
       "      <td>0</td>\n",
       "      <td>0</td>\n",
       "      <td>0</td>\n",
       "      <td>0</td>\n",
       "      <td>0</td>\n",
       "      <td>0</td>\n",
       "      <td>0</td>\n",
       "      <td>0</td>\n",
       "      <td>0</td>\n",
       "    </tr>\n",
       "    <tr>\n",
       "      <th>3</th>\n",
       "      <td>0</td>\n",
       "      <td>0</td>\n",
       "      <td>0</td>\n",
       "      <td>0</td>\n",
       "      <td>0</td>\n",
       "      <td>0</td>\n",
       "      <td>0</td>\n",
       "      <td>0</td>\n",
       "      <td>0</td>\n",
       "      <td>0</td>\n",
       "      <td>...</td>\n",
       "      <td>0</td>\n",
       "      <td>0</td>\n",
       "      <td>0</td>\n",
       "      <td>0</td>\n",
       "      <td>0</td>\n",
       "      <td>0</td>\n",
       "      <td>0</td>\n",
       "      <td>0</td>\n",
       "      <td>0</td>\n",
       "      <td>0</td>\n",
       "    </tr>\n",
       "    <tr>\n",
       "      <th>5</th>\n",
       "      <td>0</td>\n",
       "      <td>0</td>\n",
       "      <td>0</td>\n",
       "      <td>0</td>\n",
       "      <td>0</td>\n",
       "      <td>0</td>\n",
       "      <td>0</td>\n",
       "      <td>0</td>\n",
       "      <td>0</td>\n",
       "      <td>0</td>\n",
       "      <td>...</td>\n",
       "      <td>0</td>\n",
       "      <td>0</td>\n",
       "      <td>0</td>\n",
       "      <td>0</td>\n",
       "      <td>0</td>\n",
       "      <td>0</td>\n",
       "      <td>0</td>\n",
       "      <td>0</td>\n",
       "      <td>0</td>\n",
       "      <td>0</td>\n",
       "    </tr>\n",
       "    <tr>\n",
       "      <th>6</th>\n",
       "      <td>0</td>\n",
       "      <td>0</td>\n",
       "      <td>0</td>\n",
       "      <td>0</td>\n",
       "      <td>0</td>\n",
       "      <td>0</td>\n",
       "      <td>0</td>\n",
       "      <td>0</td>\n",
       "      <td>0</td>\n",
       "      <td>0</td>\n",
       "      <td>...</td>\n",
       "      <td>0</td>\n",
       "      <td>0</td>\n",
       "      <td>0</td>\n",
       "      <td>0</td>\n",
       "      <td>0</td>\n",
       "      <td>0</td>\n",
       "      <td>0</td>\n",
       "      <td>0</td>\n",
       "      <td>0</td>\n",
       "      <td>0</td>\n",
       "    </tr>\n",
       "  </tbody>\n",
       "</table>\n",
       "<p>5 rows × 69 columns</p>\n",
       "</div>"
      ],
      "text/plain": [
       "skill    .NET  AJAX  ASP.NET  ASP.NET MVC  Agile Methodologies  Android  \\\n",
       "user_id                                                                   \n",
       "1           0     0        0            0                    0        0   \n",
       "2           0     0        0            0                    0        1   \n",
       "3           0     0        0            0                    0        0   \n",
       "5           0     0        0            0                    0        0   \n",
       "6           0     0        0            0                    0        0   \n",
       "\n",
       "skill    Android Development  Araştırma  AutoCAD  Bootstrap  ...  \\\n",
       "user_id                                                      ...   \n",
       "1                          0          0        0          0  ...   \n",
       "2                          0          0        0          0  ...   \n",
       "3                          0          0        0          0  ...   \n",
       "5                          0          0        0          0  ...   \n",
       "6                          0          0        0          0  ...   \n",
       "\n",
       "skill    Software Engineering  Spring Framework  T-SQL  Visual Studio  \\\n",
       "user_id                                                                 \n",
       "1                           0                 0      0              0   \n",
       "2                           0                 0      0              0   \n",
       "3                           0                 0      0              0   \n",
       "5                           0                 0      0              0   \n",
       "6                           0                 0      0              0   \n",
       "\n",
       "skill    Web Development  Web Geliştirme  Web Services  XML  \\\n",
       "user_id                                                       \n",
       "1                      0               0             0    0   \n",
       "2                      0               0             0    0   \n",
       "3                      0               0             0    0   \n",
       "5                      0               0             0    0   \n",
       "6                      0               0             0    0   \n",
       "\n",
       "skill    Yazılım Geliştirme  jQuery  \n",
       "user_id                              \n",
       "1                         0       0  \n",
       "2                         0       0  \n",
       "3                         0       0  \n",
       "5                         0       0  \n",
       "6                         0       0  \n",
       "\n",
       "[5 rows x 69 columns]"
      ]
     },
     "execution_count": 307,
     "metadata": {},
     "output_type": "execute_result"
    }
   ],
   "source": [
    "skills = skills.drop_duplicates(['user_id', 'skill'])\n",
    "skills = pd.pivot(skills, index='user_id', columns='skill', values='experience')\n",
    "skills = skills.fillna(0).astype(int)\n",
    "skills = skills.drop(columns=[\"İngilizce\"])\n",
    "skills.head()"
   ]
  },
  {
   "cell_type": "markdown",
   "id": "c3e8b728",
   "metadata": {},
   "source": [
    "## <font color = \"purple\">Language Veri Seti </font>"
   ]
  },
  {
   "cell_type": "markdown",
   "id": "c435b89a",
   "metadata": {},
   "source": [
    "#### <font color = \"red\">->> Dropping Na values  </font>"
   ]
  },
  {
   "cell_type": "code",
   "execution_count": 308,
   "id": "d3ca0493",
   "metadata": {},
   "outputs": [],
   "source": [
    "languages.dropna(inplace=True)"
   ]
  },
  {
   "cell_type": "markdown",
   "id": "5d7b0680",
   "metadata": {},
   "source": [
    "#### <font color = \"red\">->> Fixing some language values to gather them as a one value, and giving priorities or values to proficiency values for processing side. </font>\n"
   ]
  },
  {
   "cell_type": "code",
   "execution_count": 309,
   "id": "866c4fbd",
   "metadata": {},
   "outputs": [],
   "source": [
    "fixed_language_vals = {\n",
    "    \"(?i).*(English|ingilizce|ingizce|inglizce|ingilizce|İngilizice|ing|eng|en|Ingles).*\":\"English\",\n",
    "    \"(?i).*(turkish|türkçe|Turk|türk|turkçe|türkçe|Turkish|Turkısh).*\":\"Turkish\",\n",
    "    \"(?i).*(Almanca|Deutsch|Deutsch|Deutch|almanca|German|Germany).*\":\"German\",\n",
    "    \"(?i).*(Francais|French|Fransız|Fransızca|Francais|Französisch|Français).*\":\"French\",\n",
    "    \"(?i).*(Italian|Italyanca|Italiano|Italien|Napolitano).*\":\"Italian\",\n",
    "    \"(?i).*(Spanish|Spani|Español|İspanyolca|Espańol).*\" :\"Spanish\",\n",
    "    \"(?i).*(Rusça|Russian|Russe|Russain|Rusca).*\" :\"Russian\",\n",
    "    \"(?i).*(Arabic|Arapça|Arapça|Arabish).*\" :\"Arabic\",\n",
    "    \"(?i).*(Japanese|Japonca|japonca|Japonca).*\" :\"Japanese\",\n",
    "}\n",
    "\n",
    "fixed_proficiency_vals = {\n",
    "    'elementary': 1,\n",
    "    'limited_working': 2,\n",
    "    'professional_working': 3,\n",
    "    'full_professional': 4,\n",
    "    'native_or_bilingual': 5         \n",
    "    \n",
    "}\n",
    "\n"
   ]
  },
  {
   "cell_type": "code",
   "execution_count": 310,
   "id": "7a651738",
   "metadata": {},
   "outputs": [
    {
     "data": {
      "text/plain": [
       "0        4\n",
       "1        5\n",
       "2        1\n",
       "4        5\n",
       "5        3\n",
       "        ..\n",
       "76054    4\n",
       "76058    3\n",
       "76059    5\n",
       "76060    3\n",
       "76061    1\n",
       "Name: proficiency, Length: 65401, dtype: int64"
      ]
     },
     "execution_count": 310,
     "metadata": {},
     "output_type": "execute_result"
    }
   ],
   "source": [
    "languages.loc[:, 'proficiency'].map(fixed_proficiency_vals)"
   ]
  },
  {
   "cell_type": "code",
   "execution_count": 311,
   "id": "d1f2ae06",
   "metadata": {},
   "outputs": [],
   "source": [
    "languages[\"language\"] = languages[\"language\"].replace(fixed_language_vals,regex=True)"
   ]
  },
  {
   "cell_type": "code",
   "execution_count": 312,
   "id": "59b4818b",
   "metadata": {
    "scrolled": false
   },
   "outputs": [
    {
     "data": {
      "text/html": [
       "<div>\n",
       "<style scoped>\n",
       "    .dataframe tbody tr th:only-of-type {\n",
       "        vertical-align: middle;\n",
       "    }\n",
       "\n",
       "    .dataframe tbody tr th {\n",
       "        vertical-align: top;\n",
       "    }\n",
       "\n",
       "    .dataframe thead th {\n",
       "        text-align: right;\n",
       "    }\n",
       "</style>\n",
       "<table border=\"1\" class=\"dataframe\">\n",
       "  <thead>\n",
       "    <tr style=\"text-align: right;\">\n",
       "      <th></th>\n",
       "      <th>user_id</th>\n",
       "      <th>language</th>\n",
       "      <th>proficiency</th>\n",
       "    </tr>\n",
       "  </thead>\n",
       "  <tbody>\n",
       "    <tr>\n",
       "      <th>0</th>\n",
       "      <td>8</td>\n",
       "      <td>English</td>\n",
       "      <td>4</td>\n",
       "    </tr>\n",
       "    <tr>\n",
       "      <th>1</th>\n",
       "      <td>8</td>\n",
       "      <td>Turkish</td>\n",
       "      <td>5</td>\n",
       "    </tr>\n",
       "    <tr>\n",
       "      <th>2</th>\n",
       "      <td>8</td>\n",
       "      <td>French</td>\n",
       "      <td>1</td>\n",
       "    </tr>\n",
       "    <tr>\n",
       "      <th>4</th>\n",
       "      <td>11</td>\n",
       "      <td>Turkish</td>\n",
       "      <td>5</td>\n",
       "    </tr>\n",
       "    <tr>\n",
       "      <th>5</th>\n",
       "      <td>11</td>\n",
       "      <td>English</td>\n",
       "      <td>3</td>\n",
       "    </tr>\n",
       "    <tr>\n",
       "      <th>...</th>\n",
       "      <td>...</td>\n",
       "      <td>...</td>\n",
       "      <td>...</td>\n",
       "    </tr>\n",
       "    <tr>\n",
       "      <th>76054</th>\n",
       "      <td>66262</td>\n",
       "      <td>English</td>\n",
       "      <td>4</td>\n",
       "    </tr>\n",
       "    <tr>\n",
       "      <th>76058</th>\n",
       "      <td>66272</td>\n",
       "      <td>English</td>\n",
       "      <td>3</td>\n",
       "    </tr>\n",
       "    <tr>\n",
       "      <th>76059</th>\n",
       "      <td>66273</td>\n",
       "      <td>Turkish</td>\n",
       "      <td>5</td>\n",
       "    </tr>\n",
       "    <tr>\n",
       "      <th>76060</th>\n",
       "      <td>66273</td>\n",
       "      <td>English</td>\n",
       "      <td>3</td>\n",
       "    </tr>\n",
       "    <tr>\n",
       "      <th>76061</th>\n",
       "      <td>66273</td>\n",
       "      <td>German</td>\n",
       "      <td>1</td>\n",
       "    </tr>\n",
       "  </tbody>\n",
       "</table>\n",
       "<p>65401 rows × 3 columns</p>\n",
       "</div>"
      ],
      "text/plain": [
       "       user_id language  proficiency\n",
       "0            8  English            4\n",
       "1            8  Turkish            5\n",
       "2            8   French            1\n",
       "4           11  Turkish            5\n",
       "5           11  English            3\n",
       "...        ...      ...          ...\n",
       "76054    66262  English            4\n",
       "76058    66272  English            3\n",
       "76059    66273  Turkish            5\n",
       "76060    66273  English            3\n",
       "76061    66273   German            1\n",
       "\n",
       "[65401 rows x 3 columns]"
      ]
     },
     "execution_count": 312,
     "metadata": {},
     "output_type": "execute_result"
    }
   ],
   "source": [
    "languages[\"proficiency\"] = languages[\"proficiency\"].map(fixed_proficiency_vals)\n",
    "languages"
   ]
  },
  {
   "cell_type": "code",
   "execution_count": 313,
   "id": "433dfec4",
   "metadata": {},
   "outputs": [],
   "source": [
    "languages=languages.loc[languages[\"language\"].isin(fixed_language_vals.values())] "
   ]
  },
  {
   "cell_type": "code",
   "execution_count": 314,
   "id": "e1ad5284",
   "metadata": {},
   "outputs": [
    {
     "data": {
      "text/plain": [
       "English     31430\n",
       "Turkish     19812\n",
       "German       6684\n",
       "Spanish      1671\n",
       "Russian      1000\n",
       "Arabic        816\n",
       "French        751\n",
       "Italian       667\n",
       "Japanese      409\n",
       "Name: language, dtype: int64"
      ]
     },
     "execution_count": 314,
     "metadata": {},
     "output_type": "execute_result"
    }
   ],
   "source": [
    "languages[\"language\"].value_counts()"
   ]
  },
  {
   "cell_type": "code",
   "execution_count": 315,
   "id": "337a8c93",
   "metadata": {
    "scrolled": true
   },
   "outputs": [
    {
     "data": {
      "text/plain": [
       "5    21405\n",
       "3    18109\n",
       "4     8293\n",
       "1     8174\n",
       "2     7259\n",
       "Name: proficiency, dtype: int64"
      ]
     },
     "execution_count": 315,
     "metadata": {},
     "output_type": "execute_result"
    }
   ],
   "source": [
    "languages[\"proficiency\"].value_counts()"
   ]
  },
  {
   "cell_type": "markdown",
   "id": "d975078f",
   "metadata": {},
   "source": [
    "### <font color = \"purple\">Visualisation Side</font>\n",
    "\n",
    "#### <font color = \"red\">->> This graph shows us the distribution of Language Proficiencies. </font>"
   ]
  },
  {
   "cell_type": "code",
   "execution_count": 316,
   "id": "bfd467c2",
   "metadata": {},
   "outputs": [
    {
     "data": {
      "image/png": "[encoded data removed]",
      "text/plain": [
       "<Figure size 1000x300 with 1 Axes>"
      ]
     },
     "metadata": {},
     "output_type": "display_data"
    }
   ],
   "source": [
    "plt.figure(figsize=(10,3))\n",
    "sns.barplot(x=languages[\"proficiency\"].value_counts().index,y=languages[\"proficiency\"].value_counts())\n",
    "plt.xlabel(\"Proficiencies\",fontsize=14)\n",
    "plt.ylabel(\"Num of Proficiencies\",fontsize=14)\n",
    "plt.show()"
   ]
  },
  {
   "cell_type": "markdown",
   "id": "79fafe82",
   "metadata": {},
   "source": [
    "#### <font color = \"red\">->> Dropping duplicated values. </font>"
   ]
  },
  {
   "cell_type": "code",
   "execution_count": 317,
   "id": "fee242a3",
   "metadata": {
    "scrolled": false
   },
   "outputs": [],
   "source": [
    "languages.drop_duplicates([\"user_id\",\"language\"],inplace=True)"
   ]
  },
  {
   "cell_type": "markdown",
   "id": "1ec05cd4",
   "metadata": {},
   "source": [
    "#### <font color = \"red\">->> Shows the distribution of certain languages as a pie chart. </font>"
   ]
  },
  {
   "cell_type": "code",
   "execution_count": 318,
   "id": "855bceaa",
   "metadata": {},
   "outputs": [
    {
     "data": {
      "image/png": "[encoded data removed]",
      "text/plain": [
       "<Figure size 640x480 with 1 Axes>"
      ]
     },
     "metadata": {},
     "output_type": "display_data"
    }
   ],
   "source": [
    "x = np.char.array(list(languages[\"language\"].value_counts().index))\n",
    "y = np.array(languages[\"language\"].value_counts())\n",
    "percent = 100.*y/y.sum()\n",
    "\n",
    "patches, texts = plt.pie(y,startangle=90, radius=1.2)\n",
    "labels = ['{0} - {1:1.2f} %'.format(i,j) for i,j in zip(x, percent)]\n",
    "\n",
    "sort_legend = True\n",
    "if sort_legend:\n",
    "    patches, labels, dummy =  zip(*sorted(zip(patches, labels, y),\n",
    "                                          key=lambda x: x[2],\n",
    "                                          reverse=True))\n",
    "\n",
    "plt.legend(patches, labels, loc='upper right', bbox_to_anchor=(-0.1, 1.),\n",
    "           fontsize=9)\n",
    "plt.show()"
   ]
  },
  {
   "cell_type": "markdown",
   "id": "50c81104",
   "metadata": {},
   "source": [
    "#### <font color = \"red\">->> Finalizing dataset by grouping them with user_id, and filling na values with zero can be meant as unknown. </font>"
   ]
  },
  {
   "cell_type": "code",
   "execution_count": 319,
   "id": "d0103c7c",
   "metadata": {
    "scrolled": true
   },
   "outputs": [],
   "source": [
    "languages = pd.pivot(languages,index=\"user_id\",columns=\"language\",values=\"proficiency\")\n"
   ]
  },
  {
   "cell_type": "code",
   "execution_count": 320,
   "id": "2fba9805",
   "metadata": {},
   "outputs": [
    {
     "data": {
      "text/plain": [
       "(31017, 9)"
      ]
     },
     "execution_count": 320,
     "metadata": {},
     "output_type": "execute_result"
    }
   ],
   "source": [
    "languages.shape"
   ]
  },
  {
   "cell_type": "code",
   "execution_count": 321,
   "id": "e46186cb",
   "metadata": {
    "scrolled": true
   },
   "outputs": [
    {
     "data": {
      "text/html": [
       "<div>\n",
       "<style scoped>\n",
       "    .dataframe tbody tr th:only-of-type {\n",
       "        vertical-align: middle;\n",
       "    }\n",
       "\n",
       "    .dataframe tbody tr th {\n",
       "        vertical-align: top;\n",
       "    }\n",
       "\n",
       "    .dataframe thead th {\n",
       "        text-align: right;\n",
       "    }\n",
       "</style>\n",
       "<table border=\"1\" class=\"dataframe\">\n",
       "  <thead>\n",
       "    <tr style=\"text-align: right;\">\n",
       "      <th>language</th>\n",
       "      <th>Arabic</th>\n",
       "      <th>English</th>\n",
       "      <th>French</th>\n",
       "      <th>German</th>\n",
       "      <th>Italian</th>\n",
       "      <th>Japanese</th>\n",
       "      <th>Russian</th>\n",
       "      <th>Spanish</th>\n",
       "      <th>Turkish</th>\n",
       "    </tr>\n",
       "  </thead>\n",
       "  <tbody>\n",
       "    <tr>\n",
       "      <th>count</th>\n",
       "      <td>816.000000</td>\n",
       "      <td>30429.000000</td>\n",
       "      <td>751.000000</td>\n",
       "      <td>6681.000000</td>\n",
       "      <td>666.00000</td>\n",
       "      <td>409.000000</td>\n",
       "      <td>1000.000000</td>\n",
       "      <td>1671.000000</td>\n",
       "      <td>19693.000000</td>\n",
       "    </tr>\n",
       "    <tr>\n",
       "      <th>mean</th>\n",
       "      <td>2.856618</td>\n",
       "      <td>3.231128</td>\n",
       "      <td>1.663116</td>\n",
       "      <td>1.524921</td>\n",
       "      <td>1.39039</td>\n",
       "      <td>1.281174</td>\n",
       "      <td>1.812000</td>\n",
       "      <td>1.388989</td>\n",
       "      <td>4.927284</td>\n",
       "    </tr>\n",
       "    <tr>\n",
       "      <th>std</th>\n",
       "      <td>1.715403</td>\n",
       "      <td>0.768520</td>\n",
       "      <td>0.961782</td>\n",
       "      <td>0.824957</td>\n",
       "      <td>0.66321</td>\n",
       "      <td>0.802363</td>\n",
       "      <td>1.141911</td>\n",
       "      <td>0.643325</td>\n",
       "      <td>0.430166</td>\n",
       "    </tr>\n",
       "    <tr>\n",
       "      <th>min</th>\n",
       "      <td>1.000000</td>\n",
       "      <td>1.000000</td>\n",
       "      <td>1.000000</td>\n",
       "      <td>1.000000</td>\n",
       "      <td>1.00000</td>\n",
       "      <td>1.000000</td>\n",
       "      <td>1.000000</td>\n",
       "      <td>1.000000</td>\n",
       "      <td>1.000000</td>\n",
       "    </tr>\n",
       "    <tr>\n",
       "      <th>25%</th>\n",
       "      <td>1.000000</td>\n",
       "      <td>3.000000</td>\n",
       "      <td>1.000000</td>\n",
       "      <td>1.000000</td>\n",
       "      <td>1.00000</td>\n",
       "      <td>1.000000</td>\n",
       "      <td>1.000000</td>\n",
       "      <td>1.000000</td>\n",
       "      <td>5.000000</td>\n",
       "    </tr>\n",
       "    <tr>\n",
       "      <th>50%</th>\n",
       "      <td>2.000000</td>\n",
       "      <td>3.000000</td>\n",
       "      <td>1.000000</td>\n",
       "      <td>1.000000</td>\n",
       "      <td>1.00000</td>\n",
       "      <td>1.000000</td>\n",
       "      <td>1.000000</td>\n",
       "      <td>1.000000</td>\n",
       "      <td>5.000000</td>\n",
       "    </tr>\n",
       "    <tr>\n",
       "      <th>75%</th>\n",
       "      <td>5.000000</td>\n",
       "      <td>4.000000</td>\n",
       "      <td>2.000000</td>\n",
       "      <td>2.000000</td>\n",
       "      <td>2.00000</td>\n",
       "      <td>1.000000</td>\n",
       "      <td>2.000000</td>\n",
       "      <td>2.000000</td>\n",
       "      <td>5.000000</td>\n",
       "    </tr>\n",
       "    <tr>\n",
       "      <th>max</th>\n",
       "      <td>5.000000</td>\n",
       "      <td>5.000000</td>\n",
       "      <td>5.000000</td>\n",
       "      <td>5.000000</td>\n",
       "      <td>5.00000</td>\n",
       "      <td>5.000000</td>\n",
       "      <td>5.000000</td>\n",
       "      <td>5.000000</td>\n",
       "      <td>5.000000</td>\n",
       "    </tr>\n",
       "  </tbody>\n",
       "</table>\n",
       "</div>"
      ],
      "text/plain": [
       "language      Arabic       English      French       German    Italian  \\\n",
       "count     816.000000  30429.000000  751.000000  6681.000000  666.00000   \n",
       "mean        2.856618      3.231128    1.663116     1.524921    1.39039   \n",
       "std         1.715403      0.768520    0.961782     0.824957    0.66321   \n",
       "min         1.000000      1.000000    1.000000     1.000000    1.00000   \n",
       "25%         1.000000      3.000000    1.000000     1.000000    1.00000   \n",
       "50%         2.000000      3.000000    1.000000     1.000000    1.00000   \n",
       "75%         5.000000      4.000000    2.000000     2.000000    2.00000   \n",
       "max         5.000000      5.000000    5.000000     5.000000    5.00000   \n",
       "\n",
       "language    Japanese      Russian      Spanish       Turkish  \n",
       "count     409.000000  1000.000000  1671.000000  19693.000000  \n",
       "mean        1.281174     1.812000     1.388989      4.927284  \n",
       "std         0.802363     1.141911     0.643325      0.430166  \n",
       "min         1.000000     1.000000     1.000000      1.000000  \n",
       "25%         1.000000     1.000000     1.000000      5.000000  \n",
       "50%         1.000000     1.000000     1.000000      5.000000  \n",
       "75%         1.000000     2.000000     2.000000      5.000000  \n",
       "max         5.000000     5.000000     5.000000      5.000000  "
      ]
     },
     "execution_count": 321,
     "metadata": {},
     "output_type": "execute_result"
    }
   ],
   "source": [
    "languages.describe()"
   ]
  },
  {
   "cell_type": "code",
   "execution_count": 322,
   "id": "3eccc83e",
   "metadata": {
    "scrolled": true
   },
   "outputs": [
    {
     "data": {
      "text/plain": [
       "language\n",
       "Arabic      30201\n",
       "English       588\n",
       "French      30266\n",
       "German      24336\n",
       "Italian     30351\n",
       "Japanese    30608\n",
       "Russian     30017\n",
       "Spanish     29346\n",
       "Turkish     11324\n",
       "dtype: int64"
      ]
     },
     "execution_count": 322,
     "metadata": {},
     "output_type": "execute_result"
    }
   ],
   "source": [
    "languages.isna().sum()"
   ]
  },
  {
   "cell_type": "code",
   "execution_count": 323,
   "id": "6cbc74cc",
   "metadata": {},
   "outputs": [
    {
     "name": "stdout",
     "output_type": "stream",
     "text": [
      "<class 'pandas.core.frame.DataFrame'>\n",
      "Int64Index: 31017 entries, 8 to 66273\n",
      "Data columns (total 9 columns):\n",
      " #   Column    Non-Null Count  Dtype  \n",
      "---  ------    --------------  -----  \n",
      " 0   Arabic    816 non-null    float64\n",
      " 1   English   30429 non-null  float64\n",
      " 2   French    751 non-null    float64\n",
      " 3   German    6681 non-null   float64\n",
      " 4   Italian   666 non-null    float64\n",
      " 5   Japanese  409 non-null    float64\n",
      " 6   Russian   1000 non-null   float64\n",
      " 7   Spanish   1671 non-null   float64\n",
      " 8   Turkish   19693 non-null  float64\n",
      "dtypes: float64(9)\n",
      "memory usage: 2.4 MB\n"
     ]
    }
   ],
   "source": [
    "languages.info()"
   ]
  },
  {
   "cell_type": "markdown",
   "id": "1be8e7e3",
   "metadata": {},
   "source": [
    "## <font color = \"purple\">Work Experience </font>"
   ]
  },
  {
   "cell_type": "code",
   "execution_count": 324,
   "id": "cd7cb936",
   "metadata": {},
   "outputs": [
    {
     "data": {
      "text/html": [
       "<div>\n",
       "<style scoped>\n",
       "    .dataframe tbody tr th:only-of-type {\n",
       "        vertical-align: middle;\n",
       "    }\n",
       "\n",
       "    .dataframe tbody tr th {\n",
       "        vertical-align: top;\n",
       "    }\n",
       "\n",
       "    .dataframe thead th {\n",
       "        text-align: right;\n",
       "    }\n",
       "</style>\n",
       "<table border=\"1\" class=\"dataframe\">\n",
       "  <thead>\n",
       "    <tr style=\"text-align: right;\">\n",
       "      <th></th>\n",
       "      <th>user_id</th>\n",
       "      <th>company_id</th>\n",
       "      <th>location</th>\n",
       "      <th>start_year_month</th>\n",
       "    </tr>\n",
       "  </thead>\n",
       "  <tbody>\n",
       "    <tr>\n",
       "      <th>0</th>\n",
       "      <td>53442</td>\n",
       "      <td>2651</td>\n",
       "      <td>Istanbul, Turkey</td>\n",
       "      <td>201509</td>\n",
       "    </tr>\n",
       "    <tr>\n",
       "      <th>1</th>\n",
       "      <td>34558</td>\n",
       "      <td>815</td>\n",
       "      <td>Istanbul, Turkey</td>\n",
       "      <td>201210</td>\n",
       "    </tr>\n",
       "  </tbody>\n",
       "</table>\n",
       "</div>"
      ],
      "text/plain": [
       "   user_id  company_id          location  start_year_month\n",
       "0    53442        2651  Istanbul, Turkey            201509\n",
       "1    34558         815  Istanbul, Turkey            201210"
      ]
     },
     "execution_count": 324,
     "metadata": {},
     "output_type": "execute_result"
    }
   ],
   "source": [
    "work_experience.head(2)"
   ]
  },
  {
   "cell_type": "code",
   "execution_count": 325,
   "id": "c7a82b06",
   "metadata": {
    "scrolled": false
   },
   "outputs": [
    {
     "data": {
      "text/html": [
       "<div>\n",
       "<style scoped>\n",
       "    .dataframe tbody tr th:only-of-type {\n",
       "        vertical-align: middle;\n",
       "    }\n",
       "\n",
       "    .dataframe tbody tr th {\n",
       "        vertical-align: top;\n",
       "    }\n",
       "\n",
       "    .dataframe thead th {\n",
       "        text-align: right;\n",
       "    }\n",
       "</style>\n",
       "<table border=\"1\" class=\"dataframe\">\n",
       "  <thead>\n",
       "    <tr style=\"text-align: right;\">\n",
       "      <th></th>\n",
       "      <th>user_id</th>\n",
       "      <th>company_id</th>\n",
       "      <th>location</th>\n",
       "      <th>start_year_month</th>\n",
       "    </tr>\n",
       "  </thead>\n",
       "  <tbody>\n",
       "    <tr>\n",
       "      <th>0</th>\n",
       "      <td>53442</td>\n",
       "      <td>2651</td>\n",
       "      <td>Istanbul, Turkey</td>\n",
       "      <td>201509</td>\n",
       "    </tr>\n",
       "    <tr>\n",
       "      <th>1</th>\n",
       "      <td>34558</td>\n",
       "      <td>815</td>\n",
       "      <td>Istanbul, Turkey</td>\n",
       "      <td>201210</td>\n",
       "    </tr>\n",
       "    <tr>\n",
       "      <th>2</th>\n",
       "      <td>63761</td>\n",
       "      <td>26354</td>\n",
       "      <td>NaN</td>\n",
       "      <td>200010</td>\n",
       "    </tr>\n",
       "    <tr>\n",
       "      <th>3</th>\n",
       "      <td>10738</td>\n",
       "      <td>89</td>\n",
       "      <td>NaN</td>\n",
       "      <td>201610</td>\n",
       "    </tr>\n",
       "    <tr>\n",
       "      <th>4</th>\n",
       "      <td>8711</td>\n",
       "      <td>3113</td>\n",
       "      <td>Istanbul, Turkey</td>\n",
       "      <td>201801</td>\n",
       "    </tr>\n",
       "    <tr>\n",
       "      <th>...</th>\n",
       "      <td>...</td>\n",
       "      <td>...</td>\n",
       "      <td>...</td>\n",
       "      <td>...</td>\n",
       "    </tr>\n",
       "    <tr>\n",
       "      <th>187012</th>\n",
       "      <td>5368</td>\n",
       "      <td>6126</td>\n",
       "      <td>İTÜ Arı 3 Teknokent</td>\n",
       "      <td>201806</td>\n",
       "    </tr>\n",
       "    <tr>\n",
       "      <th>187014</th>\n",
       "      <td>22180</td>\n",
       "      <td>15065</td>\n",
       "      <td>Gebze</td>\n",
       "      <td>201205</td>\n",
       "    </tr>\n",
       "    <tr>\n",
       "      <th>187015</th>\n",
       "      <td>55822</td>\n",
       "      <td>25076</td>\n",
       "      <td>stajer</td>\n",
       "      <td>201506</td>\n",
       "    </tr>\n",
       "    <tr>\n",
       "      <th>187017</th>\n",
       "      <td>3679</td>\n",
       "      <td>1414</td>\n",
       "      <td>Ankara, Turkey</td>\n",
       "      <td>201807</td>\n",
       "    </tr>\n",
       "    <tr>\n",
       "      <th>187018</th>\n",
       "      <td>40056</td>\n",
       "      <td>14626</td>\n",
       "      <td>İstanbul, Türkiye</td>\n",
       "      <td>201303</td>\n",
       "    </tr>\n",
       "  </tbody>\n",
       "</table>\n",
       "<p>160736 rows × 4 columns</p>\n",
       "</div>"
      ],
      "text/plain": [
       "        user_id  company_id             location  start_year_month\n",
       "0         53442        2651     Istanbul, Turkey            201509\n",
       "1         34558         815     Istanbul, Turkey            201210\n",
       "2         63761       26354                  NaN            200010\n",
       "3         10738          89                  NaN            201610\n",
       "4          8711        3113     Istanbul, Turkey            201801\n",
       "...         ...         ...                  ...               ...\n",
       "187012     5368        6126  İTÜ Arı 3 Teknokent            201806\n",
       "187014    22180       15065                Gebze            201205\n",
       "187015    55822       25076               stajer            201506\n",
       "187017     3679        1414       Ankara, Turkey            201807\n",
       "187018    40056       14626    İstanbul, Türkiye            201303\n",
       "\n",
       "[160736 rows x 4 columns]"
      ]
     },
     "execution_count": 325,
     "metadata": {},
     "output_type": "execute_result"
    }
   ],
   "source": [
    "work_experience"
   ]
  },
  {
   "cell_type": "code",
   "execution_count": 326,
   "id": "5b2e2267",
   "metadata": {
    "scrolled": true
   },
   "outputs": [],
   "source": [
    "work_experience = work_experience.drop_duplicates([\"user_id\",\"company_id\"])"
   ]
  },
  {
   "cell_type": "markdown",
   "id": "522cdb44",
   "metadata": {},
   "source": [
    "#### <font color = \"red\">->> Creating a temporary dataframe to be able to transfer, work experience datas which are grouped by user_id and taken by a specific year condition.</font>"
   ]
  },
  {
   "cell_type": "code",
   "execution_count": 327,
   "id": "26d58ca0",
   "metadata": {},
   "outputs": [],
   "source": [
    "work_experience = work_experience.sort_values(by=['user_id', 'start_year_month']) "
   ]
  },
  {
   "cell_type": "code",
   "execution_count": 328,
   "id": "dfcfaa62",
   "metadata": {},
   "outputs": [
    {
     "name": "stdout",
     "output_type": "stream",
     "text": [
      "<class 'pandas.core.series.Series'>\n",
      "Int64Index: 136980 entries, 147720 to 108913\n",
      "Series name: start_year_month\n",
      "Non-Null Count   Dtype\n",
      "--------------   -----\n",
      "136980 non-null  int64\n",
      "dtypes: int64(1)\n",
      "memory usage: 2.1 MB\n"
     ]
    }
   ],
   "source": [
    "work_experience[\"start_year_month\"].info()\n"
   ]
  },
  {
   "cell_type": "code",
   "execution_count": 329,
   "id": "36a2b351",
   "metadata": {
    "scrolled": false
   },
   "outputs": [],
   "source": [
    "temp = pd.DataFrame()\n",
    "\n",
    "# Kaç Tecrübesinin olduğu eklenecek\n",
    "temp[\"data_2000_and_after\"] = work_experience[work_experience[\"start_year_month\"].gt(2000)].groupby(\"user_id\").size()\n",
    "temp[\"data_2005_and_after\"] = work_experience[work_experience[\"start_year_month\"].gt(2005)].groupby(\"user_id\").size()\n",
    "temp[\"data_2010_and_after\"] = work_experience[work_experience[\"start_year_month\"].gt(2010)].groupby(\"user_id\").size()\n",
    "temp[\"data_2015_and_after\"] = work_experience[work_experience[\"start_year_month\"].gt(2015)].groupby(\"user_id\").size()\n",
    "\n",
    "\n",
    "temp[\"first_exp\"] = work_experience.groupby(\"user_id\")[\"company_id\"].nth(-1).astype(str)\n",
    "temp[\"second_exp\"] = work_experience.groupby(\"user_id\")[\"company_id\"].nth(-2).astype(str)\n",
    "temp[\"third_exp\"] = work_experience.groupby(\"user_id\")[\"company_id\"].nth(-3).astype(str)\n",
    "temp[\"fourth_exp\"] = work_experience.groupby(\"user_id\")[\"company_id\"].nth(-4).astype(str)\n",
    "\n",
    "\n",
    "\n",
    "temp[\"first_loc\"] = work_experience.groupby(\"user_id\")[\"location\"].nth(-1).astype(str)\n",
    "temp[\"second_loc\"] = work_experience.groupby(\"user_id\")[\"location\"].nth(-2).astype(str)\n",
    "temp[\"third_loc\"] = work_experience.groupby(\"user_id\")[\"location\"].nth(-3).astype(str)\n",
    "temp[\"fourth_loc\"] = work_experience.groupby(\"user_id\")[\"location\"].nth(-4).astype(str)\n",
    "\n",
    "temp[\"first_entrance\"] = work_experience.groupby(\"user_id\")[\"start_year_month\"].min()\n",
    "temp[\"last_entrance\"] = work_experience.groupby(\"user_id\")[\"start_year_month\"].max()\n",
    "\n",
    "date_arr = []\n",
    "\n",
    "\n",
    "work_experience[\"start_year_month\"] = work_experience[\"start_year_month\"].astype(str)\n"
   ]
  },
  {
   "cell_type": "code",
   "execution_count": 330,
   "id": "da8a16d7",
   "metadata": {
    "scrolled": true
   },
   "outputs": [],
   "source": [
    "for date_str in work_experience[\"start_year_month\"]:\n",
    "\n",
    "    date_object = datetime.strptime(date_str, '%Y%m').date()\n",
    "    date_arr.append(date_object)\n",
    "    \n",
    "work_experience[\"dates\"] = date_arr \n",
    "temp_date = work_experience.groupby(\"user_id\")[\"dates\"].max() - work_experience.groupby(\"user_id\")[\"dates\"].min()"
   ]
  },
  {
   "cell_type": "code",
   "execution_count": 331,
   "id": "0f4d54cf",
   "metadata": {
    "scrolled": true
   },
   "outputs": [],
   "source": [
    "temp_date = temp_date.astype('timedelta64[D]')\n",
    "temp_date = (temp_date/365).map('{:,.1f}'.format)\n",
    "temp_date = pd.DataFrame({\"Years of experience\":temp_date})\n",
    "temp_date = temp_date.astype(float)\n",
    "temp[temp_date.columns] = temp_date[temp_date.columns]"
   ]
  },
  {
   "cell_type": "markdown",
   "id": "df3635eb",
   "metadata": {},
   "source": [
    "#### <font color = \"red\">->>This part was processed for only visualisation side, to create a lineplot which can be seen below.  </font>"
   ]
  },
  {
   "cell_type": "code",
   "execution_count": 332,
   "id": "7de751fa",
   "metadata": {
    "scrolled": true
   },
   "outputs": [],
   "source": [
    "work_experience[\"start_year_month\"] = work_experience[\"start_year_month\"].astype(dtype=\"str\")\n",
    "work_experience[\"start_year_month\"] = (work_experience[\"start_year_month\"].str[:4]).astype(\"int64\")"
   ]
  },
  {
   "cell_type": "code",
   "execution_count": 333,
   "id": "9c600256",
   "metadata": {},
   "outputs": [
    {
     "data": {
      "text/html": [
       "<div>\n",
       "<style scoped>\n",
       "    .dataframe tbody tr th:only-of-type {\n",
       "        vertical-align: middle;\n",
       "    }\n",
       "\n",
       "    .dataframe tbody tr th {\n",
       "        vertical-align: top;\n",
       "    }\n",
       "\n",
       "    .dataframe thead th {\n",
       "        text-align: right;\n",
       "    }\n",
       "</style>\n",
       "<table border=\"1\" class=\"dataframe\">\n",
       "  <thead>\n",
       "    <tr style=\"text-align: right;\">\n",
       "      <th></th>\n",
       "      <th>user_id</th>\n",
       "      <th>company_id</th>\n",
       "      <th>location</th>\n",
       "      <th>start_year_month</th>\n",
       "      <th>dates</th>\n",
       "    </tr>\n",
       "  </thead>\n",
       "  <tbody>\n",
       "    <tr>\n",
       "      <th>147720</th>\n",
       "      <td>0</td>\n",
       "      <td>0</td>\n",
       "      <td>Serbest Çalışmalar</td>\n",
       "      <td>2005</td>\n",
       "      <td>2005-09-01</td>\n",
       "    </tr>\n",
       "    <tr>\n",
       "      <th>760</th>\n",
       "      <td>2</td>\n",
       "      <td>9</td>\n",
       "      <td>Elazig, Turkey</td>\n",
       "      <td>2016</td>\n",
       "      <td>2016-12-01</td>\n",
       "    </tr>\n",
       "    <tr>\n",
       "      <th>19762</th>\n",
       "      <td>2</td>\n",
       "      <td>7</td>\n",
       "      <td>Elazig, Turkey</td>\n",
       "      <td>2017</td>\n",
       "      <td>2017-06-01</td>\n",
       "    </tr>\n",
       "    <tr>\n",
       "      <th>180157</th>\n",
       "      <td>2</td>\n",
       "      <td>10</td>\n",
       "      <td>Mersin, Turkey</td>\n",
       "      <td>2018</td>\n",
       "      <td>2018-06-01</td>\n",
       "    </tr>\n",
       "    <tr>\n",
       "      <th>30839</th>\n",
       "      <td>5</td>\n",
       "      <td>15</td>\n",
       "      <td>İstanbul</td>\n",
       "      <td>2017</td>\n",
       "      <td>2017-06-01</td>\n",
       "    </tr>\n",
       "    <tr>\n",
       "      <th>...</th>\n",
       "      <td>...</td>\n",
       "      <td>...</td>\n",
       "      <td>...</td>\n",
       "      <td>...</td>\n",
       "      <td>...</td>\n",
       "    </tr>\n",
       "    <tr>\n",
       "      <th>181958</th>\n",
       "      <td>66273</td>\n",
       "      <td>1900</td>\n",
       "      <td>NaN</td>\n",
       "      <td>2016</td>\n",
       "      <td>2016-01-01</td>\n",
       "    </tr>\n",
       "    <tr>\n",
       "      <th>178765</th>\n",
       "      <td>66273</td>\n",
       "      <td>2696</td>\n",
       "      <td>NaN</td>\n",
       "      <td>2016</td>\n",
       "      <td>2016-12-01</td>\n",
       "    </tr>\n",
       "    <tr>\n",
       "      <th>24178</th>\n",
       "      <td>66273</td>\n",
       "      <td>1509</td>\n",
       "      <td>NaN</td>\n",
       "      <td>2017</td>\n",
       "      <td>2017-08-01</td>\n",
       "    </tr>\n",
       "    <tr>\n",
       "      <th>92682</th>\n",
       "      <td>66273</td>\n",
       "      <td>2412</td>\n",
       "      <td>NaN</td>\n",
       "      <td>2018</td>\n",
       "      <td>2018-09-01</td>\n",
       "    </tr>\n",
       "    <tr>\n",
       "      <th>108913</th>\n",
       "      <td>66273</td>\n",
       "      <td>3843</td>\n",
       "      <td>NaN</td>\n",
       "      <td>2018</td>\n",
       "      <td>2018-10-01</td>\n",
       "    </tr>\n",
       "  </tbody>\n",
       "</table>\n",
       "<p>136980 rows × 5 columns</p>\n",
       "</div>"
      ],
      "text/plain": [
       "        user_id  company_id            location  start_year_month       dates\n",
       "147720        0           0  Serbest Çalışmalar              2005  2005-09-01\n",
       "760           2           9      Elazig, Turkey              2016  2016-12-01\n",
       "19762         2           7      Elazig, Turkey              2017  2017-06-01\n",
       "180157        2          10      Mersin, Turkey              2018  2018-06-01\n",
       "30839         5          15            İstanbul              2017  2017-06-01\n",
       "...         ...         ...                 ...               ...         ...\n",
       "181958    66273        1900                 NaN              2016  2016-01-01\n",
       "178765    66273        2696                 NaN              2016  2016-12-01\n",
       "24178     66273        1509                 NaN              2017  2017-08-01\n",
       "92682     66273        2412                 NaN              2018  2018-09-01\n",
       "108913    66273        3843                 NaN              2018  2018-10-01\n",
       "\n",
       "[136980 rows x 5 columns]"
      ]
     },
     "execution_count": 333,
     "metadata": {},
     "output_type": "execute_result"
    }
   ],
   "source": [
    "work_experience"
   ]
  },
  {
   "cell_type": "markdown",
   "id": "b9439cb7",
   "metadata": {},
   "source": [
    "#### <font color = \"red\">->> Shows a average experience distribution to years. </font>"
   ]
  },
  {
   "cell_type": "code",
   "execution_count": 334,
   "id": "b890311a",
   "metadata": {},
   "outputs": [
    {
     "data": {
      "image/png": "[encoded data removed]",
      "text/plain": [
       "<Figure size 640x480 with 1 Axes>"
      ]
     },
     "metadata": {},
     "output_type": "display_data"
    }
   ],
   "source": [
    "sns.lineplot(x=work_experience[\"start_year_month\"],\n",
    "             y=work_experience[\"user_id\"].value_counts(),\n",
    "            estimator=\"mean\")\n",
    "plt.title(\"The Distribution of Experience as Average\")\n",
    "plt.xlabel(\"Years\",fontsize=15)\n",
    "plt.ylabel(\"Mean of Experience\",fontsize=15)\n",
    "plt.show();"
   ]
  },
  {
   "cell_type": "markdown",
   "id": "77592757",
   "metadata": {},
   "source": [
    "#### <font color = \"red\">->> Dropping location and year columns because we don't use in machine learning side. </font>"
   ]
  },
  {
   "cell_type": "code",
   "execution_count": 335,
   "id": "fbe881fc",
   "metadata": {},
   "outputs": [],
   "source": [
    "work_experience.drop(columns=[\"location\",\"company_id\",\"dates\"],inplace=True)"
   ]
  },
  {
   "cell_type": "markdown",
   "id": "743b60f6",
   "metadata": {},
   "source": [
    "#### <font color = \"red\">->> Grouping them with user_id, concatting with temp column which contains number of experience in a certain time period. </font>"
   ]
  },
  {
   "cell_type": "code",
   "execution_count": 336,
   "id": "f502d5eb",
   "metadata": {},
   "outputs": [],
   "source": [
    "work_experience = work_experience.groupby(by=\"user_id\").count()"
   ]
  },
  {
   "cell_type": "code",
   "execution_count": 337,
   "id": "9b233ead",
   "metadata": {},
   "outputs": [],
   "source": [
    "work_experience = pd.concat([work_experience,temp],axis=1)"
   ]
  },
  {
   "cell_type": "code",
   "execution_count": 338,
   "id": "455ef0f3",
   "metadata": {},
   "outputs": [
    {
     "data": {
      "text/html": [
       "<div>\n",
       "<style scoped>\n",
       "    .dataframe tbody tr th:only-of-type {\n",
       "        vertical-align: middle;\n",
       "    }\n",
       "\n",
       "    .dataframe tbody tr th {\n",
       "        vertical-align: top;\n",
       "    }\n",
       "\n",
       "    .dataframe thead th {\n",
       "        text-align: right;\n",
       "    }\n",
       "</style>\n",
       "<table border=\"1\" class=\"dataframe\">\n",
       "  <thead>\n",
       "    <tr style=\"text-align: right;\">\n",
       "      <th></th>\n",
       "      <th>count</th>\n",
       "      <th>unique</th>\n",
       "      <th>top</th>\n",
       "      <th>freq</th>\n",
       "    </tr>\n",
       "  </thead>\n",
       "  <tbody>\n",
       "    <tr>\n",
       "      <th>first_exp</th>\n",
       "      <td>53002</td>\n",
       "      <td>10117</td>\n",
       "      <td>518</td>\n",
       "      <td>851</td>\n",
       "    </tr>\n",
       "    <tr>\n",
       "      <th>second_exp</th>\n",
       "      <td>37025</td>\n",
       "      <td>8597</td>\n",
       "      <td>740</td>\n",
       "      <td>476</td>\n",
       "    </tr>\n",
       "    <tr>\n",
       "      <th>third_exp</th>\n",
       "      <td>23040</td>\n",
       "      <td>5767</td>\n",
       "      <td>740</td>\n",
       "      <td>387</td>\n",
       "    </tr>\n",
       "    <tr>\n",
       "      <th>fourth_exp</th>\n",
       "      <td>12312</td>\n",
       "      <td>3546</td>\n",
       "      <td>740</td>\n",
       "      <td>172</td>\n",
       "    </tr>\n",
       "    <tr>\n",
       "      <th>first_loc</th>\n",
       "      <td>53002</td>\n",
       "      <td>2224</td>\n",
       "      <td>nan</td>\n",
       "      <td>17143</td>\n",
       "    </tr>\n",
       "    <tr>\n",
       "      <th>second_loc</th>\n",
       "      <td>37025</td>\n",
       "      <td>1985</td>\n",
       "      <td>nan</td>\n",
       "      <td>12107</td>\n",
       "    </tr>\n",
       "    <tr>\n",
       "      <th>third_loc</th>\n",
       "      <td>23040</td>\n",
       "      <td>1425</td>\n",
       "      <td>nan</td>\n",
       "      <td>7711</td>\n",
       "    </tr>\n",
       "    <tr>\n",
       "      <th>fourth_loc</th>\n",
       "      <td>12312</td>\n",
       "      <td>873</td>\n",
       "      <td>nan</td>\n",
       "      <td>4061</td>\n",
       "    </tr>\n",
       "  </tbody>\n",
       "</table>\n",
       "</div>"
      ],
      "text/plain": [
       "            count unique  top   freq\n",
       "first_exp   53002  10117  518    851\n",
       "second_exp  37025   8597  740    476\n",
       "third_exp   23040   5767  740    387\n",
       "fourth_exp  12312   3546  740    172\n",
       "first_loc   53002   2224  nan  17143\n",
       "second_loc  37025   1985  nan  12107\n",
       "third_loc   23040   1425  nan   7711\n",
       "fourth_loc  12312    873  nan   4061"
      ]
     },
     "execution_count": 338,
     "metadata": {},
     "output_type": "execute_result"
    }
   ],
   "source": [
    "work_experience.describe(include=\"object\").T"
   ]
  },
  {
   "cell_type": "code",
   "execution_count": 339,
   "id": "41f9ba04",
   "metadata": {
    "scrolled": true
   },
   "outputs": [
    {
     "data": {
      "text/html": [
       "<div>\n",
       "<style scoped>\n",
       "    .dataframe tbody tr th:only-of-type {\n",
       "        vertical-align: middle;\n",
       "    }\n",
       "\n",
       "    .dataframe tbody tr th {\n",
       "        vertical-align: top;\n",
       "    }\n",
       "\n",
       "    .dataframe thead th {\n",
       "        text-align: right;\n",
       "    }\n",
       "</style>\n",
       "<table border=\"1\" class=\"dataframe\">\n",
       "  <thead>\n",
       "    <tr style=\"text-align: right;\">\n",
       "      <th></th>\n",
       "      <th>count</th>\n",
       "      <th>mean</th>\n",
       "      <th>std</th>\n",
       "      <th>min</th>\n",
       "      <th>25%</th>\n",
       "      <th>50%</th>\n",
       "      <th>75%</th>\n",
       "      <th>max</th>\n",
       "    </tr>\n",
       "  </thead>\n",
       "  <tbody>\n",
       "    <tr>\n",
       "      <th>start_year_month</th>\n",
       "      <td>53002.0</td>\n",
       "      <td>2.584431</td>\n",
       "      <td>1.629921</td>\n",
       "      <td>1.0</td>\n",
       "      <td>1.0</td>\n",
       "      <td>2.0</td>\n",
       "      <td>3.0</td>\n",
       "      <td>24.0</td>\n",
       "    </tr>\n",
       "    <tr>\n",
       "      <th>data_2000_and_after</th>\n",
       "      <td>53002.0</td>\n",
       "      <td>2.584431</td>\n",
       "      <td>1.629921</td>\n",
       "      <td>1.0</td>\n",
       "      <td>1.0</td>\n",
       "      <td>2.0</td>\n",
       "      <td>3.0</td>\n",
       "      <td>24.0</td>\n",
       "    </tr>\n",
       "    <tr>\n",
       "      <th>data_2005_and_after</th>\n",
       "      <td>53002.0</td>\n",
       "      <td>2.584431</td>\n",
       "      <td>1.629921</td>\n",
       "      <td>1.0</td>\n",
       "      <td>1.0</td>\n",
       "      <td>2.0</td>\n",
       "      <td>3.0</td>\n",
       "      <td>24.0</td>\n",
       "    </tr>\n",
       "    <tr>\n",
       "      <th>data_2010_and_after</th>\n",
       "      <td>53002.0</td>\n",
       "      <td>2.584431</td>\n",
       "      <td>1.629921</td>\n",
       "      <td>1.0</td>\n",
       "      <td>1.0</td>\n",
       "      <td>2.0</td>\n",
       "      <td>3.0</td>\n",
       "      <td>24.0</td>\n",
       "    </tr>\n",
       "    <tr>\n",
       "      <th>data_2015_and_after</th>\n",
       "      <td>53002.0</td>\n",
       "      <td>2.584431</td>\n",
       "      <td>1.629921</td>\n",
       "      <td>1.0</td>\n",
       "      <td>1.0</td>\n",
       "      <td>2.0</td>\n",
       "      <td>3.0</td>\n",
       "      <td>24.0</td>\n",
       "    </tr>\n",
       "    <tr>\n",
       "      <th>first_entrance</th>\n",
       "      <td>53002.0</td>\n",
       "      <td>201249.541432</td>\n",
       "      <td>502.308579</td>\n",
       "      <td>196103.0</td>\n",
       "      <td>201006.0</td>\n",
       "      <td>201402.0</td>\n",
       "      <td>201608.0</td>\n",
       "      <td>201812.0</td>\n",
       "    </tr>\n",
       "    <tr>\n",
       "      <th>last_entrance</th>\n",
       "      <td>53002.0</td>\n",
       "      <td>201592.777782</td>\n",
       "      <td>329.803829</td>\n",
       "      <td>196801.0</td>\n",
       "      <td>201508.0</td>\n",
       "      <td>201707.0</td>\n",
       "      <td>201806.0</td>\n",
       "      <td>201812.0</td>\n",
       "    </tr>\n",
       "    <tr>\n",
       "      <th>Years of experience</th>\n",
       "      <td>53002.0</td>\n",
       "      <td>3.457136</td>\n",
       "      <td>4.179723</td>\n",
       "      <td>0.0</td>\n",
       "      <td>0.0</td>\n",
       "      <td>2.2</td>\n",
       "      <td>5.3</td>\n",
       "      <td>50.4</td>\n",
       "    </tr>\n",
       "  </tbody>\n",
       "</table>\n",
       "</div>"
      ],
      "text/plain": [
       "                       count           mean         std       min       25%  \\\n",
       "start_year_month     53002.0       2.584431    1.629921       1.0       1.0   \n",
       "data_2000_and_after  53002.0       2.584431    1.629921       1.0       1.0   \n",
       "data_2005_and_after  53002.0       2.584431    1.629921       1.0       1.0   \n",
       "data_2010_and_after  53002.0       2.584431    1.629921       1.0       1.0   \n",
       "data_2015_and_after  53002.0       2.584431    1.629921       1.0       1.0   \n",
       "first_entrance       53002.0  201249.541432  502.308579  196103.0  201006.0   \n",
       "last_entrance        53002.0  201592.777782  329.803829  196801.0  201508.0   \n",
       "Years of experience  53002.0       3.457136    4.179723       0.0       0.0   \n",
       "\n",
       "                          50%       75%       max  \n",
       "start_year_month          2.0       3.0      24.0  \n",
       "data_2000_and_after       2.0       3.0      24.0  \n",
       "data_2005_and_after       2.0       3.0      24.0  \n",
       "data_2010_and_after       2.0       3.0      24.0  \n",
       "data_2015_and_after       2.0       3.0      24.0  \n",
       "first_entrance       201402.0  201608.0  201812.0  \n",
       "last_entrance        201707.0  201806.0  201812.0  \n",
       "Years of experience       2.2       5.3      50.4  "
      ]
     },
     "execution_count": 339,
     "metadata": {},
     "output_type": "execute_result"
    }
   ],
   "source": [
    "work_experience.describe().T"
   ]
  },
  {
   "cell_type": "code",
   "execution_count": 340,
   "id": "626d641b",
   "metadata": {
    "scrolled": true
   },
   "outputs": [
    {
     "data": {
      "text/html": [
       "<div>\n",
       "<style scoped>\n",
       "    .dataframe tbody tr th:only-of-type {\n",
       "        vertical-align: middle;\n",
       "    }\n",
       "\n",
       "    .dataframe tbody tr th {\n",
       "        vertical-align: top;\n",
       "    }\n",
       "\n",
       "    .dataframe thead th {\n",
       "        text-align: right;\n",
       "    }\n",
       "</style>\n",
       "<table border=\"1\" class=\"dataframe\">\n",
       "  <thead>\n",
       "    <tr style=\"text-align: right;\">\n",
       "      <th></th>\n",
       "      <th>start_year_month</th>\n",
       "      <th>data_2000_and_after</th>\n",
       "      <th>data_2005_and_after</th>\n",
       "      <th>data_2010_and_after</th>\n",
       "      <th>data_2015_and_after</th>\n",
       "      <th>first_exp</th>\n",
       "      <th>second_exp</th>\n",
       "      <th>third_exp</th>\n",
       "      <th>fourth_exp</th>\n",
       "      <th>first_loc</th>\n",
       "      <th>second_loc</th>\n",
       "      <th>third_loc</th>\n",
       "      <th>fourth_loc</th>\n",
       "      <th>first_entrance</th>\n",
       "      <th>last_entrance</th>\n",
       "      <th>Years of experience</th>\n",
       "    </tr>\n",
       "    <tr>\n",
       "      <th>user_id</th>\n",
       "      <th></th>\n",
       "      <th></th>\n",
       "      <th></th>\n",
       "      <th></th>\n",
       "      <th></th>\n",
       "      <th></th>\n",
       "      <th></th>\n",
       "      <th></th>\n",
       "      <th></th>\n",
       "      <th></th>\n",
       "      <th></th>\n",
       "      <th></th>\n",
       "      <th></th>\n",
       "      <th></th>\n",
       "      <th></th>\n",
       "      <th></th>\n",
       "    </tr>\n",
       "  </thead>\n",
       "  <tbody>\n",
       "    <tr>\n",
       "      <th>0</th>\n",
       "      <td>1</td>\n",
       "      <td>1</td>\n",
       "      <td>1</td>\n",
       "      <td>1</td>\n",
       "      <td>1</td>\n",
       "      <td>0</td>\n",
       "      <td>NaN</td>\n",
       "      <td>NaN</td>\n",
       "      <td>NaN</td>\n",
       "      <td>Serbest Çalışmalar</td>\n",
       "      <td>NaN</td>\n",
       "      <td>NaN</td>\n",
       "      <td>NaN</td>\n",
       "      <td>200509</td>\n",
       "      <td>200509</td>\n",
       "      <td>0.0</td>\n",
       "    </tr>\n",
       "    <tr>\n",
       "      <th>2</th>\n",
       "      <td>3</td>\n",
       "      <td>3</td>\n",
       "      <td>3</td>\n",
       "      <td>3</td>\n",
       "      <td>3</td>\n",
       "      <td>10</td>\n",
       "      <td>7</td>\n",
       "      <td>9</td>\n",
       "      <td>NaN</td>\n",
       "      <td>Mersin, Turkey</td>\n",
       "      <td>Elazig, Turkey</td>\n",
       "      <td>Elazig, Turkey</td>\n",
       "      <td>NaN</td>\n",
       "      <td>201612</td>\n",
       "      <td>201806</td>\n",
       "      <td>1.5</td>\n",
       "    </tr>\n",
       "    <tr>\n",
       "      <th>5</th>\n",
       "      <td>1</td>\n",
       "      <td>1</td>\n",
       "      <td>1</td>\n",
       "      <td>1</td>\n",
       "      <td>1</td>\n",
       "      <td>15</td>\n",
       "      <td>NaN</td>\n",
       "      <td>NaN</td>\n",
       "      <td>NaN</td>\n",
       "      <td>İstanbul</td>\n",
       "      <td>NaN</td>\n",
       "      <td>NaN</td>\n",
       "      <td>NaN</td>\n",
       "      <td>201706</td>\n",
       "      <td>201706</td>\n",
       "      <td>0.0</td>\n",
       "    </tr>\n",
       "    <tr>\n",
       "      <th>7</th>\n",
       "      <td>2</td>\n",
       "      <td>2</td>\n",
       "      <td>2</td>\n",
       "      <td>2</td>\n",
       "      <td>2</td>\n",
       "      <td>20</td>\n",
       "      <td>21</td>\n",
       "      <td>NaN</td>\n",
       "      <td>NaN</td>\n",
       "      <td>Elazığ</td>\n",
       "      <td>Macedonia</td>\n",
       "      <td>NaN</td>\n",
       "      <td>NaN</td>\n",
       "      <td>201708</td>\n",
       "      <td>201812</td>\n",
       "      <td>1.3</td>\n",
       "    </tr>\n",
       "    <tr>\n",
       "      <th>10</th>\n",
       "      <td>2</td>\n",
       "      <td>2</td>\n",
       "      <td>2</td>\n",
       "      <td>2</td>\n",
       "      <td>2</td>\n",
       "      <td>26</td>\n",
       "      <td>27</td>\n",
       "      <td>NaN</td>\n",
       "      <td>NaN</td>\n",
       "      <td>Istanbul, Turkey</td>\n",
       "      <td>Elazig, Turkey</td>\n",
       "      <td>NaN</td>\n",
       "      <td>NaN</td>\n",
       "      <td>201308</td>\n",
       "      <td>201805</td>\n",
       "      <td>4.8</td>\n",
       "    </tr>\n",
       "  </tbody>\n",
       "</table>\n",
       "</div>"
      ],
      "text/plain": [
       "         start_year_month  data_2000_and_after  data_2005_and_after  \\\n",
       "user_id                                                               \n",
       "0                       1                    1                    1   \n",
       "2                       3                    3                    3   \n",
       "5                       1                    1                    1   \n",
       "7                       2                    2                    2   \n",
       "10                      2                    2                    2   \n",
       "\n",
       "         data_2010_and_after  data_2015_and_after first_exp second_exp  \\\n",
       "user_id                                                                  \n",
       "0                          1                    1         0        NaN   \n",
       "2                          3                    3        10          7   \n",
       "5                          1                    1        15        NaN   \n",
       "7                          2                    2        20         21   \n",
       "10                         2                    2        26         27   \n",
       "\n",
       "        third_exp fourth_exp           first_loc      second_loc  \\\n",
       "user_id                                                            \n",
       "0             NaN        NaN  Serbest Çalışmalar             NaN   \n",
       "2               9        NaN      Mersin, Turkey  Elazig, Turkey   \n",
       "5             NaN        NaN            İstanbul             NaN   \n",
       "7             NaN        NaN              Elazığ       Macedonia   \n",
       "10            NaN        NaN    Istanbul, Turkey  Elazig, Turkey   \n",
       "\n",
       "              third_loc fourth_loc  first_entrance  last_entrance  \\\n",
       "user_id                                                             \n",
       "0                   NaN        NaN          200509         200509   \n",
       "2        Elazig, Turkey        NaN          201612         201806   \n",
       "5                   NaN        NaN          201706         201706   \n",
       "7                   NaN        NaN          201708         201812   \n",
       "10                  NaN        NaN          201308         201805   \n",
       "\n",
       "         Years of experience  \n",
       "user_id                       \n",
       "0                        0.0  \n",
       "2                        1.5  \n",
       "5                        0.0  \n",
       "7                        1.3  \n",
       "10                       4.8  "
      ]
     },
     "execution_count": 340,
     "metadata": {},
     "output_type": "execute_result"
    }
   ],
   "source": [
    "work_experience.head()"
   ]
  },
  {
   "cell_type": "code",
   "execution_count": 341,
   "id": "5ae9defc",
   "metadata": {},
   "outputs": [
    {
     "data": {
      "text/plain": [
       "(53002, 16)"
      ]
     },
     "execution_count": 341,
     "metadata": {},
     "output_type": "execute_result"
    }
   ],
   "source": [
    "work_experience.shape"
   ]
  },
  {
   "cell_type": "code",
   "execution_count": 342,
   "id": "e243b2bc",
   "metadata": {
    "scrolled": false
   },
   "outputs": [
    {
     "name": "stdout",
     "output_type": "stream",
     "text": [
      "<class 'pandas.core.frame.DataFrame'>\n",
      "Int64Index: 53002 entries, 0 to 66273\n",
      "Data columns (total 16 columns):\n",
      " #   Column               Non-Null Count  Dtype  \n",
      "---  ------               --------------  -----  \n",
      " 0   start_year_month     53002 non-null  int64  \n",
      " 1   data_2000_and_after  53002 non-null  int64  \n",
      " 2   data_2005_and_after  53002 non-null  int64  \n",
      " 3   data_2010_and_after  53002 non-null  int64  \n",
      " 4   data_2015_and_after  53002 non-null  int64  \n",
      " 5   first_exp            53002 non-null  object \n",
      " 6   second_exp           37025 non-null  object \n",
      " 7   third_exp            23040 non-null  object \n",
      " 8   fourth_exp           12312 non-null  object \n",
      " 9   first_loc            53002 non-null  object \n",
      " 10  second_loc           37025 non-null  object \n",
      " 11  third_loc            23040 non-null  object \n",
      " 12  fourth_loc           12312 non-null  object \n",
      " 13  first_entrance       53002 non-null  int64  \n",
      " 14  last_entrance        53002 non-null  int64  \n",
      " 15  Years of experience  53002 non-null  float64\n",
      "dtypes: float64(1), int64(7), object(8)\n",
      "memory usage: 6.9+ MB\n"
     ]
    }
   ],
   "source": [
    "work_experience.info()"
   ]
  },
  {
   "cell_type": "markdown",
   "id": "8457efd0",
   "metadata": {},
   "source": [
    "## <font color = \"purple\">All Datasets </font>"
   ]
  },
  {
   "cell_type": "code",
   "execution_count": 343,
   "id": "56438561",
   "metadata": {
    "scrolled": false
   },
   "outputs": [
    {
     "data": {
      "text/html": [
       "<div>\n",
       "<style scoped>\n",
       "    .dataframe tbody tr th:only-of-type {\n",
       "        vertical-align: middle;\n",
       "    }\n",
       "\n",
       "    .dataframe tbody tr th {\n",
       "        vertical-align: top;\n",
       "    }\n",
       "\n",
       "    .dataframe thead th {\n",
       "        text-align: right;\n",
       "    }\n",
       "</style>\n",
       "<table border=\"1\" class=\"dataframe\">\n",
       "  <thead>\n",
       "    <tr style=\"text-align: right;\">\n",
       "      <th></th>\n",
       "      <th>user_id</th>\n",
       "      <th>industry</th>\n",
       "      <th>location</th>\n",
       "      <th>moved_after_2019</th>\n",
       "    </tr>\n",
       "  </thead>\n",
       "  <tbody>\n",
       "    <tr>\n",
       "      <th>0</th>\n",
       "      <td>1301</td>\n",
       "      <td>Information Technology and Services</td>\n",
       "      <td>Istanbul, Istanbul, Turkey</td>\n",
       "      <td>1</td>\n",
       "    </tr>\n",
       "    <tr>\n",
       "      <th>1</th>\n",
       "      <td>6950</td>\n",
       "      <td>Internet</td>\n",
       "      <td>Istanbul, Istanbul, Turkey</td>\n",
       "      <td>0</td>\n",
       "    </tr>\n",
       "    <tr>\n",
       "      <th>2</th>\n",
       "      <td>4880</td>\n",
       "      <td>Online Media</td>\n",
       "      <td>Turkey</td>\n",
       "      <td>0</td>\n",
       "    </tr>\n",
       "    <tr>\n",
       "      <th>3</th>\n",
       "      <td>26046</td>\n",
       "      <td>Telecommunications</td>\n",
       "      <td>Istanbul, Istanbul, Turkey</td>\n",
       "      <td>0</td>\n",
       "    </tr>\n",
       "    <tr>\n",
       "      <th>4</th>\n",
       "      <td>11005</td>\n",
       "      <td>Banking</td>\n",
       "      <td>Istanbul, Turkey</td>\n",
       "      <td>0</td>\n",
       "    </tr>\n",
       "  </tbody>\n",
       "</table>\n",
       "</div>"
      ],
      "text/plain": [
       "   user_id                             industry                    location  \\\n",
       "0     1301  Information Technology and Services  Istanbul, Istanbul, Turkey   \n",
       "1     6950                             Internet  Istanbul, Istanbul, Turkey   \n",
       "2     4880                         Online Media                      Turkey   \n",
       "3    26046                   Telecommunications  Istanbul, Istanbul, Turkey   \n",
       "4    11005                              Banking            Istanbul, Turkey   \n",
       "\n",
       "   moved_after_2019  \n",
       "0                 1  \n",
       "1                 0  \n",
       "2                 0  \n",
       "3                 0  \n",
       "4                 0  "
      ]
     },
     "execution_count": 343,
     "metadata": {},
     "output_type": "execute_result"
    }
   ],
   "source": [
    "df_train.head()"
   ]
  },
  {
   "cell_type": "code",
   "execution_count": 344,
   "id": "511b7f12",
   "metadata": {},
   "outputs": [],
   "source": [
    "abroad_countries = df_train[~df_train[\"location\"].str.contains(\"Turkey|Greater\",na=False)][\"location\"].unique()\n",
    "df_train.loc[df_train[\"location\"].isin(abroad_countries),\"location\"]= \"abroad_countries\""
   ]
  },
  {
   "cell_type": "code",
   "execution_count": 345,
   "id": "ac016278",
   "metadata": {},
   "outputs": [],
   "source": [
    "df_train.loc[df_train[\"location\"].str.contains(\"Istanbul|İstanbul\",na=False),\"location\"] = \"Istanbul\"\n",
    "df_train.loc[df_train[\"location\"].str.contains(\"Ankara\",na=False),\"location\"] = \"Ankara\"\n",
    "df_train.loc[df_train[\"location\"].str.contains(\"Kocaeli\",na=False),\"location\"] = \"Kocaeli\"\n",
    "df_train.loc[df_train[\"location\"].str.contains(\"İzmir|Izmir\",na=False),\"location\"] = \"İzmir\"\n",
    "df_train.loc[df_train[\"location\"].str.contains(\"Mersin|İçel\",na=False),\"location\"] = \"Mersin\"\n",
    "df_train.loc[df_train[\"location\"].str.contains(\"Sakarya\",na=False),\"location\"] = \"Sakarya\"\n",
    "df_train.loc[df_train[\"location\"].str.contains(\"Konya\",na=False),\"location\"] = \"Konya\""
   ]
  },
  {
   "cell_type": "code",
   "execution_count": 346,
   "id": "9d8bd1f1",
   "metadata": {},
   "outputs": [],
   "source": [
    "abroad_countries = df_test[~df_test[\"location\"].str.contains(\"Turkey|Greater\",na=False)][\"location\"].unique()\n",
    "df_test.loc[df_test[\"location\"].isin(abroad_countries),\"location\"]= \"abroad_countries\""
   ]
  },
  {
   "cell_type": "code",
   "execution_count": 347,
   "id": "aab31853",
   "metadata": {},
   "outputs": [],
   "source": [
    "df_test.loc[df_test[\"location\"].str.contains(\"Istanbul|İstanbul\",na=False),\"location\"] = \"Istanbul\"\n",
    "df_test.loc[df_test[\"location\"].str.contains(\"Ankara\",na=False),\"location\"] = \"Ankara\"\n",
    "df_test.loc[df_test[\"location\"].str.contains(\"Kocaeli\",na=False),\"location\"] = \"Kocaeli\"\n",
    "df_test.loc[df_test[\"location\"].str.contains(\"İzmir|Izmir\",na=False),\"location\"] = \"İzmir\"\n",
    "df_test.loc[df_test[\"location\"].str.contains(\"Mersin|İçel\",na=False),\"location\"] = \"Mersin\"\n",
    "df_test.loc[df_test[\"location\"].str.contains(\"Sakarya\",na=False),\"location\"] = \"Sakarya\"\n",
    "df_test.loc[df_test[\"location\"].str.contains(\"Konya\",na=False),\"location\"] = \"Konya\""
   ]
  },
  {
   "cell_type": "code",
   "execution_count": 348,
   "id": "d41e3620",
   "metadata": {
    "scrolled": false
   },
   "outputs": [
    {
     "data": {
      "text/plain": [
       "Istanbul    28391\n",
       "Turkey      10922\n",
       "Ankara       7708\n",
       "İzmir        1955\n",
       "Kocaeli       557\n",
       "Name: location, dtype: int64"
      ]
     },
     "execution_count": 348,
     "metadata": {},
     "output_type": "execute_result"
    }
   ],
   "source": [
    "df_train[\"location\"].value_counts()[:5]"
   ]
  },
  {
   "cell_type": "code",
   "execution_count": 349,
   "id": "54677c65",
   "metadata": {},
   "outputs": [
    {
     "data": {
      "text/plain": [
       "Istanbul    7081\n",
       "Turkey      2732\n",
       "Ankara      1948\n",
       "İzmir        485\n",
       "Kocaeli      134\n",
       "Name: location, dtype: int64"
      ]
     },
     "execution_count": 349,
     "metadata": {},
     "output_type": "execute_result"
    }
   ],
   "source": [
    "df_test[\"location\"].value_counts()[:5]"
   ]
  },
  {
   "cell_type": "code",
   "execution_count": 350,
   "id": "4d25f8bb",
   "metadata": {},
   "outputs": [],
   "source": [
    "fixed_industry = {\n",
    "    \"Computer Software|Computer Games|Mobile Games\":\"Computer Software\",\n",
    "    \"Information Technology and Services|Telecommunications|Internet|Computer & Network Security|Computer Networking|Information Services\":\"Information Services\",\n",
    "    \"Defense & Space|Automotive|Electrical/Electronic Manufacturing|Aviation & Aerospace|Industrial Automation|Retail|Airlines/Aviation|Mechanical or Industrial Engineering|Consumer Electronics|Textiles|Chemicals|Machinery|Construction|Mining & Metals|Oil & Energy|Consumer Goods|Food & Beverages\":\"Industrial and Manufacturing\",\n",
    "    \"Pharmaceuticals|Hospital & Health Care|Medical Devices\":\"Health\",\n",
    "    \"Banking|Higher Education|Financial Services|Program Development|Research|Insurance|Nonprofit Organization Management|Education Management|Marketing and Advertising|E-Learning\":\"Business/Education\"    \n",
    "}"
   ]
  },
  {
   "cell_type": "code",
   "execution_count": 351,
   "id": "773af597",
   "metadata": {},
   "outputs": [],
   "source": [
    "df_train.loc[:\"industry\"] = df_train.loc[:\"industry\"].replace(fixed_industry,regex=True)\n",
    "df_train.loc[~df_train[\"industry\"].isin(fixed_industry.values()),\"industry\"]= \"Other_Sectors\" "
   ]
  },
  {
   "cell_type": "code",
   "execution_count": 352,
   "id": "b2b94078",
   "metadata": {},
   "outputs": [],
   "source": [
    "df_test.loc[:\"industry\"] = df_test.loc[:\"industry\"].replace(fixed_industry,regex=True)\n",
    "df_test.loc[~df_train[\"industry\"].isin(fixed_industry.values()),\"industry\"]= \"Other_Sectors\" "
   ]
  },
  {
   "cell_type": "markdown",
   "id": "b224558d",
   "metadata": {},
   "source": [
    "#### <font color = \"red\">->> Fixing indexes because we have assumed that user_id will be our index. </font>"
   ]
  },
  {
   "cell_type": "code",
   "execution_count": 353,
   "id": "64fd1ea3",
   "metadata": {
    "scrolled": true
   },
   "outputs": [],
   "source": [
    "df_test.set_index(\"user_id\",inplace=True)"
   ]
  },
  {
   "cell_type": "code",
   "execution_count": 354,
   "id": "d09283a9",
   "metadata": {},
   "outputs": [],
   "source": [
    "df_train.set_index(\"user_id\",inplace=True)"
   ]
  },
  {
   "cell_type": "markdown",
   "id": "dbbc01ed",
   "metadata": {},
   "source": [
    "#### <font color = \"red\">->> Adding fixed datasets which are prepared for machine learning side. </font>"
   ]
  },
  {
   "cell_type": "code",
   "execution_count": 355,
   "id": "e5d178dc",
   "metadata": {},
   "outputs": [],
   "source": [
    "df_train[education.columns] = education[education.columns]\n",
    "df_train[languages.columns] = languages[languages.columns]\n",
    "df_train[work_experience.columns] = work_experience[work_experience.columns]\n",
    "df_train[skills.columns] = skills[skills.columns]\n",
    "\n",
    "\n",
    "df_test[education.columns] = education[education.columns]\n",
    "df_test[languages.columns] = languages[languages.columns]\n",
    "df_test[work_experience.columns] = work_experience[work_experience.columns]\n",
    "df_test[skills.columns] = skills[skills.columns]"
   ]
  },
  {
   "cell_type": "markdown",
   "id": "8af9a57f",
   "metadata": {},
   "source": [
    "#### <font color = \"red\">->> Concatting all data as original_data </font>"
   ]
  },
  {
   "cell_type": "code",
   "execution_count": 356,
   "id": "571442b2",
   "metadata": {},
   "outputs": [],
   "source": [
    "original_data = pd.concat([df_train,df_test],axis=0)"
   ]
  },
  {
   "cell_type": "code",
   "execution_count": 357,
   "id": "7abce003",
   "metadata": {},
   "outputs": [
    {
     "data": {
      "text/html": [
       "<div>\n",
       "<style scoped>\n",
       "    .dataframe tbody tr th:only-of-type {\n",
       "        vertical-align: middle;\n",
       "    }\n",
       "\n",
       "    .dataframe tbody tr th {\n",
       "        vertical-align: top;\n",
       "    }\n",
       "\n",
       "    .dataframe thead th {\n",
       "        text-align: right;\n",
       "    }\n",
       "</style>\n",
       "<table border=\"1\" class=\"dataframe\">\n",
       "  <thead>\n",
       "    <tr style=\"text-align: right;\">\n",
       "      <th></th>\n",
       "      <th>industry</th>\n",
       "      <th>location</th>\n",
       "      <th>moved_after_2019</th>\n",
       "      <th>school_name_Tier2</th>\n",
       "      <th>school_name_Tier3</th>\n",
       "      <th>school_name_Tier_Unique</th>\n",
       "      <th>degree_Bachelors</th>\n",
       "      <th>degree_Doctorate</th>\n",
       "      <th>degree_HighSchool</th>\n",
       "      <th>degree_Masters</th>\n",
       "      <th>...</th>\n",
       "      <th>Software Engineering</th>\n",
       "      <th>Spring Framework</th>\n",
       "      <th>T-SQL</th>\n",
       "      <th>Visual Studio</th>\n",
       "      <th>Web Development</th>\n",
       "      <th>Web Geliştirme</th>\n",
       "      <th>Web Services</th>\n",
       "      <th>XML</th>\n",
       "      <th>Yazılım Geliştirme</th>\n",
       "      <th>jQuery</th>\n",
       "    </tr>\n",
       "    <tr>\n",
       "      <th>user_id</th>\n",
       "      <th></th>\n",
       "      <th></th>\n",
       "      <th></th>\n",
       "      <th></th>\n",
       "      <th></th>\n",
       "      <th></th>\n",
       "      <th></th>\n",
       "      <th></th>\n",
       "      <th></th>\n",
       "      <th></th>\n",
       "      <th></th>\n",
       "      <th></th>\n",
       "      <th></th>\n",
       "      <th></th>\n",
       "      <th></th>\n",
       "      <th></th>\n",
       "      <th></th>\n",
       "      <th></th>\n",
       "      <th></th>\n",
       "      <th></th>\n",
       "      <th></th>\n",
       "    </tr>\n",
       "  </thead>\n",
       "  <tbody>\n",
       "    <tr>\n",
       "      <th>1301</th>\n",
       "      <td>Information Services</td>\n",
       "      <td>Istanbul</td>\n",
       "      <td>1.0</td>\n",
       "      <td>1.0</td>\n",
       "      <td>0.0</td>\n",
       "      <td>0.0</td>\n",
       "      <td>1.0</td>\n",
       "      <td>0.0</td>\n",
       "      <td>0.0</td>\n",
       "      <td>0.0</td>\n",
       "      <td>...</td>\n",
       "      <td>0.0</td>\n",
       "      <td>0.0</td>\n",
       "      <td>0.0</td>\n",
       "      <td>0.0</td>\n",
       "      <td>0.0</td>\n",
       "      <td>0.0</td>\n",
       "      <td>0.0</td>\n",
       "      <td>0.0</td>\n",
       "      <td>0.0</td>\n",
       "      <td>0.0</td>\n",
       "    </tr>\n",
       "    <tr>\n",
       "      <th>6950</th>\n",
       "      <td>Information Services</td>\n",
       "      <td>Istanbul</td>\n",
       "      <td>0.0</td>\n",
       "      <td>0.0</td>\n",
       "      <td>0.0</td>\n",
       "      <td>0.0</td>\n",
       "      <td>0.0</td>\n",
       "      <td>0.0</td>\n",
       "      <td>0.0</td>\n",
       "      <td>0.0</td>\n",
       "      <td>...</td>\n",
       "      <td>1.0</td>\n",
       "      <td>0.0</td>\n",
       "      <td>0.0</td>\n",
       "      <td>0.0</td>\n",
       "      <td>1.0</td>\n",
       "      <td>0.0</td>\n",
       "      <td>1.0</td>\n",
       "      <td>0.0</td>\n",
       "      <td>0.0</td>\n",
       "      <td>0.0</td>\n",
       "    </tr>\n",
       "    <tr>\n",
       "      <th>4880</th>\n",
       "      <td>Other_Sectors</td>\n",
       "      <td>Turkey</td>\n",
       "      <td>0.0</td>\n",
       "      <td>0.0</td>\n",
       "      <td>0.0</td>\n",
       "      <td>0.0</td>\n",
       "      <td>1.0</td>\n",
       "      <td>0.0</td>\n",
       "      <td>0.0</td>\n",
       "      <td>0.0</td>\n",
       "      <td>...</td>\n",
       "      <td>0.0</td>\n",
       "      <td>0.0</td>\n",
       "      <td>0.0</td>\n",
       "      <td>0.0</td>\n",
       "      <td>1.0</td>\n",
       "      <td>0.0</td>\n",
       "      <td>0.0</td>\n",
       "      <td>0.0</td>\n",
       "      <td>0.0</td>\n",
       "      <td>1.0</td>\n",
       "    </tr>\n",
       "    <tr>\n",
       "      <th>26046</th>\n",
       "      <td>Information Services</td>\n",
       "      <td>Istanbul</td>\n",
       "      <td>0.0</td>\n",
       "      <td>NaN</td>\n",
       "      <td>NaN</td>\n",
       "      <td>NaN</td>\n",
       "      <td>NaN</td>\n",
       "      <td>NaN</td>\n",
       "      <td>NaN</td>\n",
       "      <td>NaN</td>\n",
       "      <td>...</td>\n",
       "      <td>1.0</td>\n",
       "      <td>0.0</td>\n",
       "      <td>0.0</td>\n",
       "      <td>0.0</td>\n",
       "      <td>0.0</td>\n",
       "      <td>0.0</td>\n",
       "      <td>0.0</td>\n",
       "      <td>0.0</td>\n",
       "      <td>0.0</td>\n",
       "      <td>0.0</td>\n",
       "    </tr>\n",
       "    <tr>\n",
       "      <th>11005</th>\n",
       "      <td>Business/Education</td>\n",
       "      <td>Istanbul</td>\n",
       "      <td>0.0</td>\n",
       "      <td>NaN</td>\n",
       "      <td>NaN</td>\n",
       "      <td>NaN</td>\n",
       "      <td>NaN</td>\n",
       "      <td>NaN</td>\n",
       "      <td>NaN</td>\n",
       "      <td>NaN</td>\n",
       "      <td>...</td>\n",
       "      <td>0.0</td>\n",
       "      <td>0.0</td>\n",
       "      <td>1.0</td>\n",
       "      <td>0.0</td>\n",
       "      <td>0.0</td>\n",
       "      <td>0.0</td>\n",
       "      <td>0.0</td>\n",
       "      <td>0.0</td>\n",
       "      <td>0.0</td>\n",
       "      <td>0.0</td>\n",
       "    </tr>\n",
       "    <tr>\n",
       "      <th>...</th>\n",
       "      <td>...</td>\n",
       "      <td>...</td>\n",
       "      <td>...</td>\n",
       "      <td>...</td>\n",
       "      <td>...</td>\n",
       "      <td>...</td>\n",
       "      <td>...</td>\n",
       "      <td>...</td>\n",
       "      <td>...</td>\n",
       "      <td>...</td>\n",
       "      <td>...</td>\n",
       "      <td>...</td>\n",
       "      <td>...</td>\n",
       "      <td>...</td>\n",
       "      <td>...</td>\n",
       "      <td>...</td>\n",
       "      <td>...</td>\n",
       "      <td>...</td>\n",
       "      <td>...</td>\n",
       "      <td>...</td>\n",
       "      <td>...</td>\n",
       "    </tr>\n",
       "    <tr>\n",
       "      <th>32847</th>\n",
       "      <td>Other_Sectors</td>\n",
       "      <td>Turkey</td>\n",
       "      <td>NaN</td>\n",
       "      <td>NaN</td>\n",
       "      <td>NaN</td>\n",
       "      <td>NaN</td>\n",
       "      <td>NaN</td>\n",
       "      <td>NaN</td>\n",
       "      <td>NaN</td>\n",
       "      <td>NaN</td>\n",
       "      <td>...</td>\n",
       "      <td>0.0</td>\n",
       "      <td>0.0</td>\n",
       "      <td>0.0</td>\n",
       "      <td>0.0</td>\n",
       "      <td>0.0</td>\n",
       "      <td>0.0</td>\n",
       "      <td>0.0</td>\n",
       "      <td>0.0</td>\n",
       "      <td>0.0</td>\n",
       "      <td>0.0</td>\n",
       "    </tr>\n",
       "    <tr>\n",
       "      <th>20054</th>\n",
       "      <td>Health</td>\n",
       "      <td>Turkey</td>\n",
       "      <td>NaN</td>\n",
       "      <td>0.0</td>\n",
       "      <td>0.0</td>\n",
       "      <td>0.0</td>\n",
       "      <td>1.0</td>\n",
       "      <td>0.0</td>\n",
       "      <td>0.0</td>\n",
       "      <td>0.0</td>\n",
       "      <td>...</td>\n",
       "      <td>NaN</td>\n",
       "      <td>NaN</td>\n",
       "      <td>NaN</td>\n",
       "      <td>NaN</td>\n",
       "      <td>NaN</td>\n",
       "      <td>NaN</td>\n",
       "      <td>NaN</td>\n",
       "      <td>NaN</td>\n",
       "      <td>NaN</td>\n",
       "      <td>NaN</td>\n",
       "    </tr>\n",
       "    <tr>\n",
       "      <th>7029</th>\n",
       "      <td>Wireless</td>\n",
       "      <td>Istanbul</td>\n",
       "      <td>NaN</td>\n",
       "      <td>0.0</td>\n",
       "      <td>0.0</td>\n",
       "      <td>0.0</td>\n",
       "      <td>1.0</td>\n",
       "      <td>0.0</td>\n",
       "      <td>0.0</td>\n",
       "      <td>1.0</td>\n",
       "      <td>...</td>\n",
       "      <td>0.0</td>\n",
       "      <td>0.0</td>\n",
       "      <td>0.0</td>\n",
       "      <td>0.0</td>\n",
       "      <td>0.0</td>\n",
       "      <td>0.0</td>\n",
       "      <td>0.0</td>\n",
       "      <td>0.0</td>\n",
       "      <td>0.0</td>\n",
       "      <td>0.0</td>\n",
       "    </tr>\n",
       "    <tr>\n",
       "      <th>56130</th>\n",
       "      <td>Information Services</td>\n",
       "      <td>Ankara</td>\n",
       "      <td>NaN</td>\n",
       "      <td>0.0</td>\n",
       "      <td>1.0</td>\n",
       "      <td>0.0</td>\n",
       "      <td>1.0</td>\n",
       "      <td>0.0</td>\n",
       "      <td>0.0</td>\n",
       "      <td>0.0</td>\n",
       "      <td>...</td>\n",
       "      <td>0.0</td>\n",
       "      <td>0.0</td>\n",
       "      <td>0.0</td>\n",
       "      <td>0.0</td>\n",
       "      <td>0.0</td>\n",
       "      <td>0.0</td>\n",
       "      <td>0.0</td>\n",
       "      <td>0.0</td>\n",
       "      <td>0.0</td>\n",
       "      <td>0.0</td>\n",
       "    </tr>\n",
       "    <tr>\n",
       "      <th>16036</th>\n",
       "      <td>Industrial and Manufacturing</td>\n",
       "      <td>İzmir</td>\n",
       "      <td>NaN</td>\n",
       "      <td>0.0</td>\n",
       "      <td>0.0</td>\n",
       "      <td>0.0</td>\n",
       "      <td>1.0</td>\n",
       "      <td>0.0</td>\n",
       "      <td>0.0</td>\n",
       "      <td>0.0</td>\n",
       "      <td>...</td>\n",
       "      <td>0.0</td>\n",
       "      <td>0.0</td>\n",
       "      <td>0.0</td>\n",
       "      <td>1.0</td>\n",
       "      <td>0.0</td>\n",
       "      <td>0.0</td>\n",
       "      <td>0.0</td>\n",
       "      <td>0.0</td>\n",
       "      <td>0.0</td>\n",
       "      <td>0.0</td>\n",
       "    </tr>\n",
       "  </tbody>\n",
       "</table>\n",
       "<p>66274 rows × 104 columns</p>\n",
       "</div>"
      ],
      "text/plain": [
       "                             industry  location  moved_after_2019  \\\n",
       "user_id                                                             \n",
       "1301             Information Services  Istanbul               1.0   \n",
       "6950             Information Services  Istanbul               0.0   \n",
       "4880                    Other_Sectors    Turkey               0.0   \n",
       "26046            Information Services  Istanbul               0.0   \n",
       "11005              Business/Education  Istanbul               0.0   \n",
       "...                               ...       ...               ...   \n",
       "32847                   Other_Sectors    Turkey               NaN   \n",
       "20054                          Health    Turkey               NaN   \n",
       "7029                         Wireless  Istanbul               NaN   \n",
       "56130            Information Services    Ankara               NaN   \n",
       "16036    Industrial and Manufacturing     İzmir               NaN   \n",
       "\n",
       "         school_name_Tier2  school_name_Tier3  school_name_Tier_Unique  \\\n",
       "user_id                                                                  \n",
       "1301                   1.0                0.0                      0.0   \n",
       "6950                   0.0                0.0                      0.0   \n",
       "4880                   0.0                0.0                      0.0   \n",
       "26046                  NaN                NaN                      NaN   \n",
       "11005                  NaN                NaN                      NaN   \n",
       "...                    ...                ...                      ...   \n",
       "32847                  NaN                NaN                      NaN   \n",
       "20054                  0.0                0.0                      0.0   \n",
       "7029                   0.0                0.0                      0.0   \n",
       "56130                  0.0                1.0                      0.0   \n",
       "16036                  0.0                0.0                      0.0   \n",
       "\n",
       "         degree_Bachelors  degree_Doctorate  degree_HighSchool  \\\n",
       "user_id                                                          \n",
       "1301                  1.0               0.0                0.0   \n",
       "6950                  0.0               0.0                0.0   \n",
       "4880                  1.0               0.0                0.0   \n",
       "26046                 NaN               NaN                NaN   \n",
       "11005                 NaN               NaN                NaN   \n",
       "...                   ...               ...                ...   \n",
       "32847                 NaN               NaN                NaN   \n",
       "20054                 1.0               0.0                0.0   \n",
       "7029                  1.0               0.0                0.0   \n",
       "56130                 1.0               0.0                0.0   \n",
       "16036                 1.0               0.0                0.0   \n",
       "\n",
       "         degree_Masters  ...  Software Engineering  Spring Framework  T-SQL  \\\n",
       "user_id                  ...                                                  \n",
       "1301                0.0  ...                   0.0               0.0    0.0   \n",
       "6950                0.0  ...                   1.0               0.0    0.0   \n",
       "4880                0.0  ...                   0.0               0.0    0.0   \n",
       "26046               NaN  ...                   1.0               0.0    0.0   \n",
       "11005               NaN  ...                   0.0               0.0    1.0   \n",
       "...                 ...  ...                   ...               ...    ...   \n",
       "32847               NaN  ...                   0.0               0.0    0.0   \n",
       "20054               0.0  ...                   NaN               NaN    NaN   \n",
       "7029                1.0  ...                   0.0               0.0    0.0   \n",
       "56130               0.0  ...                   0.0               0.0    0.0   \n",
       "16036               0.0  ...                   0.0               0.0    0.0   \n",
       "\n",
       "         Visual Studio  Web Development  Web Geliştirme  Web Services  XML  \\\n",
       "user_id                                                                      \n",
       "1301               0.0              0.0             0.0           0.0  0.0   \n",
       "6950               0.0              1.0             0.0           1.0  0.0   \n",
       "4880               0.0              1.0             0.0           0.0  0.0   \n",
       "26046              0.0              0.0             0.0           0.0  0.0   \n",
       "11005              0.0              0.0             0.0           0.0  0.0   \n",
       "...                ...              ...             ...           ...  ...   \n",
       "32847              0.0              0.0             0.0           0.0  0.0   \n",
       "20054              NaN              NaN             NaN           NaN  NaN   \n",
       "7029               0.0              0.0             0.0           0.0  0.0   \n",
       "56130              0.0              0.0             0.0           0.0  0.0   \n",
       "16036              1.0              0.0             0.0           0.0  0.0   \n",
       "\n",
       "         Yazılım Geliştirme  jQuery  \n",
       "user_id                              \n",
       "1301                    0.0     0.0  \n",
       "6950                    0.0     0.0  \n",
       "4880                    0.0     1.0  \n",
       "26046                   0.0     0.0  \n",
       "11005                   0.0     0.0  \n",
       "...                     ...     ...  \n",
       "32847                   0.0     0.0  \n",
       "20054                   NaN     NaN  \n",
       "7029                    0.0     0.0  \n",
       "56130                   0.0     0.0  \n",
       "16036                   0.0     0.0  \n",
       "\n",
       "[66274 rows x 104 columns]"
      ]
     },
     "execution_count": 357,
     "metadata": {},
     "output_type": "execute_result"
    }
   ],
   "source": [
    "original_data"
   ]
  },
  {
   "cell_type": "markdown",
   "id": "08fe2091",
   "metadata": {},
   "source": [
    "#### <font color = \"red\">->> Gathering categoricals and numericals seperately, and fixing them like giving values to categoricals variables by using factorize() func. and filling na values in  numericals by -1 and changing their data types. </font>"
   ]
  },
  {
   "cell_type": "code",
   "execution_count": 358,
   "id": "78b0d2a3",
   "metadata": {
    "scrolled": true
   },
   "outputs": [
    {
     "data": {
      "text/plain": [
       "(53019, 104)"
      ]
     },
     "execution_count": 358,
     "metadata": {},
     "output_type": "execute_result"
    }
   ],
   "source": [
    "df_train.shape"
   ]
  },
  {
   "cell_type": "code",
   "execution_count": 359,
   "id": "0c3a877e",
   "metadata": {},
   "outputs": [],
   "source": [
    "categoricals = df_train.select_dtypes(\"object\")\n",
    "numericals = df_train.select_dtypes(exclude=\"object\")"
   ]
  },
  {
   "cell_type": "code",
   "execution_count": 360,
   "id": "ad0c36c5",
   "metadata": {},
   "outputs": [],
   "source": [
    "# Scaling for Training Dataset\n",
    "scaler=StandardScaler()\n",
    "scaler.fit(X_train)\n",
    "X_train=scaler.transform(X_train)\n",
    "\n",
    "# We need to do same process for Test Dataset\n",
    "\n",
    "scaler.fit(X_test)\n",
    "X_test=scaler.transform(X_test)\n"
   ]
  },
  {
   "cell_type": "code",
   "execution_count": 361,
   "id": "b43f4248",
   "metadata": {},
   "outputs": [],
   "source": [
    "for col in categoricals:\n",
    "    original_data[col] = original_data[col].factorize()[0]\n",
    "\n",
    "original_data[categoricals.columns] = original_data[categoricals.columns].astype('category')\n",
    "original_data[numericals.columns] = original_data[numericals.columns].fillna(-1)"
   ]
  },
  {
   "cell_type": "code",
   "execution_count": 362,
   "id": "8b789ec1",
   "metadata": {
    "scrolled": true
   },
   "outputs": [
    {
     "data": {
      "text/html": [
       "<div>\n",
       "<style scoped>\n",
       "    .dataframe tbody tr th:only-of-type {\n",
       "        vertical-align: middle;\n",
       "    }\n",
       "\n",
       "    .dataframe tbody tr th {\n",
       "        vertical-align: top;\n",
       "    }\n",
       "\n",
       "    .dataframe thead th {\n",
       "        text-align: right;\n",
       "    }\n",
       "</style>\n",
       "<table border=\"1\" class=\"dataframe\">\n",
       "  <thead>\n",
       "    <tr style=\"text-align: right;\">\n",
       "      <th></th>\n",
       "      <th>industry</th>\n",
       "      <th>location</th>\n",
       "      <th>moved_after_2019</th>\n",
       "      <th>school_name_Tier2</th>\n",
       "      <th>school_name_Tier3</th>\n",
       "      <th>school_name_Tier_Unique</th>\n",
       "      <th>degree_Bachelors</th>\n",
       "      <th>degree_Doctorate</th>\n",
       "      <th>degree_HighSchool</th>\n",
       "      <th>degree_Masters</th>\n",
       "      <th>...</th>\n",
       "      <th>Software Engineering</th>\n",
       "      <th>Spring Framework</th>\n",
       "      <th>T-SQL</th>\n",
       "      <th>Visual Studio</th>\n",
       "      <th>Web Development</th>\n",
       "      <th>Web Geliştirme</th>\n",
       "      <th>Web Services</th>\n",
       "      <th>XML</th>\n",
       "      <th>Yazılım Geliştirme</th>\n",
       "      <th>jQuery</th>\n",
       "    </tr>\n",
       "    <tr>\n",
       "      <th>user_id</th>\n",
       "      <th></th>\n",
       "      <th></th>\n",
       "      <th></th>\n",
       "      <th></th>\n",
       "      <th></th>\n",
       "      <th></th>\n",
       "      <th></th>\n",
       "      <th></th>\n",
       "      <th></th>\n",
       "      <th></th>\n",
       "      <th></th>\n",
       "      <th></th>\n",
       "      <th></th>\n",
       "      <th></th>\n",
       "      <th></th>\n",
       "      <th></th>\n",
       "      <th></th>\n",
       "      <th></th>\n",
       "      <th></th>\n",
       "      <th></th>\n",
       "      <th></th>\n",
       "    </tr>\n",
       "  </thead>\n",
       "  <tbody>\n",
       "    <tr>\n",
       "      <th>1301</th>\n",
       "      <td>0</td>\n",
       "      <td>0</td>\n",
       "      <td>1.0</td>\n",
       "      <td>1.0</td>\n",
       "      <td>0.0</td>\n",
       "      <td>0.0</td>\n",
       "      <td>1.0</td>\n",
       "      <td>0.0</td>\n",
       "      <td>0.0</td>\n",
       "      <td>0.0</td>\n",
       "      <td>...</td>\n",
       "      <td>0.0</td>\n",
       "      <td>0.0</td>\n",
       "      <td>0.0</td>\n",
       "      <td>0.0</td>\n",
       "      <td>0.0</td>\n",
       "      <td>0.0</td>\n",
       "      <td>0.0</td>\n",
       "      <td>0.0</td>\n",
       "      <td>0.0</td>\n",
       "      <td>0.0</td>\n",
       "    </tr>\n",
       "    <tr>\n",
       "      <th>6950</th>\n",
       "      <td>0</td>\n",
       "      <td>0</td>\n",
       "      <td>0.0</td>\n",
       "      <td>0.0</td>\n",
       "      <td>0.0</td>\n",
       "      <td>0.0</td>\n",
       "      <td>0.0</td>\n",
       "      <td>0.0</td>\n",
       "      <td>0.0</td>\n",
       "      <td>0.0</td>\n",
       "      <td>...</td>\n",
       "      <td>1.0</td>\n",
       "      <td>0.0</td>\n",
       "      <td>0.0</td>\n",
       "      <td>0.0</td>\n",
       "      <td>1.0</td>\n",
       "      <td>0.0</td>\n",
       "      <td>1.0</td>\n",
       "      <td>0.0</td>\n",
       "      <td>0.0</td>\n",
       "      <td>0.0</td>\n",
       "    </tr>\n",
       "    <tr>\n",
       "      <th>4880</th>\n",
       "      <td>1</td>\n",
       "      <td>1</td>\n",
       "      <td>0.0</td>\n",
       "      <td>0.0</td>\n",
       "      <td>0.0</td>\n",
       "      <td>0.0</td>\n",
       "      <td>1.0</td>\n",
       "      <td>0.0</td>\n",
       "      <td>0.0</td>\n",
       "      <td>0.0</td>\n",
       "      <td>...</td>\n",
       "      <td>0.0</td>\n",
       "      <td>0.0</td>\n",
       "      <td>0.0</td>\n",
       "      <td>0.0</td>\n",
       "      <td>1.0</td>\n",
       "      <td>0.0</td>\n",
       "      <td>0.0</td>\n",
       "      <td>0.0</td>\n",
       "      <td>0.0</td>\n",
       "      <td>1.0</td>\n",
       "    </tr>\n",
       "    <tr>\n",
       "      <th>26046</th>\n",
       "      <td>0</td>\n",
       "      <td>0</td>\n",
       "      <td>0.0</td>\n",
       "      <td>-1.0</td>\n",
       "      <td>-1.0</td>\n",
       "      <td>-1.0</td>\n",
       "      <td>-1.0</td>\n",
       "      <td>-1.0</td>\n",
       "      <td>-1.0</td>\n",
       "      <td>-1.0</td>\n",
       "      <td>...</td>\n",
       "      <td>1.0</td>\n",
       "      <td>0.0</td>\n",
       "      <td>0.0</td>\n",
       "      <td>0.0</td>\n",
       "      <td>0.0</td>\n",
       "      <td>0.0</td>\n",
       "      <td>0.0</td>\n",
       "      <td>0.0</td>\n",
       "      <td>0.0</td>\n",
       "      <td>0.0</td>\n",
       "    </tr>\n",
       "    <tr>\n",
       "      <th>11005</th>\n",
       "      <td>2</td>\n",
       "      <td>0</td>\n",
       "      <td>0.0</td>\n",
       "      <td>-1.0</td>\n",
       "      <td>-1.0</td>\n",
       "      <td>-1.0</td>\n",
       "      <td>-1.0</td>\n",
       "      <td>-1.0</td>\n",
       "      <td>-1.0</td>\n",
       "      <td>-1.0</td>\n",
       "      <td>...</td>\n",
       "      <td>0.0</td>\n",
       "      <td>0.0</td>\n",
       "      <td>1.0</td>\n",
       "      <td>0.0</td>\n",
       "      <td>0.0</td>\n",
       "      <td>0.0</td>\n",
       "      <td>0.0</td>\n",
       "      <td>0.0</td>\n",
       "      <td>0.0</td>\n",
       "      <td>0.0</td>\n",
       "    </tr>\n",
       "    <tr>\n",
       "      <th>...</th>\n",
       "      <td>...</td>\n",
       "      <td>...</td>\n",
       "      <td>...</td>\n",
       "      <td>...</td>\n",
       "      <td>...</td>\n",
       "      <td>...</td>\n",
       "      <td>...</td>\n",
       "      <td>...</td>\n",
       "      <td>...</td>\n",
       "      <td>...</td>\n",
       "      <td>...</td>\n",
       "      <td>...</td>\n",
       "      <td>...</td>\n",
       "      <td>...</td>\n",
       "      <td>...</td>\n",
       "      <td>...</td>\n",
       "      <td>...</td>\n",
       "      <td>...</td>\n",
       "      <td>...</td>\n",
       "      <td>...</td>\n",
       "      <td>...</td>\n",
       "    </tr>\n",
       "    <tr>\n",
       "      <th>32847</th>\n",
       "      <td>1</td>\n",
       "      <td>1</td>\n",
       "      <td>-1.0</td>\n",
       "      <td>-1.0</td>\n",
       "      <td>-1.0</td>\n",
       "      <td>-1.0</td>\n",
       "      <td>-1.0</td>\n",
       "      <td>-1.0</td>\n",
       "      <td>-1.0</td>\n",
       "      <td>-1.0</td>\n",
       "      <td>...</td>\n",
       "      <td>0.0</td>\n",
       "      <td>0.0</td>\n",
       "      <td>0.0</td>\n",
       "      <td>0.0</td>\n",
       "      <td>0.0</td>\n",
       "      <td>0.0</td>\n",
       "      <td>0.0</td>\n",
       "      <td>0.0</td>\n",
       "      <td>0.0</td>\n",
       "      <td>0.0</td>\n",
       "    </tr>\n",
       "    <tr>\n",
       "      <th>20054</th>\n",
       "      <td>5</td>\n",
       "      <td>1</td>\n",
       "      <td>-1.0</td>\n",
       "      <td>0.0</td>\n",
       "      <td>0.0</td>\n",
       "      <td>0.0</td>\n",
       "      <td>1.0</td>\n",
       "      <td>0.0</td>\n",
       "      <td>0.0</td>\n",
       "      <td>0.0</td>\n",
       "      <td>...</td>\n",
       "      <td>-1.0</td>\n",
       "      <td>-1.0</td>\n",
       "      <td>-1.0</td>\n",
       "      <td>-1.0</td>\n",
       "      <td>-1.0</td>\n",
       "      <td>-1.0</td>\n",
       "      <td>-1.0</td>\n",
       "      <td>-1.0</td>\n",
       "      <td>-1.0</td>\n",
       "      <td>-1.0</td>\n",
       "    </tr>\n",
       "    <tr>\n",
       "      <th>7029</th>\n",
       "      <td>61</td>\n",
       "      <td>0</td>\n",
       "      <td>-1.0</td>\n",
       "      <td>0.0</td>\n",
       "      <td>0.0</td>\n",
       "      <td>0.0</td>\n",
       "      <td>1.0</td>\n",
       "      <td>0.0</td>\n",
       "      <td>0.0</td>\n",
       "      <td>1.0</td>\n",
       "      <td>...</td>\n",
       "      <td>0.0</td>\n",
       "      <td>0.0</td>\n",
       "      <td>0.0</td>\n",
       "      <td>0.0</td>\n",
       "      <td>0.0</td>\n",
       "      <td>0.0</td>\n",
       "      <td>0.0</td>\n",
       "      <td>0.0</td>\n",
       "      <td>0.0</td>\n",
       "      <td>0.0</td>\n",
       "    </tr>\n",
       "    <tr>\n",
       "      <th>56130</th>\n",
       "      <td>0</td>\n",
       "      <td>2</td>\n",
       "      <td>-1.0</td>\n",
       "      <td>0.0</td>\n",
       "      <td>1.0</td>\n",
       "      <td>0.0</td>\n",
       "      <td>1.0</td>\n",
       "      <td>0.0</td>\n",
       "      <td>0.0</td>\n",
       "      <td>0.0</td>\n",
       "      <td>...</td>\n",
       "      <td>0.0</td>\n",
       "      <td>0.0</td>\n",
       "      <td>0.0</td>\n",
       "      <td>0.0</td>\n",
       "      <td>0.0</td>\n",
       "      <td>0.0</td>\n",
       "      <td>0.0</td>\n",
       "      <td>0.0</td>\n",
       "      <td>0.0</td>\n",
       "      <td>0.0</td>\n",
       "    </tr>\n",
       "    <tr>\n",
       "      <th>16036</th>\n",
       "      <td>4</td>\n",
       "      <td>4</td>\n",
       "      <td>-1.0</td>\n",
       "      <td>0.0</td>\n",
       "      <td>0.0</td>\n",
       "      <td>0.0</td>\n",
       "      <td>1.0</td>\n",
       "      <td>0.0</td>\n",
       "      <td>0.0</td>\n",
       "      <td>0.0</td>\n",
       "      <td>...</td>\n",
       "      <td>0.0</td>\n",
       "      <td>0.0</td>\n",
       "      <td>0.0</td>\n",
       "      <td>1.0</td>\n",
       "      <td>0.0</td>\n",
       "      <td>0.0</td>\n",
       "      <td>0.0</td>\n",
       "      <td>0.0</td>\n",
       "      <td>0.0</td>\n",
       "      <td>0.0</td>\n",
       "    </tr>\n",
       "  </tbody>\n",
       "</table>\n",
       "<p>66274 rows × 104 columns</p>\n",
       "</div>"
      ],
      "text/plain": [
       "        industry location  moved_after_2019  school_name_Tier2  \\\n",
       "user_id                                                          \n",
       "1301           0        0               1.0                1.0   \n",
       "6950           0        0               0.0                0.0   \n",
       "4880           1        1               0.0                0.0   \n",
       "26046          0        0               0.0               -1.0   \n",
       "11005          2        0               0.0               -1.0   \n",
       "...          ...      ...               ...                ...   \n",
       "32847          1        1              -1.0               -1.0   \n",
       "20054          5        1              -1.0                0.0   \n",
       "7029          61        0              -1.0                0.0   \n",
       "56130          0        2              -1.0                0.0   \n",
       "16036          4        4              -1.0                0.0   \n",
       "\n",
       "         school_name_Tier3  school_name_Tier_Unique  degree_Bachelors  \\\n",
       "user_id                                                                 \n",
       "1301                   0.0                      0.0               1.0   \n",
       "6950                   0.0                      0.0               0.0   \n",
       "4880                   0.0                      0.0               1.0   \n",
       "26046                 -1.0                     -1.0              -1.0   \n",
       "11005                 -1.0                     -1.0              -1.0   \n",
       "...                    ...                      ...               ...   \n",
       "32847                 -1.0                     -1.0              -1.0   \n",
       "20054                  0.0                      0.0               1.0   \n",
       "7029                   0.0                      0.0               1.0   \n",
       "56130                  1.0                      0.0               1.0   \n",
       "16036                  0.0                      0.0               1.0   \n",
       "\n",
       "         degree_Doctorate  degree_HighSchool  degree_Masters  ...  \\\n",
       "user_id                                                       ...   \n",
       "1301                  0.0                0.0             0.0  ...   \n",
       "6950                  0.0                0.0             0.0  ...   \n",
       "4880                  0.0                0.0             0.0  ...   \n",
       "26046                -1.0               -1.0            -1.0  ...   \n",
       "11005                -1.0               -1.0            -1.0  ...   \n",
       "...                   ...                ...             ...  ...   \n",
       "32847                -1.0               -1.0            -1.0  ...   \n",
       "20054                 0.0                0.0             0.0  ...   \n",
       "7029                  0.0                0.0             1.0  ...   \n",
       "56130                 0.0                0.0             0.0  ...   \n",
       "16036                 0.0                0.0             0.0  ...   \n",
       "\n",
       "         Software Engineering  Spring Framework  T-SQL  Visual Studio  \\\n",
       "user_id                                                                 \n",
       "1301                      0.0               0.0    0.0            0.0   \n",
       "6950                      1.0               0.0    0.0            0.0   \n",
       "4880                      0.0               0.0    0.0            0.0   \n",
       "26046                     1.0               0.0    0.0            0.0   \n",
       "11005                     0.0               0.0    1.0            0.0   \n",
       "...                       ...               ...    ...            ...   \n",
       "32847                     0.0               0.0    0.0            0.0   \n",
       "20054                    -1.0              -1.0   -1.0           -1.0   \n",
       "7029                      0.0               0.0    0.0            0.0   \n",
       "56130                     0.0               0.0    0.0            0.0   \n",
       "16036                     0.0               0.0    0.0            1.0   \n",
       "\n",
       "         Web Development  Web Geliştirme  Web Services  XML  \\\n",
       "user_id                                                       \n",
       "1301                 0.0             0.0           0.0  0.0   \n",
       "6950                 1.0             0.0           1.0  0.0   \n",
       "4880                 1.0             0.0           0.0  0.0   \n",
       "26046                0.0             0.0           0.0  0.0   \n",
       "11005                0.0             0.0           0.0  0.0   \n",
       "...                  ...             ...           ...  ...   \n",
       "32847                0.0             0.0           0.0  0.0   \n",
       "20054               -1.0            -1.0          -1.0 -1.0   \n",
       "7029                 0.0             0.0           0.0  0.0   \n",
       "56130                0.0             0.0           0.0  0.0   \n",
       "16036                0.0             0.0           0.0  0.0   \n",
       "\n",
       "         Yazılım Geliştirme  jQuery  \n",
       "user_id                              \n",
       "1301                    0.0     0.0  \n",
       "6950                    0.0     0.0  \n",
       "4880                    0.0     1.0  \n",
       "26046                   0.0     0.0  \n",
       "11005                   0.0     0.0  \n",
       "...                     ...     ...  \n",
       "32847                   0.0     0.0  \n",
       "20054                  -1.0    -1.0  \n",
       "7029                    0.0     0.0  \n",
       "56130                   0.0     0.0  \n",
       "16036                   0.0     0.0  \n",
       "\n",
       "[66274 rows x 104 columns]"
      ]
     },
     "execution_count": 362,
     "metadata": {},
     "output_type": "execute_result"
    }
   ],
   "source": [
    "original_data"
   ]
  },
  {
   "cell_type": "markdown",
   "id": "09c3e2d8",
   "metadata": {},
   "source": [
    "#### <font color = \"red\">->> Applying changes </font>"
   ]
  },
  {
   "cell_type": "code",
   "execution_count": 363,
   "id": "a8c7ac05",
   "metadata": {},
   "outputs": [],
   "source": [
    "df_train = original_data.loc[df_train.index, df_train.columns]\n",
    "df_test = original_data.loc[df_test.index, df_test.columns]"
   ]
  },
  {
   "cell_type": "markdown",
   "id": "df86c3b3",
   "metadata": {},
   "source": [
    "#### <font color = \"red\">->> Creting a heatmap to see correlation of variables. </font>"
   ]
  },
  {
   "cell_type": "code",
   "execution_count": 364,
   "id": "4e39c97c",
   "metadata": {},
   "outputs": [
    {
     "data": {
      "image/png": "[encoded data removed]",
      "text/plain": [
       "<Figure size 1500x1500 with 2 Axes>"
      ]
     },
     "metadata": {},
     "output_type": "display_data"
    }
   ],
   "source": [
    "corr = df_train.corr()\n",
    "sns.set(font_scale=0.6)\n",
    "plt.figure(figsize=(15,15))\n",
    "sns.heatmap(corr,cmap=\"coolwarm\",square=True)\n",
    "plt.show()"
   ]
  },
  {
   "cell_type": "markdown",
   "id": "93802b6d",
   "metadata": {},
   "source": [
    "## <font color = \"purple\">Train and Test Side </font>\n",
    "- Used different models to see their impact or difference on this dataset.\n",
    "- Also, GridCV method is used for model tuning, to using different values of parameters."
   ]
  },
  {
   "cell_type": "code",
   "execution_count": 365,
   "id": "f989b62e",
   "metadata": {},
   "outputs": [],
   "source": [
    "from sklearn.model_selection import train_test_split,GridSearchCV,cross_val_score,KFold,StratifiedKFold\n",
    "from sklearn.metrics import accuracy_score,roc_auc_score,roc_curve,classification_report,confusion_matrix\n",
    "from sklearn.preprocessing import scale,StandardScaler\n",
    "from sklearn.linear_model import LogisticRegression\n",
    "from sklearn.tree import DecisionTreeClassifier\n",
    "from sklearn.ensemble import GradientBoostingClassifier,RandomForestClassifier\n",
    "from xgboost import XGBClassifier\n",
    "from lightgbm import LGBMClassifier\n",
    "from catboost import CatBoostClassifier "
   ]
  },
  {
   "cell_type": "code",
   "execution_count": 366,
   "id": "cb3c3ca5",
   "metadata": {},
   "outputs": [],
   "source": [
    "X = df_train.drop(columns=[\"moved_after_2019\"])\n",
    "y = df_train[\"moved_after_2019\"]\n",
    "X_train,X_test,y_train,y_test = train_test_split(X,y,random_state=42,stratify=y)"
   ]
  },
  {
   "cell_type": "markdown",
   "id": "d2d76e1a",
   "metadata": {},
   "source": [
    "## <font color = \"orange\">LogisticRegression Side</font>"
   ]
  },
  {
   "cell_type": "code",
   "execution_count": 367,
   "id": "93daeb86",
   "metadata": {
    "scrolled": true
   },
   "outputs": [],
   "source": [
    "logistic_model = LogisticRegression(solver=\"lbfgs\",random_state=42).fit(X_train,y_train)"
   ]
  },
  {
   "cell_type": "code",
   "execution_count": 368,
   "id": "00626170",
   "metadata": {},
   "outputs": [
    {
     "data": {
      "text/plain": [
       "array([0.6122218 , 0.60316862, 0.61373067, 0.61259902, 0.61259902])"
      ]
     },
     "execution_count": 368,
     "metadata": {},
     "output_type": "execute_result"
    }
   ],
   "source": [
    "cross_val_score(logistic_model,X_test,y_test,scoring=\"accuracy\",cv=5)"
   ]
  },
  {
   "cell_type": "markdown",
   "id": "f6067d14",
   "metadata": {},
   "source": [
    "## <font color = \"orange\">DecisionTree Side</font>"
   ]
  },
  {
   "cell_type": "code",
   "execution_count": 369,
   "id": "d1e0b844",
   "metadata": {
    "scrolled": true
   },
   "outputs": [
    {
     "name": "stdout",
     "output_type": "stream",
     "text": [
      "{'max_depth': 10, 'min_samples_split': 5}\n"
     ]
    }
   ],
   "source": [
    "decision_tree_model = DecisionTreeClassifier(random_state=42)\n",
    "params = {\"max_depth\":[2,3,5,8,10],\"min_samples_split\":[2,3,5,10,20,50]}\n",
    "cv_model = GridSearchCV(decision_tree_model,cv=5,param_grid=params,n_jobs=-1).fit(X_train,y_train)\n",
    "print(cv_model.best_params_)"
   ]
  },
  {
   "cell_type": "code",
   "execution_count": 370,
   "id": "29bfed6f",
   "metadata": {},
   "outputs": [],
   "source": [
    "final_decisionTree_model = DecisionTreeClassifier(max_depth=10,min_samples_split=5,random_state=42).fit(X_train,y_train)"
   ]
  },
  {
   "cell_type": "code",
   "execution_count": 371,
   "id": "be48ca09",
   "metadata": {
    "scrolled": true
   },
   "outputs": [
    {
     "data": {
      "text/plain": [
       "array([0.64994342, 0.63636364, 0.6261788 , 0.65522444, 0.65484723])"
      ]
     },
     "execution_count": 371,
     "metadata": {},
     "output_type": "execute_result"
    }
   ],
   "source": [
    "cross_val_score(final_decisionTree_model,X_test,y_test,scoring=\"accuracy\",cv=5)"
   ]
  },
  {
   "cell_type": "markdown",
   "id": "ebe74543",
   "metadata": {},
   "source": [
    "## <font color = \"orange\">RandomForest Side</font>"
   ]
  },
  {
   "cell_type": "code",
   "execution_count": 374,
   "id": "9743cd4f",
   "metadata": {
    "scrolled": true
   },
   "outputs": [
    {
     "name": "stdout",
     "output_type": "stream",
     "text": [
      "{'max_features': 3, 'min_samples_split': 5, 'n_estimators': 300}\n"
     ]
    }
   ],
   "source": [
    "randomForest_model = RandomForestClassifier(random_state=42,class_weight='balanced_subsample')\n",
    "params = {\"n_estimators\":[100,200,300],\n",
    "             \"max_features\":[3,5,7,8],\n",
    "             \"min_samples_split\":[2,5,10]}\n",
    "\n",
    "randomForest_cv_model = GridSearchCV(randomForest_model,cv=5,param_grid=params,n_jobs=-1).fit(X_train,y_train)\n",
    "print(randomForest_cv_model.best_params_)"
   ]
  },
  {
   "cell_type": "code",
   "execution_count": 375,
   "id": "5c827417",
   "metadata": {},
   "outputs": [],
   "source": [
    "final_randomForest_model = RandomForestClassifier(n_estimators=300,class_weight='balanced_subsample',max_features=3,min_samples_split=5,random_state=42).fit(X_train,y_train)"
   ]
  },
  {
   "cell_type": "code",
   "execution_count": 376,
   "id": "0737a932",
   "metadata": {},
   "outputs": [
    {
     "data": {
      "text/plain": [
       "array([0.69143719, 0.70049038, 0.69294606, 0.69407771, 0.69935873])"
      ]
     },
     "execution_count": 376,
     "metadata": {},
     "output_type": "execute_result"
    }
   ],
   "source": [
    "cross_val_score(final_randomForest_model,X_test,y_test,scoring=\"accuracy\",cv=5)"
   ]
  },
  {
   "cell_type": "markdown",
   "id": "20dd7725",
   "metadata": {},
   "source": [
    "## <font color = \"orange\">Variable Importance</font>"
   ]
  },
  {
   "cell_type": "code",
   "execution_count": 377,
   "id": "6dc8a143",
   "metadata": {},
   "outputs": [
    {
     "data": {
      "image/png": "[encoded data removed]",
      "text/plain": [
       "<Figure size 1000x1500 with 1 Axes>"
      ]
     },
     "metadata": {},
     "output_type": "display_data"
    }
   ],
   "source": [
    "# Variabe importance\n",
    "plt.figure(figsize=(10,15))\n",
    "importance = pd.DataFrame({\"variable_scores\":final_randomForest_model.feature_importances_},\n",
    "                          index=X.columns).sort_values(by=\"variable_scores\",ascending=False)\n",
    "\n",
    "sns.barplot(data=importance,x=importance[\"variable_scores\"],y=importance.index)\n",
    "plt.title(\"Variable Importance Levels\",fontsize=15)\n",
    "plt.xlabel(\"Variable Importance Scores\",fontsize=15)\n",
    "plt.ylabel(\"Variables\",fontsize=15)\n",
    "plt.show();"
   ]
  },
  {
   "cell_type": "markdown",
   "id": "d5d30932",
   "metadata": {},
   "source": [
    "## <font color = \"orange\">ROC Curve</font>"
   ]
  },
  {
   "cell_type": "code",
   "execution_count": 378,
   "id": "593a62ac",
   "metadata": {},
   "outputs": [
    {
     "data": {
      "text/plain": [
       "(53019, 104)"
      ]
     },
     "execution_count": 378,
     "metadata": {},
     "output_type": "execute_result"
    }
   ],
   "source": [
    "df_train.shape"
   ]
  },
  {
   "cell_type": "code",
   "execution_count": 379,
   "id": "83133415",
   "metadata": {
    "scrolled": true
   },
   "outputs": [
    {
     "data": {
      "text/plain": [
       "(13255, 103)"
      ]
     },
     "execution_count": 379,
     "metadata": {},
     "output_type": "execute_result"
    }
   ],
   "source": [
    "df_test.shape"
   ]
  },
  {
   "cell_type": "code",
   "execution_count": 380,
   "id": "ba6b3227",
   "metadata": {
    "scrolled": false
   },
   "outputs": [
    {
     "data": {
      "image/png": "[encoded data removed]",
      "text/plain": [
       "<Figure size 640x480 with 1 Axes>"
      ]
     },
     "metadata": {},
     "output_type": "display_data"
    }
   ],
   "source": [
    "roc_auc=roc_auc_score(y_test,final_randomForest_model.predict(X_test))\n",
    "fpr,tpr,thresholds = roc_curve(y_test,final_randomForest_model.predict_proba(X_test)[:,1])\n",
    "plt.figure()\n",
    "plt.plot(fpr,tpr,label=\"AUC (area=%0.2f)\"%roc_auc)\n",
    "plt.plot([0,1],[0,1],\"r--\")\n",
    "plt.xlim([0.0,1.0])\n",
    "plt.ylim([0.0,1.05])\n",
    "plt.xlabel(\"False Positive Rate\",fontsize=15)\n",
    "plt.ylabel(\"True Positive Rate\",fontsize=15)\n",
    "plt.title(\"Receiver operating characteristic\",fontsize=15)\n",
    "plt.legend(loc=\"lower right\")\n",
    "plt.show()\n"
   ]
  },
  {
   "cell_type": "code",
   "execution_count": 381,
   "id": "c5dc8f2d",
   "metadata": {},
   "outputs": [],
   "source": [
    "predicted=final_randomForest_model.predict(X_test)"
   ]
  },
  {
   "cell_type": "code",
   "execution_count": 382,
   "id": "df20b882",
   "metadata": {
    "scrolled": true
   },
   "outputs": [],
   "source": [
    "score = accuracy_score(y_test,predicted)"
   ]
  },
  {
   "cell_type": "code",
   "execution_count": 383,
   "id": "a75d64b1",
   "metadata": {},
   "outputs": [
    {
     "name": "stdout",
     "output_type": "stream",
     "text": [
      "Score is: %77.1\n"
     ]
    }
   ],
   "source": [
    "print(\"Score is: %{:.1f}\".format(score*100))  "
   ]
  },
  {
   "cell_type": "markdown",
   "id": "847e3b36",
   "metadata": {},
   "source": [
    "## <font color = \"orange\">Submission Side</font>"
   ]
  },
  {
   "cell_type": "code",
   "execution_count": 384,
   "id": "1a1b6d02",
   "metadata": {},
   "outputs": [],
   "source": [
    "predicted = final_randomForest_model.predict(df_test)"
   ]
  },
  {
   "cell_type": "code",
   "execution_count": 385,
   "id": "3976f796",
   "metadata": {},
   "outputs": [],
   "source": [
    "submission.loc[:,\"moved_after_2019\"] = predicted"
   ]
  },
  {
   "cell_type": "code",
   "execution_count": 386,
   "id": "5c724c79",
   "metadata": {
    "scrolled": false
   },
   "outputs": [
    {
     "name": "stdout",
     "output_type": "stream",
     "text": [
      "0.0    9122\n",
      "1.0    4133\n",
      "Name: moved_after_2019, dtype: int64\n"
     ]
    }
   ],
   "source": [
    "print(submission[\"moved_after_2019\"].value_counts())"
   ]
  },
  {
   "cell_type": "code",
   "execution_count": 387,
   "id": "60db0b0f",
   "metadata": {
    "scrolled": false
   },
   "outputs": [
    {
     "name": "stdout",
     "output_type": "stream",
     "text": [
      "<class 'pandas.core.frame.DataFrame'>\n",
      "RangeIndex: 13255 entries, 0 to 13254\n",
      "Data columns (total 2 columns):\n",
      " #   Column            Non-Null Count  Dtype  \n",
      "---  ------            --------------  -----  \n",
      " 0   user_id           13255 non-null  int64  \n",
      " 1   moved_after_2019  13255 non-null  float64\n",
      "dtypes: float64(1), int64(1)\n",
      "memory usage: 207.2 KB\n"
     ]
    }
   ],
   "source": [
    "submission.info()"
   ]
  },
  {
   "cell_type": "code",
   "execution_count": 108,
   "id": "624e815d",
   "metadata": {},
   "outputs": [],
   "source": [
    "submission = submission.astype(\"int64\")"
   ]
  },
  {
   "cell_type": "code",
   "execution_count": 109,
   "id": "fe1c88fe",
   "metadata": {},
   "outputs": [],
   "source": [
    "submission.to_csv(\"submission.csv\",index=False)"
   ]
  },
  {
   "cell_type": "code",
   "execution_count": null,
   "id": "db5c9666",
   "metadata": {},
   "outputs": [],
   "source": []
  },
  {
   "cell_type": "code",
   "execution_count": null,
   "id": "35764892",
   "metadata": {},
   "outputs": [],
   "source": []
  }
 ],
 "metadata": {
  "kernelspec": {
   "display_name": "Python 3 (ipykernel)",
   "language": "python",
   "name": "python3"
  },
  "language_info": {
   "codemirror_mode": {
    "name": "ipython",
    "version": 3
   },
   "file_extension": ".py",
   "mimetype": "text/x-python",
   "name": "python",
   "nbconvert_exporter": "python",
   "pygments_lexer": "ipython3",
   "version": "3.9.13"
  }
 },
 "nbformat": 4,
 "nbformat_minor": 5
}
