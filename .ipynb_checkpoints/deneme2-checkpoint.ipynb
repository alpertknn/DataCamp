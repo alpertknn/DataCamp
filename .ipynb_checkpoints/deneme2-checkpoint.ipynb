{
 "cells": [
  {
   "cell_type": "code",
   "execution_count": 39,
   "id": "d94b6f60",
   "metadata": {},
   "outputs": [],
   "source": [
    "import pandas as pd\n",
    "import numpy as np\n",
    "import seaborn as sns \n",
    "import matplotlib.pyplot as plt\n",
    "import random\n",
    "from warnings import filterwarnings\n",
    "filterwarnings(\"ignore\")"
   ]
  },
  {
   "cell_type": "code",
   "execution_count": 40,
   "id": "473b9307",
   "metadata": {},
   "outputs": [],
   "source": [
    "df_train = pd.read_csv(\"./csv_files/train_users.csv\")\n",
    "df_test = pd.read_csv(\"./csv_files/test_users.csv\")\n",
    "education_dataset = pd.read_csv(\"./csv_files/education.csv\")\n",
    "skills_dataset = pd.read_csv(\"./csv_files/skills.csv\")\n",
    "languages_dataset = pd.read_csv(\"./csv_files/languages.csv\")\n",
    "work_experience_dataset = pd.read_csv(\"./csv_files/work_experiences.csv\")\n",
    "example_submission = pd.read_csv(\"./csv_files/submission.csv\")"
   ]
  },
  {
   "cell_type": "markdown",
   "id": "46af918c",
   "metadata": {},
   "source": [
    "## <font color = \"purple\">Work Experience Dataset </font>"
   ]
  },
  {
   "cell_type": "code",
   "execution_count": 41,
   "id": "d0b8aeb6",
   "metadata": {},
   "outputs": [
    {
     "data": {
      "text/html": [
       "<div>\n",
       "<style scoped>\n",
       "    .dataframe tbody tr th:only-of-type {\n",
       "        vertical-align: middle;\n",
       "    }\n",
       "\n",
       "    .dataframe tbody tr th {\n",
       "        vertical-align: top;\n",
       "    }\n",
       "\n",
       "    .dataframe thead th {\n",
       "        text-align: right;\n",
       "    }\n",
       "</style>\n",
       "<table border=\"1\" class=\"dataframe\">\n",
       "  <thead>\n",
       "    <tr style=\"text-align: right;\">\n",
       "      <th></th>\n",
       "      <th>user_id</th>\n",
       "      <th>company_id</th>\n",
       "      <th>location</th>\n",
       "      <th>start_year_month</th>\n",
       "    </tr>\n",
       "  </thead>\n",
       "  <tbody>\n",
       "    <tr>\n",
       "      <th>110730</th>\n",
       "      <td>65310</td>\n",
       "      <td>17060</td>\n",
       "      <td>Cambridge, Massachusetts, Birleşik Devletler</td>\n",
       "      <td>201912</td>\n",
       "    </tr>\n",
       "    <tr>\n",
       "      <th>172914</th>\n",
       "      <td>58721</td>\n",
       "      <td>1383</td>\n",
       "      <td>NaN</td>\n",
       "      <td>201912</td>\n",
       "    </tr>\n",
       "    <tr>\n",
       "      <th>85501</th>\n",
       "      <td>49326</td>\n",
       "      <td>23419</td>\n",
       "      <td>Ankara</td>\n",
       "      <td>201912</td>\n",
       "    </tr>\n",
       "    <tr>\n",
       "      <th>17006</th>\n",
       "      <td>30722</td>\n",
       "      <td>41</td>\n",
       "      <td>Istanbul, Turkey</td>\n",
       "      <td>201912</td>\n",
       "    </tr>\n",
       "    <tr>\n",
       "      <th>21834</th>\n",
       "      <td>63733</td>\n",
       "      <td>9736</td>\n",
       "      <td>Konya, Turkey</td>\n",
       "      <td>201912</td>\n",
       "    </tr>\n",
       "    <tr>\n",
       "      <th>...</th>\n",
       "      <td>...</td>\n",
       "      <td>...</td>\n",
       "      <td>...</td>\n",
       "      <td>...</td>\n",
       "    </tr>\n",
       "    <tr>\n",
       "      <th>45936</th>\n",
       "      <td>23336</td>\n",
       "      <td>740</td>\n",
       "      <td>NaN</td>\n",
       "      <td>197609</td>\n",
       "    </tr>\n",
       "    <tr>\n",
       "      <th>10636</th>\n",
       "      <td>18644</td>\n",
       "      <td>13919</td>\n",
       "      <td>NaN</td>\n",
       "      <td>196801</td>\n",
       "    </tr>\n",
       "    <tr>\n",
       "      <th>28178</th>\n",
       "      <td>35150</td>\n",
       "      <td>13919</td>\n",
       "      <td>NaN</td>\n",
       "      <td>196801</td>\n",
       "    </tr>\n",
       "    <tr>\n",
       "      <th>64370</th>\n",
       "      <td>34142</td>\n",
       "      <td>19222</td>\n",
       "      <td>NaN</td>\n",
       "      <td>196103</td>\n",
       "    </tr>\n",
       "    <tr>\n",
       "      <th>85173</th>\n",
       "      <td>34193</td>\n",
       "      <td>19222</td>\n",
       "      <td>NaN</td>\n",
       "      <td>196103</td>\n",
       "    </tr>\n",
       "  </tbody>\n",
       "</table>\n",
       "<p>187019 rows × 4 columns</p>\n",
       "</div>"
      ],
      "text/plain": [
       "        user_id  company_id                                      location  \\\n",
       "110730    65310       17060  Cambridge, Massachusetts, Birleşik Devletler   \n",
       "172914    58721        1383                                           NaN   \n",
       "85501     49326       23419                                        Ankara   \n",
       "17006     30722          41                              Istanbul, Turkey   \n",
       "21834     63733        9736                                 Konya, Turkey   \n",
       "...         ...         ...                                           ...   \n",
       "45936     23336         740                                           NaN   \n",
       "10636     18644       13919                                           NaN   \n",
       "28178     35150       13919                                           NaN   \n",
       "64370     34142       19222                                           NaN   \n",
       "85173     34193       19222                                           NaN   \n",
       "\n",
       "        start_year_month  \n",
       "110730            201912  \n",
       "172914            201912  \n",
       "85501             201912  \n",
       "17006             201912  \n",
       "21834             201912  \n",
       "...                  ...  \n",
       "45936             197609  \n",
       "10636             196801  \n",
       "28178             196801  \n",
       "64370             196103  \n",
       "85173             196103  \n",
       "\n",
       "[187019 rows x 4 columns]"
      ]
     },
     "execution_count": 41,
     "metadata": {},
     "output_type": "execute_result"
    }
   ],
   "source": [
    "work_experience_dataset.sort_values(by=\"start_year_month\",ascending=False)"
   ]
  },
  {
   "cell_type": "markdown",
   "id": "895b70ef",
   "metadata": {},
   "source": [
    "### <font color = \"red\"> --> 2019 dan önceki verileri çekme, diğer şekilde overfitting sebebi olabilir </font>\n"
   ]
  },
  {
   "cell_type": "code",
   "execution_count": 42,
   "id": "25f67f87",
   "metadata": {},
   "outputs": [],
   "source": [
    "work_experience_dataset=work_experience_dataset.loc[work_experience_dataset[\"start_year_month\"].lt(201901)]"
   ]
  },
  {
   "cell_type": "code",
   "execution_count": 43,
   "id": "9334c4dd",
   "metadata": {},
   "outputs": [
    {
     "data": {
      "text/html": [
       "<div>\n",
       "<style scoped>\n",
       "    .dataframe tbody tr th:only-of-type {\n",
       "        vertical-align: middle;\n",
       "    }\n",
       "\n",
       "    .dataframe tbody tr th {\n",
       "        vertical-align: top;\n",
       "    }\n",
       "\n",
       "    .dataframe thead th {\n",
       "        text-align: right;\n",
       "    }\n",
       "</style>\n",
       "<table border=\"1\" class=\"dataframe\">\n",
       "  <thead>\n",
       "    <tr style=\"text-align: right;\">\n",
       "      <th></th>\n",
       "      <th>user_id</th>\n",
       "      <th>company_id</th>\n",
       "      <th>location</th>\n",
       "      <th>start_year_month</th>\n",
       "    </tr>\n",
       "  </thead>\n",
       "  <tbody>\n",
       "    <tr>\n",
       "      <th>10191</th>\n",
       "      <td>45862</td>\n",
       "      <td>7156</td>\n",
       "      <td>Eskişehir Technical University</td>\n",
       "      <td>201812</td>\n",
       "    </tr>\n",
       "    <tr>\n",
       "      <th>116375</th>\n",
       "      <td>64605</td>\n",
       "      <td>2893</td>\n",
       "      <td>Istanbul, Turkey</td>\n",
       "      <td>201812</td>\n",
       "    </tr>\n",
       "    <tr>\n",
       "      <th>153492</th>\n",
       "      <td>51182</td>\n",
       "      <td>20687</td>\n",
       "      <td>NaN</td>\n",
       "      <td>201812</td>\n",
       "    </tr>\n",
       "    <tr>\n",
       "      <th>28882</th>\n",
       "      <td>61794</td>\n",
       "      <td>1435</td>\n",
       "      <td>NaN</td>\n",
       "      <td>201812</td>\n",
       "    </tr>\n",
       "    <tr>\n",
       "      <th>61040</th>\n",
       "      <td>27704</td>\n",
       "      <td>4265</td>\n",
       "      <td>Istanbul, Turkey</td>\n",
       "      <td>201812</td>\n",
       "    </tr>\n",
       "    <tr>\n",
       "      <th>...</th>\n",
       "      <td>...</td>\n",
       "      <td>...</td>\n",
       "      <td>...</td>\n",
       "      <td>...</td>\n",
       "    </tr>\n",
       "    <tr>\n",
       "      <th>45936</th>\n",
       "      <td>23336</td>\n",
       "      <td>740</td>\n",
       "      <td>NaN</td>\n",
       "      <td>197609</td>\n",
       "    </tr>\n",
       "    <tr>\n",
       "      <th>28178</th>\n",
       "      <td>35150</td>\n",
       "      <td>13919</td>\n",
       "      <td>NaN</td>\n",
       "      <td>196801</td>\n",
       "    </tr>\n",
       "    <tr>\n",
       "      <th>10636</th>\n",
       "      <td>18644</td>\n",
       "      <td>13919</td>\n",
       "      <td>NaN</td>\n",
       "      <td>196801</td>\n",
       "    </tr>\n",
       "    <tr>\n",
       "      <th>85173</th>\n",
       "      <td>34193</td>\n",
       "      <td>19222</td>\n",
       "      <td>NaN</td>\n",
       "      <td>196103</td>\n",
       "    </tr>\n",
       "    <tr>\n",
       "      <th>64370</th>\n",
       "      <td>34142</td>\n",
       "      <td>19222</td>\n",
       "      <td>NaN</td>\n",
       "      <td>196103</td>\n",
       "    </tr>\n",
       "  </tbody>\n",
       "</table>\n",
       "<p>160736 rows × 4 columns</p>\n",
       "</div>"
      ],
      "text/plain": [
       "        user_id  company_id                        location  start_year_month\n",
       "10191     45862        7156  Eskişehir Technical University            201812\n",
       "116375    64605        2893                Istanbul, Turkey            201812\n",
       "153492    51182       20687                             NaN            201812\n",
       "28882     61794        1435                             NaN            201812\n",
       "61040     27704        4265                Istanbul, Turkey            201812\n",
       "...         ...         ...                             ...               ...\n",
       "45936     23336         740                             NaN            197609\n",
       "28178     35150       13919                             NaN            196801\n",
       "10636     18644       13919                             NaN            196801\n",
       "85173     34193       19222                             NaN            196103\n",
       "64370     34142       19222                             NaN            196103\n",
       "\n",
       "[160736 rows x 4 columns]"
      ]
     },
     "execution_count": 43,
     "metadata": {},
     "output_type": "execute_result"
    }
   ],
   "source": [
    "work_experience_dataset.sort_values(by=\"start_year_month\",ascending=False)"
   ]
  },
  {
   "cell_type": "markdown",
   "id": "f4e6902e",
   "metadata": {},
   "source": [
    "### <font color = \"red\"> --> Veri Setinde bulunan tarih kolonunun görselleştirme tarafı için yıl bazında düzenlenmesi </font>\n"
   ]
  },
  {
   "cell_type": "code",
   "execution_count": 44,
   "id": "2179c9ee",
   "metadata": {},
   "outputs": [],
   "source": [
    "work_experience_dataset[\"start_year_month\"] = work_experience_dataset[\"start_year_month\"].astype(dtype=\"str\")\n",
    "work_experience_dataset[\"start_year_month\"] = (work_experience_dataset[\"start_year_month\"].str[:4]).astype(\"int64\")\n",
    "workexp_sample_dataset = work_experience_dataset.copy()"
   ]
  },
  {
   "cell_type": "code",
   "execution_count": 45,
   "id": "a1ad7e62",
   "metadata": {},
   "outputs": [
    {
     "data": {
      "text/plain": [
       "64599    27\n",
       "64531    27\n",
       "65605    27\n",
       "63390    25\n",
       "63691    25\n",
       "         ..\n",
       "46584     1\n",
       "28399     1\n",
       "40006     1\n",
       "37766     1\n",
       "55822     1\n",
       "Name: user_id, Length: 53002, dtype: int64"
      ]
     },
     "execution_count": 45,
     "metadata": {},
     "output_type": "execute_result"
    }
   ],
   "source": [
    "work_experience_dataset[\"user_id\"].value_counts()"
   ]
  },
  {
   "cell_type": "markdown",
   "id": "afa83734",
   "metadata": {},
   "source": [
    "### <font color = \"red\"> --> Görüldüğü gibi aynı kullanıcıya ait, aynı şirkette birden fazla veri girişi bulunmakta </font>\n"
   ]
  },
  {
   "cell_type": "code",
   "execution_count": 46,
   "id": "bf1c3175",
   "metadata": {
    "scrolled": true
   },
   "outputs": [
    {
     "data": {
      "text/html": [
       "<div>\n",
       "<style scoped>\n",
       "    .dataframe tbody tr th:only-of-type {\n",
       "        vertical-align: middle;\n",
       "    }\n",
       "\n",
       "    .dataframe tbody tr th {\n",
       "        vertical-align: top;\n",
       "    }\n",
       "\n",
       "    .dataframe thead th {\n",
       "        text-align: right;\n",
       "    }\n",
       "</style>\n",
       "<table border=\"1\" class=\"dataframe\">\n",
       "  <thead>\n",
       "    <tr style=\"text-align: right;\">\n",
       "      <th></th>\n",
       "      <th>user_id</th>\n",
       "      <th>company_id</th>\n",
       "      <th>location</th>\n",
       "      <th>start_year_month</th>\n",
       "    </tr>\n",
       "  </thead>\n",
       "  <tbody>\n",
       "    <tr>\n",
       "      <th>143613</th>\n",
       "      <td>64599</td>\n",
       "      <td>2750</td>\n",
       "      <td>İstanbul, Türkiye</td>\n",
       "      <td>2011</td>\n",
       "    </tr>\n",
       "    <tr>\n",
       "      <th>143173</th>\n",
       "      <td>64599</td>\n",
       "      <td>2750</td>\n",
       "      <td>İstanbul, Türkiye</td>\n",
       "      <td>2011</td>\n",
       "    </tr>\n",
       "    <tr>\n",
       "      <th>171776</th>\n",
       "      <td>64599</td>\n",
       "      <td>2750</td>\n",
       "      <td>Istanbul, Turkey</td>\n",
       "      <td>2012</td>\n",
       "    </tr>\n",
       "    <tr>\n",
       "      <th>91494</th>\n",
       "      <td>64599</td>\n",
       "      <td>2750</td>\n",
       "      <td>İstanbul, Türkiye</td>\n",
       "      <td>2012</td>\n",
       "    </tr>\n",
       "    <tr>\n",
       "      <th>8895</th>\n",
       "      <td>64599</td>\n",
       "      <td>2750</td>\n",
       "      <td>İstanbul</td>\n",
       "      <td>2013</td>\n",
       "    </tr>\n",
       "    <tr>\n",
       "      <th>16513</th>\n",
       "      <td>64599</td>\n",
       "      <td>2750</td>\n",
       "      <td>NaN</td>\n",
       "      <td>2013</td>\n",
       "    </tr>\n",
       "    <tr>\n",
       "      <th>171257</th>\n",
       "      <td>64599</td>\n",
       "      <td>2750</td>\n",
       "      <td>İstanbul, Türkiye</td>\n",
       "      <td>2013</td>\n",
       "    </tr>\n",
       "  </tbody>\n",
       "</table>\n",
       "</div>"
      ],
      "text/plain": [
       "        user_id  company_id           location  start_year_month\n",
       "143613    64599        2750  İstanbul, Türkiye              2011\n",
       "143173    64599        2750  İstanbul, Türkiye              2011\n",
       "171776    64599        2750   Istanbul, Turkey              2012\n",
       "91494     64599        2750  İstanbul, Türkiye              2012\n",
       "8895      64599        2750           İstanbul              2013\n",
       "16513     64599        2750                NaN              2013\n",
       "171257    64599        2750  İstanbul, Türkiye              2013"
      ]
     },
     "execution_count": 46,
     "metadata": {},
     "output_type": "execute_result"
    }
   ],
   "source": [
    "work_experience_dataset.loc[(work_experience_dataset[\"user_id\"]==64599)&(work_experience_dataset[\"company_id\"]==2750)].sort_values(by=\"start_year_month\",ascending=True).head(7)"
   ]
  },
  {
   "cell_type": "markdown",
   "id": "8936168b",
   "metadata": {},
   "source": [
    "### <font color = \"red\"> --> Düzenleme olarak;  </font>\n",
    "- Bir kişinin tecrübeleri temsili adı altında,yeni bir kolon eklenip kaç farklı şirkette çalıştığı, aynı şirket id ye sahip kullanıcıların sayısı 1'e indirildi\n",
    "- Aynı zamanda, işe başlangıç tarihi ve lokasyon kolonları, modele etkisi düşünülmediğinden dolayı kaldırıldı"
   ]
  },
  {
   "cell_type": "code",
   "execution_count": 47,
   "id": "bc5dd626",
   "metadata": {},
   "outputs": [],
   "source": [
    "work_experience_dataset.drop(columns=[\"start_year_month\",\"location\"],inplace=True)\n",
    "work_experience_dataset=work_experience_dataset.drop_duplicates()"
   ]
  },
  {
   "cell_type": "code",
   "execution_count": 48,
   "id": "f9f12a82",
   "metadata": {
    "scrolled": true
   },
   "outputs": [
    {
     "data": {
      "text/html": [
       "<div>\n",
       "<style scoped>\n",
       "    .dataframe tbody tr th:only-of-type {\n",
       "        vertical-align: middle;\n",
       "    }\n",
       "\n",
       "    .dataframe tbody tr th {\n",
       "        vertical-align: top;\n",
       "    }\n",
       "\n",
       "    .dataframe thead th {\n",
       "        text-align: right;\n",
       "    }\n",
       "</style>\n",
       "<table border=\"1\" class=\"dataframe\">\n",
       "  <thead>\n",
       "    <tr style=\"text-align: right;\">\n",
       "      <th></th>\n",
       "      <th>user_id</th>\n",
       "      <th>company_id</th>\n",
       "    </tr>\n",
       "  </thead>\n",
       "  <tbody>\n",
       "    <tr>\n",
       "      <th>8895</th>\n",
       "      <td>64599</td>\n",
       "      <td>2750</td>\n",
       "    </tr>\n",
       "    <tr>\n",
       "      <th>44767</th>\n",
       "      <td>64599</td>\n",
       "      <td>26</td>\n",
       "    </tr>\n",
       "    <tr>\n",
       "      <th>99583</th>\n",
       "      <td>64599</td>\n",
       "      <td>7329</td>\n",
       "    </tr>\n",
       "    <tr>\n",
       "      <th>152417</th>\n",
       "      <td>64599</td>\n",
       "      <td>3052</td>\n",
       "    </tr>\n",
       "  </tbody>\n",
       "</table>\n",
       "</div>"
      ],
      "text/plain": [
       "        user_id  company_id\n",
       "8895      64599        2750\n",
       "44767     64599          26\n",
       "99583     64599        7329\n",
       "152417    64599        3052"
      ]
     },
     "execution_count": 48,
     "metadata": {},
     "output_type": "execute_result"
    }
   ],
   "source": [
    "work_experience_dataset.loc[work_experience_dataset[\"user_id\"]==64599]"
   ]
  },
  {
   "cell_type": "markdown",
   "id": "824176ba",
   "metadata": {},
   "source": [
    "### <font color = \"red\"> --> Bir kişiye ait tecrübe sayısını temsilen yeni bir kolon oluşturulacak </font>"
   ]
  },
  {
   "cell_type": "code",
   "execution_count": 49,
   "id": "5bd9f544",
   "metadata": {
    "scrolled": true
   },
   "outputs": [
    {
     "data": {
      "text/plain": [
       "63390    24\n",
       "49933    23\n",
       "49938    23\n",
       "63691    20\n",
       "13167    19\n",
       "         ..\n",
       "43768     1\n",
       "60218     1\n",
       "60060     1\n",
       "28028     1\n",
       "55822     1\n",
       "Name: user_id, Length: 53002, dtype: int64"
      ]
     },
     "execution_count": 49,
     "metadata": {},
     "output_type": "execute_result"
    }
   ],
   "source": [
    "work_experience_dataset[\"user_id\"].value_counts()"
   ]
  },
  {
   "cell_type": "markdown",
   "id": "17645b9b",
   "metadata": {},
   "source": [
    "## <font color = \"purple\"> Skill kolonu tarafı </font>"
   ]
  },
  {
   "cell_type": "code",
   "execution_count": 50,
   "id": "b0cbfce5",
   "metadata": {
    "scrolled": false
   },
   "outputs": [
    {
     "data": {
      "text/html": [
       "<div>\n",
       "<style scoped>\n",
       "    .dataframe tbody tr th:only-of-type {\n",
       "        vertical-align: middle;\n",
       "    }\n",
       "\n",
       "    .dataframe tbody tr th {\n",
       "        vertical-align: top;\n",
       "    }\n",
       "\n",
       "    .dataframe thead th {\n",
       "        text-align: right;\n",
       "    }\n",
       "</style>\n",
       "<table border=\"1\" class=\"dataframe\">\n",
       "  <thead>\n",
       "    <tr style=\"text-align: right;\">\n",
       "      <th></th>\n",
       "      <th>user_id</th>\n",
       "      <th>skill</th>\n",
       "    </tr>\n",
       "  </thead>\n",
       "  <tbody>\n",
       "    <tr>\n",
       "      <th>0</th>\n",
       "      <td>1</td>\n",
       "      <td>Mühendislik</td>\n",
       "    </tr>\n",
       "    <tr>\n",
       "      <th>1</th>\n",
       "      <td>1</td>\n",
       "      <td>Eğitim</td>\n",
       "    </tr>\n",
       "    <tr>\n",
       "      <th>2</th>\n",
       "      <td>2</td>\n",
       "      <td>Android</td>\n",
       "    </tr>\n",
       "  </tbody>\n",
       "</table>\n",
       "</div>"
      ],
      "text/plain": [
       "   user_id        skill\n",
       "0        1  Mühendislik\n",
       "1        1       Eğitim\n",
       "2        2      Android"
      ]
     },
     "execution_count": 50,
     "metadata": {},
     "output_type": "execute_result"
    }
   ],
   "source": [
    "skills_dataset.head(3)"
   ]
  },
  {
   "cell_type": "markdown",
   "id": "ba2cec07",
   "metadata": {},
   "source": [
    "### <font color = \"red\"> --> NA kontrolü </font>"
   ]
  },
  {
   "cell_type": "code",
   "execution_count": 51,
   "id": "c0bb8628",
   "metadata": {
    "scrolled": false
   },
   "outputs": [
    {
     "name": "stdout",
     "output_type": "stream",
     "text": [
      "user_id    0\n",
      "skill      0\n",
      "dtype: int64\n"
     ]
    }
   ],
   "source": [
    "print(skills_dataset.isna().sum())"
   ]
  },
  {
   "cell_type": "code",
   "execution_count": 52,
   "id": "0636fe79",
   "metadata": {},
   "outputs": [
    {
     "data": {
      "text/plain": [
       "(1398443, 2)"
      ]
     },
     "execution_count": 52,
     "metadata": {},
     "output_type": "execute_result"
    }
   ],
   "source": [
    "skills_dataset.shape"
   ]
  },
  {
   "cell_type": "markdown",
   "id": "b2af185c",
   "metadata": {},
   "source": [
    "### <font color = \"red\"> --> Aynı üyeye ait aynı skillerin giribebilmesi ihtimaline karşın duplicate kaldırma işlemi </font>"
   ]
  },
  {
   "cell_type": "code",
   "execution_count": 53,
   "id": "93025c22",
   "metadata": {},
   "outputs": [],
   "source": [
    "skills_dataset = skills_dataset.drop_duplicates()"
   ]
  },
  {
   "cell_type": "code",
   "execution_count": 54,
   "id": "e51c1d25",
   "metadata": {},
   "outputs": [
    {
     "data": {
      "text/plain": [
       "(1398443, 2)"
      ]
     },
     "execution_count": 54,
     "metadata": {},
     "output_type": "execute_result"
    }
   ],
   "source": [
    "skills_dataset.shape"
   ]
  },
  {
   "cell_type": "code",
   "execution_count": 55,
   "id": "d1712e45",
   "metadata": {
    "scrolled": false
   },
   "outputs": [
    {
     "data": {
      "text/plain": [
       "Java                         24360\n",
       "JavaScript                   24072\n",
       "SQL                          23590\n",
       "C#                           23422\n",
       "HTML                         16872\n",
       "                             ...  \n",
       "CSWA                             1\n",
       "CompTIA A+                       1\n",
       "Virtual Machine                  1\n",
       "Microsoft Sistem Yönetimi        1\n",
       "Patient Relations                1\n",
       "Name: skill, Length: 53025, dtype: int64"
      ]
     },
     "execution_count": 55,
     "metadata": {},
     "output_type": "execute_result"
    }
   ],
   "source": [
    "skills_dataset[\"skill\"].value_counts()"
   ]
  },
  {
   "cell_type": "markdown",
   "id": "4e8d888d",
   "metadata": {},
   "source": [
    "## <font color = \"purple\">Language kolonu tarafı</font>"
   ]
  },
  {
   "cell_type": "code",
   "execution_count": 56,
   "id": "616aaf95",
   "metadata": {
    "scrolled": false
   },
   "outputs": [
    {
     "data": {
      "text/html": [
       "<div>\n",
       "<style scoped>\n",
       "    .dataframe tbody tr th:only-of-type {\n",
       "        vertical-align: middle;\n",
       "    }\n",
       "\n",
       "    .dataframe tbody tr th {\n",
       "        vertical-align: top;\n",
       "    }\n",
       "\n",
       "    .dataframe thead th {\n",
       "        text-align: right;\n",
       "    }\n",
       "</style>\n",
       "<table border=\"1\" class=\"dataframe\">\n",
       "  <thead>\n",
       "    <tr style=\"text-align: right;\">\n",
       "      <th></th>\n",
       "      <th>user_id</th>\n",
       "      <th>language</th>\n",
       "      <th>proficiency</th>\n",
       "    </tr>\n",
       "  </thead>\n",
       "  <tbody>\n",
       "    <tr>\n",
       "      <th>0</th>\n",
       "      <td>8</td>\n",
       "      <td>İngilizce</td>\n",
       "      <td>full_professional</td>\n",
       "    </tr>\n",
       "    <tr>\n",
       "      <th>1</th>\n",
       "      <td>8</td>\n",
       "      <td>Türkçe</td>\n",
       "      <td>native_or_bilingual</td>\n",
       "    </tr>\n",
       "    <tr>\n",
       "      <th>2</th>\n",
       "      <td>8</td>\n",
       "      <td>Fransızca</td>\n",
       "      <td>elementary</td>\n",
       "    </tr>\n",
       "    <tr>\n",
       "      <th>3</th>\n",
       "      <td>10</td>\n",
       "      <td>ingilizce</td>\n",
       "      <td>NaN</td>\n",
       "    </tr>\n",
       "    <tr>\n",
       "      <th>4</th>\n",
       "      <td>11</td>\n",
       "      <td>Turkish</td>\n",
       "      <td>native_or_bilingual</td>\n",
       "    </tr>\n",
       "  </tbody>\n",
       "</table>\n",
       "</div>"
      ],
      "text/plain": [
       "   user_id   language          proficiency\n",
       "0        8  İngilizce    full_professional\n",
       "1        8     Türkçe  native_or_bilingual\n",
       "2        8  Fransızca           elementary\n",
       "3       10  ingilizce                  NaN\n",
       "4       11    Turkish  native_or_bilingual"
      ]
     },
     "execution_count": 56,
     "metadata": {},
     "output_type": "execute_result"
    }
   ],
   "source": [
    "languages_dataset.head()"
   ]
  },
  {
   "cell_type": "code",
   "execution_count": 57,
   "id": "4a068e11",
   "metadata": {
    "scrolled": true
   },
   "outputs": [
    {
     "name": "stdout",
     "output_type": "stream",
     "text": [
      "<class 'pandas.core.frame.DataFrame'>\n",
      "RangeIndex: 76062 entries, 0 to 76061\n",
      "Data columns (total 3 columns):\n",
      " #   Column       Non-Null Count  Dtype \n",
      "---  ------       --------------  ----- \n",
      " 0   user_id      76062 non-null  int64 \n",
      " 1   language     76062 non-null  object\n",
      " 2   proficiency  65401 non-null  object\n",
      "dtypes: int64(1), object(2)\n",
      "memory usage: 1.7+ MB\n"
     ]
    }
   ],
   "source": [
    "languages_dataset.info()"
   ]
  },
  {
   "cell_type": "markdown",
   "id": "90ba806c",
   "metadata": {},
   "source": [
    "### <font color = \"red\">NA verilerin silinmesi</font> "
   ]
  },
  {
   "cell_type": "code",
   "execution_count": 58,
   "id": "3554a93d",
   "metadata": {
    "scrolled": true
   },
   "outputs": [
    {
     "data": {
      "text/plain": [
       "user_id            0\n",
       "language           0\n",
       "proficiency    10661\n",
       "dtype: int64"
      ]
     },
     "execution_count": 58,
     "metadata": {},
     "output_type": "execute_result"
    }
   ],
   "source": [
    "languages_dataset.isna().sum()"
   ]
  },
  {
   "cell_type": "code",
   "execution_count": 59,
   "id": "79453b3d",
   "metadata": {},
   "outputs": [
    {
     "data": {
      "text/plain": [
       "array(['full_professional', 'native_or_bilingual', 'elementary', nan,\n",
       "       'professional_working', 'limited_working'], dtype=object)"
      ]
     },
     "execution_count": 59,
     "metadata": {},
     "output_type": "execute_result"
    }
   ],
   "source": [
    "languages_dataset[\"proficiency\"].unique()"
   ]
  },
  {
   "cell_type": "code",
   "execution_count": 60,
   "id": "01682456",
   "metadata": {},
   "outputs": [
    {
     "data": {
      "text/html": [
       "<div>\n",
       "<style scoped>\n",
       "    .dataframe tbody tr th:only-of-type {\n",
       "        vertical-align: middle;\n",
       "    }\n",
       "\n",
       "    .dataframe tbody tr th {\n",
       "        vertical-align: top;\n",
       "    }\n",
       "\n",
       "    .dataframe thead th {\n",
       "        text-align: right;\n",
       "    }\n",
       "</style>\n",
       "<table border=\"1\" class=\"dataframe\">\n",
       "  <thead>\n",
       "    <tr style=\"text-align: right;\">\n",
       "      <th></th>\n",
       "      <th>language</th>\n",
       "      <th>proficiency</th>\n",
       "    </tr>\n",
       "  </thead>\n",
       "  <tbody>\n",
       "    <tr>\n",
       "      <th>count</th>\n",
       "      <td>76062</td>\n",
       "      <td>65401</td>\n",
       "    </tr>\n",
       "    <tr>\n",
       "      <th>unique</th>\n",
       "      <td>513</td>\n",
       "      <td>5</td>\n",
       "    </tr>\n",
       "    <tr>\n",
       "      <th>top</th>\n",
       "      <td>İngilizce</td>\n",
       "      <td>native_or_bilingual</td>\n",
       "    </tr>\n",
       "    <tr>\n",
       "      <th>freq</th>\n",
       "      <td>20702</td>\n",
       "      <td>22026</td>\n",
       "    </tr>\n",
       "  </tbody>\n",
       "</table>\n",
       "</div>"
      ],
      "text/plain": [
       "         language          proficiency\n",
       "count       76062                65401\n",
       "unique        513                    5\n",
       "top     İngilizce  native_or_bilingual\n",
       "freq        20702                22026"
      ]
     },
     "execution_count": 60,
     "metadata": {},
     "output_type": "execute_result"
    }
   ],
   "source": [
    "languages_dataset.describe(include=\"object\")"
   ]
  },
  {
   "cell_type": "code",
   "execution_count": 61,
   "id": "e373dd8a",
   "metadata": {
    "scrolled": true
   },
   "outputs": [
    {
     "data": {
      "text/plain": [
       "count                   65401\n",
       "unique                      5\n",
       "top       native_or_bilingual\n",
       "freq                    22026\n",
       "Name: proficiency, dtype: object"
      ]
     },
     "execution_count": 61,
     "metadata": {},
     "output_type": "execute_result"
    }
   ],
   "source": [
    "languages_dataset[\"proficiency\"].describe(include=\"object\")"
   ]
  },
  {
   "cell_type": "markdown",
   "id": "ea874bfa",
   "metadata": {},
   "source": [
    "### <font color = \"red\">NA değerlerin uygun bir değerle doldurulması</font> "
   ]
  },
  {
   "cell_type": "code",
   "execution_count": 62,
   "id": "25be535a",
   "metadata": {},
   "outputs": [],
   "source": [
    "languages_dataset.fillna(\"Unkown\",inplace=True)"
   ]
  },
  {
   "cell_type": "code",
   "execution_count": 63,
   "id": "ea907a72",
   "metadata": {},
   "outputs": [
    {
     "data": {
      "text/plain": [
       "native_or_bilingual     22026\n",
       "professional_working    18306\n",
       "Unkown                  10661\n",
       "elementary               8971\n",
       "full_professional        8389\n",
       "limited_working          7709\n",
       "Name: proficiency, dtype: int64"
      ]
     },
     "execution_count": 63,
     "metadata": {},
     "output_type": "execute_result"
    }
   ],
   "source": [
    "languages_dataset[\"proficiency\"].value_counts()"
   ]
  },
  {
   "cell_type": "code",
   "execution_count": 64,
   "id": "124eb3a8",
   "metadata": {
    "scrolled": true
   },
   "outputs": [
    {
     "data": {
      "text/plain": [
       "user_id        0\n",
       "language       0\n",
       "proficiency    0\n",
       "dtype: int64"
      ]
     },
     "execution_count": 64,
     "metadata": {},
     "output_type": "execute_result"
    }
   ],
   "source": [
    "languages_dataset.isna().sum()"
   ]
  },
  {
   "cell_type": "markdown",
   "id": "dacfdfb2",
   "metadata": {},
   "source": [
    "## <font color = \"purple\">Education Dataset </font>"
   ]
  },
  {
   "cell_type": "code",
   "execution_count": 65,
   "id": "f4a44d2d",
   "metadata": {
    "scrolled": true
   },
   "outputs": [
    {
     "data": {
      "text/html": [
       "<div>\n",
       "<style scoped>\n",
       "    .dataframe tbody tr th:only-of-type {\n",
       "        vertical-align: middle;\n",
       "    }\n",
       "\n",
       "    .dataframe tbody tr th {\n",
       "        vertical-align: top;\n",
       "    }\n",
       "\n",
       "    .dataframe thead th {\n",
       "        text-align: right;\n",
       "    }\n",
       "</style>\n",
       "<table border=\"1\" class=\"dataframe\">\n",
       "  <thead>\n",
       "    <tr style=\"text-align: right;\">\n",
       "      <th></th>\n",
       "      <th>user_id</th>\n",
       "      <th>school_name</th>\n",
       "      <th>degree</th>\n",
       "      <th>fields_of_study</th>\n",
       "      <th>start_year_month</th>\n",
       "      <th>end_year_month</th>\n",
       "    </tr>\n",
       "  </thead>\n",
       "  <tbody>\n",
       "    <tr>\n",
       "      <th>0</th>\n",
       "      <td>0</td>\n",
       "      <td>Anadolu Üniversitesi</td>\n",
       "      <td>NaN</td>\n",
       "      <td>NaN</td>\n",
       "      <td>NaN</td>\n",
       "      <td>NaN</td>\n",
       "    </tr>\n",
       "    <tr>\n",
       "      <th>1</th>\n",
       "      <td>0</td>\n",
       "      <td>Adıyaman Üniversitesi</td>\n",
       "      <td>NaN</td>\n",
       "      <td>NaN</td>\n",
       "      <td>NaN</td>\n",
       "      <td>NaN</td>\n",
       "    </tr>\n",
       "    <tr>\n",
       "      <th>2</th>\n",
       "      <td>0</td>\n",
       "      <td>Fırat Üniversitesi</td>\n",
       "      <td>NaN</td>\n",
       "      <td>NaN</td>\n",
       "      <td>NaN</td>\n",
       "      <td>NaN</td>\n",
       "    </tr>\n",
       "    <tr>\n",
       "      <th>3</th>\n",
       "      <td>1</td>\n",
       "      <td>Fırat Üniversitesi</td>\n",
       "      <td>Yüksek Lisans</td>\n",
       "      <td>Yazılım Mühendisliği</td>\n",
       "      <td>NaN</td>\n",
       "      <td>NaN</td>\n",
       "    </tr>\n",
       "    <tr>\n",
       "      <th>4</th>\n",
       "      <td>1</td>\n",
       "      <td>Fırat Üniversitesi</td>\n",
       "      <td>Lisans</td>\n",
       "      <td>Yazılım Mühendisliği</td>\n",
       "      <td>NaN</td>\n",
       "      <td>NaN</td>\n",
       "    </tr>\n",
       "  </tbody>\n",
       "</table>\n",
       "</div>"
      ],
      "text/plain": [
       "   user_id            school_name         degree       fields_of_study  \\\n",
       "0        0   Anadolu Üniversitesi            NaN                   NaN   \n",
       "1        0  Adıyaman Üniversitesi            NaN                   NaN   \n",
       "2        0     Fırat Üniversitesi            NaN                   NaN   \n",
       "3        1     Fırat Üniversitesi  Yüksek Lisans  Yazılım Mühendisliği   \n",
       "4        1     Fırat Üniversitesi         Lisans  Yazılım Mühendisliği   \n",
       "\n",
       "   start_year_month  end_year_month  \n",
       "0               NaN             NaN  \n",
       "1               NaN             NaN  \n",
       "2               NaN             NaN  \n",
       "3               NaN             NaN  \n",
       "4               NaN             NaN  "
      ]
     },
     "execution_count": 65,
     "metadata": {},
     "output_type": "execute_result"
    }
   ],
   "source": [
    "education_dataset.head()"
   ]
  },
  {
   "cell_type": "markdown",
   "id": "12df26d4",
   "metadata": {},
   "source": [
    "### <font color = \"red\">Na değerleri ile ilgili;</font>\n",
    "- start_year_month ve end_year_month kolonları hem model tarafında etkisi olmadığından, hem de çok fazla na bulunduğundan kaldırıldı\n",
    "- Diğer kolonlarda bulunan na değerleri, tüm datasetler ortak id ile  birleştikten sonra kontrol edilecek "
   ]
  },
  {
   "cell_type": "code",
   "execution_count": 66,
   "id": "d1ad59f2",
   "metadata": {},
   "outputs": [
    {
     "data": {
      "text/plain": [
       "(142575, 6)"
      ]
     },
     "execution_count": 66,
     "metadata": {},
     "output_type": "execute_result"
    }
   ],
   "source": [
    "education_dataset.shape"
   ]
  },
  {
   "cell_type": "code",
   "execution_count": 77,
   "id": "0cf4a2af",
   "metadata": {},
   "outputs": [
    {
     "data": {
      "text/plain": [
       "Lisans Derecesi                                                                            18948\n",
       "Bachelor's degree                                                                          13818\n",
       "Yüksek Lisans (Master)                                                                      5179\n",
       "Master's degree                                                                             4778\n",
       "Lisans                                                                                      2950\n",
       "                                                                                           ...  \n",
       "Technical Lycee                                                                                1\n",
       "Score: 89 out of 100 at proficiency final exam. Forth place taken of out +500 students.        1\n",
       "2.83/4.00                                                                                      1\n",
       "Lise Öğretimi                                                                                  1\n",
       "Vocational Art                                                                                 1\n",
       "Name: degree, Length: 5212, dtype: int64"
      ]
     },
     "execution_count": 77,
     "metadata": {},
     "output_type": "execute_result"
    }
   ],
   "source": [
    "education_dataset.degree.value_counts()"
   ]
  },
  {
   "cell_type": "code",
   "execution_count": 67,
   "id": "85082936",
   "metadata": {
    "scrolled": false
   },
   "outputs": [
    {
     "data": {
      "text/plain": [
       "user_id                  0\n",
       "school_name              0\n",
       "degree               35842\n",
       "fields_of_study      19838\n",
       "start_year_month    134373\n",
       "end_year_month      134985\n",
       "dtype: int64"
      ]
     },
     "execution_count": 67,
     "metadata": {},
     "output_type": "execute_result"
    }
   ],
   "source": [
    "education_dataset.isna().sum()"
   ]
  },
  {
   "cell_type": "code",
   "execution_count": 68,
   "id": "8ba67c08",
   "metadata": {},
   "outputs": [],
   "source": [
    "education_dataset.drop(columns=[\"start_year_month\",\"end_year_month\"],inplace=True)\n",
    "education_dataset.dropna(inplace=True)"
   ]
  },
  {
   "cell_type": "code",
   "execution_count": 69,
   "id": "bb49e579",
   "metadata": {},
   "outputs": [],
   "source": [
    "education_dataset[\"fields_of_study\"] = education_dataset[\"fields_of_study\"].str.replace(\"Bilgisayar Mühendisliği\",\"Computer Engineering\")\n",
    "education_dataset[\"fields_of_study\"] = education_dataset[\"fields_of_study\"].str.replace(\"Elektrik ve Elektronik Mühendisliği\",\"Electrical and Electronics Engineering\")\n",
    "education_dataset[\"fields_of_study\"] = education_dataset[\"fields_of_study\"].str.replace(\"Bilgisayar Programlama\",\"Computer Programming\")"
   ]
  },
  {
   "cell_type": "markdown",
   "id": "ff3036af",
   "metadata": {},
   "source": [
    "-------------------------------------------------------------------"
   ]
  },
  {
   "cell_type": "markdown",
   "id": "125982a8",
   "metadata": {},
   "source": [
    "# <font color = \"red\">Görselleştirme Tarafı</font>"
   ]
  },
  {
   "cell_type": "code",
   "execution_count": 70,
   "id": "66f8c5b9",
   "metadata": {},
   "outputs": [
    {
     "data": {
      "image/png": "[encoded data removed]",
      "text/plain": [
       "<Figure size 1500x600 with 1 Axes>"
      ]
     },
     "metadata": {},
     "output_type": "display_data"
    }
   ],
   "source": [
    "top5_uni = education_dataset[\"school_name\"].value_counts()[:5]\n",
    "plt.figure(figsize=(15,6))\n",
    "plt.title(\"Top 5 universities\",fontsize=15)\n",
    "plt.xlabel(\"Universities\",fontsize=15)\n",
    "plt.ylabel(\"Number of Graduated People\",fontsize=15)\n",
    "sns.barplot(x=top5_uni.index,y=top5_uni.values)\n",
    "plt.show()"
   ]
  },
  {
   "cell_type": "code",
   "execution_count": 71,
   "id": "f501bb37",
   "metadata": {
    "scrolled": false
   },
   "outputs": [
    {
     "data": {
      "image/png": "[encoded data removed]",
      "text/plain": [
       "<Figure size 1500x600 with 1 Axes>"
      ]
     },
     "metadata": {},
     "output_type": "display_data"
    }
   ],
   "source": [
    "top5_departments = education_dataset[\"fields_of_study\"].value_counts()[:5]\n",
    "plt.figure(figsize=(15,6))\n",
    "plt.title(\"Top 5 Departments\",fontsize=15)\n",
    "plt.xlabel(\"Departments\",fontsize=15)\n",
    "plt.ylabel(\"Number of Graduated People\",fontsize=15)\n",
    "sns.barplot(x=top5_departments.index,y=top5_departments.values)\n",
    "plt.show()"
   ]
  },
  {
   "cell_type": "code",
   "execution_count": 72,
   "id": "d53662b3",
   "metadata": {},
   "outputs": [
    {
     "data": {
      "image/png": "[encoded data removed]",
      "text/plain": [
       "<Figure size 640x480 with 1 Axes>"
      ]
     },
     "metadata": {},
     "output_type": "display_data"
    }
   ],
   "source": [
    "sns.countplot(workexp_sample_dataset[\"user_id\"].value_counts())\n",
    "plt.title(\"Number of User Experience and People Count \")\n",
    "plt.xlim(-1,15)\n",
    "plt.xlabel(\"Num of Experience\",fontsize=15)\n",
    "plt.ylabel(\"Num of People\",fontsize=15)\n",
    "plt.show();"
   ]
  },
  {
   "cell_type": "code",
   "execution_count": 73,
   "id": "c552a501",
   "metadata": {},
   "outputs": [
    {
     "data": {
      "image/png": "[encoded data removed]",
      "text/plain": [
       "<Figure size 640x480 with 1 Axes>"
      ]
     },
     "metadata": {},
     "output_type": "display_data"
    }
   ],
   "source": [
    "plt.title\n",
    "sns.lineplot(x=workexp_sample_dataset[\"start_year_month\"],\n",
    "             y=workexp_sample_dataset[\"user_id\"].value_counts(),\n",
    "            estimator=\"mean\")\n",
    "plt.title(\"The Distribution of Experience as Average\")\n",
    "plt.xlabel(\"Years\",fontsize=15)\n",
    "plt.ylabel(\"Mean of Experience\",fontsize=15)\n",
    "plt.show();"
   ]
  },
  {
   "cell_type": "code",
   "execution_count": 74,
   "id": "7f7cb1ea",
   "metadata": {
    "scrolled": false
   },
   "outputs": [
    {
     "data": {
      "image/png": "[encoded data removed]",
      "text/plain": [
       "<Figure size 1000x500 with 1 Axes>"
      ]
     },
     "metadata": {},
     "output_type": "display_data"
    }
   ],
   "source": [
    "plt.figure(figsize=(10,5))\n",
    "sns.countplot(x=languages_dataset[\"proficiency\"])\n",
    "plt.title(\"Distribution of Language Proficiency\")\n",
    "plt.xlabel(\"Proficiency Types\",fontsize=12)\n",
    "plt.ylabel(\"People Count\",fontsize=12)\n",
    "plt.show();"
   ]
  },
  {
   "cell_type": "code",
   "execution_count": 75,
   "id": "b4ebd27f",
   "metadata": {
    "scrolled": true
   },
   "outputs": [
    {
     "data": {
      "image/png": "[encoded data removed]",
      "text/plain": [
       "<Figure size 1500x600 with 1 Axes>"
      ]
     },
     "metadata": {},
     "output_type": "display_data"
    }
   ],
   "source": [
    "top5_skills = skills_dataset[\"skill\"].value_counts()[:5]\n",
    "plt.figure(figsize=(15,6))\n",
    "plt.ylim(0,30000)\n",
    "plt.title(\"Top 5 Skills\",fontsize=15)\n",
    "plt.xlabel(\"Skills\",fontsize=15)\n",
    "plt.ylabel(\"Number of People\",fontsize=15)\n",
    "sns.barplot(x=top5_skills.index,y=top5_skills.values)\n",
    "plt.show();"
   ]
  },
  {
   "cell_type": "markdown",
   "id": "dc74d16f",
   "metadata": {},
   "source": [
    "-------------------------------------------------------------------"
   ]
  },
  {
   "cell_type": "markdown",
   "id": "09b6884e",
   "metadata": {},
   "source": [
    "# <font color = \"red\">Temiz Veriye Geçiş Aşaması</font>"
   ]
  },
  {
   "cell_type": "code",
   "execution_count": 38,
   "id": "5e197fe5",
   "metadata": {},
   "outputs": [],
   "source": [
    "# ------------------------------- Education -------------------------------\n",
    "education_dataset=pd.DataFrame({\"user_id\":education_dataset[\"user_id\"].value_counts().index,\n",
    "              \"num_of_education\":education_dataset[\"user_id\"].value_counts()}).reset_index(drop=True)\n",
    "# # ------------------------------- Language -------------------------------\n",
    "languages_dataset = pd.DataFrame({\"user_id\":languages_dataset[\"user_id\"].value_counts().index,\n",
    "              \"num_of_languages\":languages_dataset[\"user_id\"].value_counts()}).reset_index(drop=True)\n",
    "# ------------------------------- Skills -------------------------------\n",
    "skills_dataset = pd.DataFrame({\"user_id\":skills_dataset[\"user_id\"].value_counts().index,\n",
    "              \"num_of_skills\":skills_dataset[\"user_id\"].value_counts()}).reset_index(drop=True)\n",
    "# ------------------------------- Work Experience -------------------------------\n",
    "work_experience_dataset = pd.DataFrame({\"user_id\":work_experience_dataset[\"user_id\"].value_counts().index,\n",
    "              \"num_of_exp\":work_experience_dataset[\"user_id\"].value_counts()}).reset_index(drop=True)"
   ]
  },
  {
   "cell_type": "markdown",
   "id": "d8a0288e",
   "metadata": {},
   "source": [
    "# <font color = \"red\">En son aşama</font>"
   ]
  },
  {
   "cell_type": "code",
   "execution_count": 39,
   "id": "a6427149",
   "metadata": {},
   "outputs": [],
   "source": [
    "common_user_ids = np.intersect1d(work_experience_dataset['user_id'].unique(), df_train['user_id'].unique()).tolist()\n",
    "df_train = df_train[df_train['user_id'].isin(common_user_ids)]\n",
    "df_train = pd.merge(df_train, work_experience_dataset, on='user_id')\n",
    "df_train = pd.merge(df_train, languages_dataset, on='user_id')\n",
    "df_train = pd.merge(df_train, education_dataset, on='user_id')\n",
    "df_train = pd.merge(df_train, skills_dataset, on='user_id')"
   ]
  },
  {
   "cell_type": "code",
   "execution_count": 40,
   "id": "3d6719e0",
   "metadata": {
    "scrolled": true
   },
   "outputs": [
    {
     "name": "stdout",
     "output_type": "stream",
     "text": [
      "<class 'pandas.core.frame.DataFrame'>\n",
      "Int64Index: 22412 entries, 0 to 22411\n",
      "Data columns (total 8 columns):\n",
      " #   Column            Non-Null Count  Dtype \n",
      "---  ------            --------------  ----- \n",
      " 0   user_id           22412 non-null  int64 \n",
      " 1   industry          22407 non-null  object\n",
      " 2   location          22411 non-null  object\n",
      " 3   moved_after_2019  22412 non-null  int64 \n",
      " 4   num_of_exp        22412 non-null  int64 \n",
      " 5   num_of_languages  22412 non-null  int64 \n",
      " 6   num_of_education  22412 non-null  int64 \n",
      " 7   num_of_skills     22412 non-null  int64 \n",
      "dtypes: int64(6), object(2)\n",
      "memory usage: 1.5+ MB\n"
     ]
    }
   ],
   "source": [
    "df_train.info()"
   ]
  },
  {
   "cell_type": "code",
   "execution_count": 41,
   "id": "87ffa015",
   "metadata": {
    "scrolled": true
   },
   "outputs": [
    {
     "data": {
      "text/plain": [
       "user_id             0\n",
       "industry            5\n",
       "location            1\n",
       "moved_after_2019    0\n",
       "num_of_exp          0\n",
       "num_of_languages    0\n",
       "num_of_education    0\n",
       "num_of_skills       0\n",
       "dtype: int64"
      ]
     },
     "execution_count": 41,
     "metadata": {},
     "output_type": "execute_result"
    }
   ],
   "source": [
    "df_train.isna().sum()"
   ]
  },
  {
   "cell_type": "code",
   "execution_count": 60,
   "id": "b561feab",
   "metadata": {
    "scrolled": true
   },
   "outputs": [
    {
     "data": {
      "text/html": [
       "<div>\n",
       "<style scoped>\n",
       "    .dataframe tbody tr th:only-of-type {\n",
       "        vertical-align: middle;\n",
       "    }\n",
       "\n",
       "    .dataframe tbody tr th {\n",
       "        vertical-align: top;\n",
       "    }\n",
       "\n",
       "    .dataframe thead th {\n",
       "        text-align: right;\n",
       "    }\n",
       "</style>\n",
       "<table border=\"1\" class=\"dataframe\">\n",
       "  <thead>\n",
       "    <tr style=\"text-align: right;\">\n",
       "      <th></th>\n",
       "      <th>user_id</th>\n",
       "      <th>industry</th>\n",
       "      <th>location</th>\n",
       "      <th>moved_after_2019</th>\n",
       "      <th>num_of_exp</th>\n",
       "      <th>num_of_languages</th>\n",
       "      <th>num_of_education</th>\n",
       "      <th>num_of_skills</th>\n",
       "    </tr>\n",
       "  </thead>\n",
       "  <tbody>\n",
       "    <tr>\n",
       "      <th>0</th>\n",
       "      <td>1301</td>\n",
       "      <td>Information Technology and Services</td>\n",
       "      <td>Istanbul, Istanbul, Turkey</td>\n",
       "      <td>1</td>\n",
       "      <td>3</td>\n",
       "      <td>2</td>\n",
       "      <td>2</td>\n",
       "      <td>23</td>\n",
       "    </tr>\n",
       "    <tr>\n",
       "      <th>1</th>\n",
       "      <td>6950</td>\n",
       "      <td>Internet</td>\n",
       "      <td>Istanbul, Istanbul, Turkey</td>\n",
       "      <td>0</td>\n",
       "      <td>4</td>\n",
       "      <td>3</td>\n",
       "      <td>1</td>\n",
       "      <td>49</td>\n",
       "    </tr>\n",
       "  </tbody>\n",
       "</table>\n",
       "</div>"
      ],
      "text/plain": [
       "   user_id                             industry                    location  \\\n",
       "0     1301  Information Technology and Services  Istanbul, Istanbul, Turkey   \n",
       "1     6950                             Internet  Istanbul, Istanbul, Turkey   \n",
       "\n",
       "   moved_after_2019  num_of_exp  num_of_languages  num_of_education  \\\n",
       "0                 1           3                 2                 2   \n",
       "1                 0           4                 3                 1   \n",
       "\n",
       "   num_of_skills  \n",
       "0             23  \n",
       "1             49  "
      ]
     },
     "execution_count": 60,
     "metadata": {},
     "output_type": "execute_result"
    }
   ],
   "source": [
    "df_train.head(2)"
   ]
  },
  {
   "cell_type": "code",
   "execution_count": 61,
   "id": "c4b508a2",
   "metadata": {
    "scrolled": true
   },
   "outputs": [],
   "source": [
    "numerics = df_train.select_dtypes([\"float\",\"int\"]).drop(columns=\"user_id\")\n",
    "df_corr = numerics.corr()"
   ]
  },
  {
   "cell_type": "code",
   "execution_count": 62,
   "id": "c409b4a8",
   "metadata": {},
   "outputs": [
    {
     "data": {
      "text/html": [
       "<style type=\"text/css\">\n",
       "#T_a1c5a_row0_col0, #T_a1c5a_row0_col1, #T_a1c5a_row0_col2, #T_a1c5a_row0_col3, #T_a1c5a_row0_col4, #T_a1c5a_row0_col5, #T_a1c5a_row0_col6, #T_a1c5a_row0_col7, #T_a1c5a_row1_col0, #T_a1c5a_row2_col0, #T_a1c5a_row3_col0, #T_a1c5a_row4_col0 {\n",
       "  background-color: #ffffcc;\n",
       "  color: #000000;\n",
       "}\n",
       "#T_a1c5a_row1_col1 {\n",
       "  background-color: #fff2ac;\n",
       "  color: #000000;\n",
       "}\n",
       "#T_a1c5a_row1_col2 {\n",
       "  background-color: #fff1ab;\n",
       "  color: #000000;\n",
       "}\n",
       "#T_a1c5a_row1_col3, #T_a1c5a_row2_col3, #T_a1c5a_row3_col3, #T_a1c5a_row4_col1, #T_a1c5a_row4_col2, #T_a1c5a_row4_col3, #T_a1c5a_row4_col4, #T_a1c5a_row4_col5, #T_a1c5a_row4_col6, #T_a1c5a_row4_col7 {\n",
       "  background-color: #800026;\n",
       "  color: #f1f1f1;\n",
       "}\n",
       "#T_a1c5a_row1_col4 {\n",
       "  background-color: #ffeda0;\n",
       "  color: #000000;\n",
       "}\n",
       "#T_a1c5a_row1_col5 {\n",
       "  background-color: #ffeea3;\n",
       "  color: #000000;\n",
       "}\n",
       "#T_a1c5a_row1_col6 {\n",
       "  background-color: #fff3af;\n",
       "  color: #000000;\n",
       "}\n",
       "#T_a1c5a_row1_col7 {\n",
       "  background-color: #fd9d43;\n",
       "  color: #000000;\n",
       "}\n",
       "#T_a1c5a_row2_col1 {\n",
       "  background-color: #fff7b7;\n",
       "  color: #000000;\n",
       "}\n",
       "#T_a1c5a_row2_col2 {\n",
       "  background-color: #fffac1;\n",
       "  color: #000000;\n",
       "}\n",
       "#T_a1c5a_row2_col4, #T_a1c5a_row3_col4 {\n",
       "  background-color: #fff6b6;\n",
       "  color: #000000;\n",
       "}\n",
       "#T_a1c5a_row2_col5, #T_a1c5a_row3_col5 {\n",
       "  background-color: #fff4b0;\n",
       "  color: #000000;\n",
       "}\n",
       "#T_a1c5a_row2_col6, #T_a1c5a_row3_col1 {\n",
       "  background-color: #fff7b9;\n",
       "  color: #000000;\n",
       "}\n",
       "#T_a1c5a_row2_col7 {\n",
       "  background-color: #feda78;\n",
       "  color: #000000;\n",
       "}\n",
       "#T_a1c5a_row3_col2 {\n",
       "  background-color: #fff9be;\n",
       "  color: #000000;\n",
       "}\n",
       "#T_a1c5a_row3_col6 {\n",
       "  background-color: #fffbc2;\n",
       "  color: #000000;\n",
       "}\n",
       "#T_a1c5a_row3_col7 {\n",
       "  background-color: #fee085;\n",
       "  color: #000000;\n",
       "}\n",
       "</style>\n",
       "<table id=\"T_a1c5a\">\n",
       "  <thead>\n",
       "    <tr>\n",
       "      <th class=\"blank level0\" >&nbsp;</th>\n",
       "      <th id=\"T_a1c5a_level0_col0\" class=\"col_heading level0 col0\" >count</th>\n",
       "      <th id=\"T_a1c5a_level0_col1\" class=\"col_heading level0 col1\" >mean</th>\n",
       "      <th id=\"T_a1c5a_level0_col2\" class=\"col_heading level0 col2\" >std</th>\n",
       "      <th id=\"T_a1c5a_level0_col3\" class=\"col_heading level0 col3\" >min</th>\n",
       "      <th id=\"T_a1c5a_level0_col4\" class=\"col_heading level0 col4\" >25%</th>\n",
       "      <th id=\"T_a1c5a_level0_col5\" class=\"col_heading level0 col5\" >50%</th>\n",
       "      <th id=\"T_a1c5a_level0_col6\" class=\"col_heading level0 col6\" >75%</th>\n",
       "      <th id=\"T_a1c5a_level0_col7\" class=\"col_heading level0 col7\" >max</th>\n",
       "    </tr>\n",
       "  </thead>\n",
       "  <tbody>\n",
       "    <tr>\n",
       "      <th id=\"T_a1c5a_level0_row0\" class=\"row_heading level0 row0\" >moved_after_2019</th>\n",
       "      <td id=\"T_a1c5a_row0_col0\" class=\"data row0 col0\" >22412.000000</td>\n",
       "      <td id=\"T_a1c5a_row0_col1\" class=\"data row0 col1\" >0.423434</td>\n",
       "      <td id=\"T_a1c5a_row0_col2\" class=\"data row0 col2\" >0.494114</td>\n",
       "      <td id=\"T_a1c5a_row0_col3\" class=\"data row0 col3\" >0.000000</td>\n",
       "      <td id=\"T_a1c5a_row0_col4\" class=\"data row0 col4\" >0.000000</td>\n",
       "      <td id=\"T_a1c5a_row0_col5\" class=\"data row0 col5\" >0.000000</td>\n",
       "      <td id=\"T_a1c5a_row0_col6\" class=\"data row0 col6\" >1.000000</td>\n",
       "      <td id=\"T_a1c5a_row0_col7\" class=\"data row0 col7\" >1.000000</td>\n",
       "    </tr>\n",
       "    <tr>\n",
       "      <th id=\"T_a1c5a_level0_row1\" class=\"row_heading level0 row1\" >num_of_exp</th>\n",
       "      <td id=\"T_a1c5a_row1_col0\" class=\"data row1 col0\" >22412.000000</td>\n",
       "      <td id=\"T_a1c5a_row1_col1\" class=\"data row1 col1\" >2.838836</td>\n",
       "      <td id=\"T_a1c5a_row1_col2\" class=\"data row1 col2\" >1.713543</td>\n",
       "      <td id=\"T_a1c5a_row1_col3\" class=\"data row1 col3\" >1.000000</td>\n",
       "      <td id=\"T_a1c5a_row1_col4\" class=\"data row1 col4\" >2.000000</td>\n",
       "      <td id=\"T_a1c5a_row1_col5\" class=\"data row1 col5\" >3.000000</td>\n",
       "      <td id=\"T_a1c5a_row1_col6\" class=\"data row1 col6\" >4.000000</td>\n",
       "      <td id=\"T_a1c5a_row1_col7\" class=\"data row1 col7\" >23.000000</td>\n",
       "    </tr>\n",
       "    <tr>\n",
       "      <th id=\"T_a1c5a_level0_row2\" class=\"row_heading level0 row2\" >num_of_languages</th>\n",
       "      <td id=\"T_a1c5a_row2_col0\" class=\"data row2 col0\" >22412.000000</td>\n",
       "      <td id=\"T_a1c5a_row2_col1\" class=\"data row2 col1\" >2.044173</td>\n",
       "      <td id=\"T_a1c5a_row2_col2\" class=\"data row2 col2\" >0.901817</td>\n",
       "      <td id=\"T_a1c5a_row2_col3\" class=\"data row2 col3\" >1.000000</td>\n",
       "      <td id=\"T_a1c5a_row2_col4\" class=\"data row2 col4\" >1.000000</td>\n",
       "      <td id=\"T_a1c5a_row2_col5\" class=\"data row2 col5\" >2.000000</td>\n",
       "      <td id=\"T_a1c5a_row2_col6\" class=\"data row2 col6\" >3.000000</td>\n",
       "      <td id=\"T_a1c5a_row2_col7\" class=\"data row2 col7\" >13.000000</td>\n",
       "    </tr>\n",
       "    <tr>\n",
       "      <th id=\"T_a1c5a_level0_row3\" class=\"row_heading level0 row3\" >num_of_education</th>\n",
       "      <td id=\"T_a1c5a_row3_col0\" class=\"data row3 col0\" >22412.000000</td>\n",
       "      <td id=\"T_a1c5a_row3_col1\" class=\"data row3 col1\" >1.932893</td>\n",
       "      <td id=\"T_a1c5a_row3_col2\" class=\"data row3 col2\" >1.021894</td>\n",
       "      <td id=\"T_a1c5a_row3_col3\" class=\"data row3 col3\" >1.000000</td>\n",
       "      <td id=\"T_a1c5a_row3_col4\" class=\"data row3 col4\" >1.000000</td>\n",
       "      <td id=\"T_a1c5a_row3_col5\" class=\"data row3 col5\" >2.000000</td>\n",
       "      <td id=\"T_a1c5a_row3_col6\" class=\"data row3 col6\" >2.000000</td>\n",
       "      <td id=\"T_a1c5a_row3_col7\" class=\"data row3 col7\" >11.000000</td>\n",
       "    </tr>\n",
       "    <tr>\n",
       "      <th id=\"T_a1c5a_level0_row4\" class=\"row_heading level0 row4\" >num_of_skills</th>\n",
       "      <td id=\"T_a1c5a_row4_col0\" class=\"data row4 col0\" >22412.000000</td>\n",
       "      <td id=\"T_a1c5a_row4_col1\" class=\"data row4 col1\" >26.769409</td>\n",
       "      <td id=\"T_a1c5a_row4_col2\" class=\"data row4 col2\" >13.342206</td>\n",
       "      <td id=\"T_a1c5a_row4_col3\" class=\"data row4 col3\" >1.000000</td>\n",
       "      <td id=\"T_a1c5a_row4_col4\" class=\"data row4 col4\" >16.000000</td>\n",
       "      <td id=\"T_a1c5a_row4_col5\" class=\"data row4 col5\" >25.000000</td>\n",
       "      <td id=\"T_a1c5a_row4_col6\" class=\"data row4 col6\" >37.000000</td>\n",
       "      <td id=\"T_a1c5a_row4_col7\" class=\"data row4 col7\" >50.000000</td>\n",
       "    </tr>\n",
       "  </tbody>\n",
       "</table>\n"
      ],
      "text/plain": [
       "<pandas.io.formats.style.Styler at 0x1762e6dee20>"
      ]
     },
     "execution_count": 62,
     "metadata": {},
     "output_type": "execute_result"
    }
   ],
   "source": [
    "numerics.describe().T.style.background_gradient(\"YlOrRd\")"
   ]
  },
  {
   "cell_type": "markdown",
   "id": "44d9eb61",
   "metadata": {},
   "source": [
    "### <font color = \"red\"> --> Isı Haritasında görüldüğü üzere</font>\n",
    "- Bağımlı değişken üzerinde <b><font color = \"purple\">language > skills > education > exp </font></b> sırası ile düşük korelasyon bulunmakta.\n"
   ]
  },
  {
   "cell_type": "code",
   "execution_count": 63,
   "id": "8a8deb26",
   "metadata": {
    "scrolled": false
   },
   "outputs": [
    {
     "data": {
      "image/png": "[encoded data removed]",
      "text/plain": [
       "<Figure size 640x480 with 2 Axes>"
      ]
     },
     "metadata": {},
     "output_type": "display_data"
    }
   ],
   "source": [
    "sns.set(font_scale=0.8)\n",
    "# plt.figure(figsize=(20,20))\n",
    "sns.heatmap(df_corr,annot=True,cmap=\"coolwarm\",square=True)\n",
    "plt.show()"
   ]
  },
  {
   "cell_type": "code",
   "execution_count": 75,
   "id": "e20c0910",
   "metadata": {},
   "outputs": [
    {
     "data": {
      "text/plain": [
       "0    12922\n",
       "1     9490\n",
       "Name: moved_after_2019, dtype: int64"
      ]
     },
     "execution_count": 75,
     "metadata": {},
     "output_type": "execute_result"
    }
   ],
   "source": [
    "df_train[\"moved_after_2019\"].value_counts()"
   ]
  },
  {
   "cell_type": "code",
   "execution_count": 76,
   "id": "2675a0af",
   "metadata": {
    "scrolled": true
   },
   "outputs": [
    {
     "ename": "ValueError",
     "evalue": "Grouper and axis must be same length",
     "output_type": "error",
     "traceback": [
      "\u001b[1;31m---------------------------------------------------------------------------\u001b[0m",
      "\u001b[1;31mValueError\u001b[0m                                Traceback (most recent call last)",
      "\u001b[1;32m~\\AppData\\Local\\Temp\\ipykernel_7336\\2488594157.py\u001b[0m in \u001b[0;36m<module>\u001b[1;34m\u001b[0m\n\u001b[0;32m      1\u001b[0m \u001b[0mplt\u001b[0m\u001b[1;33m.\u001b[0m\u001b[0mfigure\u001b[0m\u001b[1;33m(\u001b[0m\u001b[0mfigsize\u001b[0m\u001b[1;33m=\u001b[0m\u001b[1;33m(\u001b[0m\u001b[1;36m12\u001b[0m\u001b[1;33m,\u001b[0m\u001b[1;36m4\u001b[0m\u001b[1;33m)\u001b[0m\u001b[1;33m)\u001b[0m\u001b[1;33m\u001b[0m\u001b[1;33m\u001b[0m\u001b[0m\n\u001b[1;32m----> 2\u001b[1;33m sns.barplot(x=df_train[\"industry\"].value_counts().index[:5],\n\u001b[0m\u001b[0;32m      3\u001b[0m             \u001b[0my\u001b[0m\u001b[1;33m=\u001b[0m\u001b[0mdf_train\u001b[0m\u001b[1;33m[\u001b[0m\u001b[1;34m\"industry\"\u001b[0m\u001b[1;33m]\u001b[0m\u001b[1;33m.\u001b[0m\u001b[0mvalue_counts\u001b[0m\u001b[1;33m(\u001b[0m\u001b[1;33m)\u001b[0m\u001b[1;33m[\u001b[0m\u001b[1;33m:\u001b[0m\u001b[1;36m5\u001b[0m\u001b[1;33m]\u001b[0m\u001b[1;33m,\u001b[0m\u001b[1;33m\u001b[0m\u001b[1;33m\u001b[0m\u001b[0m\n\u001b[0;32m      4\u001b[0m             hue=df_train[\"moved_after_2019\"].value_counts()[:5]);\n",
      "\u001b[1;32m~\\anaconda3\\lib\\site-packages\\seaborn\\_decorators.py\u001b[0m in \u001b[0;36minner_f\u001b[1;34m(*args, **kwargs)\u001b[0m\n\u001b[0;32m     44\u001b[0m             )\n\u001b[0;32m     45\u001b[0m         \u001b[0mkwargs\u001b[0m\u001b[1;33m.\u001b[0m\u001b[0mupdate\u001b[0m\u001b[1;33m(\u001b[0m\u001b[1;33m{\u001b[0m\u001b[0mk\u001b[0m\u001b[1;33m:\u001b[0m \u001b[0marg\u001b[0m \u001b[1;32mfor\u001b[0m \u001b[0mk\u001b[0m\u001b[1;33m,\u001b[0m \u001b[0marg\u001b[0m \u001b[1;32min\u001b[0m \u001b[0mzip\u001b[0m\u001b[1;33m(\u001b[0m\u001b[0msig\u001b[0m\u001b[1;33m.\u001b[0m\u001b[0mparameters\u001b[0m\u001b[1;33m,\u001b[0m \u001b[0margs\u001b[0m\u001b[1;33m)\u001b[0m\u001b[1;33m}\u001b[0m\u001b[1;33m)\u001b[0m\u001b[1;33m\u001b[0m\u001b[1;33m\u001b[0m\u001b[0m\n\u001b[1;32m---> 46\u001b[1;33m         \u001b[1;32mreturn\u001b[0m \u001b[0mf\u001b[0m\u001b[1;33m(\u001b[0m\u001b[1;33m**\u001b[0m\u001b[0mkwargs\u001b[0m\u001b[1;33m)\u001b[0m\u001b[1;33m\u001b[0m\u001b[1;33m\u001b[0m\u001b[0m\n\u001b[0m\u001b[0;32m     47\u001b[0m     \u001b[1;32mreturn\u001b[0m \u001b[0minner_f\u001b[0m\u001b[1;33m\u001b[0m\u001b[1;33m\u001b[0m\u001b[0m\n\u001b[0;32m     48\u001b[0m \u001b[1;33m\u001b[0m\u001b[0m\n",
      "\u001b[1;32m~\\anaconda3\\lib\\site-packages\\seaborn\\categorical.py\u001b[0m in \u001b[0;36mbarplot\u001b[1;34m(x, y, hue, data, order, hue_order, estimator, ci, n_boot, units, seed, orient, color, palette, saturation, errcolor, errwidth, capsize, dodge, ax, **kwargs)\u001b[0m\n\u001b[0;32m   3180\u001b[0m ):\n\u001b[0;32m   3181\u001b[0m \u001b[1;33m\u001b[0m\u001b[0m\n\u001b[1;32m-> 3182\u001b[1;33m     plotter = _BarPlotter(x, y, hue, data, order, hue_order,\n\u001b[0m\u001b[0;32m   3183\u001b[0m                           \u001b[0mestimator\u001b[0m\u001b[1;33m,\u001b[0m \u001b[0mci\u001b[0m\u001b[1;33m,\u001b[0m \u001b[0mn_boot\u001b[0m\u001b[1;33m,\u001b[0m \u001b[0munits\u001b[0m\u001b[1;33m,\u001b[0m \u001b[0mseed\u001b[0m\u001b[1;33m,\u001b[0m\u001b[1;33m\u001b[0m\u001b[1;33m\u001b[0m\u001b[0m\n\u001b[0;32m   3184\u001b[0m                           \u001b[0morient\u001b[0m\u001b[1;33m,\u001b[0m \u001b[0mcolor\u001b[0m\u001b[1;33m,\u001b[0m \u001b[0mpalette\u001b[0m\u001b[1;33m,\u001b[0m \u001b[0msaturation\u001b[0m\u001b[1;33m,\u001b[0m\u001b[1;33m\u001b[0m\u001b[1;33m\u001b[0m\u001b[0m\n",
      "\u001b[1;32m~\\anaconda3\\lib\\site-packages\\seaborn\\categorical.py\u001b[0m in \u001b[0;36m__init__\u001b[1;34m(self, x, y, hue, data, order, hue_order, estimator, ci, n_boot, units, seed, orient, color, palette, saturation, errcolor, errwidth, capsize, dodge)\u001b[0m\n\u001b[0;32m   1582\u001b[0m                  errwidth, capsize, dodge):\n\u001b[0;32m   1583\u001b[0m         \u001b[1;34m\"\"\"Initialize the plotter.\"\"\"\u001b[0m\u001b[1;33m\u001b[0m\u001b[1;33m\u001b[0m\u001b[0m\n\u001b[1;32m-> 1584\u001b[1;33m         self.establish_variables(x, y, hue, data, orient,\n\u001b[0m\u001b[0;32m   1585\u001b[0m                                  order, hue_order, units)\n\u001b[0;32m   1586\u001b[0m         \u001b[0mself\u001b[0m\u001b[1;33m.\u001b[0m\u001b[0mestablish_colors\u001b[0m\u001b[1;33m(\u001b[0m\u001b[0mcolor\u001b[0m\u001b[1;33m,\u001b[0m \u001b[0mpalette\u001b[0m\u001b[1;33m,\u001b[0m \u001b[0msaturation\u001b[0m\u001b[1;33m)\u001b[0m\u001b[1;33m\u001b[0m\u001b[1;33m\u001b[0m\u001b[0m\n",
      "\u001b[1;32m~\\anaconda3\\lib\\site-packages\\seaborn\\categorical.py\u001b[0m in \u001b[0;36mestablish_variables\u001b[1;34m(self, x, y, hue, data, orient, order, hue_order, units)\u001b[0m\n\u001b[0;32m    218\u001b[0m \u001b[1;33m\u001b[0m\u001b[0m\n\u001b[0;32m    219\u001b[0m                     \u001b[1;31m# Group the hue data\u001b[0m\u001b[1;33m\u001b[0m\u001b[1;33m\u001b[0m\u001b[0m\n\u001b[1;32m--> 220\u001b[1;33m                     plot_hues, hue_title = self._group_longform(hue, groups,\n\u001b[0m\u001b[0;32m    221\u001b[0m                                                                 group_names)\n\u001b[0;32m    222\u001b[0m \u001b[1;33m\u001b[0m\u001b[0m\n",
      "\u001b[1;32m~\\anaconda3\\lib\\site-packages\\seaborn\\categorical.py\u001b[0m in \u001b[0;36m_group_longform\u001b[1;34m(self, vals, grouper, order)\u001b[0m\n\u001b[0;32m    251\u001b[0m \u001b[1;33m\u001b[0m\u001b[0m\n\u001b[0;32m    252\u001b[0m         \u001b[1;31m# Group the val data\u001b[0m\u001b[1;33m\u001b[0m\u001b[1;33m\u001b[0m\u001b[0m\n\u001b[1;32m--> 253\u001b[1;33m         \u001b[0mgrouped_vals\u001b[0m \u001b[1;33m=\u001b[0m \u001b[0mvals\u001b[0m\u001b[1;33m.\u001b[0m\u001b[0mgroupby\u001b[0m\u001b[1;33m(\u001b[0m\u001b[0mgrouper\u001b[0m\u001b[1;33m)\u001b[0m\u001b[1;33m\u001b[0m\u001b[1;33m\u001b[0m\u001b[0m\n\u001b[0m\u001b[0;32m    254\u001b[0m         \u001b[0mout_data\u001b[0m \u001b[1;33m=\u001b[0m \u001b[1;33m[\u001b[0m\u001b[1;33m]\u001b[0m\u001b[1;33m\u001b[0m\u001b[1;33m\u001b[0m\u001b[0m\n\u001b[0;32m    255\u001b[0m         \u001b[1;32mfor\u001b[0m \u001b[0mg\u001b[0m \u001b[1;32min\u001b[0m \u001b[0morder\u001b[0m\u001b[1;33m:\u001b[0m\u001b[1;33m\u001b[0m\u001b[1;33m\u001b[0m\u001b[0m\n",
      "\u001b[1;32m~\\anaconda3\\lib\\site-packages\\pandas\\core\\series.py\u001b[0m in \u001b[0;36mgroupby\u001b[1;34m(self, by, axis, level, as_index, sort, group_keys, squeeze, observed, dropna)\u001b[0m\n\u001b[0;32m   1920\u001b[0m         \u001b[1;31m# error: Argument \"squeeze\" to \"SeriesGroupBy\" has incompatible type\u001b[0m\u001b[1;33m\u001b[0m\u001b[1;33m\u001b[0m\u001b[0m\n\u001b[0;32m   1921\u001b[0m         \u001b[1;31m# \"Union[bool, NoDefault]\"; expected \"bool\"\u001b[0m\u001b[1;33m\u001b[0m\u001b[1;33m\u001b[0m\u001b[0m\n\u001b[1;32m-> 1922\u001b[1;33m         return SeriesGroupBy(\n\u001b[0m\u001b[0;32m   1923\u001b[0m             \u001b[0mobj\u001b[0m\u001b[1;33m=\u001b[0m\u001b[0mself\u001b[0m\u001b[1;33m,\u001b[0m\u001b[1;33m\u001b[0m\u001b[1;33m\u001b[0m\u001b[0m\n\u001b[0;32m   1924\u001b[0m             \u001b[0mkeys\u001b[0m\u001b[1;33m=\u001b[0m\u001b[0mby\u001b[0m\u001b[1;33m,\u001b[0m\u001b[1;33m\u001b[0m\u001b[1;33m\u001b[0m\u001b[0m\n",
      "\u001b[1;32m~\\anaconda3\\lib\\site-packages\\pandas\\core\\groupby\\groupby.py\u001b[0m in \u001b[0;36m__init__\u001b[1;34m(self, obj, keys, axis, level, grouper, exclusions, selection, as_index, sort, group_keys, squeeze, observed, mutated, dropna)\u001b[0m\n\u001b[0;32m    880\u001b[0m             \u001b[1;32mfrom\u001b[0m \u001b[0mpandas\u001b[0m\u001b[1;33m.\u001b[0m\u001b[0mcore\u001b[0m\u001b[1;33m.\u001b[0m\u001b[0mgroupby\u001b[0m\u001b[1;33m.\u001b[0m\u001b[0mgrouper\u001b[0m \u001b[1;32mimport\u001b[0m \u001b[0mget_grouper\u001b[0m\u001b[1;33m\u001b[0m\u001b[1;33m\u001b[0m\u001b[0m\n\u001b[0;32m    881\u001b[0m \u001b[1;33m\u001b[0m\u001b[0m\n\u001b[1;32m--> 882\u001b[1;33m             grouper, exclusions, obj = get_grouper(\n\u001b[0m\u001b[0;32m    883\u001b[0m                 \u001b[0mobj\u001b[0m\u001b[1;33m,\u001b[0m\u001b[1;33m\u001b[0m\u001b[1;33m\u001b[0m\u001b[0m\n\u001b[0;32m    884\u001b[0m                 \u001b[0mkeys\u001b[0m\u001b[1;33m,\u001b[0m\u001b[1;33m\u001b[0m\u001b[1;33m\u001b[0m\u001b[0m\n",
      "\u001b[1;32m~\\anaconda3\\lib\\site-packages\\pandas\\core\\groupby\\grouper.py\u001b[0m in \u001b[0;36mget_grouper\u001b[1;34m(obj, key, axis, level, sort, observed, mutated, validate, dropna)\u001b[0m\n\u001b[0;32m    891\u001b[0m         \u001b[1;31m# allow us to passing the actual Grouping as the gpr\u001b[0m\u001b[1;33m\u001b[0m\u001b[1;33m\u001b[0m\u001b[0m\n\u001b[0;32m    892\u001b[0m         ping = (\n\u001b[1;32m--> 893\u001b[1;33m             Grouping(\n\u001b[0m\u001b[0;32m    894\u001b[0m                 \u001b[0mgroup_axis\u001b[0m\u001b[1;33m,\u001b[0m\u001b[1;33m\u001b[0m\u001b[1;33m\u001b[0m\u001b[0m\n\u001b[0;32m    895\u001b[0m                 \u001b[0mgpr\u001b[0m\u001b[1;33m,\u001b[0m\u001b[1;33m\u001b[0m\u001b[1;33m\u001b[0m\u001b[0m\n",
      "\u001b[1;32m~\\anaconda3\\lib\\site-packages\\pandas\\core\\groupby\\grouper.py\u001b[0m in \u001b[0;36m__init__\u001b[1;34m(self, index, grouper, obj, level, sort, observed, in_axis, dropna)\u001b[0m\n\u001b[0;32m    479\u001b[0m         \u001b[0mself\u001b[0m\u001b[1;33m.\u001b[0m\u001b[0mlevel\u001b[0m \u001b[1;33m=\u001b[0m \u001b[0mlevel\u001b[0m\u001b[1;33m\u001b[0m\u001b[1;33m\u001b[0m\u001b[0m\n\u001b[0;32m    480\u001b[0m         \u001b[0mself\u001b[0m\u001b[1;33m.\u001b[0m\u001b[0m_orig_grouper\u001b[0m \u001b[1;33m=\u001b[0m \u001b[0mgrouper\u001b[0m\u001b[1;33m\u001b[0m\u001b[1;33m\u001b[0m\u001b[0m\n\u001b[1;32m--> 481\u001b[1;33m         \u001b[0mself\u001b[0m\u001b[1;33m.\u001b[0m\u001b[0mgrouping_vector\u001b[0m \u001b[1;33m=\u001b[0m \u001b[0m_convert_grouper\u001b[0m\u001b[1;33m(\u001b[0m\u001b[0mindex\u001b[0m\u001b[1;33m,\u001b[0m \u001b[0mgrouper\u001b[0m\u001b[1;33m)\u001b[0m\u001b[1;33m\u001b[0m\u001b[1;33m\u001b[0m\u001b[0m\n\u001b[0m\u001b[0;32m    482\u001b[0m         \u001b[0mself\u001b[0m\u001b[1;33m.\u001b[0m\u001b[0m_all_grouper\u001b[0m \u001b[1;33m=\u001b[0m \u001b[1;32mNone\u001b[0m\u001b[1;33m\u001b[0m\u001b[1;33m\u001b[0m\u001b[0m\n\u001b[0;32m    483\u001b[0m         \u001b[0mself\u001b[0m\u001b[1;33m.\u001b[0m\u001b[0m_index\u001b[0m \u001b[1;33m=\u001b[0m \u001b[0mindex\u001b[0m\u001b[1;33m\u001b[0m\u001b[1;33m\u001b[0m\u001b[0m\n",
      "\u001b[1;32m~\\anaconda3\\lib\\site-packages\\pandas\\core\\groupby\\grouper.py\u001b[0m in \u001b[0;36m_convert_grouper\u001b[1;34m(axis, grouper)\u001b[0m\n\u001b[0;32m    935\u001b[0m     \u001b[1;32melif\u001b[0m \u001b[0misinstance\u001b[0m\u001b[1;33m(\u001b[0m\u001b[0mgrouper\u001b[0m\u001b[1;33m,\u001b[0m \u001b[1;33m(\u001b[0m\u001b[0mlist\u001b[0m\u001b[1;33m,\u001b[0m \u001b[0mtuple\u001b[0m\u001b[1;33m,\u001b[0m \u001b[0mIndex\u001b[0m\u001b[1;33m,\u001b[0m \u001b[0mCategorical\u001b[0m\u001b[1;33m,\u001b[0m \u001b[0mnp\u001b[0m\u001b[1;33m.\u001b[0m\u001b[0mndarray\u001b[0m\u001b[1;33m)\u001b[0m\u001b[1;33m)\u001b[0m\u001b[1;33m:\u001b[0m\u001b[1;33m\u001b[0m\u001b[1;33m\u001b[0m\u001b[0m\n\u001b[0;32m    936\u001b[0m         \u001b[1;32mif\u001b[0m \u001b[0mlen\u001b[0m\u001b[1;33m(\u001b[0m\u001b[0mgrouper\u001b[0m\u001b[1;33m)\u001b[0m \u001b[1;33m!=\u001b[0m \u001b[0mlen\u001b[0m\u001b[1;33m(\u001b[0m\u001b[0maxis\u001b[0m\u001b[1;33m)\u001b[0m\u001b[1;33m:\u001b[0m\u001b[1;33m\u001b[0m\u001b[1;33m\u001b[0m\u001b[0m\n\u001b[1;32m--> 937\u001b[1;33m             \u001b[1;32mraise\u001b[0m \u001b[0mValueError\u001b[0m\u001b[1;33m(\u001b[0m\u001b[1;34m\"Grouper and axis must be same length\"\u001b[0m\u001b[1;33m)\u001b[0m\u001b[1;33m\u001b[0m\u001b[1;33m\u001b[0m\u001b[0m\n\u001b[0m\u001b[0;32m    938\u001b[0m \u001b[1;33m\u001b[0m\u001b[0m\n\u001b[0;32m    939\u001b[0m         \u001b[1;32mif\u001b[0m \u001b[0misinstance\u001b[0m\u001b[1;33m(\u001b[0m\u001b[0mgrouper\u001b[0m\u001b[1;33m,\u001b[0m \u001b[1;33m(\u001b[0m\u001b[0mlist\u001b[0m\u001b[1;33m,\u001b[0m \u001b[0mtuple\u001b[0m\u001b[1;33m)\u001b[0m\u001b[1;33m)\u001b[0m\u001b[1;33m:\u001b[0m\u001b[1;33m\u001b[0m\u001b[1;33m\u001b[0m\u001b[0m\n",
      "\u001b[1;31mValueError\u001b[0m: Grouper and axis must be same length"
     ]
    },
    {
     "data": {
      "text/plain": [
       "<Figure size 1200x400 with 0 Axes>"
      ]
     },
     "metadata": {},
     "output_type": "display_data"
    }
   ],
   "source": [
    "plt.figure(figsize=(12,4))\n",
    "sns.barplot(x=df_train[\"industry\"].value_counts().index[:5],\n",
    "            y=df_train[\"industry\"].value_counts()[:5],\n",
    "            hue=df_train[\"moved_after_2019\"].value_counts()[:5]);"
   ]
  },
  {
   "cell_type": "code",
   "execution_count": 64,
   "id": "9b4f572c",
   "metadata": {
    "scrolled": true
   },
   "outputs": [
    {
     "data": {
      "text/plain": [
       "Computer Software                      6792\n",
       "Information Technology and Services    4948\n",
       "Telecommunications                     1236\n",
       "Defense & Space                        1114\n",
       "Internet                                746\n",
       "                                       ... \n",
       "Photography                               1\n",
       "Commercial Real Estate                    1\n",
       "Printing                                  1\n",
       "Sporting Goods                            1\n",
       "Business Supplies and Equipment           1\n",
       "Name: industry, Length: 132, dtype: int64"
      ]
     },
     "execution_count": 64,
     "metadata": {},
     "output_type": "execute_result"
    }
   ],
   "source": [
    "df_train[\"industry\"].value_counts()"
   ]
  },
  {
   "cell_type": "markdown",
   "id": "9b4dc650",
   "metadata": {},
   "source": [
    "- Random cinsiyet atama ile veri zenginleştirme\n",
    "- NA değerleri ortalama ile doldurma, ml tarafı için kolaylık"
   ]
  }
 ],
 "metadata": {
  "kernelspec": {
   "display_name": "Python 3 (ipykernel)",
   "language": "python",
   "name": "python3"
  },
  "language_info": {
   "codemirror_mode": {
    "name": "ipython",
    "version": 3
   },
   "file_extension": ".py",
   "mimetype": "text/x-python",
   "name": "python",
   "nbconvert_exporter": "python",
   "pygments_lexer": "ipython3",
   "version": "3.9.13"
  }
 },
 "nbformat": 4,
 "nbformat_minor": 5
}
